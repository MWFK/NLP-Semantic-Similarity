{
  "nbformat": 4,
  "nbformat_minor": 0,
  "metadata": {
    "colab": {
      "name": "EligibilityCriteria.ipynb",
      "provenance": [],
      "authorship_tag": "ABX9TyNwtttroHjeHk+7Eo/rsPkQ",
      "include_colab_link": true
    },
    "kernelspec": {
      "name": "python3",
      "display_name": "Python 3"
    },
    "language_info": {
      "name": "python"
    }
  },
  "cells": [
    {
      "cell_type": "markdown",
      "metadata": {
        "id": "view-in-github",
        "colab_type": "text"
      },
      "source": [
        "<a href=\"https://colab.research.google.com/github/MWFK/NLP-Semantic-Similarity/blob/main/NLP-Semantic-Similarity/ClinicalTrials/Data%20Engineering/EligibilityCriteria.ipynb\" target=\"_parent\"><img src=\"https://colab.research.google.com/assets/colab-badge.svg\" alt=\"Open In Colab\"/></a>"
      ]
    },
    {
      "cell_type": "code",
      "execution_count": 75,
      "metadata": {
        "id": "3_0ObvV3c9Sc"
      },
      "outputs": [],
      "source": [
        "import re\n",
        "import pandas as pd\n",
        "# pd.set_option('display.max_columns', None)  \n",
        "# pd.set_option('display.max_colwidth', None)\n",
        "import requests\n",
        "from itertools import compress\n",
        "from requests.adapters import HTTPAdapter\n",
        "from requests.packages.urllib3.util.retry import Retry\n",
        "from google.colab import files"
      ]
    },
    {
      "cell_type": "code",
      "source": [
        "####### Search Expression #######\n",
        "# None\n",
        "\n",
        "####### Study Fields #######\n",
        "# NCTId,BriefTitle,Condition,Keyword,EligibilityCriteria \t\n",
        "\n",
        "####### New Fields to add #######\n",
        "# LocationStatus, Phase\n",
        "\n",
        "####### Range Min_MAX ######\n",
        "# 1 to 1000\n",
        "\n",
        "####### Format #######\n",
        "# CSV\n",
        "\n",
        "url = 'https://clinicaltrials.gov/api/query/study_fields?expr=&fields=NCTId%2CBriefTitle%2CCondition%2CKeyword%2CEligibilityCriteria+%09&min_rnk=1&max_rnk=1000&fmt=csv'\n",
        "session = requests.Session()\n",
        "retry   = Retry(connect=3, backoff_factor=0.5)\n",
        "adapter = HTTPAdapter(max_retries=retry)\n",
        "session.mount('http://' , adapter)\n",
        "session.mount('https://', adapter)\n",
        "\n",
        "clinicaltrials = session.get(url)\n",
        "print('Download Request Status: ', clinicaltrials.status_code)\n",
        "\n",
        "csv_file = open('/content/'+str(1)+'-batch.csv', 'wb')\n",
        "csv_file.write(clinicaltrials.content)\n",
        "csv_file.close()\n",
        "\n",
        "df = pd.read_csv(r'/content/1-batch.csv', skiprows=10)\n",
        "print(df.shape)\n",
        "df.head()"
      ],
      "metadata": {
        "colab": {
          "base_uri": "https://localhost:8080/",
          "height": 243
        },
        "id": "k9-es3earGR9",
        "outputId": "3c5c8be6-7d50-4c8a-af8e-ab1728ae9567"
      },
      "execution_count": 59,
      "outputs": [
        {
          "output_type": "stream",
          "name": "stdout",
          "text": [
            "Download Request Status:  200\n",
            "(1000, 6)\n"
          ]
        },
        {
          "output_type": "execute_result",
          "data": {
            "text/html": [
              "\n",
              "  <div id=\"df-697cbea8-349a-411d-90e4-2272a7d64075\">\n",
              "    <div class=\"colab-df-container\">\n",
              "      <div>\n",
              "<style scoped>\n",
              "    .dataframe tbody tr th:only-of-type {\n",
              "        vertical-align: middle;\n",
              "    }\n",
              "\n",
              "    .dataframe tbody tr th {\n",
              "        vertical-align: top;\n",
              "    }\n",
              "\n",
              "    .dataframe thead th {\n",
              "        text-align: right;\n",
              "    }\n",
              "</style>\n",
              "<table border=\"1\" class=\"dataframe\">\n",
              "  <thead>\n",
              "    <tr style=\"text-align: right;\">\n",
              "      <th></th>\n",
              "      <th>Rank</th>\n",
              "      <th>NCTId</th>\n",
              "      <th>BriefTitle</th>\n",
              "      <th>Condition</th>\n",
              "      <th>Keyword</th>\n",
              "      <th>EligibilityCriteria</th>\n",
              "    </tr>\n",
              "  </thead>\n",
              "  <tbody>\n",
              "    <tr>\n",
              "      <th>0</th>\n",
              "      <td>1</td>\n",
              "      <td>NCT05235100</td>\n",
              "      <td>Preoperative IMRT With Concurrent Apatinib for...</td>\n",
              "      <td>Sarcoma,Soft Tissue|Extremity|Trunk|Intensity-...</td>\n",
              "      <td>NaN</td>\n",
              "      <td>Inclusion Criteria:||Age older than 18-yo.|His...</td>\n",
              "    </tr>\n",
              "    <tr>\n",
              "      <th>1</th>\n",
              "      <td>2</td>\n",
              "      <td>NCT05235087</td>\n",
              "      <td>Bovine Atelocollagen Skin Sensitization Test</td>\n",
              "      <td>Healthy</td>\n",
              "      <td>NaN</td>\n",
              "      <td>Inclusion Criteria:||Healthy volunteers, of ei...</td>\n",
              "    </tr>\n",
              "    <tr>\n",
              "      <th>2</th>\n",
              "      <td>3</td>\n",
              "      <td>NCT05235074</td>\n",
              "      <td>OH2 Oncolytic Viral Therapy in Central Nervous...</td>\n",
              "      <td>Central Nervous System Tumors</td>\n",
              "      <td>Oncolytic Virus</td>\n",
              "      <td>Inclusion Criteria:||Age ≥ 18 years old, male ...</td>\n",
              "    </tr>\n",
              "    <tr>\n",
              "      <th>3</th>\n",
              "      <td>4</td>\n",
              "      <td>NCT05235061</td>\n",
              "      <td>HOme-Based Self-management and COgnitive Train...</td>\n",
              "      <td>Epilepsy, Traumatic|Brain Injuries, Traumatic</td>\n",
              "      <td>Epilepsy|Epilepsy, Post-Traumatic|Traumatic Br...</td>\n",
              "      <td>Inclusion Criteria/PTE Participants:||Age 18+|...</td>\n",
              "    </tr>\n",
              "    <tr>\n",
              "      <th>4</th>\n",
              "      <td>5</td>\n",
              "      <td>NCT05235048</td>\n",
              "      <td>Single Tooth Extraction in Damaged Alveoli and...</td>\n",
              "      <td>Tooth Extraction Status Nos</td>\n",
              "      <td>Alveolar ridge preservation|Tooth extraction|D...</td>\n",
              "      <td>Inclusion Criteria:||Systemically healthy. No ...</td>\n",
              "    </tr>\n",
              "  </tbody>\n",
              "</table>\n",
              "</div>\n",
              "      <button class=\"colab-df-convert\" onclick=\"convertToInteractive('df-697cbea8-349a-411d-90e4-2272a7d64075')\"\n",
              "              title=\"Convert this dataframe to an interactive table.\"\n",
              "              style=\"display:none;\">\n",
              "        \n",
              "  <svg xmlns=\"http://www.w3.org/2000/svg\" height=\"24px\"viewBox=\"0 0 24 24\"\n",
              "       width=\"24px\">\n",
              "    <path d=\"M0 0h24v24H0V0z\" fill=\"none\"/>\n",
              "    <path d=\"M18.56 5.44l.94 2.06.94-2.06 2.06-.94-2.06-.94-.94-2.06-.94 2.06-2.06.94zm-11 1L8.5 8.5l.94-2.06 2.06-.94-2.06-.94L8.5 2.5l-.94 2.06-2.06.94zm10 10l.94 2.06.94-2.06 2.06-.94-2.06-.94-.94-2.06-.94 2.06-2.06.94z\"/><path d=\"M17.41 7.96l-1.37-1.37c-.4-.4-.92-.59-1.43-.59-.52 0-1.04.2-1.43.59L10.3 9.45l-7.72 7.72c-.78.78-.78 2.05 0 2.83L4 21.41c.39.39.9.59 1.41.59.51 0 1.02-.2 1.41-.59l7.78-7.78 2.81-2.81c.8-.78.8-2.07 0-2.86zM5.41 20L4 18.59l7.72-7.72 1.47 1.35L5.41 20z\"/>\n",
              "  </svg>\n",
              "      </button>\n",
              "      \n",
              "  <style>\n",
              "    .colab-df-container {\n",
              "      display:flex;\n",
              "      flex-wrap:wrap;\n",
              "      gap: 12px;\n",
              "    }\n",
              "\n",
              "    .colab-df-convert {\n",
              "      background-color: #E8F0FE;\n",
              "      border: none;\n",
              "      border-radius: 50%;\n",
              "      cursor: pointer;\n",
              "      display: none;\n",
              "      fill: #1967D2;\n",
              "      height: 32px;\n",
              "      padding: 0 0 0 0;\n",
              "      width: 32px;\n",
              "    }\n",
              "\n",
              "    .colab-df-convert:hover {\n",
              "      background-color: #E2EBFA;\n",
              "      box-shadow: 0px 1px 2px rgba(60, 64, 67, 0.3), 0px 1px 3px 1px rgba(60, 64, 67, 0.15);\n",
              "      fill: #174EA6;\n",
              "    }\n",
              "\n",
              "    [theme=dark] .colab-df-convert {\n",
              "      background-color: #3B4455;\n",
              "      fill: #D2E3FC;\n",
              "    }\n",
              "\n",
              "    [theme=dark] .colab-df-convert:hover {\n",
              "      background-color: #434B5C;\n",
              "      box-shadow: 0px 1px 3px 1px rgba(0, 0, 0, 0.15);\n",
              "      filter: drop-shadow(0px 1px 2px rgba(0, 0, 0, 0.3));\n",
              "      fill: #FFFFFF;\n",
              "    }\n",
              "  </style>\n",
              "\n",
              "      <script>\n",
              "        const buttonEl =\n",
              "          document.querySelector('#df-697cbea8-349a-411d-90e4-2272a7d64075 button.colab-df-convert');\n",
              "        buttonEl.style.display =\n",
              "          google.colab.kernel.accessAllowed ? 'block' : 'none';\n",
              "\n",
              "        async function convertToInteractive(key) {\n",
              "          const element = document.querySelector('#df-697cbea8-349a-411d-90e4-2272a7d64075');\n",
              "          const dataTable =\n",
              "            await google.colab.kernel.invokeFunction('convertToInteractive',\n",
              "                                                     [key], {});\n",
              "          if (!dataTable) return;\n",
              "\n",
              "          const docLinkHtml = 'Like what you see? Visit the ' +\n",
              "            '<a target=\"_blank\" href=https://colab.research.google.com/notebooks/data_table.ipynb>data table notebook</a>'\n",
              "            + ' to learn more about interactive tables.';\n",
              "          element.innerHTML = '';\n",
              "          dataTable['output_type'] = 'display_data';\n",
              "          await google.colab.output.renderOutput(dataTable, element);\n",
              "          const docLink = document.createElement('div');\n",
              "          docLink.innerHTML = docLinkHtml;\n",
              "          element.appendChild(docLink);\n",
              "        }\n",
              "      </script>\n",
              "    </div>\n",
              "  </div>\n",
              "  "
            ],
            "text/plain": [
              "   Rank  ...                                EligibilityCriteria\n",
              "0     1  ...  Inclusion Criteria:||Age older than 18-yo.|His...\n",
              "1     2  ...  Inclusion Criteria:||Healthy volunteers, of ei...\n",
              "2     3  ...  Inclusion Criteria:||Age ≥ 18 years old, male ...\n",
              "3     4  ...  Inclusion Criteria/PTE Participants:||Age 18+|...\n",
              "4     5  ...  Inclusion Criteria:||Systemically healthy. No ...\n",
              "\n",
              "[5 rows x 6 columns]"
            ]
          },
          "metadata": {},
          "execution_count": 59
        }
      ]
    },
    {
      "cell_type": "code",
      "source": [
        "# Convert the EligibilityCriteria to string then lowercase\n",
        "EligibilityCriteria = df['EligibilityCriteria'].astype(str).str.lower().tolist()\n",
        "EligibilityCriteria[:10]"
      ],
      "metadata": {
        "colab": {
          "base_uri": "https://localhost:8080/"
        },
        "id": "r0XkJBRAdjWR",
        "outputId": "942cf5ba-e5b0-490b-b7e2-0e2d1458227f"
      },
      "execution_count": 67,
      "outputs": [
        {
          "output_type": "execute_result",
          "data": {
            "text/plain": [
              "[\"inclusion criteria:||age older than 18-yo.|histology proven soft tissue sarcoma of truncal or extremity, deemed appropriate for preoperative radiotherapy and conservative surgery by multidisciplinary discussion.|ecog 0-3|histology reviewed by reference pathologist|lesion can be assessed|can tolerate radiotherapy and apatinib|agree contraception.|informed consent: all patients must sign a document of informed consent indicating their understanding of the investigational nature and risks of the study before any protocol related studies are performed||exclusion criteria:||no gross tumor post-resection in other center.|contraindications to apatinib, including allergic to apatinib, active bleeding, ulcer, enteric perforation, enteric obstruction, uncontrolled hypertension, grade 3 to 4 cardiac insufficiency (per nyha criteria), and severe hepatic or renal insufficiency (grade 4), etc.|dermatofibrosarcoma protuberans(dfsp), desmoids, etc.|benign histology|secondary cancer within 5 years (except cervical carcinoma in situ or early-stage skin basal cell carcinoma)|sts can be cured by extensive operation alone.|previous irradiation to the same area|radiological evidence of distant metastases|other contraindications, can't tolerate operation or other treatment needed in this study.|neoadjuvant chemotherapy given or planned.\",\n",
              " \"inclusion criteria:||healthy volunteers, of either sex, aged at least 18 years.|volunteers must be capable of understanding and following directions in english.|subjects who are healthy and have normal skin on the volar surface of the forearm.|subjects willing and able to comply with the requirements of the study.|subjects willing and able to comply with the follow-up requirements.|subjects willing and able to give written and verbal informed consent.||exclusion criteria:||subjects who are pregnant, nursing or intend to become pregnant.|current treatment by a physician for allergy, unless physician consulted by investigator and participation was approved.|participation in a repeat insult patch test (ript), skin prick test (spt) or follow-up work within the last month.|recent immunization, including covid-19 (less than 14 days prior to skin test).|subjects who have had any form of collagen soft tissue treatment within the last 12 months.|subjects with medical history indicating atopy or dermatographia ('skin writing').|subject has a current skin disease of any type apart from mild facial acne (e.g., eczema, psoriasis).|subject has any skin pathology or condition that could interfere with the evaluation of the treatment areas.|subjects who were or are currently being treated with any systemic immuno-suppressive therapy, including but not limited to chemotherapy agents or cortico-steroids (including inhaled or insufflated) within the past 3 months.|subjects who were or are currently being treated with any topical otc drug or prescription therapy on their arms (below the elbow) within the past 3 months.|subjects with a history indicative of abnormal immune function (e.g., auto- immune diseases, hiv, cancer, etc.).|subjects with known lidocaine hypersensitivity.|subjects with known sensitivity to bovine collagen.|subjects who have a history of dietary beef allergy, undergoing desensitization to beef products or planning to undergo desensitization within the study evaluation period.|subjects with severe allergies manifested by a history of anaphylaxis.|subject is currently enrolled in an investigational drug or device study.\",\n",
              " 'inclusion criteria:||age ≥ 18 years old, male or female;|phase i trials select pathologically confirmed recurrent central nervous system tumors (including but not limited to anaplastic astrocytoma, anaplastic oligoastrocytoma, glioblastoma, gliosarcoma, anaplastic ependymoma, medulloblastoma, malignant meningioma, melanoma, etc.) postoperative patients; phase iia trial selects postoperative patients with pathologically confirmed recurrent glioblastoma|kps score ≥60;|partial or complete tumor resection, ommaya reservoir has been placed in the operation area, and drug administration conditions are available;|as assessed by the investigator, the site of injection of the trial drug is expected to be in the supratentorial area;|life expectancy ≥3 months;|blood routine: wbc≥ 3.0×10^9/l, anc≥1.5×10^9/l, plt≥100×10^9/l, hb≥9.0 g/dl;|liver and kidney function: total bilirubin ≤ 1.5 times the upper limit of the normal value; ast and alt < 2.5 times the upper limit of the normal value; serum creatinine ≤1.5 times the upper limit of the normal value, or creatinine clearance ≥50 ml/min (calculated by cockcroft/gault formula);|coagulation function: inr≤1.5 times the upper limit of the normal value, aptt≤1.5 times the upper limit of the normal value;|women of childbearing age had a negative pregnancy test result within 14 days before enrollment. female subjects and their spouses received effective contraceptives during and within 6 months of treatment;|the subjects voluntarily participated in this study, signed the informed consent form, had good compliance, and cooperated with the follow-up.||exclusion criteria:||1.28 days before enrollment, subjects participated in other clinical trial projects.||2.the subject has received tumor chemotherapy, targeted therapy or immunotherapy within 28 days before the first use of the test drug.||3.the subjects have received traditional chinese medicine, modern chinese medicine preparations and antiviral drugs within 7 days before using the test drug for the first time.||4.subjects had received radiotherapy to the brain 3 months before their first use of the test drug.||5.subjects with other active extracranial malignancies requiring concomitant therapy.||6.subjects known to be allergic to the test drug or its active ingredients, excipients, and imaging contrast agents.||7.subjects who are going to undergo or have received tissue/organ transplantation in the past.||8.the subject has active infection or unexplained fever >38.5℃ during the screening period and before the first dose.||9.subjects with active pulmonary tuberculosis (tb) who are receiving anti-tuberculosis treatment or who have received anti-tuberculosis treatment within 1 year before screening.||10.anti-hiv(+) or anti-hcv(+) or specific antibody (tpha) positive or active hepatitis b (hepatitis b subjects who meet the following criteria are also eligible for inclusion: a) hbv viral load before the first dose the amount must be less than 1000 copies/ml (200 iu/ml), and subjects should receive anti-hbv treatment throughout the trial drug treatment period to avoid viral reactivation; b) for anti-hbc (+), hbsag (-), anti-hbs ( -) and viral load (-) subjects, do not require prophylactic anti-hbv therapy, but require close monitoring for viral reactivation.||11.cardiovascular disease meets any of the following: a. congestive heart failure with cardiac function ≥ nyha class iii; b. serious arrhythmia requiring drug treatment; c. acute myocardial infarction, severe or unstable angina pectoris, coronary or peripheral artery bypass, or stenting occurred within 6 months before the first administration; d. left ventricular ejection fraction (ef) < 60%; e. qtcf interval > 450 ms in men, > 470 ms in women, or risk factors for torsades de pointes such as clinically significant hypokalemia, family history of long qt syndrome, or family history as judged by the investigator history of arrhythmias (eg, pre-excitation syndrome); f. uncontrolled hypertension (defined as systolic blood pressure ≥150 mmhg and/or diastolic blood pressure ≥100 mmhg after standardized antihypertensive drug treatment).||12.subjects with active autoimmune disease or a history of autoimmune disease but may relapse, but subjects with the following diseases are not excluded and can be further screened: a. type 1 diabetes; b. hypothyroidism (if controllable with hormone replacement therapy alone); c. controlled celiac disease; d. skin diseases that do not require systemic treatment (eg vitiligo, psoriasis, alopecia); e. any other disease that will not recur in the absence of external triggers.||13.subjects with unstable mental illness, alcohol, drug or substance abuse. 14. female subjects who are pregnant or breastfeeding, or who are expected to become pregnant during the trial period (from the screening visit until 180 days after dosing) and male subjects who are expected to conceive their partner.||15. the adverse reactions of previous anti-tumor therapy have not recovered to (ctcae 5.0) grade 1 (except for alopecia).||16. the investigator determines that he has a serious uncontrollable disease, or there are other conditions that may affect the acceptance of the treatment in this study, and are considered unsuitable to participate in this researcher.||17. other investigators deem it unsuitable for enrollment.',\n",
              " 'inclusion criteria/pte participants:||age 18+|diagnosis of post traumatic epilepsy, with controlled or uncontrolled seizures|subjective memory complaints|no changes in antiepileptic and antidepressant medication regimen for 1 month, however brief discontinuation of antiepileptic medicine for inpatient video eeg evaluation is acceptable|literate and proficient in english|telephone access|internet access||exclusion criteria/pte participants:||subjects self-reporting a dementing illness or a mention of a dementing illness in their medical record|severe mental disability or estimated iq less than 70 per clinical judgement|significant visual impairment precluding reading or writing|no reliable telephone or internet access|no diagnosis of epilepsy||inclusion criteria/caregiver participants||age 18+|caregivers to a patient with a confirmed diagnosis of pte|literate and proficient in english|telephone access|internet access||exclusion criteria/caregiver participants:||significant visual impairment precluding reading or writing|no reliable telephone or internet access',\n",
              " 'inclusion criteria:||systemically healthy. no contraindications to elective oral surgery|all pathologies requiring single tooth extraction with adjacent teeth (or implant) with the presence of at least one third of the alveolus.|evidence of subject ability to achieve good oral hygiene and control gingivitis in the whole of the dentition (fmps<25% and fmbs<25%)|ability to understand study procedures and to comply with them for the entire length of the study. ability and willingness to give informed consent.||exclusion criteria:||presence of frank purulence or acute abscess at the time of extraction|presence of bone resorption of one or more walls of the alveolus extending to the apical third of the socket|self reported current smoking exceeding 20 cigarettes/day or pipe or cigar smoking|presence of medical contraindications to elective surgery',\n",
              " 'exclusion criteria:||refuse to participate|not working night shifts|no patient contact||inclusion criteria:||working day and night shifts|health care professional with patient contact',\n",
              " 'inclusion criteria:||french military personnel who were placed on long-term sick leave for the management of a tumor pathology between january 2015 and december 2020,|french-speaking.||exclusion criteria:||under 18 years old',\n",
              " 'cohort 1||inclusion criteria||case arm:||at the baseline visit, >18 years old, any gender|at the baseline visit, available biospecimens for both edta-plasma and urine|diagnosis of cancer before or at the baseline visit or diagnosis of cancer after the baseline visit|if a diagnosis of cancer before or at the baseline visit, then no antineoplastic treatment between the date of diagnosis and the baseline visit||control arm:||at the baseline visit, >18 years old, any gender|not receiving treatment for or under surveillance for cancer at the baseline visit|no indications of being monitored for or under consideration for suspected cancer at the baseline visit|no diagnosis of cancer before or on the baseline visit or if any previous diagnosis of cancer, then cancer must have been curatively treated ≥ 5 years before the baseline visit|no diagnosis of cancer within at least 365 days after the baseline visit|at the baseline visit, available biospecimens for both edta-plasma and urine||exploratory arm:||same as control arm and type 2 diabetes or hypertension or bmi > 30 at the baseline visit||exclusion criteria||case arm:||no available data for diagnosis of cancer starting 90 days before the baseline visit and up to 365 days after the baseline visit|a subject with only a self-reported diagnosis of cancer (either in the 90 days before or in the 365 days after the baseline visit), and absence of a histopathological or clinically indicated diagnosis of cancer, according to biobank database(s), or through linkage with cancer registry(ies)||control arm and exploratory arm:||no available data for diagnosis of cancer up to 365 days after or on the baseline visit|a histopathological or clinically indicated diagnosis of cancer within 365 days from the baseline visit, according to biobank database(s), or through linkage with cancer registry(ies)||cohort 2||inclusion criteria||at the baseline visit, 35 - 80 years old, any gender|not receiving treatment for or under surveillance for cancer at the baseline visit|no indications of being monitored for or under consideration for suspected cancer at the baseline visit|no diagnosis of cancer before or on the baseline visit or if any previous diagnosis of cancer, then cancer must have been curatively treated ≥ 5 years before the baseline visit|at the baseline visit, available biospecimens for both edta-plasma and urine||exclusion criteria||no available data for diagnosis of cancer up to 365 days after the baseline visit|a subject with only a self-reported diagnosis of cancer in the 365 days after the baseline visit and absence of a histopathological or clinically indicated diagnosis of cancer, according to biobank database(s), or through linkage with cancer registry(ies)|subjects not meeting the specifications for the target population eventually changed during test development in cohort 1. note that these specifications are pre-specified in the statistical analysis plan and will be applied if they meet pre-specified acceptance criteria.',\n",
              " 'inclusion criteria||diagnosis of breast or ovarian cancer confirmed histologically, from i to iii stage;|surgery as first therapeutic approach (in case of ovarian cancer, patients with minimal residual disease after surgery will be also included)|first cycle of adjuvant ct, with or without a biological treatment according to the specific cancer (regimens including anthracyclines/taxanes, anthracyclines/cyclophosphamide, carboplatinum/taxane combined or not with trastuzumab for breast cancer, carboplatin/paclitaxel combined or not with bevacizumab for ovarian cancer);|aged ≥ 18 years;|performance status (ecog) 0-2;|life expectancy > 12 months;|ability to understand and sign the informed consent.||exclusion criteria:||presenting prior history of seizures;|disorders of the mood;|previous history of alcohol and/or drug addiction;|disorder of vision and eyes;|history of psychiatric pathologies.',\n",
              " 'inclusion criteria:||practitioner inclusion criteria:||targeted workers from targeted settings|sufficient language proficiency in english and/or hindi to attend the training and take surveys|has not received prior in-depth lifefirst training|can recruit 36 tobacco users in a six-month period|works in a setting in which brief advice can be added to the workflow|delivers care in greater mumbai and expects to do so for one year post-training|can secure institutional signoff to participate and utilize the program in practice|has an android smartphone||patient inclusion criteria:||user of smokeless and / or smoked tobacco|age 18 and over|attending the practice of an enrolled practitioner|has a mobile phone (required for data collection)||exclusion criteria:||practitioner exclusion criteria:||does not work in one of the targeted settings|works in one of the targeted settings but is not a targeted worker|does not have sufficient language proficiency in english and/or hindi to attend the training and take surveys|has received prior in-depth lifefirst training|cannot recruit 36 tobacco users in a six-month period|does not work in a setting in which brief advice can be added to the workflow|does not deliver care in greater mumbai|delivers care in greater mumbai but does not expect to do so for one year post-training|cannot secure institutional signoff to participate and utilize the program in practice|does not have an android smartphone||patient exclusion criteria:||not a user of smokeless or smoked tobacco|under age 18|does not attend the practice of an enrolled practitioner|does not have a mobile phone']"
            ]
          },
          "metadata": {},
          "execution_count": 67
        }
      ]
    },
    {
      "cell_type": "code",
      "source": [
        "# Seperate the InclusionCriteria from the ExclusionCriteria\n",
        "InclusionCriteria = [txt[21:txt.find('exclusion criteria')-2] for txt in EligibilityCriteria]\n",
        "InclusionCriteria[:10]"
      ],
      "metadata": {
        "colab": {
          "base_uri": "https://localhost:8080/"
        },
        "id": "IkRH1_hKmuuE",
        "outputId": "ef997cc0-6e45-411a-ae80-80c1fd611aac"
      },
      "execution_count": 68,
      "outputs": [
        {
          "output_type": "execute_result",
          "data": {
            "text/plain": [
              "['age older than 18-yo.|histology proven soft tissue sarcoma of truncal or extremity, deemed appropriate for preoperative radiotherapy and conservative surgery by multidisciplinary discussion.|ecog 0-3|histology reviewed by reference pathologist|lesion can be assessed|can tolerate radiotherapy and apatinib|agree contraception.|informed consent: all patients must sign a document of informed consent indicating their understanding of the investigational nature and risks of the study before any protocol related studies are performed',\n",
              " 'healthy volunteers, of either sex, aged at least 18 years.|volunteers must be capable of understanding and following directions in english.|subjects who are healthy and have normal skin on the volar surface of the forearm.|subjects willing and able to comply with the requirements of the study.|subjects willing and able to comply with the follow-up requirements.|subjects willing and able to give written and verbal informed consent.',\n",
              " 'age ≥ 18 years old, male or female;|phase i trials select pathologically confirmed recurrent central nervous system tumors (including but not limited to anaplastic astrocytoma, anaplastic oligoastrocytoma, glioblastoma, gliosarcoma, anaplastic ependymoma, medulloblastoma, malignant meningioma, melanoma, etc.) postoperative patients; phase iia trial selects postoperative patients with pathologically confirmed recurrent glioblastoma|kps score ≥60;|partial or complete tumor resection, ommaya reservoir has been placed in the operation area, and drug administration conditions are available;|as assessed by the investigator, the site of injection of the trial drug is expected to be in the supratentorial area;|life expectancy ≥3 months;|blood routine: wbc≥ 3.0×10^9/l, anc≥1.5×10^9/l, plt≥100×10^9/l, hb≥9.0 g/dl;|liver and kidney function: total bilirubin ≤ 1.5 times the upper limit of the normal value; ast and alt < 2.5 times the upper limit of the normal value; serum creatinine ≤1.5 times the upper limit of the normal value, or creatinine clearance ≥50 ml/min (calculated by cockcroft/gault formula);|coagulation function: inr≤1.5 times the upper limit of the normal value, aptt≤1.5 times the upper limit of the normal value;|women of childbearing age had a negative pregnancy test result within 14 days before enrollment. female subjects and their spouses received effective contraceptives during and within 6 months of treatment;|the subjects voluntarily participated in this study, signed the informed consent form, had good compliance, and cooperated with the follow-up.',\n",
              " 'e participants:||age 18+|diagnosis of post traumatic epilepsy, with controlled or uncontrolled seizures|subjective memory complaints|no changes in antiepileptic and antidepressant medication regimen for 1 month, however brief discontinuation of antiepileptic medicine for inpatient video eeg evaluation is acceptable|literate and proficient in english|telephone access|internet access',\n",
              " 'systemically healthy. no contraindications to elective oral surgery|all pathologies requiring single tooth extraction with adjacent teeth (or implant) with the presence of at least one third of the alveolus.|evidence of subject ability to achieve good oral hygiene and control gingivitis in the whole of the dentition (fmps<25% and fmbs<25%)|ability to understand study procedures and to comply with them for the entire length of the study. ability and willingness to give informed consent.',\n",
              " 'refuse to participate|not working night shifts|no patient contact||inclusion criteria:||working day and night shifts|health care professional with patient conta',\n",
              " 'french military personnel who were placed on long-term sick leave for the management of a tumor pathology between january 2015 and december 2020,|french-speaking.',\n",
              " 'riteria||case arm:||at the baseline visit, >18 years old, any gender|at the baseline visit, available biospecimens for both edta-plasma and urine|diagnosis of cancer before or at the baseline visit or diagnosis of cancer after the baseline visit|if a diagnosis of cancer before or at the baseline visit, then no antineoplastic treatment between the date of diagnosis and the baseline visit||control arm:||at the baseline visit, >18 years old, any gender|not receiving treatment for or under surveillance for cancer at the baseline visit|no indications of being monitored for or under consideration for suspected cancer at the baseline visit|no diagnosis of cancer before or on the baseline visit or if any previous diagnosis of cancer, then cancer must have been curatively treated ≥ 5 years before the baseline visit|no diagnosis of cancer within at least 365 days after the baseline visit|at the baseline visit, available biospecimens for both edta-plasma and urine||exploratory arm:||same as control arm and type 2 diabetes or hypertension or bmi > 30 at the baseline visit',\n",
              " 'iagnosis of breast or ovarian cancer confirmed histologically, from i to iii stage;|surgery as first therapeutic approach (in case of ovarian cancer, patients with minimal residual disease after surgery will be also included)|first cycle of adjuvant ct, with or without a biological treatment according to the specific cancer (regimens including anthracyclines/taxanes, anthracyclines/cyclophosphamide, carboplatinum/taxane combined or not with trastuzumab for breast cancer, carboplatin/paclitaxel combined or not with bevacizumab for ovarian cancer);|aged ≥ 18 years;|performance status (ecog) 0-2;|life expectancy > 12 months;|ability to understand and sign the informed consent.',\n",
              " 'practitioner inclusion criteria:||targeted workers from targeted settings|sufficient language proficiency in english and/or hindi to attend the training and take surveys|has not received prior in-depth lifefirst training|can recruit 36 tobacco users in a six-month period|works in a setting in which brief advice can be added to the workflow|delivers care in greater mumbai and expects to do so for one year post-training|can secure institutional signoff to participate and utilize the program in practice|has an android smartphone||patient inclusion criteria:||user of smokeless and / or smoked tobacco|age 18 and over|attending the practice of an enrolled practitioner|has a mobile phone (required for data collection)']"
            ]
          },
          "metadata": {},
          "execution_count": 68
        }
      ]
    },
    {
      "cell_type": "code",
      "source": [
        "# Seperate the ExclusionCriteria from the InclusionCriteria\n",
        "ExclusionCriteria = [txt[txt.find('exclusion criteria')+21:] for txt in EligibilityCriteria]\n",
        "ExclusionCriteria[:10]"
      ],
      "metadata": {
        "colab": {
          "base_uri": "https://localhost:8080/"
        },
        "id": "cGV-0j2KoAa_",
        "outputId": "4ff73be6-9f43-4af2-ac21-c0b3a74fb111"
      },
      "execution_count": 70,
      "outputs": [
        {
          "output_type": "execute_result",
          "data": {
            "text/plain": [
              "[\"no gross tumor post-resection in other center.|contraindications to apatinib, including allergic to apatinib, active bleeding, ulcer, enteric perforation, enteric obstruction, uncontrolled hypertension, grade 3 to 4 cardiac insufficiency (per nyha criteria), and severe hepatic or renal insufficiency (grade 4), etc.|dermatofibrosarcoma protuberans(dfsp), desmoids, etc.|benign histology|secondary cancer within 5 years (except cervical carcinoma in situ or early-stage skin basal cell carcinoma)|sts can be cured by extensive operation alone.|previous irradiation to the same area|radiological evidence of distant metastases|other contraindications, can't tolerate operation or other treatment needed in this study.|neoadjuvant chemotherapy given or planned.\",\n",
              " \"subjects who are pregnant, nursing or intend to become pregnant.|current treatment by a physician for allergy, unless physician consulted by investigator and participation was approved.|participation in a repeat insult patch test (ript), skin prick test (spt) or follow-up work within the last month.|recent immunization, including covid-19 (less than 14 days prior to skin test).|subjects who have had any form of collagen soft tissue treatment within the last 12 months.|subjects with medical history indicating atopy or dermatographia ('skin writing').|subject has a current skin disease of any type apart from mild facial acne (e.g., eczema, psoriasis).|subject has any skin pathology or condition that could interfere with the evaluation of the treatment areas.|subjects who were or are currently being treated with any systemic immuno-suppressive therapy, including but not limited to chemotherapy agents or cortico-steroids (including inhaled or insufflated) within the past 3 months.|subjects who were or are currently being treated with any topical otc drug or prescription therapy on their arms (below the elbow) within the past 3 months.|subjects with a history indicative of abnormal immune function (e.g., auto- immune diseases, hiv, cancer, etc.).|subjects with known lidocaine hypersensitivity.|subjects with known sensitivity to bovine collagen.|subjects who have a history of dietary beef allergy, undergoing desensitization to beef products or planning to undergo desensitization within the study evaluation period.|subjects with severe allergies manifested by a history of anaphylaxis.|subject is currently enrolled in an investigational drug or device study.\",\n",
              " '1.28 days before enrollment, subjects participated in other clinical trial projects.||2.the subject has received tumor chemotherapy, targeted therapy or immunotherapy within 28 days before the first use of the test drug.||3.the subjects have received traditional chinese medicine, modern chinese medicine preparations and antiviral drugs within 7 days before using the test drug for the first time.||4.subjects had received radiotherapy to the brain 3 months before their first use of the test drug.||5.subjects with other active extracranial malignancies requiring concomitant therapy.||6.subjects known to be allergic to the test drug or its active ingredients, excipients, and imaging contrast agents.||7.subjects who are going to undergo or have received tissue/organ transplantation in the past.||8.the subject has active infection or unexplained fever >38.5℃ during the screening period and before the first dose.||9.subjects with active pulmonary tuberculosis (tb) who are receiving anti-tuberculosis treatment or who have received anti-tuberculosis treatment within 1 year before screening.||10.anti-hiv(+) or anti-hcv(+) or specific antibody (tpha) positive or active hepatitis b (hepatitis b subjects who meet the following criteria are also eligible for inclusion: a) hbv viral load before the first dose the amount must be less than 1000 copies/ml (200 iu/ml), and subjects should receive anti-hbv treatment throughout the trial drug treatment period to avoid viral reactivation; b) for anti-hbc (+), hbsag (-), anti-hbs ( -) and viral load (-) subjects, do not require prophylactic anti-hbv therapy, but require close monitoring for viral reactivation.||11.cardiovascular disease meets any of the following: a. congestive heart failure with cardiac function ≥ nyha class iii; b. serious arrhythmia requiring drug treatment; c. acute myocardial infarction, severe or unstable angina pectoris, coronary or peripheral artery bypass, or stenting occurred within 6 months before the first administration; d. left ventricular ejection fraction (ef) < 60%; e. qtcf interval > 450 ms in men, > 470 ms in women, or risk factors for torsades de pointes such as clinically significant hypokalemia, family history of long qt syndrome, or family history as judged by the investigator history of arrhythmias (eg, pre-excitation syndrome); f. uncontrolled hypertension (defined as systolic blood pressure ≥150 mmhg and/or diastolic blood pressure ≥100 mmhg after standardized antihypertensive drug treatment).||12.subjects with active autoimmune disease or a history of autoimmune disease but may relapse, but subjects with the following diseases are not excluded and can be further screened: a. type 1 diabetes; b. hypothyroidism (if controllable with hormone replacement therapy alone); c. controlled celiac disease; d. skin diseases that do not require systemic treatment (eg vitiligo, psoriasis, alopecia); e. any other disease that will not recur in the absence of external triggers.||13.subjects with unstable mental illness, alcohol, drug or substance abuse. 14. female subjects who are pregnant or breastfeeding, or who are expected to become pregnant during the trial period (from the screening visit until 180 days after dosing) and male subjects who are expected to conceive their partner.||15. the adverse reactions of previous anti-tumor therapy have not recovered to (ctcae 5.0) grade 1 (except for alopecia).||16. the investigator determines that he has a serious uncontrollable disease, or there are other conditions that may affect the acceptance of the treatment in this study, and are considered unsuitable to participate in this researcher.||17. other investigators deem it unsuitable for enrollment.',\n",
              " 'e participants:||subjects self-reporting a dementing illness or a mention of a dementing illness in their medical record|severe mental disability or estimated iq less than 70 per clinical judgement|significant visual impairment precluding reading or writing|no reliable telephone or internet access|no diagnosis of epilepsy||inclusion criteria/caregiver participants||age 18+|caregivers to a patient with a confirmed diagnosis of pte|literate and proficient in english|telephone access|internet access||exclusion criteria/caregiver participants:||significant visual impairment precluding reading or writing|no reliable telephone or internet access',\n",
              " 'presence of frank purulence or acute abscess at the time of extraction|presence of bone resorption of one or more walls of the alveolus extending to the apical third of the socket|self reported current smoking exceeding 20 cigarettes/day or pipe or cigar smoking|presence of medical contraindications to elective surgery',\n",
              " 'refuse to participate|not working night shifts|no patient contact||inclusion criteria:||working day and night shifts|health care professional with patient contact',\n",
              " 'under 18 years old',\n",
              " 'ase arm:||no available data for diagnosis of cancer starting 90 days before the baseline visit and up to 365 days after the baseline visit|a subject with only a self-reported diagnosis of cancer (either in the 90 days before or in the 365 days after the baseline visit), and absence of a histopathological or clinically indicated diagnosis of cancer, according to biobank database(s), or through linkage with cancer registry(ies)||control arm and exploratory arm:||no available data for diagnosis of cancer up to 365 days after or on the baseline visit|a histopathological or clinically indicated diagnosis of cancer within 365 days from the baseline visit, according to biobank database(s), or through linkage with cancer registry(ies)||cohort 2||inclusion criteria||at the baseline visit, 35 - 80 years old, any gender|not receiving treatment for or under surveillance for cancer at the baseline visit|no indications of being monitored for or under consideration for suspected cancer at the baseline visit|no diagnosis of cancer before or on the baseline visit or if any previous diagnosis of cancer, then cancer must have been curatively treated ≥ 5 years before the baseline visit|at the baseline visit, available biospecimens for both edta-plasma and urine||exclusion criteria||no available data for diagnosis of cancer up to 365 days after the baseline visit|a subject with only a self-reported diagnosis of cancer in the 365 days after the baseline visit and absence of a histopathological or clinically indicated diagnosis of cancer, according to biobank database(s), or through linkage with cancer registry(ies)|subjects not meeting the specifications for the target population eventually changed during test development in cohort 1. note that these specifications are pre-specified in the statistical analysis plan and will be applied if they meet pre-specified acceptance criteria.',\n",
              " 'presenting prior history of seizures;|disorders of the mood;|previous history of alcohol and/or drug addiction;|disorder of vision and eyes;|history of psychiatric pathologies.',\n",
              " 'practitioner exclusion criteria:||does not work in one of the targeted settings|works in one of the targeted settings but is not a targeted worker|does not have sufficient language proficiency in english and/or hindi to attend the training and take surveys|has received prior in-depth lifefirst training|cannot recruit 36 tobacco users in a six-month period|does not work in a setting in which brief advice can be added to the workflow|does not deliver care in greater mumbai|delivers care in greater mumbai but does not expect to do so for one year post-training|cannot secure institutional signoff to participate and utilize the program in practice|does not have an android smartphone||patient exclusion criteria:||not a user of smokeless or smoked tobacco|under age 18|does not attend the practice of an enrolled practitioner|does not have a mobile phone']"
            ]
          },
          "metadata": {},
          "execution_count": 70
        }
      ]
    },
    {
      "cell_type": "code",
      "source": [
        "# Split each Trial InclusionCriteria into list of lists of the InclusionCriteria\n",
        "InclusionCriteriaList = list(map(lambda txt : txt.split(\"|\"), InclusionCriteria))\n",
        "InclusionCriteriaList = [list(filter(lambda txt: txt!= '', ltexts)) for ltexts in InclusionCriteriaList] # Delete the empty string generated by successive || (sometimes they seperate with | or ||)\n",
        "InclusionCriteriaList[:2]"
      ],
      "metadata": {
        "colab": {
          "base_uri": "https://localhost:8080/"
        },
        "id": "lb79KYUKpoxC",
        "outputId": "b4d3b2e8-2487-4b57-d548-853afd257e46"
      },
      "execution_count": 71,
      "outputs": [
        {
          "output_type": "execute_result",
          "data": {
            "text/plain": [
              "[['age older than 18-yo.',\n",
              "  'histology proven soft tissue sarcoma of truncal or extremity, deemed appropriate for preoperative radiotherapy and conservative surgery by multidisciplinary discussion.',\n",
              "  'ecog 0-3',\n",
              "  'histology reviewed by reference pathologist',\n",
              "  'lesion can be assessed',\n",
              "  'can tolerate radiotherapy and apatinib',\n",
              "  'agree contraception.',\n",
              "  'informed consent: all patients must sign a document of informed consent indicating their understanding of the investigational nature and risks of the study before any protocol related studies are performed'],\n",
              " ['healthy volunteers, of either sex, aged at least 18 years.',\n",
              "  'volunteers must be capable of understanding and following directions in english.',\n",
              "  'subjects who are healthy and have normal skin on the volar surface of the forearm.',\n",
              "  'subjects willing and able to comply with the requirements of the study.',\n",
              "  'subjects willing and able to comply with the follow-up requirements.',\n",
              "  'subjects willing and able to give written and verbal informed consent.']]"
            ]
          },
          "metadata": {},
          "execution_count": 71
        }
      ]
    },
    {
      "cell_type": "code",
      "source": [
        "# Split each Trial ExclusionCriteria into list of lists of the ExclusionCriteria\n",
        "ExclusionCriteriaList = list(map(lambda txt : txt.split(\"|\"), ExclusionCriteria))\n",
        "ExclusionCriteriaList = [list(filter(lambda txt: txt!= '', ltexts)) for ltexts in ExclusionCriteriaList] # Delete the empty string generated by successive || (sometimes they seperate with | or ||)\n",
        "ExclusionCriteriaList[:2]"
      ],
      "metadata": {
        "colab": {
          "base_uri": "https://localhost:8080/"
        },
        "id": "eT_YPacftyU4",
        "outputId": "75ea1a27-3a17-4124-bfbf-a9b8a2cfee9a"
      },
      "execution_count": 73,
      "outputs": [
        {
          "output_type": "execute_result",
          "data": {
            "text/plain": [
              "[['no gross tumor post-resection in other center.',\n",
              "  'contraindications to apatinib, including allergic to apatinib, active bleeding, ulcer, enteric perforation, enteric obstruction, uncontrolled hypertension, grade 3 to 4 cardiac insufficiency (per nyha criteria), and severe hepatic or renal insufficiency (grade 4), etc.',\n",
              "  'dermatofibrosarcoma protuberans(dfsp), desmoids, etc.',\n",
              "  'benign histology',\n",
              "  'secondary cancer within 5 years (except cervical carcinoma in situ or early-stage skin basal cell carcinoma)',\n",
              "  'sts can be cured by extensive operation alone.',\n",
              "  'previous irradiation to the same area',\n",
              "  'radiological evidence of distant metastases',\n",
              "  \"other contraindications, can't tolerate operation or other treatment needed in this study.\",\n",
              "  'neoadjuvant chemotherapy given or planned.'],\n",
              " ['subjects who are pregnant, nursing or intend to become pregnant.',\n",
              "  'current treatment by a physician for allergy, unless physician consulted by investigator and participation was approved.',\n",
              "  'participation in a repeat insult patch test (ript), skin prick test (spt) or follow-up work within the last month.',\n",
              "  'recent immunization, including covid-19 (less than 14 days prior to skin test).',\n",
              "  'subjects who have had any form of collagen soft tissue treatment within the last 12 months.',\n",
              "  \"subjects with medical history indicating atopy or dermatographia ('skin writing').\",\n",
              "  'subject has a current skin disease of any type apart from mild facial acne (e.g., eczema, psoriasis).',\n",
              "  'subject has any skin pathology or condition that could interfere with the evaluation of the treatment areas.',\n",
              "  'subjects who were or are currently being treated with any systemic immuno-suppressive therapy, including but not limited to chemotherapy agents or cortico-steroids (including inhaled or insufflated) within the past 3 months.',\n",
              "  'subjects who were or are currently being treated with any topical otc drug or prescription therapy on their arms (below the elbow) within the past 3 months.',\n",
              "  'subjects with a history indicative of abnormal immune function (e.g., auto- immune diseases, hiv, cancer, etc.).',\n",
              "  'subjects with known lidocaine hypersensitivity.',\n",
              "  'subjects with known sensitivity to bovine collagen.',\n",
              "  'subjects who have a history of dietary beef allergy, undergoing desensitization to beef products or planning to undergo desensitization within the study evaluation period.',\n",
              "  'subjects with severe allergies manifested by a history of anaphylaxis.',\n",
              "  'subject is currently enrolled in an investigational drug or device study.']]"
            ]
          },
          "metadata": {},
          "execution_count": 73
        }
      ]
    },
    {
      "cell_type": "code",
      "source": [
        "df['InclusionCriteriaList'] = InclusionCriteriaList\n",
        "df['ExclusionCriteriaList'] = ExclusionCriteriaList\n",
        "df.head()"
      ],
      "metadata": {
        "colab": {
          "base_uri": "https://localhost:8080/",
          "height": 337
        },
        "id": "AkaDYyVhxcpY",
        "outputId": "9b380de8-e759-4afb-dbee-dbc9a02b1fb3"
      },
      "execution_count": 74,
      "outputs": [
        {
          "output_type": "execute_result",
          "data": {
            "text/html": [
              "\n",
              "  <div id=\"df-7dd3f0d4-0696-4b4c-b168-d266267d5887\">\n",
              "    <div class=\"colab-df-container\">\n",
              "      <div>\n",
              "<style scoped>\n",
              "    .dataframe tbody tr th:only-of-type {\n",
              "        vertical-align: middle;\n",
              "    }\n",
              "\n",
              "    .dataframe tbody tr th {\n",
              "        vertical-align: top;\n",
              "    }\n",
              "\n",
              "    .dataframe thead th {\n",
              "        text-align: right;\n",
              "    }\n",
              "</style>\n",
              "<table border=\"1\" class=\"dataframe\">\n",
              "  <thead>\n",
              "    <tr style=\"text-align: right;\">\n",
              "      <th></th>\n",
              "      <th>Rank</th>\n",
              "      <th>NCTId</th>\n",
              "      <th>BriefTitle</th>\n",
              "      <th>Condition</th>\n",
              "      <th>Keyword</th>\n",
              "      <th>EligibilityCriteria</th>\n",
              "      <th>InclusionCriteriaList</th>\n",
              "      <th>ExclusionCriteriaList</th>\n",
              "    </tr>\n",
              "  </thead>\n",
              "  <tbody>\n",
              "    <tr>\n",
              "      <th>0</th>\n",
              "      <td>1</td>\n",
              "      <td>NCT05235100</td>\n",
              "      <td>Preoperative IMRT With Concurrent Apatinib for...</td>\n",
              "      <td>Sarcoma,Soft Tissue|Extremity|Trunk|Intensity-...</td>\n",
              "      <td>NaN</td>\n",
              "      <td>Inclusion Criteria:||Age older than 18-yo.|His...</td>\n",
              "      <td>[age older than 18-yo., histology proven soft ...</td>\n",
              "      <td>[no gross tumor post-resection in other center...</td>\n",
              "    </tr>\n",
              "    <tr>\n",
              "      <th>1</th>\n",
              "      <td>2</td>\n",
              "      <td>NCT05235087</td>\n",
              "      <td>Bovine Atelocollagen Skin Sensitization Test</td>\n",
              "      <td>Healthy</td>\n",
              "      <td>NaN</td>\n",
              "      <td>Inclusion Criteria:||Healthy volunteers, of ei...</td>\n",
              "      <td>[healthy volunteers, of either sex, aged at le...</td>\n",
              "      <td>[subjects who are pregnant, nursing or intend ...</td>\n",
              "    </tr>\n",
              "    <tr>\n",
              "      <th>2</th>\n",
              "      <td>3</td>\n",
              "      <td>NCT05235074</td>\n",
              "      <td>OH2 Oncolytic Viral Therapy in Central Nervous...</td>\n",
              "      <td>Central Nervous System Tumors</td>\n",
              "      <td>Oncolytic Virus</td>\n",
              "      <td>Inclusion Criteria:||Age ≥ 18 years old, male ...</td>\n",
              "      <td>[age ≥ 18 years old, male or female;, phase i ...</td>\n",
              "      <td>[1.28 days before enrollment, subjects partici...</td>\n",
              "    </tr>\n",
              "    <tr>\n",
              "      <th>3</th>\n",
              "      <td>4</td>\n",
              "      <td>NCT05235061</td>\n",
              "      <td>HOme-Based Self-management and COgnitive Train...</td>\n",
              "      <td>Epilepsy, Traumatic|Brain Injuries, Traumatic</td>\n",
              "      <td>Epilepsy|Epilepsy, Post-Traumatic|Traumatic Br...</td>\n",
              "      <td>Inclusion Criteria/PTE Participants:||Age 18+|...</td>\n",
              "      <td>[e participants:, age 18+, diagnosis of post t...</td>\n",
              "      <td>[e participants:, subjects self-reporting a de...</td>\n",
              "    </tr>\n",
              "    <tr>\n",
              "      <th>4</th>\n",
              "      <td>5</td>\n",
              "      <td>NCT05235048</td>\n",
              "      <td>Single Tooth Extraction in Damaged Alveoli and...</td>\n",
              "      <td>Tooth Extraction Status Nos</td>\n",
              "      <td>Alveolar ridge preservation|Tooth extraction|D...</td>\n",
              "      <td>Inclusion Criteria:||Systemically healthy. No ...</td>\n",
              "      <td>[systemically healthy. no contraindications to...</td>\n",
              "      <td>[presence of frank purulence or acute abscess ...</td>\n",
              "    </tr>\n",
              "  </tbody>\n",
              "</table>\n",
              "</div>\n",
              "      <button class=\"colab-df-convert\" onclick=\"convertToInteractive('df-7dd3f0d4-0696-4b4c-b168-d266267d5887')\"\n",
              "              title=\"Convert this dataframe to an interactive table.\"\n",
              "              style=\"display:none;\">\n",
              "        \n",
              "  <svg xmlns=\"http://www.w3.org/2000/svg\" height=\"24px\"viewBox=\"0 0 24 24\"\n",
              "       width=\"24px\">\n",
              "    <path d=\"M0 0h24v24H0V0z\" fill=\"none\"/>\n",
              "    <path d=\"M18.56 5.44l.94 2.06.94-2.06 2.06-.94-2.06-.94-.94-2.06-.94 2.06-2.06.94zm-11 1L8.5 8.5l.94-2.06 2.06-.94-2.06-.94L8.5 2.5l-.94 2.06-2.06.94zm10 10l.94 2.06.94-2.06 2.06-.94-2.06-.94-.94-2.06-.94 2.06-2.06.94z\"/><path d=\"M17.41 7.96l-1.37-1.37c-.4-.4-.92-.59-1.43-.59-.52 0-1.04.2-1.43.59L10.3 9.45l-7.72 7.72c-.78.78-.78 2.05 0 2.83L4 21.41c.39.39.9.59 1.41.59.51 0 1.02-.2 1.41-.59l7.78-7.78 2.81-2.81c.8-.78.8-2.07 0-2.86zM5.41 20L4 18.59l7.72-7.72 1.47 1.35L5.41 20z\"/>\n",
              "  </svg>\n",
              "      </button>\n",
              "      \n",
              "  <style>\n",
              "    .colab-df-container {\n",
              "      display:flex;\n",
              "      flex-wrap:wrap;\n",
              "      gap: 12px;\n",
              "    }\n",
              "\n",
              "    .colab-df-convert {\n",
              "      background-color: #E8F0FE;\n",
              "      border: none;\n",
              "      border-radius: 50%;\n",
              "      cursor: pointer;\n",
              "      display: none;\n",
              "      fill: #1967D2;\n",
              "      height: 32px;\n",
              "      padding: 0 0 0 0;\n",
              "      width: 32px;\n",
              "    }\n",
              "\n",
              "    .colab-df-convert:hover {\n",
              "      background-color: #E2EBFA;\n",
              "      box-shadow: 0px 1px 2px rgba(60, 64, 67, 0.3), 0px 1px 3px 1px rgba(60, 64, 67, 0.15);\n",
              "      fill: #174EA6;\n",
              "    }\n",
              "\n",
              "    [theme=dark] .colab-df-convert {\n",
              "      background-color: #3B4455;\n",
              "      fill: #D2E3FC;\n",
              "    }\n",
              "\n",
              "    [theme=dark] .colab-df-convert:hover {\n",
              "      background-color: #434B5C;\n",
              "      box-shadow: 0px 1px 3px 1px rgba(0, 0, 0, 0.15);\n",
              "      filter: drop-shadow(0px 1px 2px rgba(0, 0, 0, 0.3));\n",
              "      fill: #FFFFFF;\n",
              "    }\n",
              "  </style>\n",
              "\n",
              "      <script>\n",
              "        const buttonEl =\n",
              "          document.querySelector('#df-7dd3f0d4-0696-4b4c-b168-d266267d5887 button.colab-df-convert');\n",
              "        buttonEl.style.display =\n",
              "          google.colab.kernel.accessAllowed ? 'block' : 'none';\n",
              "\n",
              "        async function convertToInteractive(key) {\n",
              "          const element = document.querySelector('#df-7dd3f0d4-0696-4b4c-b168-d266267d5887');\n",
              "          const dataTable =\n",
              "            await google.colab.kernel.invokeFunction('convertToInteractive',\n",
              "                                                     [key], {});\n",
              "          if (!dataTable) return;\n",
              "\n",
              "          const docLinkHtml = 'Like what you see? Visit the ' +\n",
              "            '<a target=\"_blank\" href=https://colab.research.google.com/notebooks/data_table.ipynb>data table notebook</a>'\n",
              "            + ' to learn more about interactive tables.';\n",
              "          element.innerHTML = '';\n",
              "          dataTable['output_type'] = 'display_data';\n",
              "          await google.colab.output.renderOutput(dataTable, element);\n",
              "          const docLink = document.createElement('div');\n",
              "          docLink.innerHTML = docLinkHtml;\n",
              "          element.appendChild(docLink);\n",
              "        }\n",
              "      </script>\n",
              "    </div>\n",
              "  </div>\n",
              "  "
            ],
            "text/plain": [
              "   Rank  ...                              ExclusionCriteriaList\n",
              "0     1  ...  [no gross tumor post-resection in other center...\n",
              "1     2  ...  [subjects who are pregnant, nursing or intend ...\n",
              "2     3  ...  [1.28 days before enrollment, subjects partici...\n",
              "3     4  ...  [e participants:, subjects self-reporting a de...\n",
              "4     5  ...  [presence of frank purulence or acute abscess ...\n",
              "\n",
              "[5 rows x 8 columns]"
            ]
          },
          "metadata": {},
          "execution_count": 74
        }
      ]
    },
    {
      "cell_type": "code",
      "source": [
        "df.to_excel('df.xlsx')\n",
        "files.download('df.xlsx')"
      ],
      "metadata": {
        "colab": {
          "base_uri": "https://localhost:8080/",
          "height": 17
        },
        "id": "EREp1ZY8xqU1",
        "outputId": "8d7e93bf-cbd2-4e8a-ab7e-823d89f785f9"
      },
      "execution_count": 76,
      "outputs": [
        {
          "output_type": "display_data",
          "data": {
            "application/javascript": [
              "\n",
              "    async function download(id, filename, size) {\n",
              "      if (!google.colab.kernel.accessAllowed) {\n",
              "        return;\n",
              "      }\n",
              "      const div = document.createElement('div');\n",
              "      const label = document.createElement('label');\n",
              "      label.textContent = `Downloading \"${filename}\": `;\n",
              "      div.appendChild(label);\n",
              "      const progress = document.createElement('progress');\n",
              "      progress.max = size;\n",
              "      div.appendChild(progress);\n",
              "      document.body.appendChild(div);\n",
              "\n",
              "      const buffers = [];\n",
              "      let downloaded = 0;\n",
              "\n",
              "      const channel = await google.colab.kernel.comms.open(id);\n",
              "      // Send a message to notify the kernel that we're ready.\n",
              "      channel.send({})\n",
              "\n",
              "      for await (const message of channel.messages) {\n",
              "        // Send a message to notify the kernel that we're ready.\n",
              "        channel.send({})\n",
              "        if (message.buffers) {\n",
              "          for (const buffer of message.buffers) {\n",
              "            buffers.push(buffer);\n",
              "            downloaded += buffer.byteLength;\n",
              "            progress.value = downloaded;\n",
              "          }\n",
              "        }\n",
              "      }\n",
              "      const blob = new Blob(buffers, {type: 'application/binary'});\n",
              "      const a = document.createElement('a');\n",
              "      a.href = window.URL.createObjectURL(blob);\n",
              "      a.download = filename;\n",
              "      div.appendChild(a);\n",
              "      a.click();\n",
              "      div.remove();\n",
              "    }\n",
              "  "
            ],
            "text/plain": [
              "<IPython.core.display.Javascript object>"
            ]
          },
          "metadata": {}
        },
        {
          "output_type": "display_data",
          "data": {
            "application/javascript": [
              "download(\"download_8a60299e-65a5-40b8-ba08-cfdb9601297a\", \"df.xlsx\", 739658)"
            ],
            "text/plain": [
              "<IPython.core.display.Javascript object>"
            ]
          },
          "metadata": {}
        }
      ]
    },
    {
      "cell_type": "code",
      "source": [
        ""
      ],
      "metadata": {
        "id": "TW1Bfe1lyEw-"
      },
      "execution_count": null,
      "outputs": []
    }
  ]
}