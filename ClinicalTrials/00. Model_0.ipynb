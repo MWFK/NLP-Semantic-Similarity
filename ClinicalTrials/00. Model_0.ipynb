{
  "nbformat": 4,
  "nbformat_minor": 0,
  "metadata": {
    "colab": {
      "name": "0. Model_0.ipynb",
      "provenance": [],
      "collapsed_sections": [],
      "authorship_tag": "ABX9TyPAPI2Umh8ironLu3L/cSep",
      "include_colab_link": true
    },
    "kernelspec": {
      "name": "python3",
      "display_name": "Python 3"
    },
    "language_info": {
      "name": "python"
    }
  },
  "cells": [
    {
      "cell_type": "markdown",
      "metadata": {
        "id": "view-in-github",
        "colab_type": "text"
      },
      "source": [
        "<a href=\"https://colab.research.google.com/github/MWFK/NLP-Semantic-Similarity/blob/main/ClinicalTrials/00.%20Model_0.ipynb\" target=\"_parent\"><img src=\"https://colab.research.google.com/assets/colab-badge.svg\" alt=\"Open In Colab\"/></a>"
      ]
    },
    {
      "cell_type": "markdown",
      "source": [
        "### Objectives\n",
        "\n",
        "Get and process data, then apply Count Vectorizer followed by Cosine Similarity."
      ],
      "metadata": {
        "id": "PNEg4ZGnTPHB"
      }
    },
    {
      "cell_type": "markdown",
      "source": [
        "### Libs"
      ],
      "metadata": {
        "id": "cp5tsbvhTAnv"
      }
    },
    {
      "cell_type": "code",
      "execution_count": 1,
      "metadata": {
        "id": "DfZBQ26QS06V"
      },
      "outputs": [],
      "source": [
        "# Python libs to manipulate dataframes and arrays\n",
        "import pandas as pd\n",
        "import numpy as np\n",
        "\n",
        "# Scikit Learn\n",
        "from sklearn.feature_extraction.text import CountVectorizer\n",
        "from sklearn.feature_extraction.text import TfidfTransformer\n",
        "\n",
        "# Compute Cosine Similarity\n",
        "from sklearn.metrics.pairwise import cosine_similarity"
      ]
    },
    {
      "cell_type": "markdown",
      "source": [
        "### Data"
      ],
      "metadata": {
        "id": "3ZkxAJS_TMVL"
      }
    },
    {
      "cell_type": "code",
      "source": [
        "def get_data():\n",
        "\n",
        "  # Download Clinical Trials data\n",
        "  print('Downloading Clinical Trials Data')\n",
        "  ct_dt = pd.read_csv(r'https://raw.githubusercontent.com/MWFK/NLP-Semantic-Similarity/main/ClinicalTrials/Data/Batches_0.csv', sep=',', engine='python', encoding=\"utf-8\")\n",
        "  for btch in range(1, 4):\n",
        "      url = 'https://raw.githubusercontent.com/MWFK/NLP-Semantic-Similarity/main/ClinicalTrials/Data/Batches_' +str(btch)+ '.csv'\n",
        "      tmp = pd.read_csv(url, sep=',', engine='python', encoding=\"ISO-8859-1\")\n",
        "      ct_dt = ct_dt.append(tmp, ignore_index=True)\n",
        "  ct_dt['AllLocation'] = ct_dt['LocationCity'].str.lower().map(str) + ' | ' + ct_dt['LocationState'].str.lower().map(str) + ' | ' + ct_dt['LocationCountry'].str.lower().map(str)\n",
        "  print('Clinical Trials Data: ',ct_dt.shape, '\\n')\n",
        "\n",
        "  # Download User input data\n",
        "  print('Downloading Test data')\n",
        "  test = pd.read_csv('https://raw.githubusercontent.com/MWFK/NLP-Semantic-Similarity/main/ClinicalTrials/Data/TestData.csv', sep=';', engine='python', encoding = \"utf-8\", skiprows=[0], names=['PatientID','ConditionOrDisease','Age','Gender','LocationCountry','TravelDistance','InclusionCriteria'])\n",
        "  print('Test Data: ', test.shape)\n",
        "\n",
        "  return ct_dt, test\n",
        "\n",
        "ctdt, test = get_data()"
      ],
      "metadata": {
        "colab": {
          "base_uri": "https://localhost:8080/"
        },
        "id": "Z6rqL2IzTJpL",
        "outputId": "fa7bc3fb-0505-43e9-9d1b-bd46e3bf0aa6"
      },
      "execution_count": 24,
      "outputs": [
        {
          "output_type": "stream",
          "name": "stdout",
          "text": [
            "Downloading Clinical Trials Data\n",
            "Clinical Trials Data:  (10152, 21) \n",
            "\n",
            "Downloading Test data\n",
            "Test Data:  (7, 7)\n"
          ]
        }
      ]
    },
    {
      "cell_type": "markdown",
      "source": [
        "### Data Processing"
      ],
      "metadata": {
        "id": "FxiZBc12Toft"
      }
    },
    {
      "cell_type": "code",
      "source": [
        "# Strip Leading and Trailing Space\n",
        "def cleansing(data):\n",
        "  cols = data.select_dtypes(['object']).columns\n",
        "  data[cols] = data[cols].apply(lambda x: x.str.strip().fillna(''))\n",
        "  return data"
      ],
      "metadata": {
        "id": "QhcBjZvNrDv0"
      },
      "execution_count": 101,
      "outputs": []
    },
    {
      "cell_type": "code",
      "source": [
        "def data_filtering(ct_dt, test):\n",
        "\n",
        "  print('Data dimensions before Filtering : ', ct_dt.shape, '\\n')\n",
        "\n",
        "  ### Filtering by Age ###\n",
        "  print('Filtering by Age...')\n",
        "  tmp = ct_dt[ct_dt.iloc[:,13] <= test.iloc[0,2]]               # compare numerics\n",
        "  tmp = tmp[tmp.iloc[:,13].str.find(test.iloc[0,2][-5:]) != -1] # Detect the Year/Month\n",
        "  print('Data dimensions: ', tmp.shape, '\\n')\n",
        "\n",
        "  ### Filtering by Gender ###\n",
        "  print('Filtering by Gender...')\n",
        "  tmp = tmp[(tmp.iloc[:,12] == test.iloc[0,3]) | (tmp.iloc[:,12] == 'All')] \n",
        "  print('Data dimensions: ', tmp.shape, '\\n')\n",
        "\n",
        "  ### Filtering by Travel Distance ###\n",
        "  print('Filtering by Travel Distance...')\n",
        "  tmp = tmp[tmp.iloc[:,20].str.find(test.iloc[0,5].lower()) != -1] \n",
        "  print('Data dimensions: ', tmp.shape, '\\n')\n",
        "\n",
        "  return tmp\n",
        "\n",
        "# filtered = data_filtering(ctdt, test)"
      ],
      "metadata": {
        "id": "5MxUJCKCThPb"
      },
      "execution_count": 103,
      "outputs": []
    },
    {
      "cell_type": "markdown",
      "source": [
        "### Vectorize the Data"
      ],
      "metadata": {
        "id": "LaIuEMM6Tx5M"
      }
    },
    {
      "cell_type": "code",
      "source": [
        "def vectorization(test, filtered, ctdt):\n",
        "\n",
        "  ctdt['InclusionCriteria'] = ctdt['InclusionCriteria'].fillna(' ')\n",
        "  filtered['InclusionCriteria']   = filtered['InclusionCriteria'].fillna(' ')\n",
        "\n",
        "  cv          = CountVectorizer(stop_words='english')\n",
        "  cv_ctdt     = cv.fit(ctdt['InclusionCriteria'])\n",
        "\n",
        "  cv_filtered = cv_ctdt.transform(filtered['InclusionCriteria'])\n",
        "\n",
        "  cv_test0    = cv_ctdt.transform(test.iloc[:1,6].fillna(' '))\n",
        "\n",
        "  return cv_test0, cv_filtered\n",
        "\n",
        "\n",
        "# filtered = data_processing(ctdt)\n",
        "# cv_test0, cv_filtered = vectorization(test.iloc[:1,], filtered, ctdt)\n",
        "# filtered['Similarity'] = pd.Series(cosine_similarity(cv_test0, cv_filtered)[0]).values"
      ],
      "metadata": {
        "colab": {
          "base_uri": "https://localhost:8080/"
        },
        "id": "MI2X6OWYTr-t",
        "outputId": "f09a322b-73e5-4c3f-ccb3-dc6dd0e09880"
      },
      "execution_count": 4,
      "outputs": [
        {
          "output_type": "stream",
          "name": "stdout",
          "text": [
            "CPU times: user 3 µs, sys: 0 ns, total: 3 µs\n",
            "Wall time: 5.01 µs\n"
          ]
        }
      ]
    },
    {
      "cell_type": "markdown",
      "source": [
        "### Modeling"
      ],
      "metadata": {
        "id": "-ECddnVyUX1P"
      }
    },
    {
      "cell_type": "code",
      "source": [
        "def get_results(cv_test0, cv_filtered, filtered, ctdt):\n",
        "\n",
        "  filtered['Similarity'] = pd.Series(cosine_similarity(cv_test0, cv_filtered)[0]).values\n",
        "\n",
        "  ctdt_filtered = ctdt\n",
        "  ctdt_filtered['Similarity'] = 0\n",
        "  print('Dataset shape: ', ctdt_filtered.shape)\n",
        "  print('Filtered Dataset shape: ', filtered.shape)\n",
        "\n",
        "  # Take off the existing NCTId from the whole dataset then add the filter data to \n",
        "  ctdt_filtered = ctdt_filtered[~ctdt_filtered['NCTId'].isin(filtered['NCTId'])]\n",
        "  ctdt_filtered = ctdt_filtered.append(filtered, ignore_index=True)\n",
        "\n",
        "  print('\\nScore > 0 ', ctdt_filtered[ctdt_filtered['Similarity']>0].shape)\n",
        "  print('Score > 0.20', ctdt_filtered[ctdt_filtered['Similarity']>0.2].shape)\n",
        "  print('Score > 0.25', ctdt_filtered[ctdt_filtered['Similarity']>0.25].shape)\n",
        "  print('Score > 0.30', ctdt_filtered[ctdt_filtered['Similarity']>0.3].shape)\n",
        "\n",
        "  ctdt_filtered['Similarity'] = ctdt_filtered['Similarity'].apply(lambda score: score if score>0.2 else 0) # if score>0.25\n",
        "  ctdt_filtered = ctdt_filtered.sort_values(by=['Similarity'], ascending=False)\n",
        "\n",
        "  return ctdt_filtered\n",
        "\n",
        "  #get_results(cv_test0, cv_filtered, filtered, ctdt).head(2)"
      ],
      "metadata": {
        "id": "RKDeR0KUUPzm"
      },
      "execution_count": 5,
      "outputs": []
    },
    {
      "cell_type": "markdown",
      "source": [
        "### Execution Test"
      ],
      "metadata": {
        "id": "LTUdBYNXb_Ka"
      }
    },
    {
      "cell_type": "code",
      "source": [
        "# Get The Clinical Trials Data, and the Test data\n",
        "ctdt, test = get_data()\n",
        "\n",
        "# Clean Data\n",
        "ctdt = cleansing(ctdt)\n",
        "test = cleansing(test)\n",
        "\n",
        "# Filter the Clinical Trials Data based on the test data\n",
        "filtered = data_filtering(ctdt, test.iloc[4:5,])\n",
        "\n",
        "# Vectorize the filtered data and the test data\n",
        "cv_test0, cv_filtered = vectorization(test.iloc[4:5,], filtered, ctdt)\n",
        "\n",
        "# Get the final results and it's related stats\n",
        "get_results(cv_test0, cv_filtered, filtered, ctdt).head(2)"
      ],
      "metadata": {
        "colab": {
          "base_uri": "https://localhost:8080/",
          "height": 703
        },
        "id": "8Yc7adWYZikq",
        "outputId": "a15f9dad-0c5d-456b-d809-7465a1dc8327"
      },
      "execution_count": 102,
      "outputs": [
        {
          "output_type": "stream",
          "name": "stdout",
          "text": [
            "Downloading Clinical Trials Data\n",
            "Clinical Trials Data:  (10152, 21) \n",
            "\n",
            "Downloading Test data\n",
            "Test Data:  (7, 7)\n",
            "Data dimensions before Filtering :  (10152, 21) \n",
            "\n",
            "Filtering by Age...\n",
            "Data dimensions:  (9565, 21) \n",
            "\n",
            "Filtering by Gender...\n",
            "Data dimensions:  (9520, 21) \n",
            "\n",
            "Filtering by Travel Distance...\n",
            "Data dimensions:  (9520, 21) \n",
            "\n",
            "Dataset shape:  (10152, 22)\n",
            "Filtered Dataset shape:  (9520, 22)\n",
            "\n",
            "Score > 0  (9004, 22)\n",
            "Score > 0.20 (1371, 22)\n",
            "Score > 0.25 (449, 22)\n",
            "Score > 0.30 (87, 22)\n"
          ]
        },
        {
          "output_type": "execute_result",
          "data": {
            "text/html": [
              "\n",
              "  <div id=\"df-6c743782-6c6d-4198-a222-7b4f190d9199\">\n",
              "    <div class=\"colab-df-container\">\n",
              "      <div>\n",
              "<style scoped>\n",
              "    .dataframe tbody tr th:only-of-type {\n",
              "        vertical-align: middle;\n",
              "    }\n",
              "\n",
              "    .dataframe tbody tr th {\n",
              "        vertical-align: top;\n",
              "    }\n",
              "\n",
              "    .dataframe thead th {\n",
              "        text-align: right;\n",
              "    }\n",
              "</style>\n",
              "<table border=\"1\" class=\"dataframe\">\n",
              "  <thead>\n",
              "    <tr style=\"text-align: right;\">\n",
              "      <th></th>\n",
              "      <th>Rank</th>\n",
              "      <th>NCTId</th>\n",
              "      <th>OrgFullName</th>\n",
              "      <th>OfficialTitle</th>\n",
              "      <th>OverallStatus</th>\n",
              "      <th>Keyword</th>\n",
              "      <th>DetailedDescription</th>\n",
              "      <th>Condition</th>\n",
              "      <th>EligibilityCriteria</th>\n",
              "      <th>InclusionCriteria</th>\n",
              "      <th>ExclusionCriteria</th>\n",
              "      <th>HealthyVolunteers</th>\n",
              "      <th>Gender</th>\n",
              "      <th>MinimumAge</th>\n",
              "      <th>StudyPopulation</th>\n",
              "      <th>LocationFacility</th>\n",
              "      <th>LocationCity</th>\n",
              "      <th>LocationState</th>\n",
              "      <th>LocationZip</th>\n",
              "      <th>LocationCountry</th>\n",
              "      <th>AllLocation</th>\n",
              "      <th>Similarity</th>\n",
              "    </tr>\n",
              "  </thead>\n",
              "  <tbody>\n",
              "    <tr>\n",
              "      <th>968</th>\n",
              "      <td>379</td>\n",
              "      <td>NCT03084692</td>\n",
              "      <td>University of Alberta</td>\n",
              "      <td>Feasibility and Preliminary Efficacy of a Comb...</td>\n",
              "      <td>Completed</td>\n",
              "      <td>caregiver|lung cancer|yoga|resistance exercise</td>\n",
              "      <td>To determine the feasibility of a combined the...</td>\n",
              "      <td>Lung Cancer</td>\n",
              "      <td>Inclusion Criteria:||Diagnosis of Primary Lung...</td>\n",
              "      <td>Diagnosis of Primary Lung Cancer Stage I-IV (a...</td>\n",
              "      <td>Metastatic lung disease that would preclude sa...</td>\n",
              "      <td>Accepts Healthy Volunteers</td>\n",
              "      <td>All</td>\n",
              "      <td>18 Years</td>\n",
              "      <td></td>\n",
              "      <td>University of Alberta/ Cross Cancer Institute</td>\n",
              "      <td>Edmonton</td>\n",
              "      <td>Alberta</td>\n",
              "      <td>T6G 2G4</td>\n",
              "      <td>Canada</td>\n",
              "      <td>edmonton | alberta | canada</td>\n",
              "      <td>0.425430</td>\n",
              "    </tr>\n",
              "    <tr>\n",
              "      <th>2789</th>\n",
              "      <td>2303</td>\n",
              "      <td>NCT00312819</td>\n",
              "      <td>Hadassah Medical Organization</td>\n",
              "      <td>Randomized Phase 2 Trial of Treatment of Advan...</td>\n",
              "      <td>Completed</td>\n",
              "      <td>Non-small cel lung cancer|chemotherapy|randomi...</td>\n",
              "      <td>Metastatic non small cell lung cancer remains ...</td>\n",
              "      <td>Non-small Cell Lung Cancer</td>\n",
              "      <td>Inclusion Criteria:||Metastatic non-small cell...</td>\n",
              "      <td>Metastatic non-small cell lung cancer|Previous...</td>\n",
              "      <td>Over 18|Willingness to abstain from alcohol|No...</td>\n",
              "      <td>No</td>\n",
              "      <td>Female</td>\n",
              "      <td>18 Years</td>\n",
              "      <td></td>\n",
              "      <td>Oncology Institute Meir Medical Center</td>\n",
              "      <td>Kfar Saba</td>\n",
              "      <td></td>\n",
              "      <td></td>\n",
              "      <td>Israel</td>\n",
              "      <td>kfar saba | nan | israel</td>\n",
              "      <td>0.409946</td>\n",
              "    </tr>\n",
              "  </tbody>\n",
              "</table>\n",
              "</div>\n",
              "      <button class=\"colab-df-convert\" onclick=\"convertToInteractive('df-6c743782-6c6d-4198-a222-7b4f190d9199')\"\n",
              "              title=\"Convert this dataframe to an interactive table.\"\n",
              "              style=\"display:none;\">\n",
              "        \n",
              "  <svg xmlns=\"http://www.w3.org/2000/svg\" height=\"24px\"viewBox=\"0 0 24 24\"\n",
              "       width=\"24px\">\n",
              "    <path d=\"M0 0h24v24H0V0z\" fill=\"none\"/>\n",
              "    <path d=\"M18.56 5.44l.94 2.06.94-2.06 2.06-.94-2.06-.94-.94-2.06-.94 2.06-2.06.94zm-11 1L8.5 8.5l.94-2.06 2.06-.94-2.06-.94L8.5 2.5l-.94 2.06-2.06.94zm10 10l.94 2.06.94-2.06 2.06-.94-2.06-.94-.94-2.06-.94 2.06-2.06.94z\"/><path d=\"M17.41 7.96l-1.37-1.37c-.4-.4-.92-.59-1.43-.59-.52 0-1.04.2-1.43.59L10.3 9.45l-7.72 7.72c-.78.78-.78 2.05 0 2.83L4 21.41c.39.39.9.59 1.41.59.51 0 1.02-.2 1.41-.59l7.78-7.78 2.81-2.81c.8-.78.8-2.07 0-2.86zM5.41 20L4 18.59l7.72-7.72 1.47 1.35L5.41 20z\"/>\n",
              "  </svg>\n",
              "      </button>\n",
              "      \n",
              "  <style>\n",
              "    .colab-df-container {\n",
              "      display:flex;\n",
              "      flex-wrap:wrap;\n",
              "      gap: 12px;\n",
              "    }\n",
              "\n",
              "    .colab-df-convert {\n",
              "      background-color: #E8F0FE;\n",
              "      border: none;\n",
              "      border-radius: 50%;\n",
              "      cursor: pointer;\n",
              "      display: none;\n",
              "      fill: #1967D2;\n",
              "      height: 32px;\n",
              "      padding: 0 0 0 0;\n",
              "      width: 32px;\n",
              "    }\n",
              "\n",
              "    .colab-df-convert:hover {\n",
              "      background-color: #E2EBFA;\n",
              "      box-shadow: 0px 1px 2px rgba(60, 64, 67, 0.3), 0px 1px 3px 1px rgba(60, 64, 67, 0.15);\n",
              "      fill: #174EA6;\n",
              "    }\n",
              "\n",
              "    [theme=dark] .colab-df-convert {\n",
              "      background-color: #3B4455;\n",
              "      fill: #D2E3FC;\n",
              "    }\n",
              "\n",
              "    [theme=dark] .colab-df-convert:hover {\n",
              "      background-color: #434B5C;\n",
              "      box-shadow: 0px 1px 3px 1px rgba(0, 0, 0, 0.15);\n",
              "      filter: drop-shadow(0px 1px 2px rgba(0, 0, 0, 0.3));\n",
              "      fill: #FFFFFF;\n",
              "    }\n",
              "  </style>\n",
              "\n",
              "      <script>\n",
              "        const buttonEl =\n",
              "          document.querySelector('#df-6c743782-6c6d-4198-a222-7b4f190d9199 button.colab-df-convert');\n",
              "        buttonEl.style.display =\n",
              "          google.colab.kernel.accessAllowed ? 'block' : 'none';\n",
              "\n",
              "        async function convertToInteractive(key) {\n",
              "          const element = document.querySelector('#df-6c743782-6c6d-4198-a222-7b4f190d9199');\n",
              "          const dataTable =\n",
              "            await google.colab.kernel.invokeFunction('convertToInteractive',\n",
              "                                                     [key], {});\n",
              "          if (!dataTable) return;\n",
              "\n",
              "          const docLinkHtml = 'Like what you see? Visit the ' +\n",
              "            '<a target=\"_blank\" href=https://colab.research.google.com/notebooks/data_table.ipynb>data table notebook</a>'\n",
              "            + ' to learn more about interactive tables.';\n",
              "          element.innerHTML = '';\n",
              "          dataTable['output_type'] = 'display_data';\n",
              "          await google.colab.output.renderOutput(dataTable, element);\n",
              "          const docLink = document.createElement('div');\n",
              "          docLink.innerHTML = docLinkHtml;\n",
              "          element.appendChild(docLink);\n",
              "        }\n",
              "      </script>\n",
              "    </div>\n",
              "  </div>\n",
              "  "
            ],
            "text/plain": [
              "      Rank        NCTId  ...                  AllLocation Similarity\n",
              "968    379  NCT03084692  ...  edmonton | alberta | canada   0.425430\n",
              "2789  2303  NCT00312819  ...     kfar saba | nan | israel   0.409946\n",
              "\n",
              "[2 rows x 22 columns]"
            ]
          },
          "metadata": {},
          "execution_count": 102
        }
      ]
    },
    {
      "cell_type": "markdown",
      "source": [
        "### Exporting Results"
      ],
      "metadata": {
        "id": "6pgkDkE0Vgqk"
      }
    },
    {
      "cell_type": "code",
      "source": [
        "# Get The Clinical Trials Data, and the Test data\n",
        "ctdt, test = get_data()\n",
        "\n",
        "# Clean Data\n",
        "ctdt = cleansing(ctdt)\n",
        "test = cleansing(test)\n",
        "\n",
        "for index, row in test.iterrows():\n",
        "\n",
        "    #print(index, row['InclusionCriteria'])\n",
        "    print('\\n###################################')\n",
        "    print('Processing the user input: [', index,']')\n",
        "    print('###################################\\n')\n",
        "\n",
        "    # Filter the Clinical Trials Data based on the test data\n",
        "    filtered = data_filtering(ctdt, test.iloc[index:index+1,])\n",
        "\n",
        "    # Vectorize the filtered data and the test data\n",
        "    cv_test0, cv_filtered = vectorization(test.iloc[index:index+1,], filtered, ctdt)\n",
        "\n",
        "    # Get the final results and it's related stats\n",
        "    get_results(cv_test0, cv_filtered, filtered, ctdt).to_excel('/content/'+str(index)+'.xlsx')"
      ],
      "metadata": {
        "colab": {
          "base_uri": "https://localhost:8080/"
        },
        "id": "dOa7GWOdVjiN",
        "outputId": "03099c44-a0f1-4f6b-cf19-f427ea961f30"
      },
      "execution_count": 107,
      "outputs": [
        {
          "output_type": "stream",
          "name": "stdout",
          "text": [
            "Downloading Clinical Trials Data\n",
            "Clinical Trials Data:  (10152, 21) \n",
            "\n",
            "Downloading Test data\n",
            "Test Data:  (7, 7)\n",
            "\n",
            "###################################\n",
            "Processing the user input: [ 0 ]\n",
            "###################################\n",
            "\n",
            "Data dimensions before Filtering :  (10152, 21) \n",
            "\n",
            "Filtering by Age...\n",
            "Data dimensions:  (9517, 21) \n",
            "\n",
            "Filtering by Gender...\n",
            "Data dimensions:  (9403, 21) \n",
            "\n",
            "Filtering by Travel Distance...\n",
            "Data dimensions:  (645, 21) \n",
            "\n",
            "Dataset shape:  (10152, 22)\n",
            "Filtered Dataset shape:  (645, 22)\n",
            "\n",
            "Score > 0  (615, 22)\n",
            "Score > 0.20 (93, 22)\n",
            "Score > 0.25 (29, 22)\n",
            "Score > 0.30 (10, 22)\n",
            "\n",
            "###################################\n",
            "Processing the user input: [ 1 ]\n",
            "###################################\n",
            "\n",
            "Data dimensions before Filtering :  (10152, 22) \n",
            "\n",
            "Filtering by Age...\n",
            "Data dimensions:  (9173, 22) \n",
            "\n",
            "Filtering by Gender...\n",
            "Data dimensions:  (9138, 22) \n",
            "\n",
            "Filtering by Travel Distance...\n",
            "Data dimensions:  (372, 22) \n",
            "\n",
            "Dataset shape:  (10152, 22)\n",
            "Filtered Dataset shape:  (372, 22)\n",
            "\n",
            "Score > 0  (363, 22)\n",
            "Score > 0.20 (7, 22)\n",
            "Score > 0.25 (1, 22)\n",
            "Score > 0.30 (0, 22)\n",
            "\n",
            "###################################\n",
            "Processing the user input: [ 2 ]\n",
            "###################################\n",
            "\n",
            "Data dimensions before Filtering :  (10152, 22) \n",
            "\n",
            "Filtering by Age...\n",
            "Data dimensions:  (9650, 22) \n",
            "\n",
            "Filtering by Gender...\n",
            "Data dimensions:  (9535, 22) \n",
            "\n",
            "Filtering by Travel Distance...\n",
            "Data dimensions:  (68, 22) \n",
            "\n",
            "Dataset shape:  (10152, 22)\n",
            "Filtered Dataset shape:  (68, 22)\n",
            "\n",
            "Score > 0  (66, 22)\n",
            "Score > 0.20 (4, 22)\n",
            "Score > 0.25 (1, 22)\n",
            "Score > 0.30 (0, 22)\n",
            "\n",
            "###################################\n",
            "Processing the user input: [ 3 ]\n",
            "###################################\n",
            "\n",
            "Data dimensions before Filtering :  (10152, 22) \n",
            "\n",
            "Filtering by Age...\n",
            "Data dimensions:  (105, 22) \n",
            "\n",
            "Filtering by Gender...\n",
            "Data dimensions:  (104, 22) \n",
            "\n",
            "Filtering by Travel Distance...\n",
            "Data dimensions:  (23, 22) \n",
            "\n",
            "Dataset shape:  (10152, 22)\n",
            "Filtered Dataset shape:  (23, 22)\n",
            "\n",
            "Score > 0  (22, 22)\n",
            "Score > 0.20 (2, 22)\n",
            "Score > 0.25 (0, 22)\n",
            "Score > 0.30 (0, 22)\n",
            "\n",
            "###################################\n",
            "Processing the user input: [ 4 ]\n",
            "###################################\n",
            "\n",
            "Data dimensions before Filtering :  (10152, 22) \n",
            "\n",
            "Filtering by Age...\n",
            "Data dimensions:  (9565, 22) \n",
            "\n",
            "Filtering by Gender...\n",
            "Data dimensions:  (9520, 22) \n",
            "\n",
            "Filtering by Travel Distance...\n",
            "Data dimensions:  (9520, 22) \n",
            "\n",
            "Dataset shape:  (10152, 22)\n",
            "Filtered Dataset shape:  (9520, 22)\n",
            "\n",
            "Score > 0  (9004, 22)\n",
            "Score > 0.20 (1371, 22)\n",
            "Score > 0.25 (449, 22)\n",
            "Score > 0.30 (87, 22)\n",
            "\n",
            "###################################\n",
            "Processing the user input: [ 5 ]\n",
            "###################################\n",
            "\n",
            "Data dimensions before Filtering :  (10152, 22) \n",
            "\n",
            "Filtering by Age...\n",
            "Data dimensions:  (9565, 22) \n",
            "\n",
            "Filtering by Gender...\n",
            "Data dimensions:  (9451, 22) \n",
            "\n",
            "Filtering by Travel Distance...\n",
            "Data dimensions:  (471, 22) \n",
            "\n",
            "Dataset shape:  (10152, 22)\n",
            "Filtered Dataset shape:  (471, 22)\n",
            "\n",
            "Score > 0  (462, 22)\n",
            "Score > 0.20 (15, 22)\n",
            "Score > 0.25 (1, 22)\n",
            "Score > 0.30 (0, 22)\n",
            "\n",
            "###################################\n",
            "Processing the user input: [ 6 ]\n",
            "###################################\n",
            "\n",
            "Data dimensions before Filtering :  (10152, 22) \n",
            "\n",
            "Filtering by Age...\n",
            "Data dimensions:  (9212, 22) \n",
            "\n",
            "Filtering by Gender...\n",
            "Data dimensions:  (9175, 22) \n",
            "\n",
            "Filtering by Travel Distance...\n",
            "Data dimensions:  (9175, 22) \n",
            "\n",
            "Dataset shape:  (10152, 22)\n",
            "Filtered Dataset shape:  (9175, 22)\n",
            "\n",
            "Score > 0  (8719, 22)\n",
            "Score > 0.20 (626, 22)\n",
            "Score > 0.25 (119, 22)\n",
            "Score > 0.30 (15, 22)\n"
          ]
        }
      ]
    }
  ]
}