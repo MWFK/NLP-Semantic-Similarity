{
  "nbformat": 4,
  "nbformat_minor": 0,
  "metadata": {
    "colab": {
      "name": "03-  InclusionCriteria N-Grams Frequencies.ipynb",
      "provenance": [],
      "authorship_tag": "ABX9TyMcfYDMmeY6oezo/LipewA2",
      "include_colab_link": true
    },
    "kernelspec": {
      "name": "python3",
      "display_name": "Python 3"
    },
    "language_info": {
      "name": "python"
    }
  },
  "cells": [
    {
      "cell_type": "markdown",
      "metadata": {
        "id": "view-in-github",
        "colab_type": "text"
      },
      "source": [
        "<a href=\"https://colab.research.google.com/github/MWFK/NLP-Semantic-Similarity/blob/main/ClinicalTrials/Data%20Engineering/03.%20InclusionCriteria%20N-Grams%20Frequencies.ipynb\" target=\"_parent\"><img src=\"https://colab.research.google.com/assets/colab-badge.svg\" alt=\"Open In Colab\"/></a>"
      ]
    },
    {
      "cell_type": "code",
      "execution_count": 37,
      "metadata": {
        "colab": {
          "base_uri": "https://localhost:8080/"
        },
        "id": "wRDeRGYp_kQD",
        "outputId": "065bdc7c-2d6f-439f-c9d4-666f3c2a7c9c"
      },
      "outputs": [
        {
          "output_type": "stream",
          "name": "stdout",
          "text": [
            "[nltk_data] Downloading package punkt to /root/nltk_data...\n",
            "[nltk_data]   Package punkt is already up-to-date!\n",
            "[nltk_data] Downloading package stopwords to /root/nltk_data...\n",
            "[nltk_data]   Package stopwords is already up-to-date!\n",
            "[nltk_data] Downloading package wordnet to /root/nltk_data...\n",
            "[nltk_data]   Package wordnet is already up-to-date!\n",
            "[nltk_data] Downloading package averaged_perceptron_tagger to\n",
            "[nltk_data]     /root/nltk_data...\n",
            "[nltk_data]   Package averaged_perceptron_tagger is already up-to-\n",
            "[nltk_data]       date!\n"
          ]
        }
      ],
      "source": [
        "import re\n",
        "import pandas as pd\n",
        "# pd.set_option('display.max_columns', None)  \n",
        "# pd.set_option('display.max_colwidth', None)\n",
        "import requests\n",
        "from itertools import compress\n",
        "from requests.adapters import HTTPAdapter\n",
        "from requests.packages.urllib3.util.retry import Retry\n",
        "\n",
        "import string\n",
        "import nltk\n",
        "nltk.download('punkt')\n",
        "nltk.download('stopwords')\n",
        "nltk.download('wordnet')\n",
        "nltk.download('averaged_perceptron_tagger')\n",
        "from nltk.util import ngrams\n",
        "from nltk.tokenize import word_tokenize\n",
        "from nltk.corpus import stopwords\n",
        "from nltk.stem import WordNetLemmatizer\n",
        "lemmatizer = WordNetLemmatizer()\n",
        "from nltk.corpus import wordnet\n",
        "\n",
        "from google.colab import files"
      ]
    },
    {
      "cell_type": "code",
      "source": [
        "####### Search Expression #######\n",
        "# None\n",
        "\n",
        "####### Study Fields #######\n",
        "# NCTId,BriefTitle,Condition,Keyword,EligibilityCriteria \t\n",
        "\n",
        "####### New Fields to add #######\n",
        "# LocationStatus, Phase\n",
        "\n",
        "####### Range Min_MAX ######\n",
        "# 1 to 1000\n",
        "\n",
        "####### Format #######\n",
        "# CSV\n",
        "\n",
        "url = 'https://clinicaltrials.gov/api/query/study_fields?expr=&fields=NCTId%2CBriefTitle%2CCondition%2CKeyword%2CEligibilityCriteria+%09&min_rnk=1&max_rnk=1000&fmt=csv'\n",
        "session = requests.Session()\n",
        "retry   = Retry(connect=3, backoff_factor=0.5)\n",
        "adapter = HTTPAdapter(max_retries=retry)\n",
        "session.mount('http://' , adapter)\n",
        "session.mount('https://', adapter)\n",
        "\n",
        "clinicaltrials = session.get(url)\n",
        "print('Download Request Status: ', clinicaltrials.status_code)\n",
        "\n",
        "csv_file = open('/content/'+str(1)+'-batch.csv', 'wb')\n",
        "csv_file.write(clinicaltrials.content)\n",
        "csv_file.close()\n",
        "\n",
        "df = pd.read_csv(r'/content/1-batch.csv', skiprows=10)\n",
        "print(df.shape)\n",
        "df.head()"
      ],
      "metadata": {
        "colab": {
          "base_uri": "https://localhost:8080/",
          "height": 243
        },
        "id": "v9SO00INC7Nv",
        "outputId": "32264b3a-30d5-41e7-8a30-bcf671a2c0a3"
      },
      "execution_count": 2,
      "outputs": [
        {
          "output_type": "stream",
          "name": "stdout",
          "text": [
            "Download Request Status:  200\n",
            "(1000, 6)\n"
          ]
        },
        {
          "output_type": "execute_result",
          "data": {
            "text/html": [
              "\n",
              "  <div id=\"df-a317e5d9-1b34-4233-874d-1b3bdab90643\">\n",
              "    <div class=\"colab-df-container\">\n",
              "      <div>\n",
              "<style scoped>\n",
              "    .dataframe tbody tr th:only-of-type {\n",
              "        vertical-align: middle;\n",
              "    }\n",
              "\n",
              "    .dataframe tbody tr th {\n",
              "        vertical-align: top;\n",
              "    }\n",
              "\n",
              "    .dataframe thead th {\n",
              "        text-align: right;\n",
              "    }\n",
              "</style>\n",
              "<table border=\"1\" class=\"dataframe\">\n",
              "  <thead>\n",
              "    <tr style=\"text-align: right;\">\n",
              "      <th></th>\n",
              "      <th>Rank</th>\n",
              "      <th>NCTId</th>\n",
              "      <th>BriefTitle</th>\n",
              "      <th>Condition</th>\n",
              "      <th>Keyword</th>\n",
              "      <th>EligibilityCriteria</th>\n",
              "    </tr>\n",
              "  </thead>\n",
              "  <tbody>\n",
              "    <tr>\n",
              "      <th>0</th>\n",
              "      <td>1</td>\n",
              "      <td>NCT05237167</td>\n",
              "      <td>Time to Diagnosis of Glenohumeral Joint Disloc...</td>\n",
              "      <td>Glenohumeral Dislocation</td>\n",
              "      <td>glenohumeral dislocation|POC Ultrasound|Plain ...</td>\n",
              "      <td>Inclusion Criteria:||Adult patients (19 and ol...</td>\n",
              "    </tr>\n",
              "    <tr>\n",
              "      <th>1</th>\n",
              "      <td>2</td>\n",
              "      <td>NCT05237154</td>\n",
              "      <td>Intermittent Fasting and Exercise: Effects on ...</td>\n",
              "      <td>Composition and Function of the Gut Microbiota...</td>\n",
              "      <td>Obesity|Gut microbiota|Intermittent fasting|Hi...</td>\n",
              "      <td>Inclusion criteria:||Age between 18 and 40 yea...</td>\n",
              "    </tr>\n",
              "    <tr>\n",
              "      <th>2</th>\n",
              "      <td>3</td>\n",
              "      <td>NCT05237141</td>\n",
              "      <td>Etonogestrel Implant as Emergency Contraception</td>\n",
              "      <td>Contraception</td>\n",
              "      <td>NaN</td>\n",
              "      <td>Inclusion Criteria:||BMI less than or equal to...</td>\n",
              "    </tr>\n",
              "    <tr>\n",
              "      <th>3</th>\n",
              "      <td>4</td>\n",
              "      <td>NCT05237128</td>\n",
              "      <td>The Lifestyle Education About Nutrition for Di...</td>\n",
              "      <td>Type 2 Diabetes</td>\n",
              "      <td>Very low-carbohydrate diet|Moderate-carbohydra...</td>\n",
              "      <td>Inclusion Criteria:||diagnosis of type 2 diabe...</td>\n",
              "    </tr>\n",
              "    <tr>\n",
              "      <th>4</th>\n",
              "      <td>5</td>\n",
              "      <td>NCT05237115</td>\n",
              "      <td>Helicobacter Pylori Eradication With Probiotic...</td>\n",
              "      <td>Gastritis|Peptic Ulcer|Dyspepsia</td>\n",
              "      <td>Helicobacter pylori|Probiotics-combining tripl...</td>\n",
              "      <td>Inclusion Criteria:||Age between 18~75,both ge...</td>\n",
              "    </tr>\n",
              "  </tbody>\n",
              "</table>\n",
              "</div>\n",
              "      <button class=\"colab-df-convert\" onclick=\"convertToInteractive('df-a317e5d9-1b34-4233-874d-1b3bdab90643')\"\n",
              "              title=\"Convert this dataframe to an interactive table.\"\n",
              "              style=\"display:none;\">\n",
              "        \n",
              "  <svg xmlns=\"http://www.w3.org/2000/svg\" height=\"24px\"viewBox=\"0 0 24 24\"\n",
              "       width=\"24px\">\n",
              "    <path d=\"M0 0h24v24H0V0z\" fill=\"none\"/>\n",
              "    <path d=\"M18.56 5.44l.94 2.06.94-2.06 2.06-.94-2.06-.94-.94-2.06-.94 2.06-2.06.94zm-11 1L8.5 8.5l.94-2.06 2.06-.94-2.06-.94L8.5 2.5l-.94 2.06-2.06.94zm10 10l.94 2.06.94-2.06 2.06-.94-2.06-.94-.94-2.06-.94 2.06-2.06.94z\"/><path d=\"M17.41 7.96l-1.37-1.37c-.4-.4-.92-.59-1.43-.59-.52 0-1.04.2-1.43.59L10.3 9.45l-7.72 7.72c-.78.78-.78 2.05 0 2.83L4 21.41c.39.39.9.59 1.41.59.51 0 1.02-.2 1.41-.59l7.78-7.78 2.81-2.81c.8-.78.8-2.07 0-2.86zM5.41 20L4 18.59l7.72-7.72 1.47 1.35L5.41 20z\"/>\n",
              "  </svg>\n",
              "      </button>\n",
              "      \n",
              "  <style>\n",
              "    .colab-df-container {\n",
              "      display:flex;\n",
              "      flex-wrap:wrap;\n",
              "      gap: 12px;\n",
              "    }\n",
              "\n",
              "    .colab-df-convert {\n",
              "      background-color: #E8F0FE;\n",
              "      border: none;\n",
              "      border-radius: 50%;\n",
              "      cursor: pointer;\n",
              "      display: none;\n",
              "      fill: #1967D2;\n",
              "      height: 32px;\n",
              "      padding: 0 0 0 0;\n",
              "      width: 32px;\n",
              "    }\n",
              "\n",
              "    .colab-df-convert:hover {\n",
              "      background-color: #E2EBFA;\n",
              "      box-shadow: 0px 1px 2px rgba(60, 64, 67, 0.3), 0px 1px 3px 1px rgba(60, 64, 67, 0.15);\n",
              "      fill: #174EA6;\n",
              "    }\n",
              "\n",
              "    [theme=dark] .colab-df-convert {\n",
              "      background-color: #3B4455;\n",
              "      fill: #D2E3FC;\n",
              "    }\n",
              "\n",
              "    [theme=dark] .colab-df-convert:hover {\n",
              "      background-color: #434B5C;\n",
              "      box-shadow: 0px 1px 3px 1px rgba(0, 0, 0, 0.15);\n",
              "      filter: drop-shadow(0px 1px 2px rgba(0, 0, 0, 0.3));\n",
              "      fill: #FFFFFF;\n",
              "    }\n",
              "  </style>\n",
              "\n",
              "      <script>\n",
              "        const buttonEl =\n",
              "          document.querySelector('#df-a317e5d9-1b34-4233-874d-1b3bdab90643 button.colab-df-convert');\n",
              "        buttonEl.style.display =\n",
              "          google.colab.kernel.accessAllowed ? 'block' : 'none';\n",
              "\n",
              "        async function convertToInteractive(key) {\n",
              "          const element = document.querySelector('#df-a317e5d9-1b34-4233-874d-1b3bdab90643');\n",
              "          const dataTable =\n",
              "            await google.colab.kernel.invokeFunction('convertToInteractive',\n",
              "                                                     [key], {});\n",
              "          if (!dataTable) return;\n",
              "\n",
              "          const docLinkHtml = 'Like what you see? Visit the ' +\n",
              "            '<a target=\"_blank\" href=https://colab.research.google.com/notebooks/data_table.ipynb>data table notebook</a>'\n",
              "            + ' to learn more about interactive tables.';\n",
              "          element.innerHTML = '';\n",
              "          dataTable['output_type'] = 'display_data';\n",
              "          await google.colab.output.renderOutput(dataTable, element);\n",
              "          const docLink = document.createElement('div');\n",
              "          docLink.innerHTML = docLinkHtml;\n",
              "          element.appendChild(docLink);\n",
              "        }\n",
              "      </script>\n",
              "    </div>\n",
              "  </div>\n",
              "  "
            ],
            "text/plain": [
              "   Rank  ...                                EligibilityCriteria\n",
              "0     1  ...  Inclusion Criteria:||Adult patients (19 and ol...\n",
              "1     2  ...  Inclusion criteria:||Age between 18 and 40 yea...\n",
              "2     3  ...  Inclusion Criteria:||BMI less than or equal to...\n",
              "3     4  ...  Inclusion Criteria:||diagnosis of type 2 diabe...\n",
              "4     5  ...  Inclusion Criteria:||Age between 18~75,both ge...\n",
              "\n",
              "[5 rows x 6 columns]"
            ]
          },
          "metadata": {},
          "execution_count": 2
        }
      ]
    },
    {
      "cell_type": "code",
      "source": [
        "# Convert the EligibilityCriteria to string then lowercase\n",
        "EligibilityCriteria = df['EligibilityCriteria'].astype(str).str.lower().tolist()\n",
        "EligibilityCriteria[:10]"
      ],
      "metadata": {
        "colab": {
          "base_uri": "https://localhost:8080/"
        },
        "id": "U0KqEf99C8af",
        "outputId": "f9e761a6-e894-487f-eb6b-e7e9b1fa62a4"
      },
      "execution_count": 3,
      "outputs": [
        {
          "output_type": "execute_result",
          "data": {
            "text/plain": [
              "['inclusion criteria:||adult patients (19 and older in state of nebraska) who present to the emergency department with shoulder pain/injury and potential shoulder dislocation||exclusion criteria:||injury sustained in major traumatic event (trauma activation), unable to consent, in extremis, less then 19 years of age',\n",
              " 'inclusion criteria:||age between 18 and 40 years;|women;|have a regular menstrual cycle;|body weight below 120 kg;|bmi between 30 kg/m2 and 40 kg/m2.||exclusion criteria:||individuals with any disease;|smokers;|alcoholics;|use regular medication;|medical impediment to the practice of physical activities;|carry out nutritional monitoring;|being in treatment for weight loss;|present some discomfort in long periods of fasting.',\n",
              " 'inclusion criteria:||bmi less than or equal to 28kg/m2|intact uterus with at least one ovary|regular menstrual cycles that occur every 21-35 days|if patient is postpartum or post-second trimester abortion, 3 menses (2 cycles) must have occurred prior to enrollment|if patient had a first trimester abortion or pregnancy loss, she must have one spontaneous menses prior to enrollment|desires insertion of an etonogestrel contraceptive implant for contraception|not currently pregnant or trying to become pregnant|willing to abstain from medications and supplements known to induce/inhibit cyp3a4 during the study||exclusion criteria:||have a known hypersensitivity or contraindications to etonogestrel.|medical conditions that affect liver function (e.g., hepatitis, cirrhosis; assessed via participant self-report)|known or suspected current alcohol dependence syndrome or any illicit drug use that may affect the metabolism of the etonogestrel.|uncontrolled thyroid disorder.|use of long-acting injectable hormonal contraceptive within the past 9 months|current use of hormonal oral, patch, intravaginal, or intrauterine contraception',\n",
              " \"inclusion criteria:||diagnosis of type 2 diabetes, with current hba1c > 6.5% and < 12% (self-reported and then measured at screening)|ability to speak english (this is a group-based intervention)|ability to engage in light physical activity|willingness to be randomized to either type of diet||exclusion criteria:||unable to provide informed consent|substance abuse, mental health, cognitive, or medical condition that would, in the opinion of the investigators, make it difficult for the individual to take part in the intervention or may alter key outcomes or require important diet modifications|pregnant or planning to become pregnant in the next 12 months, or currently breastfeeding (pregnancy and breastfeeding require modifications to the intervention's dietary approaches)|current use of weight loss medications (this is likely to alter weight outcomes and may alter other measures)|history of weight loss (bariatric) surgery or plans for bariatric surgery in the next year|currently enrolled in a weight loss program or have unalterable plans to enroll in one of these programs in the next year|vegan or vegetarian|unwilling or unable to participate in study measurements and group classes|current use of systemic steroids or immunomodulators (self-reported in screening survey; oral or iv systemic steroids excluded. injected steroids may be permitted depending on frequency and timing of injections with regard to lab assessments (minimum of 2 weeks between injection and blood tests))|weight above 400 pounds (weight limit for dual-energy x-ray absorptiometry (dexa) scans)|history of kidney stones|currently following a very low-carbohydrate diet\",\n",
              " \"inclusion criteria:||age between 18~75,both gender.|patients with upper gastrointestinal symptoms and with documented h.pylori infection.|patients are willing to receive eradication treatment.|women are eligible if they are not pregnant or nursing, and if they are of childbearing potential they are required to use medically acceptable contraception for the duration of the study and 30 days thereafter.||exclusion criteria:||patients are excluded if they have previously used antibiotics to eradicate adequately recorded infection with h. pylori.|contraindications or allergies to research drugs.|substantial organ impairment(eg liver cirrhosis, uremia, etc.), severe or unstable cardiopulmonary or endocrine disease.|constant use of anti-ulcer drugs ( including taking proton-pump. inhibitors(ppi) within 2 weeks before the [13c] urea breath test), antibiotics or bismuth complexes (more than 3 times /1 month before screening).|definite diagnosis of gastroduodenal ulcer and malt's lymphoma.|pregnant or lactating women.|underwent upper gastrointestinal surgery.|highly atypical hyperplasia, have symptom of dysphagia.|evidence of bleeding or iron eficiency anemia.|a history of malignancy.|drug or alcohol abuse history in the past 1 year.|systemic use of corticosteroids, non steroidal anti-inflammatory drugs, anticoagulants, platelet aggregation inhibitors (except the use of aspirin for less than 100 mg/d).|a person with a mental disorder|enrolled in other clinical trials in the past 3 months.|refusal to sign informed consent.\",\n",
              " \"inclusion criteria:||age ≥18, gender is not limited.|patients with traffic hydrocephalus caused by various reasons, including atmospheric hydrocephalus, who need cerebrospinal fluid shunt and meet the surgical indications to a certain extent.|typical imaging manifestations of hydrocephalus patients.|clinical manifestations of consciousness disorder.|whether or not you can participate in the study will be decided after a doctor's examination.||exclusion criteria:||patients with mental or motor disorders, such as alzheimer's disease, schizophrenia, and parkinson's disease.|patients with abnormal coagulation mechanism or receiving treatment with thrombolysis agent, anticoagulant or platelet coagulant inhibitor and hemophilia.|patients with serious diseases of other systems, such as serious diseases of blood system, respiratory system, digestive system, urinary system and immune system, as well as patients with mental disorders and recent history of intracranial infection.|patients with a known disease causing ventricle enlargement.|female patients in pregnancy and lactation.|other circumstances in which the doctor judges that he cannot participate in the test.|the subject himself or his legal representative refuses to participate in the clinical trial. whether you are suitable to participate in this study needs the final decision after doctor's examination.\",\n",
              " 'inclusion criteria:||male or female participants aged 18-65;|participant whose bmi is ≥30.0 and ≤45.0 kg/m2;|participants with stable weight within 3 months before the start of the trial, fluctuated within 4 kg;|participants who voluntarily agree with the investigation and sign a written informed consent form for the clinical trial.||exclusion criteria:||patients with secondary obesity caused by drugs or neuro-endocrine-metabolic disorders (such as hypothalamic disease and hypopituitarism);|patients who have been clearly diagnosed with type i or type ii diabetes;|patients who are taking medication which may affect the results of the trial.|patients whose hamilton 17-item depression scale (hamd-17) score >18;|patients with severe ulcer, abscess and skin infection at the local acupuncture area;|patients with severe diseases of multiple organs, such as heart, brain, lungs, liver, kidneys, hematopoietic system or other serious diseases;|participants who have joined in other clinical trials or studies within the past 1 month;|pregnant or lactating women.',\n",
              " \"inclusion criteria||in order to be eligible to participate in this study, a subject must meet all of the following criteria:||18 years and older|subjects must be willing to give written informed consent for the trial and able to adhere to dose and visit schedule.|non-insulin-dependent diabetes mellitus (niddm) or healthy sex, age (± 3 yrs) and bmi (± 3 kg/m2) matched controls.|have no clinical or electrocardiographic signs of ischemic heart disease as determined by the investigator with normal cardiac intervals appropriate for their gender. the screening 12 lead ecg conduction intervals must be within gender specific normal range (e.g., qtcf ≤ 430 msec, pr interval ≤ 220 msec). ecgs are to be judged by the investigator or sub investigator as per standardized procedures.||vital sign measurements must be within the following ranges: (individuals with values outside (or indicate lower or higher) of these ranges may be enrolled if clinically acceptable to the investigator and sponsor.||body temperature, between 35.5°c and 37.5°c|systolic blood pressure, 90 to 150 mmhg|diastolic blood pressure, 40 to 95 mmhg|pulse rate, 40 to 100 bpm|subjects must be free of any clinically significant disease that would interfere with the study evaluations.|subjects presenting out of range values of lab/ecg/vital signs compatible with normal variation of the normal healthy subject can be included in the study at the investigator's discretion and sponsor written approval.|positive allen's test|fitzpatrick skin type i or ii||a potential subject who meets any of the following criteria will be excluded from participation in this study:||insulin dependent diabetes mellitus|diagnosed obstructive sleep apnea (osas) or high suspicion of osas determined by a stop-bang score > 5|respiratory or cardiovascular disease|smoking/vaping|positive pregnancy test|conditions that result in elevated levels of methaemoglobinia|body mass index > 35 kg/m2|use of illicit drugs|use of prescription opioids or benzodiazepines|failure of the drug of abuse tests at screening or check-in.|history of dyspnea, asthma, tuberculosis, chronic obstructive pulmonary disease, or any other ventilatory / lung disease.|subjects with excessive facial hair preventing sealing of the occlusive face mask.|subjects who, in the opinion of the investigator, will not be able to participate optimally in the study.|subject who has a history of any infectious disease within 4 weeks prior to drug administration that in the opinion of the investigator, affects the subject's ability to participate in the trial.|subjects who are part of the study staff personnel or family members of the study staff personnel.|subjects who have demonstrated allergic reactions (e.g., food, drug, atopic reactions or asthmatic episodes) which, in the opinion of the investigator and sponsor, interfere with their ability to participate in the trial.|personal or family history of arrhythmias or ecg conductance abnormalities.|hypokalemia defined as <3.5 mmol/l\",\n",
              " 'inclusion criteria:||adults (≥18 years old), male or female ,|persons able to understand and object to the information provided (at the discretion of the investigator)|patient affiliated to social security|patient agreeing to sign the informed consent form|patient having presented at least one renal colic attack before inclusion||exclusion criteria:||pregnant or breastfeeding woman.|persons deprived of liberty,|adults under legal protection guardianship, or curators or unable to express their consent.|patient refusing to participate in the study|patient in an emergency situation',\n",
              " 'inclusion criteria:||aged between 30 and 60|fibromyalgia diagnosed according to the criteria of the combined widespread pain index (wpi) and the symptom severity scale (sss) of the american college of rheumatology ; and this whatever the previous analgesic medication and whatever the symptomatology|able to express her consent prior to participation in the study|affiliated to or beneficiary of a social security regimen||exclusion criteria:||total deafness in one or both ears (patients with age-related presbycusis can be included)|pregnant women|patient under judicial protection (guardianship, curatorship...) or safeguard of justice']"
            ]
          },
          "metadata": {},
          "execution_count": 3
        }
      ]
    },
    {
      "cell_type": "markdown",
      "source": [
        "### N-Grams Frequencies"
      ],
      "metadata": {
        "id": "2Yntf8YdJtoL"
      }
    },
    {
      "cell_type": "code",
      "source": [
        "text = 'this is a foo bar sentences and this is my objective : to ngramize it'\n",
        "ngram = 2 # 15 is the longest sequence, 16 gives an empty list, 17 raises an iteration error\n",
        "print(word_tokenize(text))\n",
        "#nltk.FreqDist(text.split())"
      ],
      "metadata": {
        "colab": {
          "base_uri": "https://localhost:8080/"
        },
        "id": "dSOnAc0gMEJn",
        "outputId": "657af25c-fb18-431a-9c57-1a27975b887b"
      },
      "execution_count": 4,
      "outputs": [
        {
          "output_type": "stream",
          "name": "stdout",
          "text": [
            "['this', 'is', 'a', 'foo', 'bar', 'sentences', 'and', 'this', 'is', 'my', 'objective', ':', 'to', 'ngramize', 'it']\n"
          ]
        }
      ]
    },
    {
      "cell_type": "code",
      "source": [
        "def ngrams_split(text, ngram):\n",
        "    n_grams = ngrams(word_tokenize(text), ngram)\n",
        "    return [ ' '.join(grams) for grams in n_grams]\n",
        "\n",
        "ngrams_split(text, ngram)"
      ],
      "metadata": {
        "colab": {
          "base_uri": "https://localhost:8080/"
        },
        "id": "TAZ2f0MeKGdo",
        "outputId": "bcca188b-f7a6-4635-c678-ac9f5cd04ac0"
      },
      "execution_count": 5,
      "outputs": [
        {
          "output_type": "execute_result",
          "data": {
            "text/plain": [
              "['this is',\n",
              " 'is a',\n",
              " 'a foo',\n",
              " 'foo bar',\n",
              " 'bar sentences',\n",
              " 'sentences and',\n",
              " 'and this',\n",
              " 'this is',\n",
              " 'is my',\n",
              " 'my objective',\n",
              " 'objective :',\n",
              " ': to',\n",
              " 'to ngramize',\n",
              " 'ngramize it']"
            ]
          },
          "metadata": {},
          "execution_count": 5
        }
      ]
    },
    {
      "cell_type": "code",
      "source": [
        "def ngrams_frequency(text, ngram):\n",
        "  bigram_fd = nltk.FreqDist(ngrams_split(text, ngram))\n",
        "  return bigram_fd.most_common()\n",
        "\n",
        "ngrams_frequency(text, ngram)  "
      ],
      "metadata": {
        "colab": {
          "base_uri": "https://localhost:8080/"
        },
        "id": "ncbu7cvjL7-v",
        "outputId": "257472ac-5b5d-4b28-d010-9e980c0e7f4f"
      },
      "execution_count": 6,
      "outputs": [
        {
          "output_type": "execute_result",
          "data": {
            "text/plain": [
              "[('this is', 2),\n",
              " ('is a', 1),\n",
              " ('a foo', 1),\n",
              " ('foo bar', 1),\n",
              " ('bar sentences', 1),\n",
              " ('sentences and', 1),\n",
              " ('and this', 1),\n",
              " ('is my', 1),\n",
              " ('my objective', 1),\n",
              " ('objective :', 1),\n",
              " (': to', 1),\n",
              " ('to ngramize', 1),\n",
              " ('ngramize it', 1)]"
            ]
          },
          "metadata": {},
          "execution_count": 6
        }
      ]
    },
    {
      "cell_type": "markdown",
      "source": [
        "### InclusionCriteria Seperation"
      ],
      "metadata": {
        "id": "q40sXOkdS_Ue"
      }
    },
    {
      "cell_type": "code",
      "source": [
        "# Convert the EligibilityCriteria to string then lowercase\n",
        "EligibilityCriteria = df['EligibilityCriteria'].astype(str).str.lower().tolist()\n",
        "EligibilityCriteria[:5]"
      ],
      "metadata": {
        "colab": {
          "base_uri": "https://localhost:8080/"
        },
        "id": "Fc2Nb7i-TLCH",
        "outputId": "38728bff-c0d6-47f6-db52-c9f7c4c42fe0"
      },
      "execution_count": 7,
      "outputs": [
        {
          "output_type": "execute_result",
          "data": {
            "text/plain": [
              "['inclusion criteria:||adult patients (19 and older in state of nebraska) who present to the emergency department with shoulder pain/injury and potential shoulder dislocation||exclusion criteria:||injury sustained in major traumatic event (trauma activation), unable to consent, in extremis, less then 19 years of age',\n",
              " 'inclusion criteria:||age between 18 and 40 years;|women;|have a regular menstrual cycle;|body weight below 120 kg;|bmi between 30 kg/m2 and 40 kg/m2.||exclusion criteria:||individuals with any disease;|smokers;|alcoholics;|use regular medication;|medical impediment to the practice of physical activities;|carry out nutritional monitoring;|being in treatment for weight loss;|present some discomfort in long periods of fasting.',\n",
              " 'inclusion criteria:||bmi less than or equal to 28kg/m2|intact uterus with at least one ovary|regular menstrual cycles that occur every 21-35 days|if patient is postpartum or post-second trimester abortion, 3 menses (2 cycles) must have occurred prior to enrollment|if patient had a first trimester abortion or pregnancy loss, she must have one spontaneous menses prior to enrollment|desires insertion of an etonogestrel contraceptive implant for contraception|not currently pregnant or trying to become pregnant|willing to abstain from medications and supplements known to induce/inhibit cyp3a4 during the study||exclusion criteria:||have a known hypersensitivity or contraindications to etonogestrel.|medical conditions that affect liver function (e.g., hepatitis, cirrhosis; assessed via participant self-report)|known or suspected current alcohol dependence syndrome or any illicit drug use that may affect the metabolism of the etonogestrel.|uncontrolled thyroid disorder.|use of long-acting injectable hormonal contraceptive within the past 9 months|current use of hormonal oral, patch, intravaginal, or intrauterine contraception',\n",
              " \"inclusion criteria:||diagnosis of type 2 diabetes, with current hba1c > 6.5% and < 12% (self-reported and then measured at screening)|ability to speak english (this is a group-based intervention)|ability to engage in light physical activity|willingness to be randomized to either type of diet||exclusion criteria:||unable to provide informed consent|substance abuse, mental health, cognitive, or medical condition that would, in the opinion of the investigators, make it difficult for the individual to take part in the intervention or may alter key outcomes or require important diet modifications|pregnant or planning to become pregnant in the next 12 months, or currently breastfeeding (pregnancy and breastfeeding require modifications to the intervention's dietary approaches)|current use of weight loss medications (this is likely to alter weight outcomes and may alter other measures)|history of weight loss (bariatric) surgery or plans for bariatric surgery in the next year|currently enrolled in a weight loss program or have unalterable plans to enroll in one of these programs in the next year|vegan or vegetarian|unwilling or unable to participate in study measurements and group classes|current use of systemic steroids or immunomodulators (self-reported in screening survey; oral or iv systemic steroids excluded. injected steroids may be permitted depending on frequency and timing of injections with regard to lab assessments (minimum of 2 weeks between injection and blood tests))|weight above 400 pounds (weight limit for dual-energy x-ray absorptiometry (dexa) scans)|history of kidney stones|currently following a very low-carbohydrate diet\",\n",
              " \"inclusion criteria:||age between 18~75,both gender.|patients with upper gastrointestinal symptoms and with documented h.pylori infection.|patients are willing to receive eradication treatment.|women are eligible if they are not pregnant or nursing, and if they are of childbearing potential they are required to use medically acceptable contraception for the duration of the study and 30 days thereafter.||exclusion criteria:||patients are excluded if they have previously used antibiotics to eradicate adequately recorded infection with h. pylori.|contraindications or allergies to research drugs.|substantial organ impairment(eg liver cirrhosis, uremia, etc.), severe or unstable cardiopulmonary or endocrine disease.|constant use of anti-ulcer drugs ( including taking proton-pump. inhibitors(ppi) within 2 weeks before the [13c] urea breath test), antibiotics or bismuth complexes (more than 3 times /1 month before screening).|definite diagnosis of gastroduodenal ulcer and malt's lymphoma.|pregnant or lactating women.|underwent upper gastrointestinal surgery.|highly atypical hyperplasia, have symptom of dysphagia.|evidence of bleeding or iron eficiency anemia.|a history of malignancy.|drug or alcohol abuse history in the past 1 year.|systemic use of corticosteroids, non steroidal anti-inflammatory drugs, anticoagulants, platelet aggregation inhibitors (except the use of aspirin for less than 100 mg/d).|a person with a mental disorder|enrolled in other clinical trials in the past 3 months.|refusal to sign informed consent.\"]"
            ]
          },
          "metadata": {},
          "execution_count": 7
        }
      ]
    },
    {
      "cell_type": "code",
      "source": [
        "# Seperate the InclusionCriteria from the ExclusionCriteria\n",
        "InclusionCriteria = [txt[21:txt.find('exclusion criteria')-2] for txt in EligibilityCriteria]\n",
        "InclusionCriteria[:5]"
      ],
      "metadata": {
        "colab": {
          "base_uri": "https://localhost:8080/"
        },
        "id": "Mmoqcrj8Tdaz",
        "outputId": "8839198b-7788-41d1-ba0b-031a605eb94f"
      },
      "execution_count": 8,
      "outputs": [
        {
          "output_type": "execute_result",
          "data": {
            "text/plain": [
              "['adult patients (19 and older in state of nebraska) who present to the emergency department with shoulder pain/injury and potential shoulder dislocation',\n",
              " 'age between 18 and 40 years;|women;|have a regular menstrual cycle;|body weight below 120 kg;|bmi between 30 kg/m2 and 40 kg/m2.',\n",
              " 'bmi less than or equal to 28kg/m2|intact uterus with at least one ovary|regular menstrual cycles that occur every 21-35 days|if patient is postpartum or post-second trimester abortion, 3 menses (2 cycles) must have occurred prior to enrollment|if patient had a first trimester abortion or pregnancy loss, she must have one spontaneous menses prior to enrollment|desires insertion of an etonogestrel contraceptive implant for contraception|not currently pregnant or trying to become pregnant|willing to abstain from medications and supplements known to induce/inhibit cyp3a4 during the study',\n",
              " 'diagnosis of type 2 diabetes, with current hba1c > 6.5% and < 12% (self-reported and then measured at screening)|ability to speak english (this is a group-based intervention)|ability to engage in light physical activity|willingness to be randomized to either type of diet',\n",
              " 'age between 18~75,both gender.|patients with upper gastrointestinal symptoms and with documented h.pylori infection.|patients are willing to receive eradication treatment.|women are eligible if they are not pregnant or nursing, and if they are of childbearing potential they are required to use medically acceptable contraception for the duration of the study and 30 days thereafter.']"
            ]
          },
          "metadata": {},
          "execution_count": 8
        }
      ]
    },
    {
      "cell_type": "code",
      "source": [
        "# Split each Trial InclusionCriteria into list of lists of the InclusionCriteria\n",
        "InclusionCriteriaList = list(map(lambda txt : txt.split(\"|\"), InclusionCriteria))\n",
        "InclusionCriteriaList = [list(filter(lambda txt: txt!= '', ltexts)) for ltexts in InclusionCriteriaList] # Delete the empty string generated by successive || (sometimes they seperate with | or ||)\n",
        "print(len(InclusionCriteriaList))\n",
        "InclusionCriteriaList[:2]"
      ],
      "metadata": {
        "colab": {
          "base_uri": "https://localhost:8080/"
        },
        "id": "vwPw9pxqUMVb",
        "outputId": "80c14929-aa30-4d8f-a8ac-4a7a73a9d1cb"
      },
      "execution_count": 9,
      "outputs": [
        {
          "output_type": "stream",
          "name": "stdout",
          "text": [
            "1000\n"
          ]
        },
        {
          "output_type": "execute_result",
          "data": {
            "text/plain": [
              "[['adult patients (19 and older in state of nebraska) who present to the emergency department with shoulder pain/injury and potential shoulder dislocation'],\n",
              " ['age between 18 and 40 years;',\n",
              "  'women;',\n",
              "  'have a regular menstrual cycle;',\n",
              "  'body weight below 120 kg;',\n",
              "  'bmi between 30 kg/m2 and 40 kg/m2.']]"
            ]
          },
          "metadata": {},
          "execution_count": 9
        }
      ]
    },
    {
      "cell_type": "code",
      "source": [
        "### Convert the InclusionCriteria from a list of lists to a list\n",
        "InclusionCriteriaList_Flat  = [item for sublist in InclusionCriteriaList for item in sublist]\n",
        "print(len(InclusionCriteriaList_Flat))\n",
        "InclusionCriteriaList_Flat[:5]"
      ],
      "metadata": {
        "colab": {
          "base_uri": "https://localhost:8080/"
        },
        "id": "f6BSQj0VUakt",
        "outputId": "74e24ff8-92c2-4323-ec6a-f3ea384cdd61"
      },
      "execution_count": 10,
      "outputs": [
        {
          "output_type": "stream",
          "name": "stdout",
          "text": [
            "5572\n"
          ]
        },
        {
          "output_type": "execute_result",
          "data": {
            "text/plain": [
              "['adult patients (19 and older in state of nebraska) who present to the emergency department with shoulder pain/injury and potential shoulder dislocation',\n",
              " 'age between 18 and 40 years;',\n",
              " 'women;',\n",
              " 'have a regular menstrual cycle;',\n",
              " 'body weight below 120 kg;']"
            ]
          },
          "metadata": {},
          "execution_count": 10
        }
      ]
    },
    {
      "cell_type": "markdown",
      "source": [
        "### Test Texts N-Grams Frequencies"
      ],
      "metadata": {
        "id": "fN5GfDYeQEAw"
      }
    },
    {
      "cell_type": "code",
      "source": [
        "texts = [\"MK is the best of the best, MK is the hero and the savior.\", \n",
        "         \"The lord is our savior and MK is the best of the best\",\n",
        "         \"Oh Lors almighty, MK too is calling himself ghe almighty\",\n",
        "         \"Can you be our savior MK becauses you're the best of the best MK\"]\n",
        "ngram = 2\n",
        "ngrams_frequency(texts[0], ngram)  "
      ],
      "metadata": {
        "colab": {
          "base_uri": "https://localhost:8080/"
        },
        "id": "tF7N0AGbMz3X",
        "outputId": "425abd0c-3a4c-4b17-82a8-f5c1ba12a7bc"
      },
      "execution_count": 11,
      "outputs": [
        {
          "output_type": "execute_result",
          "data": {
            "text/plain": [
              "[('MK is', 2),\n",
              " ('is the', 2),\n",
              " ('the best', 2),\n",
              " ('best of', 1),\n",
              " ('of the', 1),\n",
              " ('best ,', 1),\n",
              " (', MK', 1),\n",
              " ('the hero', 1),\n",
              " ('hero and', 1),\n",
              " ('and the', 1),\n",
              " ('the savior', 1),\n",
              " ('savior .', 1)]"
            ]
          },
          "metadata": {},
          "execution_count": 11
        }
      ]
    },
    {
      "cell_type": "code",
      "source": [
        "texts_frequencies = list(map(lambda text: ngrams_frequency(text, ngram), texts))\n",
        "texts_frequencies[:2]"
      ],
      "metadata": {
        "colab": {
          "base_uri": "https://localhost:8080/"
        },
        "id": "HfASKfbpcnBE",
        "outputId": "cc1ee50d-ecd5-4b5c-ad11-a5123b5e51d9"
      },
      "execution_count": 12,
      "outputs": [
        {
          "output_type": "execute_result",
          "data": {
            "text/plain": [
              "[[('MK is', 2),\n",
              "  ('is the', 2),\n",
              "  ('the best', 2),\n",
              "  ('best of', 1),\n",
              "  ('of the', 1),\n",
              "  ('best ,', 1),\n",
              "  (', MK', 1),\n",
              "  ('the hero', 1),\n",
              "  ('hero and', 1),\n",
              "  ('and the', 1),\n",
              "  ('the savior', 1),\n",
              "  ('savior .', 1)],\n",
              " [('the best', 2),\n",
              "  ('The lord', 1),\n",
              "  ('lord is', 1),\n",
              "  ('is our', 1),\n",
              "  ('our savior', 1),\n",
              "  ('savior and', 1),\n",
              "  ('and MK', 1),\n",
              "  ('MK is', 1),\n",
              "  ('is the', 1),\n",
              "  ('best of', 1),\n",
              "  ('of the', 1)]]"
            ]
          },
          "metadata": {},
          "execution_count": 12
        }
      ]
    },
    {
      "cell_type": "code",
      "source": [
        "alltexts = \" \".join(texts)\n",
        "alltexts"
      ],
      "metadata": {
        "colab": {
          "base_uri": "https://localhost:8080/",
          "height": 55
        },
        "id": "1x8naWEgdSsH",
        "outputId": "be5d9d1e-2b25-4557-b765-969d58e0b142"
      },
      "execution_count": 13,
      "outputs": [
        {
          "output_type": "execute_result",
          "data": {
            "application/vnd.google.colaboratory.intrinsic+json": {
              "type": "string"
            },
            "text/plain": [
              "\"MK is the best of the best, MK is the hero and the savior. The lord is our savior and MK is the best of the best Oh Lors almighty, MK too is calling himself ghe almighty Can you be our savior MK becauses you're the best of the best MK\""
            ]
          },
          "metadata": {},
          "execution_count": 13
        }
      ]
    },
    {
      "cell_type": "code",
      "source": [
        "ngrams_frequency(alltexts, 7)[:5]"
      ],
      "metadata": {
        "colab": {
          "base_uri": "https://localhost:8080/"
        },
        "id": "rwCywLSad728",
        "outputId": "0d7d1e99-0822-4cfc-9aba-0b80691bf9c6"
      },
      "execution_count": 14,
      "outputs": [
        {
          "output_type": "execute_result",
          "data": {
            "text/plain": [
              "[('MK is the best of the best', 2),\n",
              " ('is the best of the best ,', 1),\n",
              " ('the best of the best , MK', 1),\n",
              " ('best of the best , MK is', 1),\n",
              " ('of the best , MK is the', 1)]"
            ]
          },
          "metadata": {},
          "execution_count": 14
        }
      ]
    },
    {
      "cell_type": "markdown",
      "source": [
        "### InclusionCriteria N-Grams Frequencies"
      ],
      "metadata": {
        "id": "_aFcruxZgv5I"
      }
    },
    {
      "cell_type": "code",
      "source": [
        "### Join all texts into one text\n",
        "AllInclusionCriteria = \" \".join(InclusionCriteriaList_Flat)\n",
        "print(len(AllInclusionCriteria))\n",
        "print(len(AllInclusionCriteria.split(' ')))\n",
        "\n",
        "ngrams_frequency(AllInclusionCriteria, 1)[:5]\n",
        "\n",
        "# => we need to remove the punctuation, stopwords, tag the words then lemmatize them."
      ],
      "metadata": {
        "colab": {
          "base_uri": "https://localhost:8080/"
        },
        "id": "YzBDr63ofcYS",
        "outputId": "2388e8b8-7786-4e01-9641-139331db83fa"
      },
      "execution_count": 15,
      "outputs": [
        {
          "output_type": "stream",
          "name": "stdout",
          "text": [
            "531242\n",
            "80733\n"
          ]
        },
        {
          "output_type": "execute_result",
          "data": {
            "text/plain": [
              "[('the', 2887), (',', 2844), ('of', 2841), (')', 2205), ('to', 2140)]"
            ]
          },
          "metadata": {},
          "execution_count": 15
        }
      ]
    },
    {
      "cell_type": "code",
      "source": [
        "def remove_punctuation(text):\n",
        "    return \"\".join([i for i in text if i not in string.punctuation])\n",
        "\n",
        "print(texts[0])\n",
        "remove_punctuation(texts[0])"
      ],
      "metadata": {
        "colab": {
          "base_uri": "https://localhost:8080/",
          "height": 55
        },
        "id": "NqDAHGuLhqIQ",
        "outputId": "ae9e44eb-8aff-4700-f959-44c9a3d53006"
      },
      "execution_count": 16,
      "outputs": [
        {
          "output_type": "stream",
          "name": "stdout",
          "text": [
            "MK is the best of the best, MK is the hero and the savior.\n"
          ]
        },
        {
          "output_type": "execute_result",
          "data": {
            "application/vnd.google.colaboratory.intrinsic+json": {
              "type": "string"
            },
            "text/plain": [
              "'MK is the best of the best MK is the hero and the savior'"
            ]
          },
          "metadata": {},
          "execution_count": 16
        }
      ]
    },
    {
      "cell_type": "code",
      "source": [
        "def remove_stopwords(text):\n",
        "    return ' '.join([word for word in word_tokenize(text) if not word in stopwords.words('english')])\n",
        "\n",
        "print(texts[0])\n",
        "remove_stopwords(texts[0])"
      ],
      "metadata": {
        "colab": {
          "base_uri": "https://localhost:8080/",
          "height": 55
        },
        "id": "yMqtZjgQiDK7",
        "outputId": "067404fa-0752-4da8-9710-22ea1f91b817"
      },
      "execution_count": 17,
      "outputs": [
        {
          "output_type": "stream",
          "name": "stdout",
          "text": [
            "MK is the best of the best, MK is the hero and the savior.\n"
          ]
        },
        {
          "output_type": "execute_result",
          "data": {
            "application/vnd.google.colaboratory.intrinsic+json": {
              "type": "string"
            },
            "text/plain": [
              "'MK best best , MK hero savior .'"
            ]
          },
          "metadata": {},
          "execution_count": 17
        }
      ]
    },
    {
      "cell_type": "markdown",
      "source": [
        "'''\n",
        "Part-of-speech tagging, words, or tokens are assigned part of speech tags, which are typically morphosyntactic subtypes of fundamental syntactic \n",
        "categories in the language such as a noun, or verb. By lemmatizing lexemes, inflected forms of a word are grouped together under a common root. \n",
        "\n",
        "The tagging and lemmatization of parts of speech are essential to linguistic pre-processing. This website uses morphosyntactic descriptors and \n",
        "part-of-speech tagging as acronyms. In the context of the NLTK Lemmatization, the part of speech tags are pre-defined with shortcuts for the \n",
        "NLTK WordNetLemmatizer as below.\n",
        "\n",
        "https://www.holisticseo.digital/python-seo/nltk/lemmatize\n",
        "'''"
      ],
      "metadata": {
        "id": "un4jbb5Xqekl"
      }
    },
    {
      "cell_type": "code",
      "source": [
        "# Custom tagger, so the tags can be interpreted by the WordNetLemmatizer()\n",
        "# Because NLTK nltk.pos_tag() and WordNetLemmatizer() do not use the same naming covention\n",
        "def nltk_pos_tagger(nltk_tag):\n",
        "  \n",
        "    if nltk_tag.startswith('J'):\n",
        "        return wordnet.ADJ\n",
        "    elif nltk_tag.startswith('V'):\n",
        "        return wordnet.VERB\n",
        "    elif nltk_tag.startswith('N'):\n",
        "        return wordnet.NOUN\n",
        "    elif nltk_tag.startswith('R'):\n",
        "        return wordnet.ADV\n",
        "    else:          \n",
        "        return None"
      ],
      "metadata": {
        "id": "wdZ2YX61qiwS"
      },
      "execution_count": 18,
      "outputs": []
    },
    {
      "cell_type": "code",
      "source": [
        "def tag_lemmatize_sentence(sentence):\n",
        "\n",
        "    # Tag the Tokenized text\n",
        "    nltk_tagged = nltk.pos_tag(nltk.word_tokenize(sentence))  \n",
        "\n",
        "    # Aply the custom tagger, so the tags can be interpreted by the WordNetLemmatizer()\n",
        "    wordnet_tagged = map(lambda x: (x[0], nltk_pos_tagger(x[1])), nltk_tagged)\n",
        "    \n",
        "    lemmatized_sentence = []\n",
        "    for word, tag in wordnet_tagged:\n",
        "        if tag is None:\n",
        "            lemmatized_sentence.append(word)\n",
        "        else:        \n",
        "            lemmatized_sentence.append(lemmatizer.lemmatize(word, tag))\n",
        "    return \" \".join(lemmatized_sentence)\n",
        "\n",
        "sentence = \"I am voting for better that politician. in this NLTK, Lemmatization example sentences\"\n",
        "print(sentence) \n",
        "print(tag_lemmatize_sentence(sentence))"
      ],
      "metadata": {
        "colab": {
          "base_uri": "https://localhost:8080/"
        },
        "id": "bADjwkuXnFn7",
        "outputId": "fd789784-8602-445d-8d8f-7061bc12bbcc"
      },
      "execution_count": 46,
      "outputs": [
        {
          "output_type": "stream",
          "name": "stdout",
          "text": [
            "I am voting for better that politician. in this NLTK, Lemmatization example sentences\n",
            "I be vote for good that politician . in this NLTK , Lemmatization example sentence\n"
          ]
        }
      ]
    },
    {
      "cell_type": "code",
      "source": [
        "print(sentence)\n",
        "print(remove_punctuation(sentence))\n",
        "print(remove_stopwords(remove_punctuation(sentence)))\n",
        "print(lemmatizer.lemmatize(remove_stopwords(remove_punctuation(sentence))))\n",
        "print(tag_lemmatize_sentence(remove_stopwords(remove_punctuation(sentence))))"
      ],
      "metadata": {
        "colab": {
          "base_uri": "https://localhost:8080/"
        },
        "id": "pjWkr8Zyuol2",
        "outputId": "5a56e5c2-de17-4b67-9e37-f1dea489a1b1"
      },
      "execution_count": 47,
      "outputs": [
        {
          "output_type": "stream",
          "name": "stdout",
          "text": [
            "I am voting for better that politician. in this NLTK, Lemmatization example sentences\n",
            "I am voting for better that politician in this NLTK Lemmatization example sentences\n",
            "I voting better politician NLTK Lemmatization example sentences\n",
            "I voting better politician NLTK Lemmatization example sentences\n",
            "I vote well politician NLTK Lemmatization example sentence\n"
          ]
        }
      ]
    },
    {
      "cell_type": "code",
      "source": [
        "### Join all texts into one text\n",
        "AllInclusionCriteria = \" \".join(InclusionCriteriaList_Flat)\n",
        "print(len(AllInclusionCriteria))\n",
        "print(len(AllInclusionCriteria.split(' ')))\n",
        "\n",
        "ngrams_frequency(AllInclusionCriteria, 1)[:5]\n",
        "# => we need to remove the punctuation, stopwords, tag the words then lemmatize them."
      ],
      "metadata": {
        "id": "_e3prniG3Ixg",
        "outputId": "fbfd96de-326d-4745-c827-1564b25d8467",
        "colab": {
          "base_uri": "https://localhost:8080/"
        }
      },
      "execution_count": 50,
      "outputs": [
        {
          "output_type": "stream",
          "name": "stdout",
          "text": [
            "531242\n",
            "80733\n"
          ]
        },
        {
          "output_type": "execute_result",
          "data": {
            "text/plain": [
              "[('the', 2887), (',', 2844), ('of', 2841), (')', 2205), ('to', 2140)]"
            ]
          },
          "metadata": {},
          "execution_count": 50
        }
      ]
    },
    {
      "cell_type": "code",
      "source": [
        "%%time\n",
        "ProcessedAllInclusionCriteria = tag_lemmatize_sentence(remove_stopwords(remove_punctuation(AllInclusionCriteria)))"
      ],
      "metadata": {
        "id": "SN7Q3kJr2yIl",
        "outputId": "4e9124a2-6aad-42cb-e828-970859ee53be",
        "colab": {
          "base_uri": "https://localhost:8080/"
        }
      },
      "execution_count": 51,
      "outputs": [
        {
          "output_type": "stream",
          "name": "stdout",
          "text": [
            "CPU times: user 14 s, sys: 1.22 s, total: 15.3 s\n",
            "Wall time: 15.3 s\n"
          ]
        }
      ]
    },
    {
      "cell_type": "code",
      "source": [
        "%%time\n",
        "ngrams_frequency(ProcessedAllInclusionCriteria, 1)[:5]"
      ],
      "metadata": {
        "id": "ySqHlAwU2oWQ",
        "outputId": "0080d66d-4589-4ec3-92fa-8776242f914f",
        "colab": {
          "base_uri": "https://localhost:8080/"
        }
      },
      "execution_count": 53,
      "outputs": [
        {
          "output_type": "stream",
          "name": "stdout",
          "text": [
            "CPU times: user 564 ms, sys: 7.78 ms, total: 571 ms\n",
            "Wall time: 944 ms\n"
          ]
        },
        {
          "output_type": "execute_result",
          "data": {
            "text/plain": [
              "[('patient', 816),\n",
              " ('year', 733),\n",
              " ('study', 727),\n",
              " ('age', 642),\n",
              " ('consent', 538)]"
            ]
          },
          "metadata": {},
          "execution_count": 53
        }
      ]
    },
    {
      "cell_type": "code",
      "source": [
        "%%time\n",
        "ngrams_frequency(ProcessedAllInclusionCriteria, 2)[:5]"
      ],
      "metadata": {
        "id": "gbFTL8iy3YKU",
        "outputId": "e91ae695-f5e9-4d16-e560-5a978de9b065",
        "colab": {
          "base_uri": "https://localhost:8080/"
        }
      },
      "execution_count": 54,
      "outputs": [
        {
          "output_type": "stream",
          "name": "stdout",
          "text": [
            "CPU times: user 570 ms, sys: 10.9 ms, total: 581 ms\n",
            "Wall time: 601 ms\n"
          ]
        },
        {
          "output_type": "execute_result",
          "data": {
            "text/plain": [
              "[('informed consent', 286),\n",
              " ('18 year', 244),\n",
              " ('year old', 189),\n",
              " ('year age', 156),\n",
              " ('age 18', 141)]"
            ]
          },
          "metadata": {},
          "execution_count": 54
        }
      ]
    },
    {
      "cell_type": "code",
      "source": [
        "%%time\n",
        "ngrams_frequency(ProcessedAllInclusionCriteria, 3)[:5]"
      ],
      "metadata": {
        "id": "eZ4hOYyM3jGX",
        "outputId": "99af8dc6-3f6f-400f-946c-b2f4ba704c28",
        "colab": {
          "base_uri": "https://localhost:8080/"
        }
      },
      "execution_count": 55,
      "outputs": [
        {
          "output_type": "stream",
          "name": "stdout",
          "text": [
            "CPU times: user 585 ms, sys: 7.4 ms, total: 592 ms\n",
            "Wall time: 649 ms\n"
          ]
        },
        {
          "output_type": "execute_result",
          "data": {
            "text/plain": [
              "[('write informed consent', 133),\n",
              " ('sign informed consent', 80),\n",
              " ('18 year age', 75),\n",
              " ('18 year old', 73),\n",
              " ('age 18 year', 62)]"
            ]
          },
          "metadata": {},
          "execution_count": 55
        }
      ]
    },
    {
      "cell_type": "code",
      "source": [
        "%%time\n",
        "ngrams_frequency(ProcessedAllInclusionCriteria, 4)[:5]"
      ],
      "metadata": {
        "id": "oEWd_CPS3nAj",
        "outputId": "dedce262-837b-4ff2-8002-8aad55d2743f",
        "colab": {
          "base_uri": "https://localhost:8080/"
        }
      },
      "execution_count": 56,
      "outputs": [
        {
          "output_type": "stream",
          "name": "stdout",
          "text": [
            "CPU times: user 572 ms, sys: 11.2 ms, total: 583 ms\n",
            "Wall time: 621 ms\n"
          ]
        },
        {
          "output_type": "execute_result",
          "data": {
            "text/plain": [
              "[('provide write informed consent', 47),\n",
              " ('age ≥ 18 year', 42),\n",
              " ('eastern cooperative oncology group', 34),\n",
              " ('upper limit normal uln', 28),\n",
              " ('group ecog performance status', 27)]"
            ]
          },
          "metadata": {},
          "execution_count": 56
        }
      ]
    },
    {
      "cell_type": "code",
      "source": [
        "%%time\n",
        "ngrams_frequency(ProcessedAllInclusionCriteria, 5)[:5]"
      ],
      "metadata": {
        "id": "f0XWZEdL3qhf",
        "outputId": "885c754f-60e6-4f2c-b67e-c5405c772b3c",
        "colab": {
          "base_uri": "https://localhost:8080/"
        }
      },
      "execution_count": 57,
      "outputs": [
        {
          "output_type": "stream",
          "name": "stdout",
          "text": [
            "CPU times: user 601 ms, sys: 10.8 ms, total: 612 ms\n",
            "Wall time: 684 ms\n"
          ]
        },
        {
          "output_type": "execute_result",
          "data": {
            "text/plain": [
              "[('eastern cooperative oncology group ecog', 26),\n",
              " ('cooperative oncology group ecog performance', 24),\n",
              " ('oncology group ecog performance status', 24),\n",
              " ('x upper limit normal uln', 16),\n",
              " ('able provide write informed consent', 15)]"
            ]
          },
          "metadata": {},
          "execution_count": 57
        }
      ]
    },
    {
      "cell_type": "code",
      "source": [
        "%%time\n",
        "ngrams_frequency(ProcessedAllInclusionCriteria, 6)[:5]"
      ],
      "metadata": {
        "id": "3L7TfYqW3u5q",
        "outputId": "88788b54-f70e-4546-fb0e-f94348813556",
        "colab": {
          "base_uri": "https://localhost:8080/"
        }
      },
      "execution_count": 58,
      "outputs": [
        {
          "output_type": "stream",
          "name": "stdout",
          "text": [
            "CPU times: user 597 ms, sys: 14.6 ms, total: 611 ms\n",
            "Wall time: 751 ms\n"
          ]
        },
        {
          "output_type": "execute_result",
          "data": {
            "text/plain": [
              "[('eastern cooperative oncology group ecog performance', 24),\n",
              " ('cooperative oncology group ecog performance status', 24),\n",
              " ('15 x upper limit normal uln', 11),\n",
              " ('response evaluation criterion solid tumor recist', 10),\n",
              " ('within 14 day prior study registration', 9)]"
            ]
          },
          "metadata": {},
          "execution_count": 58
        }
      ]
    },
    {
      "cell_type": "code",
      "source": [
        "%%time\n",
        "ngrams_frequency(ProcessedAllInclusionCriteria, 7)[:5]"
      ],
      "metadata": {
        "id": "d8pNASbF3x8-",
        "outputId": "c1756333-57e7-462d-d66a-a4e8c60dcdc3",
        "colab": {
          "base_uri": "https://localhost:8080/"
        }
      },
      "execution_count": 59,
      "outputs": [
        {
          "output_type": "stream",
          "name": "stdout",
          "text": [
            "CPU times: user 599 ms, sys: 8.3 ms, total: 608 ms\n",
            "Wall time: 680 ms\n"
          ]
        },
        {
          "output_type": "execute_result",
          "data": {
            "text/plain": [
              "[('eastern cooperative oncology group ecog performance status', 24),\n",
              " ('cooperative oncology group ecog performance status 0', 8),\n",
              " ('ability understand willingness sign write informed consent', 7),\n",
              " ('oncology group ecog performance status 0 1', 7),\n",
              " ('bilirubin 15 x upper limit normal uln', 7)]"
            ]
          },
          "metadata": {},
          "execution_count": 59
        }
      ]
    },
    {
      "cell_type": "code",
      "source": [
        "%%time\n",
        "ngrams_frequency(ProcessedAllInclusionCriteria, 8)[:5]"
      ],
      "metadata": {
        "id": "QzmxD0_p3z3b",
        "outputId": "869af87f-c33c-4da1-fa87-466298573440",
        "colab": {
          "base_uri": "https://localhost:8080/"
        }
      },
      "execution_count": 60,
      "outputs": [
        {
          "output_type": "stream",
          "name": "stdout",
          "text": [
            "CPU times: user 610 ms, sys: 5.79 ms, total: 616 ms\n",
            "Wall time: 687 ms\n"
          ]
        },
        {
          "output_type": "execute_result",
          "data": {
            "text/plain": [
              "[('eastern cooperative oncology group ecog performance status 0', 8),\n",
              " ('cooperative oncology group ecog performance status 0 1', 7),\n",
              " ('perform within 42 day sign screen leukapheresis consent', 6),\n",
              " ('state willingness comply study procedure availability duration study', 5),\n",
              " ('total bilirubin 15 x upper limit normal uln', 5)]"
            ]
          },
          "metadata": {},
          "execution_count": 60
        }
      ]
    },
    {
      "cell_type": "code",
      "source": [
        "%%time\n",
        "ngrams_frequency(ProcessedAllInclusionCriteria, 9)[:5]"
      ],
      "metadata": {
        "id": "eyfc0aBt33Os",
        "outputId": "fa5bf528-40e3-4db3-ab8c-905d293ee3cd",
        "colab": {
          "base_uri": "https://localhost:8080/"
        }
      },
      "execution_count": 61,
      "outputs": [
        {
          "output_type": "stream",
          "name": "stdout",
          "text": [
            "CPU times: user 484 ms, sys: 7.37 ms, total: 492 ms\n",
            "Wall time: 542 ms\n"
          ]
        },
        {
          "output_type": "execute_result",
          "data": {
            "text/plain": [
              "[('eastern cooperative oncology group ecog performance status 0 1', 7),\n",
              " ('result failure rate 1 per year treatment period least', 4),\n",
              " ('eastern cooperative oncology group ecog performance status ≤ 2', 4),\n",
              " ('consent obtain studyrelated activity studyrelated activity procedure relate recording',\n",
              "  4),\n",
              " ('obtain studyrelated activity studyrelated activity procedure relate recording data',\n",
              "  4)]"
            ]
          },
          "metadata": {},
          "execution_count": 61
        }
      ]
    },
    {
      "cell_type": "code",
      "source": [
        "%%time\n",
        "ngrams_frequency(ProcessedAllInclusionCriteria, 10)[:5]"
      ],
      "metadata": {
        "id": "kzh0kTAp36eu",
        "outputId": "f1853b37-0224-45b5-edea-5a44abd64b0e",
        "colab": {
          "base_uri": "https://localhost:8080/"
        }
      },
      "execution_count": 62,
      "outputs": [
        {
          "output_type": "stream",
          "name": "stdout",
          "text": [
            "CPU times: user 607 ms, sys: 7.11 ms, total: 614 ms\n",
            "Wall time: 664 ms\n"
          ]
        },
        {
          "output_type": "execute_result",
          "data": {
            "text/plain": [
              "[('consent obtain studyrelated activity studyrelated activity procedure relate recording data',\n",
              "  4),\n",
              " ('obtain studyrelated activity studyrelated activity procedure relate recording data accord',\n",
              "  4),\n",
              " ('studyrelated activity studyrelated activity procedure relate recording data accord protocol',\n",
              "  4),\n",
              " ('male female age equal 18 year time signing informed consent', 4),\n",
              " ('study subject inform study purpose protocal benefit risk sign informed', 4)]"
            ]
          },
          "metadata": {},
          "execution_count": 62
        }
      ]
    },
    {
      "cell_type": "code",
      "source": [
        ""
      ],
      "metadata": {
        "id": "ENe-CCjY39Lt"
      },
      "execution_count": null,
      "outputs": []
    }
  ]
}