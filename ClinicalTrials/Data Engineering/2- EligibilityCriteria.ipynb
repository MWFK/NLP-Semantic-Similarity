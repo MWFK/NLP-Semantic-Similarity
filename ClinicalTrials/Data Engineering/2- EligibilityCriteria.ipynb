{
  "nbformat": 4,
  "nbformat_minor": 0,
  "metadata": {
    "colab": {
      "name": "EligibilityCriteria.ipynb",
      "provenance": [],
      "authorship_tag": "ABX9TyNgTH7iqt3rUU21RyOOmZCu",
      "include_colab_link": true
    },
    "kernelspec": {
      "name": "python3",
      "display_name": "Python 3"
    },
    "language_info": {
      "name": "python"
    }
  },
  "cells": [
    {
      "cell_type": "markdown",
      "metadata": {
        "id": "view-in-github",
        "colab_type": "text"
      },
      "source": [
        "<a href=\"https://colab.research.google.com/github/MWFK/NLP-Semantic-Similarity/blob/main/ClinicalTrials/Data%20Engineering/2-%20EligibilityCriteria.ipynb\" target=\"_parent\"><img src=\"https://colab.research.google.com/assets/colab-badge.svg\" alt=\"Open In Colab\"/></a>"
      ]
    },
    {
      "cell_type": "code",
      "execution_count": 1,
      "metadata": {
        "id": "3_0ObvV3c9Sc"
      },
      "outputs": [],
      "source": [
        "import re\n",
        "import pandas as pd\n",
        "# pd.set_option('display.max_columns', None)  \n",
        "# pd.set_option('display.max_colwidth', None)\n",
        "import requests\n",
        "from itertools import compress\n",
        "from requests.adapters import HTTPAdapter\n",
        "from requests.packages.urllib3.util.retry import Retry\n",
        "from google.colab import files"
      ]
    },
    {
      "cell_type": "code",
      "source": [
        "####### Search Expression #######\n",
        "# None\n",
        "\n",
        "####### Study Fields #######\n",
        "# NCTId,BriefTitle,Condition,Keyword,EligibilityCriteria \t\n",
        "\n",
        "####### New Fields to add #######\n",
        "# LocationStatus, Phase\n",
        "\n",
        "####### Range Min_MAX ######\n",
        "# 1 to 1000\n",
        "\n",
        "####### Format #######\n",
        "# CSV\n",
        "\n",
        "url = 'https://clinicaltrials.gov/api/query/study_fields?expr=&fields=NCTId%2CBriefTitle%2CCondition%2CKeyword%2CEligibilityCriteria+%09&min_rnk=1&max_rnk=1000&fmt=csv'\n",
        "session = requests.Session()\n",
        "retry   = Retry(connect=3, backoff_factor=0.5)\n",
        "adapter = HTTPAdapter(max_retries=retry)\n",
        "session.mount('http://' , adapter)\n",
        "session.mount('https://', adapter)\n",
        "\n",
        "clinicaltrials = session.get(url)\n",
        "print('Download Request Status: ', clinicaltrials.status_code)\n",
        "\n",
        "csv_file = open('/content/'+str(1)+'-batch.csv', 'wb')\n",
        "csv_file.write(clinicaltrials.content)\n",
        "csv_file.close()\n",
        "\n",
        "df = pd.read_csv(r'/content/1-batch.csv', skiprows=10)\n",
        "print(df.shape)\n",
        "df.head()"
      ],
      "metadata": {
        "colab": {
          "base_uri": "https://localhost:8080/",
          "height": 373
        },
        "id": "k9-es3earGR9",
        "outputId": "919582aa-0ee8-4064-8824-83f55ed7ff5f"
      },
      "execution_count": 2,
      "outputs": [
        {
          "output_type": "stream",
          "name": "stdout",
          "text": [
            "Download Request Status:  200\n",
            "(1000, 6)\n"
          ]
        },
        {
          "output_type": "execute_result",
          "data": {
            "text/html": [
              "\n",
              "  <div id=\"df-eeb9517e-a820-4d00-ae51-740532b72f09\">\n",
              "    <div class=\"colab-df-container\">\n",
              "      <div>\n",
              "<style scoped>\n",
              "    .dataframe tbody tr th:only-of-type {\n",
              "        vertical-align: middle;\n",
              "    }\n",
              "\n",
              "    .dataframe tbody tr th {\n",
              "        vertical-align: top;\n",
              "    }\n",
              "\n",
              "    .dataframe thead th {\n",
              "        text-align: right;\n",
              "    }\n",
              "</style>\n",
              "<table border=\"1\" class=\"dataframe\">\n",
              "  <thead>\n",
              "    <tr style=\"text-align: right;\">\n",
              "      <th></th>\n",
              "      <th>Rank</th>\n",
              "      <th>NCTId</th>\n",
              "      <th>BriefTitle</th>\n",
              "      <th>Condition</th>\n",
              "      <th>Keyword</th>\n",
              "      <th>EligibilityCriteria</th>\n",
              "    </tr>\n",
              "  </thead>\n",
              "  <tbody>\n",
              "    <tr>\n",
              "      <th>0</th>\n",
              "      <td>1</td>\n",
              "      <td>NCT05237167</td>\n",
              "      <td>Time to Diagnosis of Glenohumeral Joint Disloc...</td>\n",
              "      <td>Glenohumeral Dislocation</td>\n",
              "      <td>glenohumeral dislocation|POC Ultrasound|Plain ...</td>\n",
              "      <td>Inclusion Criteria:||Adult patients (19 and ol...</td>\n",
              "    </tr>\n",
              "    <tr>\n",
              "      <th>1</th>\n",
              "      <td>2</td>\n",
              "      <td>NCT05237154</td>\n",
              "      <td>Intermittent Fasting and Exercise: Effects on ...</td>\n",
              "      <td>Composition and Function of the Gut Microbiota...</td>\n",
              "      <td>Obesity|Gut microbiota|Intermittent fasting|Hi...</td>\n",
              "      <td>Inclusion criteria:||Age between 18 and 40 yea...</td>\n",
              "    </tr>\n",
              "    <tr>\n",
              "      <th>2</th>\n",
              "      <td>3</td>\n",
              "      <td>NCT05237141</td>\n",
              "      <td>Etonogestrel Implant as Emergency Contraception</td>\n",
              "      <td>Contraception</td>\n",
              "      <td>NaN</td>\n",
              "      <td>Inclusion Criteria:||BMI less than or equal to...</td>\n",
              "    </tr>\n",
              "    <tr>\n",
              "      <th>3</th>\n",
              "      <td>4</td>\n",
              "      <td>NCT05237128</td>\n",
              "      <td>The Lifestyle Education About Nutrition for Di...</td>\n",
              "      <td>Type 2 Diabetes</td>\n",
              "      <td>Very low-carbohydrate diet|Moderate-carbohydra...</td>\n",
              "      <td>Inclusion Criteria:||diagnosis of type 2 diabe...</td>\n",
              "    </tr>\n",
              "    <tr>\n",
              "      <th>4</th>\n",
              "      <td>5</td>\n",
              "      <td>NCT05237115</td>\n",
              "      <td>Helicobacter Pylori Eradication With Probiotic...</td>\n",
              "      <td>Gastritis|Peptic Ulcer|Dyspepsia</td>\n",
              "      <td>Helicobacter pylori|Probiotics-combining tripl...</td>\n",
              "      <td>Inclusion Criteria:||Age between 18~75,both ge...</td>\n",
              "    </tr>\n",
              "  </tbody>\n",
              "</table>\n",
              "</div>\n",
              "      <button class=\"colab-df-convert\" onclick=\"convertToInteractive('df-eeb9517e-a820-4d00-ae51-740532b72f09')\"\n",
              "              title=\"Convert this dataframe to an interactive table.\"\n",
              "              style=\"display:none;\">\n",
              "        \n",
              "  <svg xmlns=\"http://www.w3.org/2000/svg\" height=\"24px\"viewBox=\"0 0 24 24\"\n",
              "       width=\"24px\">\n",
              "    <path d=\"M0 0h24v24H0V0z\" fill=\"none\"/>\n",
              "    <path d=\"M18.56 5.44l.94 2.06.94-2.06 2.06-.94-2.06-.94-.94-2.06-.94 2.06-2.06.94zm-11 1L8.5 8.5l.94-2.06 2.06-.94-2.06-.94L8.5 2.5l-.94 2.06-2.06.94zm10 10l.94 2.06.94-2.06 2.06-.94-2.06-.94-.94-2.06-.94 2.06-2.06.94z\"/><path d=\"M17.41 7.96l-1.37-1.37c-.4-.4-.92-.59-1.43-.59-.52 0-1.04.2-1.43.59L10.3 9.45l-7.72 7.72c-.78.78-.78 2.05 0 2.83L4 21.41c.39.39.9.59 1.41.59.51 0 1.02-.2 1.41-.59l7.78-7.78 2.81-2.81c.8-.78.8-2.07 0-2.86zM5.41 20L4 18.59l7.72-7.72 1.47 1.35L5.41 20z\"/>\n",
              "  </svg>\n",
              "      </button>\n",
              "      \n",
              "  <style>\n",
              "    .colab-df-container {\n",
              "      display:flex;\n",
              "      flex-wrap:wrap;\n",
              "      gap: 12px;\n",
              "    }\n",
              "\n",
              "    .colab-df-convert {\n",
              "      background-color: #E8F0FE;\n",
              "      border: none;\n",
              "      border-radius: 50%;\n",
              "      cursor: pointer;\n",
              "      display: none;\n",
              "      fill: #1967D2;\n",
              "      height: 32px;\n",
              "      padding: 0 0 0 0;\n",
              "      width: 32px;\n",
              "    }\n",
              "\n",
              "    .colab-df-convert:hover {\n",
              "      background-color: #E2EBFA;\n",
              "      box-shadow: 0px 1px 2px rgba(60, 64, 67, 0.3), 0px 1px 3px 1px rgba(60, 64, 67, 0.15);\n",
              "      fill: #174EA6;\n",
              "    }\n",
              "\n",
              "    [theme=dark] .colab-df-convert {\n",
              "      background-color: #3B4455;\n",
              "      fill: #D2E3FC;\n",
              "    }\n",
              "\n",
              "    [theme=dark] .colab-df-convert:hover {\n",
              "      background-color: #434B5C;\n",
              "      box-shadow: 0px 1px 3px 1px rgba(0, 0, 0, 0.15);\n",
              "      filter: drop-shadow(0px 1px 2px rgba(0, 0, 0, 0.3));\n",
              "      fill: #FFFFFF;\n",
              "    }\n",
              "  </style>\n",
              "\n",
              "      <script>\n",
              "        const buttonEl =\n",
              "          document.querySelector('#df-eeb9517e-a820-4d00-ae51-740532b72f09 button.colab-df-convert');\n",
              "        buttonEl.style.display =\n",
              "          google.colab.kernel.accessAllowed ? 'block' : 'none';\n",
              "\n",
              "        async function convertToInteractive(key) {\n",
              "          const element = document.querySelector('#df-eeb9517e-a820-4d00-ae51-740532b72f09');\n",
              "          const dataTable =\n",
              "            await google.colab.kernel.invokeFunction('convertToInteractive',\n",
              "                                                     [key], {});\n",
              "          if (!dataTable) return;\n",
              "\n",
              "          const docLinkHtml = 'Like what you see? Visit the ' +\n",
              "            '<a target=\"_blank\" href=https://colab.research.google.com/notebooks/data_table.ipynb>data table notebook</a>'\n",
              "            + ' to learn more about interactive tables.';\n",
              "          element.innerHTML = '';\n",
              "          dataTable['output_type'] = 'display_data';\n",
              "          await google.colab.output.renderOutput(dataTable, element);\n",
              "          const docLink = document.createElement('div');\n",
              "          docLink.innerHTML = docLinkHtml;\n",
              "          element.appendChild(docLink);\n",
              "        }\n",
              "      </script>\n",
              "    </div>\n",
              "  </div>\n",
              "  "
            ],
            "text/plain": [
              "   Rank  ...                                EligibilityCriteria\n",
              "0     1  ...  Inclusion Criteria:||Adult patients (19 and ol...\n",
              "1     2  ...  Inclusion criteria:||Age between 18 and 40 yea...\n",
              "2     3  ...  Inclusion Criteria:||BMI less than or equal to...\n",
              "3     4  ...  Inclusion Criteria:||diagnosis of type 2 diabe...\n",
              "4     5  ...  Inclusion Criteria:||Age between 18~75,both ge...\n",
              "\n",
              "[5 rows x 6 columns]"
            ]
          },
          "metadata": {},
          "execution_count": 2
        }
      ]
    },
    {
      "cell_type": "code",
      "source": [
        "# Convert the EligibilityCriteria to string then lowercase\n",
        "EligibilityCriteria = df['EligibilityCriteria'].astype(str).str.lower().tolist()\n",
        "EligibilityCriteria[:10]"
      ],
      "metadata": {
        "colab": {
          "base_uri": "https://localhost:8080/"
        },
        "id": "r0XkJBRAdjWR",
        "outputId": "d87c8c1e-9058-4d34-cb75-ee7796cfe758"
      },
      "execution_count": 3,
      "outputs": [
        {
          "output_type": "execute_result",
          "data": {
            "text/plain": [
              "['inclusion criteria:||adult patients (19 and older in state of nebraska) who present to the emergency department with shoulder pain/injury and potential shoulder dislocation||exclusion criteria:||injury sustained in major traumatic event (trauma activation), unable to consent, in extremis, less then 19 years of age',\n",
              " 'inclusion criteria:||age between 18 and 40 years;|women;|have a regular menstrual cycle;|body weight below 120 kg;|bmi between 30 kg/m2 and 40 kg/m2.||exclusion criteria:||individuals with any disease;|smokers;|alcoholics;|use regular medication;|medical impediment to the practice of physical activities;|carry out nutritional monitoring;|being in treatment for weight loss;|present some discomfort in long periods of fasting.',\n",
              " 'inclusion criteria:||bmi less than or equal to 28kg/m2|intact uterus with at least one ovary|regular menstrual cycles that occur every 21-35 days|if patient is postpartum or post-second trimester abortion, 3 menses (2 cycles) must have occurred prior to enrollment|if patient had a first trimester abortion or pregnancy loss, she must have one spontaneous menses prior to enrollment|desires insertion of an etonogestrel contraceptive implant for contraception|not currently pregnant or trying to become pregnant|willing to abstain from medications and supplements known to induce/inhibit cyp3a4 during the study||exclusion criteria:||have a known hypersensitivity or contraindications to etonogestrel.|medical conditions that affect liver function (e.g., hepatitis, cirrhosis; assessed via participant self-report)|known or suspected current alcohol dependence syndrome or any illicit drug use that may affect the metabolism of the etonogestrel.|uncontrolled thyroid disorder.|use of long-acting injectable hormonal contraceptive within the past 9 months|current use of hormonal oral, patch, intravaginal, or intrauterine contraception',\n",
              " \"inclusion criteria:||diagnosis of type 2 diabetes, with current hba1c > 6.5% and < 12% (self-reported and then measured at screening)|ability to speak english (this is a group-based intervention)|ability to engage in light physical activity|willingness to be randomized to either type of diet||exclusion criteria:||unable to provide informed consent|substance abuse, mental health, cognitive, or medical condition that would, in the opinion of the investigators, make it difficult for the individual to take part in the intervention or may alter key outcomes or require important diet modifications|pregnant or planning to become pregnant in the next 12 months, or currently breastfeeding (pregnancy and breastfeeding require modifications to the intervention's dietary approaches)|current use of weight loss medications (this is likely to alter weight outcomes and may alter other measures)|history of weight loss (bariatric) surgery or plans for bariatric surgery in the next year|currently enrolled in a weight loss program or have unalterable plans to enroll in one of these programs in the next year|vegan or vegetarian|unwilling or unable to participate in study measurements and group classes|current use of systemic steroids or immunomodulators (self-reported in screening survey; oral or iv systemic steroids excluded. injected steroids may be permitted depending on frequency and timing of injections with regard to lab assessments (minimum of 2 weeks between injection and blood tests))|weight above 400 pounds (weight limit for dual-energy x-ray absorptiometry (dexa) scans)|history of kidney stones|currently following a very low-carbohydrate diet\",\n",
              " \"inclusion criteria:||age between 18~75,both gender.|patients with upper gastrointestinal symptoms and with documented h.pylori infection.|patients are willing to receive eradication treatment.|women are eligible if they are not pregnant or nursing, and if they are of childbearing potential they are required to use medically acceptable contraception for the duration of the study and 30 days thereafter.||exclusion criteria:||patients are excluded if they have previously used antibiotics to eradicate adequately recorded infection with h. pylori.|contraindications or allergies to research drugs.|substantial organ impairment(eg liver cirrhosis, uremia, etc.), severe or unstable cardiopulmonary or endocrine disease.|constant use of anti-ulcer drugs ( including taking proton-pump. inhibitors(ppi) within 2 weeks before the [13c] urea breath test), antibiotics or bismuth complexes (more than 3 times /1 month before screening).|definite diagnosis of gastroduodenal ulcer and malt's lymphoma.|pregnant or lactating women.|underwent upper gastrointestinal surgery.|highly atypical hyperplasia, have symptom of dysphagia.|evidence of bleeding or iron eficiency anemia.|a history of malignancy.|drug or alcohol abuse history in the past 1 year.|systemic use of corticosteroids, non steroidal anti-inflammatory drugs, anticoagulants, platelet aggregation inhibitors (except the use of aspirin for less than 100 mg/d).|a person with a mental disorder|enrolled in other clinical trials in the past 3 months.|refusal to sign informed consent.\",\n",
              " \"inclusion criteria:||age ≥18, gender is not limited.|patients with traffic hydrocephalus caused by various reasons, including atmospheric hydrocephalus, who need cerebrospinal fluid shunt and meet the surgical indications to a certain extent.|typical imaging manifestations of hydrocephalus patients.|clinical manifestations of consciousness disorder.|whether or not you can participate in the study will be decided after a doctor's examination.||exclusion criteria:||patients with mental or motor disorders, such as alzheimer's disease, schizophrenia, and parkinson's disease.|patients with abnormal coagulation mechanism or receiving treatment with thrombolysis agent, anticoagulant or platelet coagulant inhibitor and hemophilia.|patients with serious diseases of other systems, such as serious diseases of blood system, respiratory system, digestive system, urinary system and immune system, as well as patients with mental disorders and recent history of intracranial infection.|patients with a known disease causing ventricle enlargement.|female patients in pregnancy and lactation.|other circumstances in which the doctor judges that he cannot participate in the test.|the subject himself or his legal representative refuses to participate in the clinical trial. whether you are suitable to participate in this study needs the final decision after doctor's examination.\",\n",
              " 'inclusion criteria:||male or female participants aged 18-65;|participant whose bmi is ≥30.0 and ≤45.0 kg/m2;|participants with stable weight within 3 months before the start of the trial, fluctuated within 4 kg;|participants who voluntarily agree with the investigation and sign a written informed consent form for the clinical trial.||exclusion criteria:||patients with secondary obesity caused by drugs or neuro-endocrine-metabolic disorders (such as hypothalamic disease and hypopituitarism);|patients who have been clearly diagnosed with type i or type ii diabetes;|patients who are taking medication which may affect the results of the trial.|patients whose hamilton 17-item depression scale (hamd-17) score >18;|patients with severe ulcer, abscess and skin infection at the local acupuncture area;|patients with severe diseases of multiple organs, such as heart, brain, lungs, liver, kidneys, hematopoietic system or other serious diseases;|participants who have joined in other clinical trials or studies within the past 1 month;|pregnant or lactating women.',\n",
              " \"inclusion criteria||in order to be eligible to participate in this study, a subject must meet all of the following criteria:||18 years and older|subjects must be willing to give written informed consent for the trial and able to adhere to dose and visit schedule.|non-insulin-dependent diabetes mellitus (niddm) or healthy sex, age (± 3 yrs) and bmi (± 3 kg/m2) matched controls.|have no clinical or electrocardiographic signs of ischemic heart disease as determined by the investigator with normal cardiac intervals appropriate for their gender. the screening 12 lead ecg conduction intervals must be within gender specific normal range (e.g., qtcf ≤ 430 msec, pr interval ≤ 220 msec). ecgs are to be judged by the investigator or sub investigator as per standardized procedures.||vital sign measurements must be within the following ranges: (individuals with values outside (or indicate lower or higher) of these ranges may be enrolled if clinically acceptable to the investigator and sponsor.||body temperature, between 35.5°c and 37.5°c|systolic blood pressure, 90 to 150 mmhg|diastolic blood pressure, 40 to 95 mmhg|pulse rate, 40 to 100 bpm|subjects must be free of any clinically significant disease that would interfere with the study evaluations.|subjects presenting out of range values of lab/ecg/vital signs compatible with normal variation of the normal healthy subject can be included in the study at the investigator's discretion and sponsor written approval.|positive allen's test|fitzpatrick skin type i or ii||a potential subject who meets any of the following criteria will be excluded from participation in this study:||insulin dependent diabetes mellitus|diagnosed obstructive sleep apnea (osas) or high suspicion of osas determined by a stop-bang score > 5|respiratory or cardiovascular disease|smoking/vaping|positive pregnancy test|conditions that result in elevated levels of methaemoglobinia|body mass index > 35 kg/m2|use of illicit drugs|use of prescription opioids or benzodiazepines|failure of the drug of abuse tests at screening or check-in.|history of dyspnea, asthma, tuberculosis, chronic obstructive pulmonary disease, or any other ventilatory / lung disease.|subjects with excessive facial hair preventing sealing of the occlusive face mask.|subjects who, in the opinion of the investigator, will not be able to participate optimally in the study.|subject who has a history of any infectious disease within 4 weeks prior to drug administration that in the opinion of the investigator, affects the subject's ability to participate in the trial.|subjects who are part of the study staff personnel or family members of the study staff personnel.|subjects who have demonstrated allergic reactions (e.g., food, drug, atopic reactions or asthmatic episodes) which, in the opinion of the investigator and sponsor, interfere with their ability to participate in the trial.|personal or family history of arrhythmias or ecg conductance abnormalities.|hypokalemia defined as <3.5 mmol/l\",\n",
              " 'inclusion criteria:||adults (≥18 years old), male or female ,|persons able to understand and object to the information provided (at the discretion of the investigator)|patient affiliated to social security|patient agreeing to sign the informed consent form|patient having presented at least one renal colic attack before inclusion||exclusion criteria:||pregnant or breastfeeding woman.|persons deprived of liberty,|adults under legal protection guardianship, or curators or unable to express their consent.|patient refusing to participate in the study|patient in an emergency situation',\n",
              " 'inclusion criteria:||aged between 30 and 60|fibromyalgia diagnosed according to the criteria of the combined widespread pain index (wpi) and the symptom severity scale (sss) of the american college of rheumatology ; and this whatever the previous analgesic medication and whatever the symptomatology|able to express her consent prior to participation in the study|affiliated to or beneficiary of a social security regimen||exclusion criteria:||total deafness in one or both ears (patients with age-related presbycusis can be included)|pregnant women|patient under judicial protection (guardianship, curatorship...) or safeguard of justice']"
            ]
          },
          "metadata": {},
          "execution_count": 3
        }
      ]
    },
    {
      "cell_type": "code",
      "source": [
        "# Seperate the InclusionCriteria from the ExclusionCriteria\n",
        "InclusionCriteria = [txt[21:txt.find('exclusion criteria')-2] for txt in EligibilityCriteria]\n",
        "InclusionCriteria[:10]"
      ],
      "metadata": {
        "colab": {
          "base_uri": "https://localhost:8080/"
        },
        "id": "IkRH1_hKmuuE",
        "outputId": "96896bbc-0f51-4905-c466-a242aa4ce26e"
      },
      "execution_count": 4,
      "outputs": [
        {
          "output_type": "execute_result",
          "data": {
            "text/plain": [
              "['adult patients (19 and older in state of nebraska) who present to the emergency department with shoulder pain/injury and potential shoulder dislocation',\n",
              " 'age between 18 and 40 years;|women;|have a regular menstrual cycle;|body weight below 120 kg;|bmi between 30 kg/m2 and 40 kg/m2.',\n",
              " 'bmi less than or equal to 28kg/m2|intact uterus with at least one ovary|regular menstrual cycles that occur every 21-35 days|if patient is postpartum or post-second trimester abortion, 3 menses (2 cycles) must have occurred prior to enrollment|if patient had a first trimester abortion or pregnancy loss, she must have one spontaneous menses prior to enrollment|desires insertion of an etonogestrel contraceptive implant for contraception|not currently pregnant or trying to become pregnant|willing to abstain from medications and supplements known to induce/inhibit cyp3a4 during the study',\n",
              " 'diagnosis of type 2 diabetes, with current hba1c > 6.5% and < 12% (self-reported and then measured at screening)|ability to speak english (this is a group-based intervention)|ability to engage in light physical activity|willingness to be randomized to either type of diet',\n",
              " 'age between 18~75,both gender.|patients with upper gastrointestinal symptoms and with documented h.pylori infection.|patients are willing to receive eradication treatment.|women are eligible if they are not pregnant or nursing, and if they are of childbearing potential they are required to use medically acceptable contraception for the duration of the study and 30 days thereafter.',\n",
              " \"age ≥18, gender is not limited.|patients with traffic hydrocephalus caused by various reasons, including atmospheric hydrocephalus, who need cerebrospinal fluid shunt and meet the surgical indications to a certain extent.|typical imaging manifestations of hydrocephalus patients.|clinical manifestations of consciousness disorder.|whether or not you can participate in the study will be decided after a doctor's examination.\",\n",
              " 'male or female participants aged 18-65;|participant whose bmi is ≥30.0 and ≤45.0 kg/m2;|participants with stable weight within 3 months before the start of the trial, fluctuated within 4 kg;|participants who voluntarily agree with the investigation and sign a written informed consent form for the clinical trial.',\n",
              " \"n order to be eligible to participate in this study, a subject must meet all of the following criteria:||18 years and older|subjects must be willing to give written informed consent for the trial and able to adhere to dose and visit schedule.|non-insulin-dependent diabetes mellitus (niddm) or healthy sex, age (± 3 yrs) and bmi (± 3 kg/m2) matched controls.|have no clinical or electrocardiographic signs of ischemic heart disease as determined by the investigator with normal cardiac intervals appropriate for their gender. the screening 12 lead ecg conduction intervals must be within gender specific normal range (e.g., qtcf ≤ 430 msec, pr interval ≤ 220 msec). ecgs are to be judged by the investigator or sub investigator as per standardized procedures.||vital sign measurements must be within the following ranges: (individuals with values outside (or indicate lower or higher) of these ranges may be enrolled if clinically acceptable to the investigator and sponsor.||body temperature, between 35.5°c and 37.5°c|systolic blood pressure, 90 to 150 mmhg|diastolic blood pressure, 40 to 95 mmhg|pulse rate, 40 to 100 bpm|subjects must be free of any clinically significant disease that would interfere with the study evaluations.|subjects presenting out of range values of lab/ecg/vital signs compatible with normal variation of the normal healthy subject can be included in the study at the investigator's discretion and sponsor written approval.|positive allen's test|fitzpatrick skin type i or ii||a potential subject who meets any of the following criteria will be excluded from participation in this study:||insulin dependent diabetes mellitus|diagnosed obstructive sleep apnea (osas) or high suspicion of osas determined by a stop-bang score > 5|respiratory or cardiovascular disease|smoking/vaping|positive pregnancy test|conditions that result in elevated levels of methaemoglobinia|body mass index > 35 kg/m2|use of illicit drugs|use of prescription opioids or benzodiazepines|failure of the drug of abuse tests at screening or check-in.|history of dyspnea, asthma, tuberculosis, chronic obstructive pulmonary disease, or any other ventilatory / lung disease.|subjects with excessive facial hair preventing sealing of the occlusive face mask.|subjects who, in the opinion of the investigator, will not be able to participate optimally in the study.|subject who has a history of any infectious disease within 4 weeks prior to drug administration that in the opinion of the investigator, affects the subject's ability to participate in the trial.|subjects who are part of the study staff personnel or family members of the study staff personnel.|subjects who have demonstrated allergic reactions (e.g., food, drug, atopic reactions or asthmatic episodes) which, in the opinion of the investigator and sponsor, interfere with their ability to participate in the trial.|personal or family history of arrhythmias or ecg conductance abnormalities.|hypokalemia defined as <3.5 mmo\",\n",
              " 'adults (≥18 years old), male or female ,|persons able to understand and object to the information provided (at the discretion of the investigator)|patient affiliated to social security|patient agreeing to sign the informed consent form|patient having presented at least one renal colic attack before inclusion',\n",
              " 'aged between 30 and 60|fibromyalgia diagnosed according to the criteria of the combined widespread pain index (wpi) and the symptom severity scale (sss) of the american college of rheumatology ; and this whatever the previous analgesic medication and whatever the symptomatology|able to express her consent prior to participation in the study|affiliated to or beneficiary of a social security regimen']"
            ]
          },
          "metadata": {},
          "execution_count": 4
        }
      ]
    },
    {
      "cell_type": "code",
      "source": [
        "# Seperate the ExclusionCriteria from the InclusionCriteria\n",
        "ExclusionCriteria = [txt[txt.find('exclusion criteria')+21:] for txt in EligibilityCriteria]\n",
        "ExclusionCriteria[:10]"
      ],
      "metadata": {
        "colab": {
          "base_uri": "https://localhost:8080/"
        },
        "id": "cGV-0j2KoAa_",
        "outputId": "efef6401-41f0-4bee-b954-500429ec4c80"
      },
      "execution_count": 5,
      "outputs": [
        {
          "output_type": "execute_result",
          "data": {
            "text/plain": [
              "['injury sustained in major traumatic event (trauma activation), unable to consent, in extremis, less then 19 years of age',\n",
              " 'individuals with any disease;|smokers;|alcoholics;|use regular medication;|medical impediment to the practice of physical activities;|carry out nutritional monitoring;|being in treatment for weight loss;|present some discomfort in long periods of fasting.',\n",
              " 'have a known hypersensitivity or contraindications to etonogestrel.|medical conditions that affect liver function (e.g., hepatitis, cirrhosis; assessed via participant self-report)|known or suspected current alcohol dependence syndrome or any illicit drug use that may affect the metabolism of the etonogestrel.|uncontrolled thyroid disorder.|use of long-acting injectable hormonal contraceptive within the past 9 months|current use of hormonal oral, patch, intravaginal, or intrauterine contraception',\n",
              " \"unable to provide informed consent|substance abuse, mental health, cognitive, or medical condition that would, in the opinion of the investigators, make it difficult for the individual to take part in the intervention or may alter key outcomes or require important diet modifications|pregnant or planning to become pregnant in the next 12 months, or currently breastfeeding (pregnancy and breastfeeding require modifications to the intervention's dietary approaches)|current use of weight loss medications (this is likely to alter weight outcomes and may alter other measures)|history of weight loss (bariatric) surgery or plans for bariatric surgery in the next year|currently enrolled in a weight loss program or have unalterable plans to enroll in one of these programs in the next year|vegan or vegetarian|unwilling or unable to participate in study measurements and group classes|current use of systemic steroids or immunomodulators (self-reported in screening survey; oral or iv systemic steroids excluded. injected steroids may be permitted depending on frequency and timing of injections with regard to lab assessments (minimum of 2 weeks between injection and blood tests))|weight above 400 pounds (weight limit for dual-energy x-ray absorptiometry (dexa) scans)|history of kidney stones|currently following a very low-carbohydrate diet\",\n",
              " \"patients are excluded if they have previously used antibiotics to eradicate adequately recorded infection with h. pylori.|contraindications or allergies to research drugs.|substantial organ impairment(eg liver cirrhosis, uremia, etc.), severe or unstable cardiopulmonary or endocrine disease.|constant use of anti-ulcer drugs ( including taking proton-pump. inhibitors(ppi) within 2 weeks before the [13c] urea breath test), antibiotics or bismuth complexes (more than 3 times /1 month before screening).|definite diagnosis of gastroduodenal ulcer and malt's lymphoma.|pregnant or lactating women.|underwent upper gastrointestinal surgery.|highly atypical hyperplasia, have symptom of dysphagia.|evidence of bleeding or iron eficiency anemia.|a history of malignancy.|drug or alcohol abuse history in the past 1 year.|systemic use of corticosteroids, non steroidal anti-inflammatory drugs, anticoagulants, platelet aggregation inhibitors (except the use of aspirin for less than 100 mg/d).|a person with a mental disorder|enrolled in other clinical trials in the past 3 months.|refusal to sign informed consent.\",\n",
              " \"patients with mental or motor disorders, such as alzheimer's disease, schizophrenia, and parkinson's disease.|patients with abnormal coagulation mechanism or receiving treatment with thrombolysis agent, anticoagulant or platelet coagulant inhibitor and hemophilia.|patients with serious diseases of other systems, such as serious diseases of blood system, respiratory system, digestive system, urinary system and immune system, as well as patients with mental disorders and recent history of intracranial infection.|patients with a known disease causing ventricle enlargement.|female patients in pregnancy and lactation.|other circumstances in which the doctor judges that he cannot participate in the test.|the subject himself or his legal representative refuses to participate in the clinical trial. whether you are suitable to participate in this study needs the final decision after doctor's examination.\",\n",
              " 'patients with secondary obesity caused by drugs or neuro-endocrine-metabolic disorders (such as hypothalamic disease and hypopituitarism);|patients who have been clearly diagnosed with type i or type ii diabetes;|patients who are taking medication which may affect the results of the trial.|patients whose hamilton 17-item depression scale (hamd-17) score >18;|patients with severe ulcer, abscess and skin infection at the local acupuncture area;|patients with severe diseases of multiple organs, such as heart, brain, lungs, liver, kidneys, hematopoietic system or other serious diseases;|participants who have joined in other clinical trials or studies within the past 1 month;|pregnant or lactating women.',\n",
              " \"in order to be eligible to participate in this study, a subject must meet all of the following criteria:||18 years and older|subjects must be willing to give written informed consent for the trial and able to adhere to dose and visit schedule.|non-insulin-dependent diabetes mellitus (niddm) or healthy sex, age (± 3 yrs) and bmi (± 3 kg/m2) matched controls.|have no clinical or electrocardiographic signs of ischemic heart disease as determined by the investigator with normal cardiac intervals appropriate for their gender. the screening 12 lead ecg conduction intervals must be within gender specific normal range (e.g., qtcf ≤ 430 msec, pr interval ≤ 220 msec). ecgs are to be judged by the investigator or sub investigator as per standardized procedures.||vital sign measurements must be within the following ranges: (individuals with values outside (or indicate lower or higher) of these ranges may be enrolled if clinically acceptable to the investigator and sponsor.||body temperature, between 35.5°c and 37.5°c|systolic blood pressure, 90 to 150 mmhg|diastolic blood pressure, 40 to 95 mmhg|pulse rate, 40 to 100 bpm|subjects must be free of any clinically significant disease that would interfere with the study evaluations.|subjects presenting out of range values of lab/ecg/vital signs compatible with normal variation of the normal healthy subject can be included in the study at the investigator's discretion and sponsor written approval.|positive allen's test|fitzpatrick skin type i or ii||a potential subject who meets any of the following criteria will be excluded from participation in this study:||insulin dependent diabetes mellitus|diagnosed obstructive sleep apnea (osas) or high suspicion of osas determined by a stop-bang score > 5|respiratory or cardiovascular disease|smoking/vaping|positive pregnancy test|conditions that result in elevated levels of methaemoglobinia|body mass index > 35 kg/m2|use of illicit drugs|use of prescription opioids or benzodiazepines|failure of the drug of abuse tests at screening or check-in.|history of dyspnea, asthma, tuberculosis, chronic obstructive pulmonary disease, or any other ventilatory / lung disease.|subjects with excessive facial hair preventing sealing of the occlusive face mask.|subjects who, in the opinion of the investigator, will not be able to participate optimally in the study.|subject who has a history of any infectious disease within 4 weeks prior to drug administration that in the opinion of the investigator, affects the subject's ability to participate in the trial.|subjects who are part of the study staff personnel or family members of the study staff personnel.|subjects who have demonstrated allergic reactions (e.g., food, drug, atopic reactions or asthmatic episodes) which, in the opinion of the investigator and sponsor, interfere with their ability to participate in the trial.|personal or family history of arrhythmias or ecg conductance abnormalities.|hypokalemia defined as <3.5 mmol/l\",\n",
              " 'pregnant or breastfeeding woman.|persons deprived of liberty,|adults under legal protection guardianship, or curators or unable to express their consent.|patient refusing to participate in the study|patient in an emergency situation',\n",
              " 'total deafness in one or both ears (patients with age-related presbycusis can be included)|pregnant women|patient under judicial protection (guardianship, curatorship...) or safeguard of justice']"
            ]
          },
          "metadata": {},
          "execution_count": 5
        }
      ]
    },
    {
      "cell_type": "code",
      "source": [
        "# Split each Trial InclusionCriteria into list of lists of the InclusionCriteria\n",
        "InclusionCriteriaList = list(map(lambda txt : txt.split(\"|\"), InclusionCriteria))\n",
        "InclusionCriteriaList = [list(filter(lambda txt: txt!= '', ltexts)) for ltexts in InclusionCriteriaList] # Delete the empty string generated by successive || (sometimes they seperate with | or ||)\n",
        "InclusionCriteriaList[:2]"
      ],
      "metadata": {
        "colab": {
          "base_uri": "https://localhost:8080/"
        },
        "id": "lb79KYUKpoxC",
        "outputId": "1a65e477-732c-45a8-8017-14e3baf879f5"
      },
      "execution_count": 6,
      "outputs": [
        {
          "output_type": "execute_result",
          "data": {
            "text/plain": [
              "[['adult patients (19 and older in state of nebraska) who present to the emergency department with shoulder pain/injury and potential shoulder dislocation'],\n",
              " ['age between 18 and 40 years;',\n",
              "  'women;',\n",
              "  'have a regular menstrual cycle;',\n",
              "  'body weight below 120 kg;',\n",
              "  'bmi between 30 kg/m2 and 40 kg/m2.']]"
            ]
          },
          "metadata": {},
          "execution_count": 6
        }
      ]
    },
    {
      "cell_type": "code",
      "source": [
        "# Split each Trial ExclusionCriteria into list of lists of the ExclusionCriteria\n",
        "ExclusionCriteriaList = list(map(lambda txt : txt.split(\"|\"), ExclusionCriteria))\n",
        "ExclusionCriteriaList = [list(filter(lambda txt: txt!= '', ltexts)) for ltexts in ExclusionCriteriaList] # Delete the empty string generated by successive || (sometimes they seperate with | or ||)\n",
        "ExclusionCriteriaList[:2]"
      ],
      "metadata": {
        "colab": {
          "base_uri": "https://localhost:8080/"
        },
        "id": "eT_YPacftyU4",
        "outputId": "763af1a7-689e-4868-b281-93ea602ee15b"
      },
      "execution_count": 7,
      "outputs": [
        {
          "output_type": "execute_result",
          "data": {
            "text/plain": [
              "[['injury sustained in major traumatic event (trauma activation), unable to consent, in extremis, less then 19 years of age'],\n",
              " ['individuals with any disease;',\n",
              "  'smokers;',\n",
              "  'alcoholics;',\n",
              "  'use regular medication;',\n",
              "  'medical impediment to the practice of physical activities;',\n",
              "  'carry out nutritional monitoring;',\n",
              "  'being in treatment for weight loss;',\n",
              "  'present some discomfort in long periods of fasting.']]"
            ]
          },
          "metadata": {},
          "execution_count": 7
        }
      ]
    },
    {
      "cell_type": "code",
      "source": [
        "df['InclusionCriteriaList'] = InclusionCriteriaList\n",
        "df['ExclusionCriteriaList'] = ExclusionCriteriaList\n",
        "df.head()"
      ],
      "metadata": {
        "colab": {
          "base_uri": "https://localhost:8080/",
          "height": 406
        },
        "id": "AkaDYyVhxcpY",
        "outputId": "42160ab9-e1c7-41dd-f72b-093b7dd2d711"
      },
      "execution_count": 8,
      "outputs": [
        {
          "output_type": "execute_result",
          "data": {
            "text/html": [
              "\n",
              "  <div id=\"df-1d93ff4c-21df-4836-aa2b-f604805b216a\">\n",
              "    <div class=\"colab-df-container\">\n",
              "      <div>\n",
              "<style scoped>\n",
              "    .dataframe tbody tr th:only-of-type {\n",
              "        vertical-align: middle;\n",
              "    }\n",
              "\n",
              "    .dataframe tbody tr th {\n",
              "        vertical-align: top;\n",
              "    }\n",
              "\n",
              "    .dataframe thead th {\n",
              "        text-align: right;\n",
              "    }\n",
              "</style>\n",
              "<table border=\"1\" class=\"dataframe\">\n",
              "  <thead>\n",
              "    <tr style=\"text-align: right;\">\n",
              "      <th></th>\n",
              "      <th>Rank</th>\n",
              "      <th>NCTId</th>\n",
              "      <th>BriefTitle</th>\n",
              "      <th>Condition</th>\n",
              "      <th>Keyword</th>\n",
              "      <th>EligibilityCriteria</th>\n",
              "      <th>InclusionCriteriaList</th>\n",
              "      <th>ExclusionCriteriaList</th>\n",
              "    </tr>\n",
              "  </thead>\n",
              "  <tbody>\n",
              "    <tr>\n",
              "      <th>0</th>\n",
              "      <td>1</td>\n",
              "      <td>NCT05237167</td>\n",
              "      <td>Time to Diagnosis of Glenohumeral Joint Disloc...</td>\n",
              "      <td>Glenohumeral Dislocation</td>\n",
              "      <td>glenohumeral dislocation|POC Ultrasound|Plain ...</td>\n",
              "      <td>Inclusion Criteria:||Adult patients (19 and ol...</td>\n",
              "      <td>[adult patients (19 and older in state of nebr...</td>\n",
              "      <td>[injury sustained in major traumatic event (tr...</td>\n",
              "    </tr>\n",
              "    <tr>\n",
              "      <th>1</th>\n",
              "      <td>2</td>\n",
              "      <td>NCT05237154</td>\n",
              "      <td>Intermittent Fasting and Exercise: Effects on ...</td>\n",
              "      <td>Composition and Function of the Gut Microbiota...</td>\n",
              "      <td>Obesity|Gut microbiota|Intermittent fasting|Hi...</td>\n",
              "      <td>Inclusion criteria:||Age between 18 and 40 yea...</td>\n",
              "      <td>[age between 18 and 40 years;, women;, have a ...</td>\n",
              "      <td>[individuals with any disease;, smokers;, alco...</td>\n",
              "    </tr>\n",
              "    <tr>\n",
              "      <th>2</th>\n",
              "      <td>3</td>\n",
              "      <td>NCT05237141</td>\n",
              "      <td>Etonogestrel Implant as Emergency Contraception</td>\n",
              "      <td>Contraception</td>\n",
              "      <td>NaN</td>\n",
              "      <td>Inclusion Criteria:||BMI less than or equal to...</td>\n",
              "      <td>[bmi less than or equal to 28kg/m2, intact ute...</td>\n",
              "      <td>[have a known hypersensitivity or contraindica...</td>\n",
              "    </tr>\n",
              "    <tr>\n",
              "      <th>3</th>\n",
              "      <td>4</td>\n",
              "      <td>NCT05237128</td>\n",
              "      <td>The Lifestyle Education About Nutrition for Di...</td>\n",
              "      <td>Type 2 Diabetes</td>\n",
              "      <td>Very low-carbohydrate diet|Moderate-carbohydra...</td>\n",
              "      <td>Inclusion Criteria:||diagnosis of type 2 diabe...</td>\n",
              "      <td>[diagnosis of type 2 diabetes, with current hb...</td>\n",
              "      <td>[unable to provide informed consent, substance...</td>\n",
              "    </tr>\n",
              "    <tr>\n",
              "      <th>4</th>\n",
              "      <td>5</td>\n",
              "      <td>NCT05237115</td>\n",
              "      <td>Helicobacter Pylori Eradication With Probiotic...</td>\n",
              "      <td>Gastritis|Peptic Ulcer|Dyspepsia</td>\n",
              "      <td>Helicobacter pylori|Probiotics-combining tripl...</td>\n",
              "      <td>Inclusion Criteria:||Age between 18~75,both ge...</td>\n",
              "      <td>[age between 18~75,both gender., patients with...</td>\n",
              "      <td>[patients are excluded if they have previously...</td>\n",
              "    </tr>\n",
              "  </tbody>\n",
              "</table>\n",
              "</div>\n",
              "      <button class=\"colab-df-convert\" onclick=\"convertToInteractive('df-1d93ff4c-21df-4836-aa2b-f604805b216a')\"\n",
              "              title=\"Convert this dataframe to an interactive table.\"\n",
              "              style=\"display:none;\">\n",
              "        \n",
              "  <svg xmlns=\"http://www.w3.org/2000/svg\" height=\"24px\"viewBox=\"0 0 24 24\"\n",
              "       width=\"24px\">\n",
              "    <path d=\"M0 0h24v24H0V0z\" fill=\"none\"/>\n",
              "    <path d=\"M18.56 5.44l.94 2.06.94-2.06 2.06-.94-2.06-.94-.94-2.06-.94 2.06-2.06.94zm-11 1L8.5 8.5l.94-2.06 2.06-.94-2.06-.94L8.5 2.5l-.94 2.06-2.06.94zm10 10l.94 2.06.94-2.06 2.06-.94-2.06-.94-.94-2.06-.94 2.06-2.06.94z\"/><path d=\"M17.41 7.96l-1.37-1.37c-.4-.4-.92-.59-1.43-.59-.52 0-1.04.2-1.43.59L10.3 9.45l-7.72 7.72c-.78.78-.78 2.05 0 2.83L4 21.41c.39.39.9.59 1.41.59.51 0 1.02-.2 1.41-.59l7.78-7.78 2.81-2.81c.8-.78.8-2.07 0-2.86zM5.41 20L4 18.59l7.72-7.72 1.47 1.35L5.41 20z\"/>\n",
              "  </svg>\n",
              "      </button>\n",
              "      \n",
              "  <style>\n",
              "    .colab-df-container {\n",
              "      display:flex;\n",
              "      flex-wrap:wrap;\n",
              "      gap: 12px;\n",
              "    }\n",
              "\n",
              "    .colab-df-convert {\n",
              "      background-color: #E8F0FE;\n",
              "      border: none;\n",
              "      border-radius: 50%;\n",
              "      cursor: pointer;\n",
              "      display: none;\n",
              "      fill: #1967D2;\n",
              "      height: 32px;\n",
              "      padding: 0 0 0 0;\n",
              "      width: 32px;\n",
              "    }\n",
              "\n",
              "    .colab-df-convert:hover {\n",
              "      background-color: #E2EBFA;\n",
              "      box-shadow: 0px 1px 2px rgba(60, 64, 67, 0.3), 0px 1px 3px 1px rgba(60, 64, 67, 0.15);\n",
              "      fill: #174EA6;\n",
              "    }\n",
              "\n",
              "    [theme=dark] .colab-df-convert {\n",
              "      background-color: #3B4455;\n",
              "      fill: #D2E3FC;\n",
              "    }\n",
              "\n",
              "    [theme=dark] .colab-df-convert:hover {\n",
              "      background-color: #434B5C;\n",
              "      box-shadow: 0px 1px 3px 1px rgba(0, 0, 0, 0.15);\n",
              "      filter: drop-shadow(0px 1px 2px rgba(0, 0, 0, 0.3));\n",
              "      fill: #FFFFFF;\n",
              "    }\n",
              "  </style>\n",
              "\n",
              "      <script>\n",
              "        const buttonEl =\n",
              "          document.querySelector('#df-1d93ff4c-21df-4836-aa2b-f604805b216a button.colab-df-convert');\n",
              "        buttonEl.style.display =\n",
              "          google.colab.kernel.accessAllowed ? 'block' : 'none';\n",
              "\n",
              "        async function convertToInteractive(key) {\n",
              "          const element = document.querySelector('#df-1d93ff4c-21df-4836-aa2b-f604805b216a');\n",
              "          const dataTable =\n",
              "            await google.colab.kernel.invokeFunction('convertToInteractive',\n",
              "                                                     [key], {});\n",
              "          if (!dataTable) return;\n",
              "\n",
              "          const docLinkHtml = 'Like what you see? Visit the ' +\n",
              "            '<a target=\"_blank\" href=https://colab.research.google.com/notebooks/data_table.ipynb>data table notebook</a>'\n",
              "            + ' to learn more about interactive tables.';\n",
              "          element.innerHTML = '';\n",
              "          dataTable['output_type'] = 'display_data';\n",
              "          await google.colab.output.renderOutput(dataTable, element);\n",
              "          const docLink = document.createElement('div');\n",
              "          docLink.innerHTML = docLinkHtml;\n",
              "          element.appendChild(docLink);\n",
              "        }\n",
              "      </script>\n",
              "    </div>\n",
              "  </div>\n",
              "  "
            ],
            "text/plain": [
              "   Rank  ...                              ExclusionCriteriaList\n",
              "0     1  ...  [injury sustained in major traumatic event (tr...\n",
              "1     2  ...  [individuals with any disease;, smokers;, alco...\n",
              "2     3  ...  [have a known hypersensitivity or contraindica...\n",
              "3     4  ...  [unable to provide informed consent, substance...\n",
              "4     5  ...  [patients are excluded if they have previously...\n",
              "\n",
              "[5 rows x 8 columns]"
            ]
          },
          "metadata": {},
          "execution_count": 8
        }
      ]
    },
    {
      "cell_type": "code",
      "source": [
        "df.to_excel('df.xlsx')\n",
        "files.download('df.xlsx')"
      ],
      "metadata": {
        "colab": {
          "base_uri": "https://localhost:8080/",
          "height": 17
        },
        "id": "EREp1ZY8xqU1",
        "outputId": "a4b447d2-e09a-42b9-aa07-0e3bc6dc4ab7"
      },
      "execution_count": 9,
      "outputs": [
        {
          "output_type": "display_data",
          "data": {
            "application/javascript": [
              "\n",
              "    async function download(id, filename, size) {\n",
              "      if (!google.colab.kernel.accessAllowed) {\n",
              "        return;\n",
              "      }\n",
              "      const div = document.createElement('div');\n",
              "      const label = document.createElement('label');\n",
              "      label.textContent = `Downloading \"${filename}\": `;\n",
              "      div.appendChild(label);\n",
              "      const progress = document.createElement('progress');\n",
              "      progress.max = size;\n",
              "      div.appendChild(progress);\n",
              "      document.body.appendChild(div);\n",
              "\n",
              "      const buffers = [];\n",
              "      let downloaded = 0;\n",
              "\n",
              "      const channel = await google.colab.kernel.comms.open(id);\n",
              "      // Send a message to notify the kernel that we're ready.\n",
              "      channel.send({})\n",
              "\n",
              "      for await (const message of channel.messages) {\n",
              "        // Send a message to notify the kernel that we're ready.\n",
              "        channel.send({})\n",
              "        if (message.buffers) {\n",
              "          for (const buffer of message.buffers) {\n",
              "            buffers.push(buffer);\n",
              "            downloaded += buffer.byteLength;\n",
              "            progress.value = downloaded;\n",
              "          }\n",
              "        }\n",
              "      }\n",
              "      const blob = new Blob(buffers, {type: 'application/binary'});\n",
              "      const a = document.createElement('a');\n",
              "      a.href = window.URL.createObjectURL(blob);\n",
              "      a.download = filename;\n",
              "      div.appendChild(a);\n",
              "      a.click();\n",
              "      div.remove();\n",
              "    }\n",
              "  "
            ],
            "text/plain": [
              "<IPython.core.display.Javascript object>"
            ]
          },
          "metadata": {}
        },
        {
          "output_type": "display_data",
          "data": {
            "application/javascript": [
              "download(\"download_66d8eaa0-adb9-437a-a15b-8feeb6c1b338\", \"df.xlsx\", 728482)"
            ],
            "text/plain": [
              "<IPython.core.display.Javascript object>"
            ]
          },
          "metadata": {}
        }
      ]
    }
  ]
}