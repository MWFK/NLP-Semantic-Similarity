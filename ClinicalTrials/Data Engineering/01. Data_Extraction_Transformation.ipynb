{
  "nbformat": 4,
  "nbformat_minor": 0,
  "metadata": {
    "colab": {
      "name": "00. Data Extraction & Transformation.ipynb",
      "provenance": [],
      "authorship_tag": "ABX9TyMss8xudqMY/bUsN9IyuqeV",
      "include_colab_link": true
    },
    "kernelspec": {
      "name": "python3",
      "display_name": "Python 3"
    },
    "language_info": {
      "name": "python"
    }
  },
  "cells": [
    {
      "cell_type": "markdown",
      "metadata": {
        "id": "view-in-github",
        "colab_type": "text"
      },
      "source": [
        "<a href=\"https://colab.research.google.com/github/MWFK/NLP-Semantic-Similarity/blob/main/ClinicalTrials/Data%20Engineering/01.%20Data_Extraction_Transformation.ipynb\" target=\"_parent\"><img src=\"https://colab.research.google.com/assets/colab-badge.svg\" alt=\"Open In Colab\"/></a>"
      ]
    },
    {
      "cell_type": "markdown",
      "source": [
        "### Objectives\n",
        "\n",
        "Get the data from https://clinicaltrials.gov using their API.\n",
        "\n",
        "Transform the data into usable dataset."
      ],
      "metadata": {
        "id": "bu-NVWrQbrDc"
      }
    },
    {
      "cell_type": "markdown",
      "source": [
        "### Libs"
      ],
      "metadata": {
        "id": "rlXXSTOAcCuP"
      }
    },
    {
      "cell_type": "code",
      "execution_count": null,
      "metadata": {
        "id": "EaqHXoGGbiGe"
      },
      "outputs": [],
      "source": [
        "import pandas as pd\n",
        "# pd.set_option('display.max_columns', None)  \n",
        "# pd.set_option('display.max_colwidth', None)\n",
        "import requests\n",
        "from requests.adapters import HTTPAdapter\n",
        "from requests.packages.urllib3.util.retry import Retry"
      ]
    },
    {
      "cell_type": "markdown",
      "source": [
        "### Data"
      ],
      "metadata": {
        "id": "InHFvFTncHrv"
      }
    },
    {
      "cell_type": "code",
      "source": [
        "######### Study ##############\n",
        "# lung cancer \n",
        "# NStudiesFound: 10152\n",
        "\n",
        "######### Study Fields #######\n",
        "# NCTId, OrgFullName, OfficialTitle, OverallStatus, Keyword, DetailedDescription, Condition, EligibilityCriteria, HealthyVolunteers, Gender, MinimumAge, StudyPopulation, LocationFacility, LocationCity, LocationState, LocationZip, LocationCountry\n",
        "\n",
        "### New Fields to add\n",
        "#LocationStatus\n",
        "\n",
        "######### Range Min_MAX ######\n",
        "# 1 to 10152\n",
        "\n",
        "######### Format ############\n",
        "# CSV\n",
        "\n",
        "\n",
        "step    = 1000\n",
        "min_rnk = 1\n",
        "max_rnk = step\n",
        "\n",
        "for req in range(11): \n",
        "    \n",
        "    print(\"Downloading Lung Cancer clinical trials with ranks from \", min_rnk, \" to \", max_rnk)\n",
        "\n",
        "    url = 'https://clinicaltrials.gov/api/query/study_fields?expr=lung+cancer&fields=NCTId%2C+OrgFullName%2C+OfficialTitle%2C+OverallStatus%2C+Keyword%2C+DetailedDescription%2C+Condition%2C+EligibilityCriteria%2C+HealthyVolunteers%2C+Gender%2C+MinimumAge%2C+StudyPopulation%2C+LocationFacility%2C+LocationCity%2C+LocationState%2C+LocationStatus%2C+LocationZip%2C+LocationCountry&min_rnk='+str(min_rnk)+'&max_rnk='+str(max_rnk)+'&fmt=csv'\n",
        "\n",
        "    session = requests.Session()\n",
        "    retry   = Retry(connect=3, backoff_factor=0.5)\n",
        "    adapter = HTTPAdapter(max_retries=retry)\n",
        "    session.mount('http://' , adapter)\n",
        "    session.mount('https://', adapter)\n",
        "\n",
        "    clinicaltrials = session.get(url)\n",
        "    print('Download Request Status: ', clinicaltrials.status_code)\n",
        "    \n",
        "    csv_file = open('/content/'+str(req)+'-batch.csv', 'wb')\n",
        "    csv_file.write(clinicaltrials.content)\n",
        "    csv_file.close()\n",
        "    \n",
        "    min_rnk = max_rnk + 1\n",
        "    max_rnk += step"
      ],
      "metadata": {
        "colab": {
          "base_uri": "https://localhost:8080/"
        },
        "id": "qF1w3XpdcG9c",
        "outputId": "35f6aee1-cb38-4bb8-96e8-41292f7b8683"
      },
      "execution_count": null,
      "outputs": [
        {
          "output_type": "stream",
          "name": "stdout",
          "text": [
            "Downloading Lung Cancer clinical trials with ranks from  1  to  1000\n",
            "Download Request Status:  200\n",
            "Downloading Lung Cancer clinical trials with ranks from  1001  to  2000\n",
            "Download Request Status:  200\n",
            "Downloading Lung Cancer clinical trials with ranks from  2001  to  3000\n",
            "Download Request Status:  200\n",
            "Downloading Lung Cancer clinical trials with ranks from  3001  to  4000\n",
            "Download Request Status:  200\n",
            "Downloading Lung Cancer clinical trials with ranks from  4001  to  5000\n",
            "Download Request Status:  200\n",
            "Downloading Lung Cancer clinical trials with ranks from  5001  to  6000\n",
            "Download Request Status:  200\n",
            "Downloading Lung Cancer clinical trials with ranks from  6001  to  7000\n",
            "Download Request Status:  200\n",
            "Downloading Lung Cancer clinical trials with ranks from  7001  to  8000\n",
            "Download Request Status:  200\n",
            "Downloading Lung Cancer clinical trials with ranks from  8001  to  9000\n",
            "Download Request Status:  200\n",
            "Downloading Lung Cancer clinical trials with ranks from  9001  to  10000\n",
            "Download Request Status:  200\n",
            "Downloading Lung Cancer clinical trials with ranks from  10001  to  11000\n",
            "Download Request Status:  200\n"
          ]
        }
      ]
    },
    {
      "cell_type": "code",
      "source": [
        "df = pd.read_csv(r'/content/0-batch.csv', skiprows=10)\n",
        "for req in range(1, 11): \n",
        "    tmp = pd.read_csv('/content/' +str(req)+ '-batch.csv', skiprows=10)\n",
        "    print('Batch ', req, ': ', tmp.shape)\n",
        "    df = df.append(tmp, ignore_index=True)\n",
        "\n",
        "df.to_csv(r'/content/batchs.csv')\n",
        "print('All Batchs: ',df.shape)"
      ],
      "metadata": {
        "colab": {
          "base_uri": "https://localhost:8080/"
        },
        "id": "eOUbERE-c5S9",
        "outputId": "f31afb5e-98a4-4f37-e499-9a8b69e2b232"
      },
      "execution_count": null,
      "outputs": [
        {
          "output_type": "stream",
          "name": "stdout",
          "text": [
            "Batch  1 :  (1000, 19)\n",
            "Batch  2 :  (1000, 19)\n",
            "Batch  3 :  (1000, 19)\n",
            "Batch  4 :  (1000, 19)\n",
            "Batch  5 :  (1000, 19)\n",
            "Batch  6 :  (1000, 19)\n",
            "Batch  7 :  (1000, 19)\n",
            "Batch  8 :  (1000, 19)\n",
            "Batch  9 :  (1000, 19)\n",
            "Batch  10 :  (221, 19)\n",
            "All Batchs:  (10221, 19)\n"
          ]
        }
      ]
    },
    {
      "cell_type": "markdown",
      "source": [
        "### Seperate the Eligibility Criterias"
      ],
      "metadata": {
        "id": "qNJGXBsZmOlW"
      }
    },
    {
      "cell_type": "code",
      "source": [
        "eligibility_criteria = df['EligibilityCriteria'].astype(str).to_list()\n",
        "eligibility_criteria = [s.replace('|', '') for s in eligibility_criteria]\n",
        "eligibility_criteria[:2]"
      ],
      "metadata": {
        "colab": {
          "base_uri": "https://localhost:8080/"
        },
        "id": "wGzo-nwkmPlT",
        "outputId": "8e0bc8bb-bc24-4549-a682-98c83d81db27"
      },
      "execution_count": null,
      "outputs": [
        {
          "output_type": "execute_result",
          "data": {
            "text/plain": [
              "['Inclusion Criteria:Age ≥ 18 years at the time of screening.Eastern Cooperative Oncology Group performance status of ≤ 2.Written informed consent obtained from the patient.Histologically and cytologically documented Stage 3B-4 lung cancer (according to Version 8 of the International Association for the Study of Lung Cancer Staging system).Patients with stage 1 to 3, who undergo radical therapy with disease free survival (DFS) >12 months.Willingness and ability to comply with scheduled visits and other study procedures.Exclusion Criteria:History of another primary malignancy except for malignancy treated with curative intent with known active disease ≥ 5 years before date of the informed consent.Without signed informed consent.Unwillingness or inability to comply with scheduled visits or other study procedures.Previously diagnosed with VTE before signing informed consent.',\n",
              " 'Inclusion Criteria:20 or more pack year smoking historyclinical need for diagnostic bronchoscopy or consent to study driven bronchoscopyExclusion Criteria:Lung Cancer within 3 months after the date of enrollment']"
            ]
          },
          "metadata": {},
          "execution_count": 33
        }
      ]
    },
    {
      "cell_type": "code",
      "source": [
        "exclusion_criteria = [txt[txt.find('Exclusion Criteria')+21:] for txt in eligibility_criteria]\n",
        "exclusion_criteria[:2]"
      ],
      "metadata": {
        "colab": {
          "base_uri": "https://localhost:8080/"
        },
        "id": "etost5MomW1C",
        "outputId": "13a0a5c4-3a89-4127-f57d-e4712bb5969d"
      },
      "execution_count": null,
      "outputs": [
        {
          "output_type": "execute_result",
          "data": {
            "text/plain": [
              "['story of another primary malignancy except for malignancy treated with curative intent with known active disease ≥ 5 years before date of the informed consent.Without signed informed consent.Unwillingness or inability to comply with scheduled visits or other study procedures.Previously diagnosed with VTE before signing informed consent.',\n",
              " 'ng Cancer within 3 months after the date of enrollment']"
            ]
          },
          "metadata": {},
          "execution_count": 34
        }
      ]
    },
    {
      "cell_type": "code",
      "source": [
        "inclusion_criteria = [txt[21:txt.find('Exclusion Criteria')] for txt in eligibility_criteria]\n",
        "inclusion_criteria[:2]"
      ],
      "metadata": {
        "colab": {
          "base_uri": "https://localhost:8080/"
        },
        "id": "b9lv4aApma2W",
        "outputId": "abd900bb-d0f4-4154-a8dc-2e889d3b0c8b"
      },
      "execution_count": null,
      "outputs": [
        {
          "output_type": "execute_result",
          "data": {
            "text/plain": [
              "['e ≥ 18 years at the time of screening.Eastern Cooperative Oncology Group performance status of ≤ 2.Written informed consent obtained from the patient.Histologically and cytologically documented Stage 3B-4 lung cancer (according to Version 8 of the International Association for the Study of Lung Cancer Staging system).Patients with stage 1 to 3, who undergo radical therapy with disease free survival (DFS) >12 months.Willingness and ability to comply with scheduled visits and other study procedures.',\n",
              " ' or more pack year smoking historyclinical need for diagnostic bronchoscopy or consent to study driven bronchoscopy']"
            ]
          },
          "metadata": {},
          "execution_count": 35
        }
      ]
    },
    {
      "cell_type": "code",
      "source": [
        "df['InclusionCriteria'] = inclusion_criteria\n",
        "df['ExclusionCriteria'] = exclusion_criteria\n",
        "cols = ['Rank', 'NCTId', 'OrgFullName', 'OfficialTitle', 'OverallStatus','Keyword', 'DetailedDescription', 'Condition', 'EligibilityCriteria','InclusionCriteria', 'ExclusionCriteria',\n",
        "       'HealthyVolunteers', 'Gender', 'MinimumAge', 'StudyPopulation','LocationFacility', 'LocationCity', 'LocationState', 'LocationStatus', 'LocationZip','LocationCountry']\n",
        "df = df[cols] \n",
        "df.head(0)"
      ],
      "metadata": {
        "colab": {
          "base_uri": "https://localhost:8080/",
          "height": 113
        },
        "id": "9g6JWcS7oV9y",
        "outputId": "4dbafec8-7464-4a6a-cf1a-0e71dbf7bce1"
      },
      "execution_count": null,
      "outputs": [
        {
          "output_type": "execute_result",
          "data": {
            "text/html": [
              "\n",
              "  <div id=\"df-5b7e1b03-2cec-4c79-9a19-0b7a69641538\">\n",
              "    <div class=\"colab-df-container\">\n",
              "      <div>\n",
              "<style scoped>\n",
              "    .dataframe tbody tr th:only-of-type {\n",
              "        vertical-align: middle;\n",
              "    }\n",
              "\n",
              "    .dataframe tbody tr th {\n",
              "        vertical-align: top;\n",
              "    }\n",
              "\n",
              "    .dataframe thead th {\n",
              "        text-align: right;\n",
              "    }\n",
              "</style>\n",
              "<table border=\"1\" class=\"dataframe\">\n",
              "  <thead>\n",
              "    <tr style=\"text-align: right;\">\n",
              "      <th></th>\n",
              "      <th>Rank</th>\n",
              "      <th>NCTId</th>\n",
              "      <th>OrgFullName</th>\n",
              "      <th>OfficialTitle</th>\n",
              "      <th>OverallStatus</th>\n",
              "      <th>Keyword</th>\n",
              "      <th>DetailedDescription</th>\n",
              "      <th>Condition</th>\n",
              "      <th>EligibilityCriteria</th>\n",
              "      <th>InclusionCriteria</th>\n",
              "      <th>ExclusionCriteria</th>\n",
              "      <th>HealthyVolunteers</th>\n",
              "      <th>Gender</th>\n",
              "      <th>MinimumAge</th>\n",
              "      <th>StudyPopulation</th>\n",
              "      <th>LocationFacility</th>\n",
              "      <th>LocationCity</th>\n",
              "      <th>LocationState</th>\n",
              "      <th>LocationStatus</th>\n",
              "      <th>LocationZip</th>\n",
              "      <th>LocationCountry</th>\n",
              "    </tr>\n",
              "  </thead>\n",
              "  <tbody>\n",
              "  </tbody>\n",
              "</table>\n",
              "</div>\n",
              "      <button class=\"colab-df-convert\" onclick=\"convertToInteractive('df-5b7e1b03-2cec-4c79-9a19-0b7a69641538')\"\n",
              "              title=\"Convert this dataframe to an interactive table.\"\n",
              "              style=\"display:none;\">\n",
              "        \n",
              "  <svg xmlns=\"http://www.w3.org/2000/svg\" height=\"24px\"viewBox=\"0 0 24 24\"\n",
              "       width=\"24px\">\n",
              "    <path d=\"M0 0h24v24H0V0z\" fill=\"none\"/>\n",
              "    <path d=\"M18.56 5.44l.94 2.06.94-2.06 2.06-.94-2.06-.94-.94-2.06-.94 2.06-2.06.94zm-11 1L8.5 8.5l.94-2.06 2.06-.94-2.06-.94L8.5 2.5l-.94 2.06-2.06.94zm10 10l.94 2.06.94-2.06 2.06-.94-2.06-.94-.94-2.06-.94 2.06-2.06.94z\"/><path d=\"M17.41 7.96l-1.37-1.37c-.4-.4-.92-.59-1.43-.59-.52 0-1.04.2-1.43.59L10.3 9.45l-7.72 7.72c-.78.78-.78 2.05 0 2.83L4 21.41c.39.39.9.59 1.41.59.51 0 1.02-.2 1.41-.59l7.78-7.78 2.81-2.81c.8-.78.8-2.07 0-2.86zM5.41 20L4 18.59l7.72-7.72 1.47 1.35L5.41 20z\"/>\n",
              "  </svg>\n",
              "      </button>\n",
              "      \n",
              "  <style>\n",
              "    .colab-df-container {\n",
              "      display:flex;\n",
              "      flex-wrap:wrap;\n",
              "      gap: 12px;\n",
              "    }\n",
              "\n",
              "    .colab-df-convert {\n",
              "      background-color: #E8F0FE;\n",
              "      border: none;\n",
              "      border-radius: 50%;\n",
              "      cursor: pointer;\n",
              "      display: none;\n",
              "      fill: #1967D2;\n",
              "      height: 32px;\n",
              "      padding: 0 0 0 0;\n",
              "      width: 32px;\n",
              "    }\n",
              "\n",
              "    .colab-df-convert:hover {\n",
              "      background-color: #E2EBFA;\n",
              "      box-shadow: 0px 1px 2px rgba(60, 64, 67, 0.3), 0px 1px 3px 1px rgba(60, 64, 67, 0.15);\n",
              "      fill: #174EA6;\n",
              "    }\n",
              "\n",
              "    [theme=dark] .colab-df-convert {\n",
              "      background-color: #3B4455;\n",
              "      fill: #D2E3FC;\n",
              "    }\n",
              "\n",
              "    [theme=dark] .colab-df-convert:hover {\n",
              "      background-color: #434B5C;\n",
              "      box-shadow: 0px 1px 3px 1px rgba(0, 0, 0, 0.15);\n",
              "      filter: drop-shadow(0px 1px 2px rgba(0, 0, 0, 0.3));\n",
              "      fill: #FFFFFF;\n",
              "    }\n",
              "  </style>\n",
              "\n",
              "      <script>\n",
              "        const buttonEl =\n",
              "          document.querySelector('#df-5b7e1b03-2cec-4c79-9a19-0b7a69641538 button.colab-df-convert');\n",
              "        buttonEl.style.display =\n",
              "          google.colab.kernel.accessAllowed ? 'block' : 'none';\n",
              "\n",
              "        async function convertToInteractive(key) {\n",
              "          const element = document.querySelector('#df-5b7e1b03-2cec-4c79-9a19-0b7a69641538');\n",
              "          const dataTable =\n",
              "            await google.colab.kernel.invokeFunction('convertToInteractive',\n",
              "                                                     [key], {});\n",
              "          if (!dataTable) return;\n",
              "\n",
              "          const docLinkHtml = 'Like what you see? Visit the ' +\n",
              "            '<a target=\"_blank\" href=https://colab.research.google.com/notebooks/data_table.ipynb>data table notebook</a>'\n",
              "            + ' to learn more about interactive tables.';\n",
              "          element.innerHTML = '';\n",
              "          dataTable['output_type'] = 'display_data';\n",
              "          await google.colab.output.renderOutput(dataTable, element);\n",
              "          const docLink = document.createElement('div');\n",
              "          docLink.innerHTML = docLinkHtml;\n",
              "          element.appendChild(docLink);\n",
              "        }\n",
              "      </script>\n",
              "    </div>\n",
              "  </div>\n",
              "  "
            ],
            "text/plain": [
              "Empty DataFrame\n",
              "Columns: [Rank, NCTId, OrgFullName, OfficialTitle, OverallStatus, Keyword, DetailedDescription, Condition, EligibilityCriteria, InclusionCriteria, ExclusionCriteria, HealthyVolunteers, Gender, MinimumAge, StudyPopulation, LocationFacility, LocationCity, LocationState, LocationStatus, LocationZip, LocationCountry]\n",
              "Index: []"
            ]
          },
          "metadata": {},
          "execution_count": 38
        }
      ]
    },
    {
      "cell_type": "markdown",
      "source": [
        "### Data Overview"
      ],
      "metadata": {
        "id": "yPOtSQdapjNb"
      }
    },
    {
      "cell_type": "code",
      "source": [
        "print('Number of unique values:',        df['Gender'].nunique())\n",
        "print('\\nGender list of unique values\\n', df['Gender'].unique())"
      ],
      "metadata": {
        "colab": {
          "base_uri": "https://localhost:8080/"
        },
        "id": "dnzc60oPon6M",
        "outputId": "1ad226c5-a384-4e64-e832-b8fac42f5aa7"
      },
      "execution_count": null,
      "outputs": [
        {
          "output_type": "stream",
          "name": "stdout",
          "text": [
            "Number of unique values: 3\n",
            "\n",
            "Gender list of unique values\n",
            " ['All' nan 'Female' 'Male']\n"
          ]
        }
      ]
    },
    {
      "cell_type": "code",
      "source": [
        "print('Number of unique values:',      df['MinimumAge'].nunique())\n",
        "print('\\nAge list of unique values\\n', df['MinimumAge'].unique())"
      ],
      "metadata": {
        "colab": {
          "base_uri": "https://localhost:8080/"
        },
        "id": "hPubOrs5plzO",
        "outputId": "1734a4d8-ab0b-4af9-d261-d41c86fde113"
      },
      "execution_count": null,
      "outputs": [
        {
          "output_type": "stream",
          "name": "stdout",
          "text": [
            "Number of unique values: 50\n",
            "\n",
            "Age list of unique values\n",
            " ['18 Years' '50 Years' '40 Years' nan '5 Years' '55 Years' '45 Years'\n",
            " '65 Years' '21 Years' '25 Years' '19 Years' '20 Years' '56 Years'\n",
            " '49 Years' '35 Years' '15 Years' '16 Years' '30 Years' '60 Years'\n",
            " '46 Years' '70 Years' '2 Years' '26 Years' '75 Years' '22 Years'\n",
            " '17 Years' '76 Years' '47 Years' '18 Months' '71 Years' '23 Years'\n",
            " '80 Years' '10 Years' '38 Years' '8 Months' '3 Years' '28 Years'\n",
            " '13 Years' '3 Months' '27 Years' '12 Years' '1 Year' '6 Years' '14 Years'\n",
            " '41 Years' '6 Months' '51 Years' '1 Month' '4 Years' '12 Months'\n",
            " '39 Years']\n"
          ]
        }
      ]
    },
    {
      "cell_type": "code",
      "source": [
        "print('Number of unique values:',                df['OverallStatus'].nunique())\n",
        "print('\\nOverallStatus list of unique values\\n', df['OverallStatus'].unique())"
      ],
      "metadata": {
        "colab": {
          "base_uri": "https://localhost:8080/"
        },
        "id": "v77HRGzHpn5R",
        "outputId": "451e570a-a1de-4f41-f485-637a8ef0c972"
      },
      "execution_count": null,
      "outputs": [
        {
          "output_type": "stream",
          "name": "stdout",
          "text": [
            "Number of unique values: 13\n",
            "\n",
            "OverallStatus list of unique values\n",
            " ['Not yet recruiting' 'Active, not recruiting' 'Recruiting' 'Completed'\n",
            " 'Unknown status' 'Terminated' 'Withdrawn' 'Enrolling by invitation'\n",
            " 'Suspended' 'Available' 'Approved for marketing' 'No longer available'\n",
            " 'Temporarily not available']\n"
          ]
        }
      ]
    },
    {
      "cell_type": "code",
      "source": [
        "print('Number of unique values:',                df['LocationStatus'].nunique())\n",
        "print('\\nOverallStatus list of unique values\\n', df['LocationStatus'].unique())"
      ],
      "metadata": {
        "id": "HlX7U6Rbpw-9"
      },
      "execution_count": null,
      "outputs": []
    },
    {
      "cell_type": "code",
      "source": [
        "print('Number of unique values:',            df['Condition'].nunique())\n",
        "print('\\nCondition list of unique values\\n', df['Condition'].unique())"
      ],
      "metadata": {
        "colab": {
          "base_uri": "https://localhost:8080/"
        },
        "id": "fgsLIyZXp_SA",
        "outputId": "206d2aee-75c2-4f28-a593-c255536a5906"
      },
      "execution_count": null,
      "outputs": [
        {
          "output_type": "stream",
          "name": "stdout",
          "text": [
            "Number of unique values: 4627\n",
            "\n",
            "Condition list of unique values\n",
            " ['Lung Neoplasms|Venous Thromboembolism' 'Lung Cancer'\n",
            " 'Lung Neoplasms|Computed Tomography|Mass Screening|Lung Nodules' ...\n",
            " 'Esophageal Squamous Cell Carcinoma|Neoadjuvant Therapy|Surgery'\n",
            " 'B-cell Leukemia' 'Hematologic Neoplasms']\n"
          ]
        }
      ]
    },
    {
      "cell_type": "code",
      "source": [
        "print('Number of unique values:',                    df['HealthyVolunteers'].nunique())\n",
        "print('\\nHealthyVolunteers list of unique values\\n', df['HealthyVolunteers'].unique())"
      ],
      "metadata": {
        "colab": {
          "base_uri": "https://localhost:8080/"
        },
        "id": "lNOhexAhqKqO",
        "outputId": "42512615-5f93-449e-af26-01538098892c"
      },
      "execution_count": null,
      "outputs": [
        {
          "output_type": "stream",
          "name": "stdout",
          "text": [
            "Number of unique values: 2\n",
            "\n",
            "HealthyVolunteers list of unique values\n",
            " ['No' 'Accepts Healthy Volunteers' nan]\n"
          ]
        }
      ]
    },
    {
      "cell_type": "code",
      "source": [
        "print('Number of unique values:',                  df['StudyPopulation'].nunique())\n",
        "print('\\nStudyPopulation list of unique values\\n', df['StudyPopulation'].unique())"
      ],
      "metadata": {
        "colab": {
          "base_uri": "https://localhost:8080/"
        },
        "id": "S4DrhM1UqQdK",
        "outputId": "7d823777-9372-43a6-9e2f-23de3c1158a8"
      },
      "execution_count": null,
      "outputs": [
        {
          "output_type": "stream",
          "name": "stdout",
          "text": [
            "Number of unique values: 1897\n",
            "\n",
            "StudyPopulation list of unique values\n",
            " ['Patients diagnosed with advanced staged lung cancer with written informed consent.'\n",
            " 'The study population will consist of subjects aged 50 to 90 and with 20 or more pack year smoking history, who are determined not to have lung cancer at the time of enrollment or within three months after the date of enrollment, and either a) volunteer for the study driven bronchoscopy, or b) have standard of care clinical need for diagnostic bronchoscopy (e.g. they may present with respiratory symptoms or abnormal test results consistent with the need for bronchoscopy).'\n",
            " nan ...\n",
            " 'From February 2008 to December 2009 all patients admitted to The Department of Surgical Gastroenterology with upper GI cancer or pancreatic cancer will be included.||Depending on the disease nature and progression, the patients will be followed as palliation or surgery cohorts.'\n",
            " 'Patients with esophageal squamous cell carcinoma who accept esophagectomy alone or neoadjuvant chemoradiotherapy treatment followed by surgery are acceptable.'\n",
            " 'All patients from Hospices Civils de Lyon, Lyon, France with blood cancer undergoing a hematopoietic stem cell transplantation between January 2013 and July 2016']\n"
          ]
        }
      ]
    },
    {
      "cell_type": "code",
      "source": [
        "print('Number of unique values in InclusionCriteria:',                  df['InclusionCriteria'].nunique())\n",
        "print('Number of unique values: in ExclusionCriteria',                  df['ExclusionCriteria'].nunique())"
      ],
      "metadata": {
        "colab": {
          "base_uri": "https://localhost:8080/"
        },
        "id": "HkCDwaBxqa8g",
        "outputId": "819c8ef9-1b65-4f7a-ce5b-a7b0199ee677"
      },
      "execution_count": null,
      "outputs": [
        {
          "output_type": "stream",
          "name": "stdout",
          "text": [
            "Number of unique values in InclusionCriteria: 10166\n",
            "Number of unique values: in ExclusionCriteria 9950\n"
          ]
        }
      ]
    }
  ]
}