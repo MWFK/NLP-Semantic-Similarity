{
  "nbformat": 4,
  "nbformat_minor": 0,
  "metadata": {
    "colab": {
      "name": "06. Filters Pipeline.ipynb",
      "provenance": [],
      "authorship_tag": "ABX9TyMZk0/IiRjdgYO1RblNI8al",
      "include_colab_link": true
    },
    "kernelspec": {
      "name": "python3",
      "display_name": "Python 3"
    },
    "language_info": {
      "name": "python"
    }
  },
  "cells": [
    {
      "cell_type": "markdown",
      "metadata": {
        "id": "view-in-github",
        "colab_type": "text"
      },
      "source": [
        "<a href=\"https://colab.research.google.com/github/MWFK/NLP-Semantic-Similarity/blob/main/ClinicalTrials/Data%20Engineering/06.%20Filters_Pipeline.ipynb\" target=\"_parent\"><img src=\"https://colab.research.google.com/assets/colab-badge.svg\" alt=\"Open In Colab\"/></a>"
      ]
    },
    {
      "cell_type": "markdown",
      "source": [
        "### Objectives\n",
        "\n",
        "1. Download the lung cancer data with specific features.\n",
        "2. Process HealthyVolunteer feature then use it as a filter.\n",
        "3. Process Age feature then use it as a filter.\n",
        "4. Procss Gender feature then use it as filter.\n",
        "5. Procss Gender feature then use it as filter.\n",
        "6. Filter by LocationStatus"
      ],
      "metadata": {
        "id": "FcpYNOIlDi4c"
      }
    },
    {
      "cell_type": "markdown",
      "source": [
        "### Libs"
      ],
      "metadata": {
        "id": "1ZyLPGvZD7jx"
      }
    },
    {
      "cell_type": "code",
      "execution_count": 72,
      "metadata": {
        "id": "3EWpeM3IDbiS"
      },
      "outputs": [],
      "source": [
        "import re\n",
        "import pandas as pd\n",
        "import numpy as np\n",
        "import requests\n",
        "from itertools import compress\n",
        "from requests.adapters import HTTPAdapter\n",
        "from requests.packages.urllib3.util.retry import Retry"
      ]
    },
    {
      "cell_type": "markdown",
      "source": [
        "### Data"
      ],
      "metadata": {
        "id": "kT2KS0AOEBW9"
      }
    },
    {
      "cell_type": "code",
      "source": [
        "####### Search Expression #######\n",
        "# Lung Cancer\n",
        "\n",
        "####### Study Fields #######\n",
        "'''\n",
        "NCTId, OrgFullName, OfficialTitle, OverallStatus, Phase, DetailedDescription, \n",
        "Condition, EligibilityCriteria, HealthyVolunteers, Gender, MinimumAge, StudyPopulation, \n",
        "LocationFacility, LocationCity, LocationCountry, LocationStatus\n",
        "'''\n",
        "\n",
        "####### Range Min_MAX ######\n",
        "# 1 to 1000\n",
        "\n",
        "####### Format #######\n",
        "# CSV\n",
        "\n",
        "url = 'https://clinicaltrials.gov/api/query/study_fields?expr=lung+cancer&fields=NCTId%2C+OrgFullName%2C+OfficialTitle%2C+OverallStatus%2C+Phase%2C+DetailedDescription%2C+%0D%0ACondition%2C+EligibilityCriteria%2C+HealthyVolunteers%2C+Gender%2C+MinimumAge%2C+StudyPopulation%2C+%0D%0ALocationFacility%2C+LocationCity%2C+LocationCountry%2C+LocationStatus&min_rnk=1&max_rnk=1000&fmt=csv'\n",
        "session = requests.Session()\n",
        "retry   = Retry(connect=3, backoff_factor=0.5)\n",
        "adapter = HTTPAdapter(max_retries=retry)\n",
        "session.mount('http://' , adapter)\n",
        "session.mount('https://', adapter)\n",
        "\n",
        "clinicaltrials = session.get(url)\n",
        "print('Download Request Status: ', clinicaltrials.status_code)\n",
        "\n",
        "csv_file = open('/content/'+str(1)+'-batch.csv', 'wb')\n",
        "csv_file.write(clinicaltrials.content)\n",
        "csv_file.close()\n",
        "\n",
        "raw = pd.read_csv(r'/content/1-batch.csv', skiprows=10)\n",
        "print(raw.shape)\n",
        "raw.head()\n"
      ],
      "metadata": {
        "colab": {
          "base_uri": "https://localhost:8080/",
          "height": 567
        },
        "id": "nl0u4hvmEA6g",
        "outputId": "33a1e5ce-e419-4328-c2d6-0a549babf32f"
      },
      "execution_count": 73,
      "outputs": [
        {
          "output_type": "stream",
          "name": "stdout",
          "text": [
            "Download Request Status:  200\n",
            "(1000, 17)\n"
          ]
        },
        {
          "output_type": "execute_result",
          "data": {
            "text/html": [
              "\n",
              "  <div id=\"df-a8d0bbb2-7b01-4e4d-8ecb-5f8d309445a4\">\n",
              "    <div class=\"colab-df-container\">\n",
              "      <div>\n",
              "<style scoped>\n",
              "    .dataframe tbody tr th:only-of-type {\n",
              "        vertical-align: middle;\n",
              "    }\n",
              "\n",
              "    .dataframe tbody tr th {\n",
              "        vertical-align: top;\n",
              "    }\n",
              "\n",
              "    .dataframe thead th {\n",
              "        text-align: right;\n",
              "    }\n",
              "</style>\n",
              "<table border=\"1\" class=\"dataframe\">\n",
              "  <thead>\n",
              "    <tr style=\"text-align: right;\">\n",
              "      <th></th>\n",
              "      <th>Rank</th>\n",
              "      <th>NCTId</th>\n",
              "      <th>OrgFullName</th>\n",
              "      <th>OfficialTitle</th>\n",
              "      <th>OverallStatus</th>\n",
              "      <th>Phase</th>\n",
              "      <th>DetailedDescription</th>\n",
              "      <th>Condition</th>\n",
              "      <th>EligibilityCriteria</th>\n",
              "      <th>HealthyVolunteers</th>\n",
              "      <th>Gender</th>\n",
              "      <th>MinimumAge</th>\n",
              "      <th>StudyPopulation</th>\n",
              "      <th>LocationFacility</th>\n",
              "      <th>LocationCity</th>\n",
              "      <th>LocationCountry</th>\n",
              "      <th>LocationStatus</th>\n",
              "    </tr>\n",
              "  </thead>\n",
              "  <tbody>\n",
              "    <tr>\n",
              "      <th>0</th>\n",
              "      <td>1</td>\n",
              "      <td>NCT03581708</td>\n",
              "      <td>Guangdong Provincial People's Hospital</td>\n",
              "      <td>Real-world Study of the Incidence and Risk Fac...</td>\n",
              "      <td>Not yet recruiting</td>\n",
              "      <td>NaN</td>\n",
              "      <td>VTE has high incidence in lung cancer and incr...</td>\n",
              "      <td>Lung Neoplasms|Venous Thromboembolism</td>\n",
              "      <td>Inclusion Criteria:||Age ≥ 18 years at the tim...</td>\n",
              "      <td>No</td>\n",
              "      <td>All</td>\n",
              "      <td>18 Years</td>\n",
              "      <td>Patients diagnosed with advanced staged lung c...</td>\n",
              "      <td>Guangdong General Hospital</td>\n",
              "      <td>Guangzhou</td>\n",
              "      <td>China</td>\n",
              "      <td>NaN</td>\n",
              "    </tr>\n",
              "    <tr>\n",
              "      <th>1</th>\n",
              "      <td>2</td>\n",
              "      <td>NCT01130285</td>\n",
              "      <td>University of Toledo</td>\n",
              "      <td>Validation of a Multi-gene Test for Lung Cance...</td>\n",
              "      <td>Active, not recruiting</td>\n",
              "      <td>NaN</td>\n",
              "      <td>Because more than 160,000 individuals die of l...</td>\n",
              "      <td>Lung Cancer</td>\n",
              "      <td>Inclusion Criteria:||20 or more pack year smok...</td>\n",
              "      <td>Accepts Healthy Volunteers</td>\n",
              "      <td>All</td>\n",
              "      <td>50 Years</td>\n",
              "      <td>The study population will consist of subjects ...</td>\n",
              "      <td>National Jewish Health|University of Michigan|...</td>\n",
              "      <td>Denver|Ann Arbor|Detroit|Rochester|Cleveland|C...</td>\n",
              "      <td>United States|United States|United States|Unit...</td>\n",
              "      <td>NaN</td>\n",
              "    </tr>\n",
              "    <tr>\n",
              "      <th>2</th>\n",
              "      <td>3</td>\n",
              "      <td>NCT03992833</td>\n",
              "      <td>Tianjin Medical University Cancer Institute an...</td>\n",
              "      <td>Methods of Computed Tomography Screening and M...</td>\n",
              "      <td>Recruiting</td>\n",
              "      <td>Not Applicable</td>\n",
              "      <td>In this population-based study, participants w...</td>\n",
              "      <td>Lung Neoplasms|Computed Tomography|Mass Screen...</td>\n",
              "      <td>Inclusion Criteria:||Aged 40-74 years;|Residen...</td>\n",
              "      <td>Accepts Healthy Volunteers</td>\n",
              "      <td>All</td>\n",
              "      <td>40 Years</td>\n",
              "      <td>NaN</td>\n",
              "      <td>Tianjin Medical University Cancer Institute An...</td>\n",
              "      <td>Tianjin</td>\n",
              "      <td>China</td>\n",
              "      <td>Recruiting</td>\n",
              "    </tr>\n",
              "    <tr>\n",
              "      <th>3</th>\n",
              "      <td>4</td>\n",
              "      <td>NCT02725892</td>\n",
              "      <td>AstraZeneca</td>\n",
              "      <td>LuCaReAl: Lung Cancer Registry in Algeria.</td>\n",
              "      <td>Completed</td>\n",
              "      <td>NaN</td>\n",
              "      <td>The study consists of:||All patients meeting i...</td>\n",
              "      <td>Oncology &amp; Epidemiology &amp; Lung Cancer</td>\n",
              "      <td>Inclusion Criteria:||Men or women diagnosed wi...</td>\n",
              "      <td>No</td>\n",
              "      <td>All</td>\n",
              "      <td>NaN</td>\n",
              "      <td>each sanitary region defined by the Ministry o...</td>\n",
              "      <td>Research Site|Research Site|Research Site</td>\n",
              "      <td>Algiers|Constantine|Oran</td>\n",
              "      <td>Algeria|Algeria|Algeria</td>\n",
              "      <td>NaN</td>\n",
              "    </tr>\n",
              "    <tr>\n",
              "      <th>4</th>\n",
              "      <td>5</td>\n",
              "      <td>NCT00897650</td>\n",
              "      <td>Vanderbilt-Ingram Cancer Center</td>\n",
              "      <td>Molecular Fingerprints in Lung Cancer: Predict...</td>\n",
              "      <td>Completed</td>\n",
              "      <td>NaN</td>\n",
              "      <td>OBJECTIVES:||To determine protein and/or RNA e...</td>\n",
              "      <td>Lung Cancer</td>\n",
              "      <td>Inclusion criteria||Diagnosis of suspected lun...</td>\n",
              "      <td>No</td>\n",
              "      <td>All</td>\n",
              "      <td>NaN</td>\n",
              "      <td>People who have or may have lung cancer.</td>\n",
              "      <td>Vanderbilt-Ingram Cancer Center</td>\n",
              "      <td>Nashville</td>\n",
              "      <td>United States</td>\n",
              "      <td>NaN</td>\n",
              "    </tr>\n",
              "  </tbody>\n",
              "</table>\n",
              "</div>\n",
              "      <button class=\"colab-df-convert\" onclick=\"convertToInteractive('df-a8d0bbb2-7b01-4e4d-8ecb-5f8d309445a4')\"\n",
              "              title=\"Convert this dataframe to an interactive table.\"\n",
              "              style=\"display:none;\">\n",
              "        \n",
              "  <svg xmlns=\"http://www.w3.org/2000/svg\" height=\"24px\"viewBox=\"0 0 24 24\"\n",
              "       width=\"24px\">\n",
              "    <path d=\"M0 0h24v24H0V0z\" fill=\"none\"/>\n",
              "    <path d=\"M18.56 5.44l.94 2.06.94-2.06 2.06-.94-2.06-.94-.94-2.06-.94 2.06-2.06.94zm-11 1L8.5 8.5l.94-2.06 2.06-.94-2.06-.94L8.5 2.5l-.94 2.06-2.06.94zm10 10l.94 2.06.94-2.06 2.06-.94-2.06-.94-.94-2.06-.94 2.06-2.06.94z\"/><path d=\"M17.41 7.96l-1.37-1.37c-.4-.4-.92-.59-1.43-.59-.52 0-1.04.2-1.43.59L10.3 9.45l-7.72 7.72c-.78.78-.78 2.05 0 2.83L4 21.41c.39.39.9.59 1.41.59.51 0 1.02-.2 1.41-.59l7.78-7.78 2.81-2.81c.8-.78.8-2.07 0-2.86zM5.41 20L4 18.59l7.72-7.72 1.47 1.35L5.41 20z\"/>\n",
              "  </svg>\n",
              "      </button>\n",
              "      \n",
              "  <style>\n",
              "    .colab-df-container {\n",
              "      display:flex;\n",
              "      flex-wrap:wrap;\n",
              "      gap: 12px;\n",
              "    }\n",
              "\n",
              "    .colab-df-convert {\n",
              "      background-color: #E8F0FE;\n",
              "      border: none;\n",
              "      border-radius: 50%;\n",
              "      cursor: pointer;\n",
              "      display: none;\n",
              "      fill: #1967D2;\n",
              "      height: 32px;\n",
              "      padding: 0 0 0 0;\n",
              "      width: 32px;\n",
              "    }\n",
              "\n",
              "    .colab-df-convert:hover {\n",
              "      background-color: #E2EBFA;\n",
              "      box-shadow: 0px 1px 2px rgba(60, 64, 67, 0.3), 0px 1px 3px 1px rgba(60, 64, 67, 0.15);\n",
              "      fill: #174EA6;\n",
              "    }\n",
              "\n",
              "    [theme=dark] .colab-df-convert {\n",
              "      background-color: #3B4455;\n",
              "      fill: #D2E3FC;\n",
              "    }\n",
              "\n",
              "    [theme=dark] .colab-df-convert:hover {\n",
              "      background-color: #434B5C;\n",
              "      box-shadow: 0px 1px 3px 1px rgba(0, 0, 0, 0.15);\n",
              "      filter: drop-shadow(0px 1px 2px rgba(0, 0, 0, 0.3));\n",
              "      fill: #FFFFFF;\n",
              "    }\n",
              "  </style>\n",
              "\n",
              "      <script>\n",
              "        const buttonEl =\n",
              "          document.querySelector('#df-a8d0bbb2-7b01-4e4d-8ecb-5f8d309445a4 button.colab-df-convert');\n",
              "        buttonEl.style.display =\n",
              "          google.colab.kernel.accessAllowed ? 'block' : 'none';\n",
              "\n",
              "        async function convertToInteractive(key) {\n",
              "          const element = document.querySelector('#df-a8d0bbb2-7b01-4e4d-8ecb-5f8d309445a4');\n",
              "          const dataTable =\n",
              "            await google.colab.kernel.invokeFunction('convertToInteractive',\n",
              "                                                     [key], {});\n",
              "          if (!dataTable) return;\n",
              "\n",
              "          const docLinkHtml = 'Like what you see? Visit the ' +\n",
              "            '<a target=\"_blank\" href=https://colab.research.google.com/notebooks/data_table.ipynb>data table notebook</a>'\n",
              "            + ' to learn more about interactive tables.';\n",
              "          element.innerHTML = '';\n",
              "          dataTable['output_type'] = 'display_data';\n",
              "          await google.colab.output.renderOutput(dataTable, element);\n",
              "          const docLink = document.createElement('div');\n",
              "          docLink.innerHTML = docLinkHtml;\n",
              "          element.appendChild(docLink);\n",
              "        }\n",
              "      </script>\n",
              "    </div>\n",
              "  </div>\n",
              "  "
            ],
            "text/plain": [
              "   Rank  ... LocationStatus\n",
              "0     1  ...            NaN\n",
              "1     2  ...            NaN\n",
              "2     3  ...     Recruiting\n",
              "3     4  ...            NaN\n",
              "4     5  ...            NaN\n",
              "\n",
              "[5 rows x 17 columns]"
            ]
          },
          "metadata": {},
          "execution_count": 73
        }
      ]
    },
    {
      "cell_type": "markdown",
      "source": [
        "### Filter by [1] HealthyVolunteers"
      ],
      "metadata": {
        "id": "tzOALvFGGfSM"
      }
    },
    {
      "cell_type": "code",
      "source": [
        "df = raw\n",
        "print('Data dimensions before Filtering : ', df.shape, '\\n')\n",
        "print(df['HealthyVolunteers'].unique())\n",
        "print(df['HealthyVolunteers'].nunique())\n",
        "print(df['HealthyVolunteers'].value_counts())\n",
        "print(df.loc[df['HealthyVolunteers'] == 'nan'].shape)"
      ],
      "metadata": {
        "colab": {
          "base_uri": "https://localhost:8080/"
        },
        "id": "lk6HG9e0HkXS",
        "outputId": "451b5990-31bf-4c69-bba9-319acdb2b8ab"
      },
      "execution_count": null,
      "outputs": [
        {
          "output_type": "stream",
          "name": "stdout",
          "text": [
            "Data dimensions before Filtering :  (1000, 17) \n",
            "\n",
            "['No' 'Accepts Healthy Volunteers' nan]\n",
            "2\n",
            "No                            855\n",
            "Accepts Healthy Volunteers    129\n",
            "Name: HealthyVolunteers, dtype: int64\n",
            "(0, 17)\n"
          ]
        }
      ]
    },
    {
      "cell_type": "code",
      "source": [
        "print(df['HealthyVolunteers'].unique())\n",
        "\n",
        "df['HealthyVolunteers'] = df['HealthyVolunteers'].replace('No', 'no')\n",
        "df['HealthyVolunteers'] = df['HealthyVolunteers'].replace('Accepts Healthy Volunteers', 'yes')\n",
        "df['HealthyVolunteers'] = df['HealthyVolunteers'].replace(np.nan, 'yes_no')\n",
        "\n",
        "print(df['HealthyVolunteers'].unique())\n",
        "print(df['HealthyVolunteers'].value_counts())"
      ],
      "metadata": {
        "colab": {
          "base_uri": "https://localhost:8080/"
        },
        "id": "sndu_iVbI3Ky",
        "outputId": "171a46b4-2be9-4cdb-e64c-f71e8c5c652c"
      },
      "execution_count": null,
      "outputs": [
        {
          "output_type": "stream",
          "name": "stdout",
          "text": [
            "['No' 'Accepts Healthy Volunteers' nan]\n",
            "['no' 'yes' 'yes_no']\n",
            "no        855\n",
            "yes       129\n",
            "yes_no     16\n",
            "Name: HealthyVolunteers, dtype: int64\n"
          ]
        }
      ]
    },
    {
      "cell_type": "code",
      "source": [
        "df = raw\n",
        "HealthyVolunteers_Input = input(\"Are you a healthy volunteer? (Example: yes ; no))\")\n",
        "print(HealthyVolunteers_Input)\n",
        "\n",
        "df = df.loc[df['HealthyVolunteers'].isin([HealthyVolunteers_Input, 'yes_no'])] \n",
        "print(df['HealthyVolunteers'].unique())\n",
        "print(df['HealthyVolunteers'].value_counts())"
      ],
      "metadata": {
        "colab": {
          "base_uri": "https://localhost:8080/"
        },
        "id": "taZoCYMoGvUS",
        "outputId": "06db6c97-0ff2-4047-d26e-08915bb660f3"
      },
      "execution_count": null,
      "outputs": [
        {
          "output_type": "stream",
          "name": "stdout",
          "text": [
            "Are you a healthy volunteer? (yes/no)no\n",
            "no\n",
            "['no' 'yes_no']\n",
            "no        855\n",
            "yes_no     16\n",
            "Name: HealthyVolunteers, dtype: int64\n"
          ]
        }
      ]
    },
    {
      "cell_type": "markdown",
      "source": [
        "### Filtering by [2] Age"
      ],
      "metadata": {
        "id": "_qE8CDNQOoZ3"
      }
    },
    {
      "cell_type": "code",
      "source": [
        "df = raw\n",
        "print('Data dimensions before Filtering : ', df.shape, '\\n')\n",
        "df['MinimumAge'] = df['MinimumAge'].replace(np.nan, '0 Months')\n",
        "print(df['MinimumAge'].value_counts())"
      ],
      "metadata": {
        "id": "7WH-mC5lRgsw"
      },
      "execution_count": null,
      "outputs": []
    },
    {
      "cell_type": "code",
      "source": [
        "# convert ages to month base\n",
        "def ages_to_months(ages):\n",
        "  return pd.Series([int(age[:age.find('Years')])*12 if (age.find('Years')!=-1) else int(age[:age.find('Months')]) for age in ages.tolist()])\n",
        "\n",
        "# ages = pd.Series(['18 Years', '99 Months', '7 Months', '6 Years', '0 Months'])\n",
        "# ages_to_months(ages)"
      ],
      "metadata": {
        "colab": {
          "base_uri": "https://localhost:8080/"
        },
        "id": "2vKl7fsEjoLx",
        "outputId": "cd305494-772c-45b7-83d1-f7edb8d9dc5e"
      },
      "execution_count": null,
      "outputs": [
        {
          "output_type": "execute_result",
          "data": {
            "text/plain": [
              "0    216\n",
              "1     99\n",
              "2      7\n",
              "3     72\n",
              "4      0\n",
              "dtype: int64"
            ]
          },
          "metadata": {},
          "execution_count": 144
        }
      ]
    },
    {
      "cell_type": "code",
      "source": [
        "Age_Input = pd.Series(input(\"Can we know your age: (Example: 29 Years ; 9 Months)\"))\n",
        "print('\\n', Age_Input)\n",
        "\n",
        "df = df[ages_to_months(df['MinimumAge']) <= ages_to_months(Age_Input).tolist()[0]]\n",
        "print(df.shape)"
      ],
      "metadata": {
        "colab": {
          "base_uri": "https://localhost:8080/"
        },
        "id": "nji816v_kOk_",
        "outputId": "fd5c9327-abf4-4ed6-ff25-d43216f58ffc"
      },
      "execution_count": null,
      "outputs": [
        {
          "output_type": "stream",
          "name": "stdout",
          "text": [
            "Can we know your age: (Example: 29 Years ; 9 Months)50 Years\n",
            "\n",
            " 0    50 Years\n",
            "dtype: object\n",
            "(944, 17)\n"
          ]
        }
      ]
    },
    {
      "cell_type": "markdown",
      "source": [
        "### Filtering by [3] Gender"
      ],
      "metadata": {
        "id": "jQbvhrqyn7GV"
      }
    },
    {
      "cell_type": "code",
      "source": [
        "df = raw\n",
        "print(df['Gender'].unique())\n",
        "print(df['Gender'].value_counts())\n",
        "df['Gender'] = df['Gender'].replace(np.nan, 'All')\n",
        "print(df['Gender'].value_counts())"
      ],
      "metadata": {
        "id": "LKBTRVQt8so0"
      },
      "execution_count": null,
      "outputs": []
    },
    {
      "cell_type": "code",
      "source": [
        "Gender_Input = input(\"Can we know your Gender: (Example: Male ; Female ; All)\")\n",
        "print('\\n', Gender_Input)\n",
        "\n",
        "df = df[df['Gender'].isin([Gender_Input, 'All'])]\n",
        "print(df.shape)"
      ],
      "metadata": {
        "colab": {
          "base_uri": "https://localhost:8080/"
        },
        "id": "QYVbpaKgnvOL",
        "outputId": "e53ec90b-98fb-4b3b-eb3e-c0b0e31f15bb"
      },
      "execution_count": null,
      "outputs": [
        {
          "output_type": "stream",
          "name": "stdout",
          "text": [
            "['All' nan 'Female']\n",
            "All       990\n",
            "Female      8\n",
            "Name: Gender, dtype: int64\n",
            "All       992\n",
            "Female      8\n",
            "Name: Gender, dtype: int64\n",
            "Can we know your Gender: (Example: Male ; Female ; All)Female\n",
            "\n",
            " Female\n",
            "(1000, 18)\n"
          ]
        }
      ]
    },
    {
      "cell_type": "markdown",
      "source": [
        "### Filtering by [4] Phase"
      ],
      "metadata": {
        "id": "1_TOUh6p6Rwh"
      }
    },
    {
      "cell_type": "code",
      "source": [
        "df = raw\n",
        "print(df['Phase'].value_counts())\n",
        "df['Phase'] = df['Phase'].replace(np.nan, 'No Phase') \n",
        "df['Phase'] = df['Phase'].replace('Not Applicable', 'No Phase') \n",
        "print(df['Phase'].value_counts())"
      ],
      "metadata": {
        "id": "LmaEkUn66OQF"
      },
      "execution_count": null,
      "outputs": []
    },
    {
      "cell_type": "code",
      "source": [
        "Phase_Input = input(\"Which Phase are you in: (Example: Phase 1; Phase 2; Phase 3; Phase 4; No Phase): \")\n",
        "print('\\n', Phase_Input)\n",
        "\n",
        "df = df[df['Phase'] == Phase_Input]\n",
        "print(df.shape)"
      ],
      "metadata": {
        "colab": {
          "base_uri": "https://localhost:8080/"
        },
        "id": "EKQRmWJg6mms",
        "outputId": "23fd6de3-8f7a-47c3-bc57-1f461656b39a"
      },
      "execution_count": 22,
      "outputs": [
        {
          "output_type": "stream",
          "name": "stdout",
          "text": [
            "Which Phase are you in: (Example: Phase 1; Phase 2; Phase 3; Phase 4; No Phase): No Phase\n",
            "\n",
            " No Phase\n",
            "(507, 17)\n"
          ]
        }
      ]
    },
    {
      "cell_type": "markdown",
      "source": [
        "### Filtering by [5] LocationStatus"
      ],
      "metadata": {
        "id": "yZXc7FjzAeka"
      }
    },
    {
      "cell_type": "code",
      "source": [
        "df = raw\n",
        "df.shape"
      ],
      "metadata": {
        "colab": {
          "base_uri": "https://localhost:8080/"
        },
        "id": "X78OJmWnAq5V",
        "outputId": "b76feb85-7b50-4cc1-b7e6-153bddc82c2c"
      },
      "execution_count": 74,
      "outputs": [
        {
          "output_type": "execute_result",
          "data": {
            "text/plain": [
              "(1000, 17)"
            ]
          },
          "metadata": {},
          "execution_count": 74
        }
      ]
    },
    {
      "cell_type": "code",
      "source": [
        "lfacility = df['LocationFacility'].astype(str).to_list()\n",
        "print(lfacility[:5])\n",
        "lstatus   = df['LocationStatus'].astype(str).to_list()\n",
        "print(lstatus[:5])\n",
        "lcity     = df['LocationCity'].astype(str).to_list()\n",
        "print(lcity[:5])\n",
        "lcountry  = df['LocationCountry'].astype(str).to_list()\n",
        "print(lcountry[:5])"
      ],
      "metadata": {
        "colab": {
          "base_uri": "https://localhost:8080/"
        },
        "id": "4ywH8gcK_vD5",
        "outputId": "314b8e04-5653-4ce0-bac9-2f1d6fcd9b40"
      },
      "execution_count": 75,
      "outputs": [
        {
          "output_type": "stream",
          "name": "stdout",
          "text": [
            "['Guangdong General Hospital', 'National Jewish Health|University of Michigan|Henry Ford|Mayo Clinic|Cleveland Clinic Foundation|Ohio State University|The Toledo Hospital|Mercy St. Vincent Medical Center|University of Toledo, Health Science Campus|Medical University of South Carolina|Tennessee Valley Veterans Admin.|Vanderbilt|Inova Fairfax Hospital', 'Tianjin Medical University Cancer Institute And Hospital', 'Research Site|Research Site|Research Site', 'Vanderbilt-Ingram Cancer Center']\n",
            "['nan', 'nan', 'Recruiting', 'nan', 'nan']\n",
            "['Guangzhou', 'Denver|Ann Arbor|Detroit|Rochester|Cleveland|Columbus|Toledo|Toledo|Toledo|Charleston|Nashville|Nashville|Falls Church', 'Tianjin', 'Algiers|Constantine|Oran', 'Nashville']\n",
            "['China', 'United States|United States|United States|United States|United States|United States|United States|United States|United States|United States|United States|United States|United States', 'China', 'Algeria|Algeria|Algeria', 'United States']\n"
          ]
        }
      ]
    },
    {
      "cell_type": "code",
      "source": [
        "allfacility = [text.split('|') for text in lfacility]\n",
        "print(allfacility[:5])\n",
        "allstatus   = [text.split('|') for text in lstatus]\n",
        "print(allstatus[:5])\n",
        "allcity     = [text.split('|') for text in lcity]\n",
        "print(allcity[:5])\n",
        "allcountry  = [text.split('|') for text in lcountry]\n",
        "print(allcountry[:5])"
      ],
      "metadata": {
        "colab": {
          "base_uri": "https://localhost:8080/"
        },
        "id": "0Yx1V7oHBAws",
        "outputId": "d5207bdc-915e-47b1-ac4c-a8a213dafee7"
      },
      "execution_count": 76,
      "outputs": [
        {
          "output_type": "stream",
          "name": "stdout",
          "text": [
            "[['Guangdong General Hospital'], ['National Jewish Health', 'University of Michigan', 'Henry Ford', 'Mayo Clinic', 'Cleveland Clinic Foundation', 'Ohio State University', 'The Toledo Hospital', 'Mercy St. Vincent Medical Center', 'University of Toledo, Health Science Campus', 'Medical University of South Carolina', 'Tennessee Valley Veterans Admin.', 'Vanderbilt', 'Inova Fairfax Hospital'], ['Tianjin Medical University Cancer Institute And Hospital'], ['Research Site', 'Research Site', 'Research Site'], ['Vanderbilt-Ingram Cancer Center']]\n",
            "[['nan'], ['nan'], ['Recruiting'], ['nan'], ['nan']]\n",
            "[['Guangzhou'], ['Denver', 'Ann Arbor', 'Detroit', 'Rochester', 'Cleveland', 'Columbus', 'Toledo', 'Toledo', 'Toledo', 'Charleston', 'Nashville', 'Nashville', 'Falls Church'], ['Tianjin'], ['Algiers', 'Constantine', 'Oran'], ['Nashville']]\n",
            "[['China'], ['United States', 'United States', 'United States', 'United States', 'United States', 'United States', 'United States', 'United States', 'United States', 'United States', 'United States', 'United States', 'United States'], ['China'], ['Algeria', 'Algeria', 'Algeria'], ['United States']]\n"
          ]
        }
      ]
    },
    {
      "cell_type": "code",
      "source": [
        "allmasks = []\n",
        "for onelist in allstatus:\n",
        "  masks = []\n",
        "  for status in onelist:\n",
        "    if status == 'Recruiting':\n",
        "      masks.append(True)\n",
        "    else:\n",
        "      masks.append(False)\n",
        "  allmasks.append(masks)\n",
        "\n",
        "allmasks[:5]"
      ],
      "metadata": {
        "colab": {
          "base_uri": "https://localhost:8080/"
        },
        "id": "ksbxNtDQBCJ-",
        "outputId": "93b8744b-4c0d-4393-e33d-a09bdcc3a3e2"
      },
      "execution_count": 77,
      "outputs": [
        {
          "output_type": "execute_result",
          "data": {
            "text/plain": [
              "[[False], [False], [True], [False], [False]]"
            ]
          },
          "metadata": {},
          "execution_count": 77
        }
      ]
    },
    {
      "cell_type": "code",
      "source": [
        "filtered_status = []\n",
        "for idx,x in enumerate(allstatus):\n",
        "  filtered_status.append(list(compress(allstatus[idx], allmasks[idx])))\n",
        "filtered_status[:6]"
      ],
      "metadata": {
        "colab": {
          "base_uri": "https://localhost:8080/"
        },
        "id": "xUd3SejLB6Hj",
        "outputId": "86e94536-6d74-4b6d-d230-2574f8f5b033"
      },
      "execution_count": 78,
      "outputs": [
        {
          "output_type": "execute_result",
          "data": {
            "text/plain": [
              "[[], [], ['Recruiting'], [], [], []]"
            ]
          },
          "metadata": {},
          "execution_count": 78
        }
      ]
    },
    {
      "cell_type": "code",
      "source": [
        "filtered_country = []\n",
        "for idx,x in enumerate(allstatus):\n",
        "  filtered_country.append(list(compress(allcountry[idx], allmasks[idx])))\n",
        "filtered_country[:6]"
      ],
      "metadata": {
        "colab": {
          "base_uri": "https://localhost:8080/"
        },
        "id": "4m2AobGoCrJl",
        "outputId": "8bd5b453-10a0-42aa-b5bd-1d13286cb4f2"
      },
      "execution_count": 79,
      "outputs": [
        {
          "output_type": "execute_result",
          "data": {
            "text/plain": [
              "[[], [], ['China'], [], [], []]"
            ]
          },
          "metadata": {},
          "execution_count": 79
        }
      ]
    },
    {
      "cell_type": "code",
      "source": [
        "filtered_facility = []\n",
        "for idx,x in enumerate(allstatus):\n",
        "  filtered_facility.append(list(compress(allfacility[idx], allmasks[idx])))\n",
        "filtered_facility[:6]"
      ],
      "metadata": {
        "colab": {
          "base_uri": "https://localhost:8080/"
        },
        "id": "D1qU3-1TC51D",
        "outputId": "961863e4-a3ee-45ae-c62c-cdd9c77defeb"
      },
      "execution_count": 80,
      "outputs": [
        {
          "output_type": "execute_result",
          "data": {
            "text/plain": [
              "[[],\n",
              " [],\n",
              " ['Tianjin Medical University Cancer Institute And Hospital'],\n",
              " [],\n",
              " [],\n",
              " []]"
            ]
          },
          "metadata": {},
          "execution_count": 80
        }
      ]
    },
    {
      "cell_type": "code",
      "source": [
        "filtered_city = []\n",
        "for idx,x in enumerate(allstatus):\n",
        "  filtered_city.append(list(compress(allcity[idx], allmasks[idx])))\n",
        "filtered_city[:6]"
      ],
      "metadata": {
        "colab": {
          "base_uri": "https://localhost:8080/"
        },
        "id": "gX0EgBjtDAdv",
        "outputId": "500ef2ea-369d-4fa7-9569-edae39a0a492"
      },
      "execution_count": 81,
      "outputs": [
        {
          "output_type": "execute_result",
          "data": {
            "text/plain": [
              "[[], [], ['Tianjin'], [], [], []]"
            ]
          },
          "metadata": {},
          "execution_count": 81
        }
      ]
    },
    {
      "cell_type": "code",
      "source": [
        "df['LocationFacility'] = filtered_facility\n",
        "df['LocationStatus']   = filtered_status\n",
        "df['LocationCity']     = filtered_city\n",
        "df['LocationCountry']  = filtered_country\n",
        "df.head()"
      ],
      "metadata": {
        "id": "ikl7xh-yDJBt"
      },
      "execution_count": null,
      "outputs": []
    },
    {
      "cell_type": "code",
      "source": [
        "tmp = df[df['LocationFacility'].map(lambda location_list: len(location_list)) > 0]\n",
        "print(tmp.shape)\n",
        "tmp"
      ],
      "metadata": {
        "colab": {
          "base_uri": "https://localhost:8080/",
          "height": 1000
        },
        "id": "u3RNO-rEW7zV",
        "outputId": "d79abbd8-697e-49b4-f2cd-60515fc96c5c"
      },
      "execution_count": 99,
      "outputs": [
        {
          "output_type": "stream",
          "name": "stdout",
          "text": [
            "(235, 17)\n"
          ]
        },
        {
          "output_type": "execute_result",
          "data": {
            "text/html": [
              "\n",
              "  <div id=\"df-91ad3f69-6ad2-42e0-9393-412f163a08aa\">\n",
              "    <div class=\"colab-df-container\">\n",
              "      <div>\n",
              "<style scoped>\n",
              "    .dataframe tbody tr th:only-of-type {\n",
              "        vertical-align: middle;\n",
              "    }\n",
              "\n",
              "    .dataframe tbody tr th {\n",
              "        vertical-align: top;\n",
              "    }\n",
              "\n",
              "    .dataframe thead th {\n",
              "        text-align: right;\n",
              "    }\n",
              "</style>\n",
              "<table border=\"1\" class=\"dataframe\">\n",
              "  <thead>\n",
              "    <tr style=\"text-align: right;\">\n",
              "      <th></th>\n",
              "      <th>Rank</th>\n",
              "      <th>NCTId</th>\n",
              "      <th>OrgFullName</th>\n",
              "      <th>OfficialTitle</th>\n",
              "      <th>OverallStatus</th>\n",
              "      <th>Phase</th>\n",
              "      <th>DetailedDescription</th>\n",
              "      <th>Condition</th>\n",
              "      <th>EligibilityCriteria</th>\n",
              "      <th>HealthyVolunteers</th>\n",
              "      <th>Gender</th>\n",
              "      <th>MinimumAge</th>\n",
              "      <th>StudyPopulation</th>\n",
              "      <th>LocationFacility</th>\n",
              "      <th>LocationCity</th>\n",
              "      <th>LocationCountry</th>\n",
              "      <th>LocationStatus</th>\n",
              "    </tr>\n",
              "  </thead>\n",
              "  <tbody>\n",
              "    <tr>\n",
              "      <th>2</th>\n",
              "      <td>3</td>\n",
              "      <td>NCT03992833</td>\n",
              "      <td>Tianjin Medical University Cancer Institute an...</td>\n",
              "      <td>Methods of Computed Tomography Screening and M...</td>\n",
              "      <td>Recruiting</td>\n",
              "      <td>Not Applicable</td>\n",
              "      <td>In this population-based study, participants w...</td>\n",
              "      <td>Lung Neoplasms|Computed Tomography|Mass Screen...</td>\n",
              "      <td>Inclusion Criteria:||Aged 40-74 years;|Residen...</td>\n",
              "      <td>Accepts Healthy Volunteers</td>\n",
              "      <td>All</td>\n",
              "      <td>40 Years</td>\n",
              "      <td>NaN</td>\n",
              "      <td>[Tianjin Medical University Cancer Institute A...</td>\n",
              "      <td>[Tianjin]</td>\n",
              "      <td>[China]</td>\n",
              "      <td>[Recruiting]</td>\n",
              "    </tr>\n",
              "    <tr>\n",
              "      <th>6</th>\n",
              "      <td>7</td>\n",
              "      <td>NCT04498052</td>\n",
              "      <td>University of Utah</td>\n",
              "      <td>Evaluation of a Scalable Decision Support and ...</td>\n",
              "      <td>Recruiting</td>\n",
              "      <td>Not Applicable</td>\n",
              "      <td>The purpose of this project is to increase app...</td>\n",
              "      <td>Early Detection of Cancer|Lung Neoplasms</td>\n",
              "      <td>Inclusion Criteria:||receives care at Universi...</td>\n",
              "      <td>No</td>\n",
              "      <td>All</td>\n",
              "      <td>55 Years</td>\n",
              "      <td>NaN</td>\n",
              "      <td>[University of Utah Health]</td>\n",
              "      <td>[Salt Lake City]</td>\n",
              "      <td>[United States]</td>\n",
              "      <td>[Recruiting]</td>\n",
              "    </tr>\n",
              "    <tr>\n",
              "      <th>27</th>\n",
              "      <td>28</td>\n",
              "      <td>NCT03356808</td>\n",
              "      <td>Shenzhen Geno-Immune Medical Institute</td>\n",
              "      <td>Multicenter Trial of Cancer Antigen-specific T...</td>\n",
              "      <td>Unknown status</td>\n",
              "      <td>Phase 1|Phase 2</td>\n",
              "      <td>Lung cancer is a malignancy characterized by u...</td>\n",
              "      <td>Lung Cancer</td>\n",
              "      <td>Inclusion Criteria:||Patients with stage III, ...</td>\n",
              "      <td>No</td>\n",
              "      <td>All</td>\n",
              "      <td>18 Years</td>\n",
              "      <td>NaN</td>\n",
              "      <td>[Jinshazhou Hospital of Guangzhou University o...</td>\n",
              "      <td>[Guangzhou, Shenzhen, Kunming]</td>\n",
              "      <td>[China, China, China]</td>\n",
              "      <td>[Recruiting, Recruiting, Recruiting]</td>\n",
              "    </tr>\n",
              "    <tr>\n",
              "      <th>29</th>\n",
              "      <td>30</td>\n",
              "      <td>NCT04315753</td>\n",
              "      <td>Istituto Clinico Humanitas</td>\n",
              "      <td>Circulating and Imaging Biomarkers to Improve ...</td>\n",
              "      <td>Recruiting</td>\n",
              "      <td>NaN</td>\n",
              "      <td>NaN</td>\n",
              "      <td>Lung Cancer</td>\n",
              "      <td>Inclusion Criteria:||Age ≥ 55 years old and ex...</td>\n",
              "      <td>Accepts Healthy Volunteers</td>\n",
              "      <td>All</td>\n",
              "      <td>55 Years</td>\n",
              "      <td>The study population should have the following...</td>\n",
              "      <td>[Istituto Clinico Humanitas]</td>\n",
              "      <td>[Rozzano]</td>\n",
              "      <td>[Italy]</td>\n",
              "      <td>[Recruiting]</td>\n",
              "    </tr>\n",
              "    <tr>\n",
              "      <th>31</th>\n",
              "      <td>32</td>\n",
              "      <td>NCT02898441</td>\n",
              "      <td>Shanghai Chest Hospital</td>\n",
              "      <td>Community-based Early Stage Lung Cancer Screen...</td>\n",
              "      <td>Unknown status</td>\n",
              "      <td>Not Applicable</td>\n",
              "      <td>NaN</td>\n",
              "      <td>Lung Cancer</td>\n",
              "      <td>Inclusion Criteria:||Eligible participants wer...</td>\n",
              "      <td>Accepts Healthy Volunteers</td>\n",
              "      <td>All</td>\n",
              "      <td>45 Years</td>\n",
              "      <td>NaN</td>\n",
              "      <td>[Shanghai Chest hospital]</td>\n",
              "      <td>[Shanghai]</td>\n",
              "      <td>[China]</td>\n",
              "      <td>[Recruiting]</td>\n",
              "    </tr>\n",
              "    <tr>\n",
              "      <th>...</th>\n",
              "      <td>...</td>\n",
              "      <td>...</td>\n",
              "      <td>...</td>\n",
              "      <td>...</td>\n",
              "      <td>...</td>\n",
              "      <td>...</td>\n",
              "      <td>...</td>\n",
              "      <td>...</td>\n",
              "      <td>...</td>\n",
              "      <td>...</td>\n",
              "      <td>...</td>\n",
              "      <td>...</td>\n",
              "      <td>...</td>\n",
              "      <td>...</td>\n",
              "      <td>...</td>\n",
              "      <td>...</td>\n",
              "      <td>...</td>\n",
              "    </tr>\n",
              "    <tr>\n",
              "      <th>984</th>\n",
              "      <td>985</td>\n",
              "      <td>NCT00546130</td>\n",
              "      <td>University of Toyama</td>\n",
              "      <td>Feasibility Study for Multicenter Randomized C...</td>\n",
              "      <td>Unknown status</td>\n",
              "      <td>Phase 2</td>\n",
              "      <td>To examine whether the following protocol and ...</td>\n",
              "      <td>Small Cell Lung Cancer</td>\n",
              "      <td>Inclusion Criteria:||Patients with histologica...</td>\n",
              "      <td>No</td>\n",
              "      <td>All</td>\n",
              "      <td>20 Years</td>\n",
              "      <td>NaN</td>\n",
              "      <td>[Toho University Sakura Medical Center, Hokkai...</td>\n",
              "      <td>[Sakura, Sapporo, Kanazawa, Uchinada, Ikoma, K...</td>\n",
              "      <td>[Japan, Japan, Japan, Japan, Japan, Japan, Jap...</td>\n",
              "      <td>[Recruiting, Recruiting, Recruiting, Recruitin...</td>\n",
              "    </tr>\n",
              "    <tr>\n",
              "      <th>988</th>\n",
              "      <td>989</td>\n",
              "      <td>NCT00514293</td>\n",
              "      <td>National Cancer Institute (NCI)</td>\n",
              "      <td>Phase II Trial of Bexarotene (Targretin) Capsu...</td>\n",
              "      <td>Unknown status</td>\n",
              "      <td>Phase 2</td>\n",
              "      <td>OBJECTIVES:||Primary||Evaluate the efficacy of...</td>\n",
              "      <td>Lung Cancer</td>\n",
              "      <td>DISEASE CHARACTERISTICS:||Histologically or cy...</td>\n",
              "      <td>No</td>\n",
              "      <td>All</td>\n",
              "      <td>18 Years</td>\n",
              "      <td>NaN</td>\n",
              "      <td>[R. Nandan M.D. Incorporated]</td>\n",
              "      <td>[Lakewood]</td>\n",
              "      <td>[United States]</td>\n",
              "      <td>[Recruiting]</td>\n",
              "    </tr>\n",
              "    <tr>\n",
              "      <th>992</th>\n",
              "      <td>993</td>\n",
              "      <td>NCT02974933</td>\n",
              "      <td>Hubei Cancer Hospital</td>\n",
              "      <td>Apatinib Mesylate Combined With Pemetrexed in ...</td>\n",
              "      <td>Unknown status</td>\n",
              "      <td>Phase 2</td>\n",
              "      <td>It is a one-arm study. The progression-free su...</td>\n",
              "      <td>Nonsmall Cell Lung Cancer</td>\n",
              "      <td>Inclusion Criteria:||Aged from 18 years to 70y...</td>\n",
              "      <td>No</td>\n",
              "      <td>All</td>\n",
              "      <td>18 Years</td>\n",
              "      <td>NaN</td>\n",
              "      <td>[Ou wuling]</td>\n",
              "      <td>[Wuhan]</td>\n",
              "      <td>[China]</td>\n",
              "      <td>[Recruiting]</td>\n",
              "    </tr>\n",
              "    <tr>\n",
              "      <th>994</th>\n",
              "      <td>995</td>\n",
              "      <td>NCT04775095</td>\n",
              "      <td>Intergroupe Francophone de Cancerologie Thorac...</td>\n",
              "      <td>BRAF V600-mutated Lung Carcinoma Treated With ...</td>\n",
              "      <td>Recruiting</td>\n",
              "      <td>NaN</td>\n",
              "      <td>The braf gene (V Raf murine sarcoma viral onco...</td>\n",
              "      <td>Non Small Cell Lung Cancer|BRAF V600 Mutation</td>\n",
              "      <td>Inclusion Criteria:||Patients with histologica...</td>\n",
              "      <td>No</td>\n",
              "      <td>All</td>\n",
              "      <td>18 Years</td>\n",
              "      <td>All patients with histologically or cytologica...</td>\n",
              "      <td>[Créteil - CHI, Lyon - CRLCC]</td>\n",
              "      <td>[Créteil, Lyon]</td>\n",
              "      <td>[France, France]</td>\n",
              "      <td>[Recruiting, Recruiting]</td>\n",
              "    </tr>\n",
              "    <tr>\n",
              "      <th>998</th>\n",
              "      <td>999</td>\n",
              "      <td>NCT04062708</td>\n",
              "      <td>Alliance Foundation Trials, LLC.</td>\n",
              "      <td>CHIO3 Trial: CHemotherapy Combined With Immune...</td>\n",
              "      <td>Recruiting</td>\n",
              "      <td>Phase 2</td>\n",
              "      <td>In the preoperative period, patients who have ...</td>\n",
              "      <td>Stage IIIA Non-small Cell Lung Cancer|Stage II...</td>\n",
              "      <td>Operability Criteria:||ECOG Performance Status...</td>\n",
              "      <td>No</td>\n",
              "      <td>All</td>\n",
              "      <td>18 Years</td>\n",
              "      <td>NaN</td>\n",
              "      <td>[NorthWestern University, University of Chicag...</td>\n",
              "      <td>[Chicago, Chicago, Boston, Boston, Lowell, Yps...</td>\n",
              "      <td>[United States, United States, United States, ...</td>\n",
              "      <td>[Recruiting, Recruiting, Recruiting, Recruitin...</td>\n",
              "    </tr>\n",
              "  </tbody>\n",
              "</table>\n",
              "<p>235 rows × 17 columns</p>\n",
              "</div>\n",
              "      <button class=\"colab-df-convert\" onclick=\"convertToInteractive('df-91ad3f69-6ad2-42e0-9393-412f163a08aa')\"\n",
              "              title=\"Convert this dataframe to an interactive table.\"\n",
              "              style=\"display:none;\">\n",
              "        \n",
              "  <svg xmlns=\"http://www.w3.org/2000/svg\" height=\"24px\"viewBox=\"0 0 24 24\"\n",
              "       width=\"24px\">\n",
              "    <path d=\"M0 0h24v24H0V0z\" fill=\"none\"/>\n",
              "    <path d=\"M18.56 5.44l.94 2.06.94-2.06 2.06-.94-2.06-.94-.94-2.06-.94 2.06-2.06.94zm-11 1L8.5 8.5l.94-2.06 2.06-.94-2.06-.94L8.5 2.5l-.94 2.06-2.06.94zm10 10l.94 2.06.94-2.06 2.06-.94-2.06-.94-.94-2.06-.94 2.06-2.06.94z\"/><path d=\"M17.41 7.96l-1.37-1.37c-.4-.4-.92-.59-1.43-.59-.52 0-1.04.2-1.43.59L10.3 9.45l-7.72 7.72c-.78.78-.78 2.05 0 2.83L4 21.41c.39.39.9.59 1.41.59.51 0 1.02-.2 1.41-.59l7.78-7.78 2.81-2.81c.8-.78.8-2.07 0-2.86zM5.41 20L4 18.59l7.72-7.72 1.47 1.35L5.41 20z\"/>\n",
              "  </svg>\n",
              "      </button>\n",
              "      \n",
              "  <style>\n",
              "    .colab-df-container {\n",
              "      display:flex;\n",
              "      flex-wrap:wrap;\n",
              "      gap: 12px;\n",
              "    }\n",
              "\n",
              "    .colab-df-convert {\n",
              "      background-color: #E8F0FE;\n",
              "      border: none;\n",
              "      border-radius: 50%;\n",
              "      cursor: pointer;\n",
              "      display: none;\n",
              "      fill: #1967D2;\n",
              "      height: 32px;\n",
              "      padding: 0 0 0 0;\n",
              "      width: 32px;\n",
              "    }\n",
              "\n",
              "    .colab-df-convert:hover {\n",
              "      background-color: #E2EBFA;\n",
              "      box-shadow: 0px 1px 2px rgba(60, 64, 67, 0.3), 0px 1px 3px 1px rgba(60, 64, 67, 0.15);\n",
              "      fill: #174EA6;\n",
              "    }\n",
              "\n",
              "    [theme=dark] .colab-df-convert {\n",
              "      background-color: #3B4455;\n",
              "      fill: #D2E3FC;\n",
              "    }\n",
              "\n",
              "    [theme=dark] .colab-df-convert:hover {\n",
              "      background-color: #434B5C;\n",
              "      box-shadow: 0px 1px 3px 1px rgba(0, 0, 0, 0.15);\n",
              "      filter: drop-shadow(0px 1px 2px rgba(0, 0, 0, 0.3));\n",
              "      fill: #FFFFFF;\n",
              "    }\n",
              "  </style>\n",
              "\n",
              "      <script>\n",
              "        const buttonEl =\n",
              "          document.querySelector('#df-91ad3f69-6ad2-42e0-9393-412f163a08aa button.colab-df-convert');\n",
              "        buttonEl.style.display =\n",
              "          google.colab.kernel.accessAllowed ? 'block' : 'none';\n",
              "\n",
              "        async function convertToInteractive(key) {\n",
              "          const element = document.querySelector('#df-91ad3f69-6ad2-42e0-9393-412f163a08aa');\n",
              "          const dataTable =\n",
              "            await google.colab.kernel.invokeFunction('convertToInteractive',\n",
              "                                                     [key], {});\n",
              "          if (!dataTable) return;\n",
              "\n",
              "          const docLinkHtml = 'Like what you see? Visit the ' +\n",
              "            '<a target=\"_blank\" href=https://colab.research.google.com/notebooks/data_table.ipynb>data table notebook</a>'\n",
              "            + ' to learn more about interactive tables.';\n",
              "          element.innerHTML = '';\n",
              "          dataTable['output_type'] = 'display_data';\n",
              "          await google.colab.output.renderOutput(dataTable, element);\n",
              "          const docLink = document.createElement('div');\n",
              "          docLink.innerHTML = docLinkHtml;\n",
              "          element.appendChild(docLink);\n",
              "        }\n",
              "      </script>\n",
              "    </div>\n",
              "  </div>\n",
              "  "
            ],
            "text/plain": [
              "     Rank  ...                                     LocationStatus\n",
              "2       3  ...                                       [Recruiting]\n",
              "6       7  ...                                       [Recruiting]\n",
              "27     28  ...               [Recruiting, Recruiting, Recruiting]\n",
              "29     30  ...                                       [Recruiting]\n",
              "31     32  ...                                       [Recruiting]\n",
              "..    ...  ...                                                ...\n",
              "984   985  ...  [Recruiting, Recruiting, Recruiting, Recruitin...\n",
              "988   989  ...                                       [Recruiting]\n",
              "992   993  ...                                       [Recruiting]\n",
              "994   995  ...                           [Recruiting, Recruiting]\n",
              "998   999  ...  [Recruiting, Recruiting, Recruiting, Recruitin...\n",
              "\n",
              "[235 rows x 17 columns]"
            ]
          },
          "metadata": {},
          "execution_count": 99
        }
      ]
    },
    {
      "cell_type": "code",
      "source": [
        ""
      ],
      "metadata": {
        "id": "NjFhhaRwXdo4"
      },
      "execution_count": null,
      "outputs": []
    }
  ]
}