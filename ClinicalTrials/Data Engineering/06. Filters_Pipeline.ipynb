{
  "nbformat": 4,
  "nbformat_minor": 0,
  "metadata": {
    "colab": {
      "name": "06. Filters Pipeline.ipynb",
      "provenance": [],
      "authorship_tag": "ABX9TyOBIyDQxPe2ns9cIKfGuEh9",
      "include_colab_link": true
    },
    "kernelspec": {
      "name": "python3",
      "display_name": "Python 3"
    },
    "language_info": {
      "name": "python"
    }
  },
  "cells": [
    {
      "cell_type": "markdown",
      "metadata": {
        "id": "view-in-github",
        "colab_type": "text"
      },
      "source": [
        "<a href=\"https://colab.research.google.com/github/MWFK/NLP-Semantic-Similarity/blob/main/ClinicalTrials/Data%20Engineering/06.%20Filters_Pipeline.ipynb\" target=\"_parent\"><img src=\"https://colab.research.google.com/assets/colab-badge.svg\" alt=\"Open In Colab\"/></a>"
      ]
    },
    {
      "cell_type": "markdown",
      "source": [
        "### Objectives\n",
        "\n",
        "1. Download the lung cancer data with specific features.\n",
        "2. Filter The lung cancer data according to the user input by matching them with the features values.\n"
      ],
      "metadata": {
        "id": "FcpYNOIlDi4c"
      }
    },
    {
      "cell_type": "markdown",
      "source": [
        "### Libs"
      ],
      "metadata": {
        "id": "1ZyLPGvZD7jx"
      }
    },
    {
      "cell_type": "code",
      "execution_count": 117,
      "metadata": {
        "id": "3EWpeM3IDbiS"
      },
      "outputs": [],
      "source": [
        "import re\n",
        "import pandas as pd\n",
        "import numpy as np\n",
        "import requests\n",
        "from requests.adapters import HTTPAdapter\n",
        "from requests.packages.urllib3.util.retry import Retry"
      ]
    },
    {
      "cell_type": "markdown",
      "source": [
        "### Data"
      ],
      "metadata": {
        "id": "kT2KS0AOEBW9"
      }
    },
    {
      "cell_type": "code",
      "source": [
        "####### Search Expression #######\n",
        "# Lung Cancer\n",
        "\n",
        "####### Study Fields #######\n",
        "'''\n",
        "NCTId, OrgFullName, OfficialTitle, OverallStatus, Phase, DetailedDescription, \n",
        "Condition, EligibilityCriteria, HealthyVolunteers, Gender, MinimumAge, StudyPopulation, \n",
        "LocationFacility, LocationCity, LocationCountry, LocationStatus\n",
        "'''\n",
        "\n",
        "####### Range Min_MAX ######\n",
        "# 1 to 1000\n",
        "\n",
        "####### Format #######\n",
        "# CSV\n",
        "\n",
        "url = 'https://clinicaltrials.gov/api/query/study_fields?expr=lung+cancer&fields=NCTId%2C+OrgFullName%2C+OfficialTitle%2C+OverallStatus%2C+Phase%2C+DetailedDescription%2C+%0D%0ACondition%2C+EligibilityCriteria%2C+HealthyVolunteers%2C+Gender%2C+MinimumAge%2C+StudyPopulation%2C+%0D%0ALocationFacility%2C+LocationCity%2C+LocationCountry%2C+LocationStatus&min_rnk=1&max_rnk=1000&fmt=csv'\n",
        "session = requests.Session()\n",
        "retry   = Retry(connect=3, backoff_factor=0.5)\n",
        "adapter = HTTPAdapter(max_retries=retry)\n",
        "session.mount('http://' , adapter)\n",
        "session.mount('https://', adapter)\n",
        "\n",
        "clinicaltrials = session.get(url)\n",
        "print('Download Request Status: ', clinicaltrials.status_code)\n",
        "\n",
        "csv_file = open('/content/'+str(1)+'-batch.csv', 'wb')\n",
        "csv_file.write(clinicaltrials.content)\n",
        "csv_file.close()\n",
        "\n",
        "raw = pd.read_csv(r'/content/1-batch.csv', skiprows=10)\n",
        "print(raw.shape)\n",
        "raw.head()\n"
      ],
      "metadata": {
        "colab": {
          "base_uri": "https://localhost:8080/",
          "height": 567
        },
        "id": "nl0u4hvmEA6g",
        "outputId": "bbbe50ea-4bdf-4481-8338-63043a1483cf"
      },
      "execution_count": 158,
      "outputs": [
        {
          "output_type": "stream",
          "name": "stdout",
          "text": [
            "Download Request Status:  200\n",
            "(1000, 17)\n"
          ]
        },
        {
          "output_type": "execute_result",
          "data": {
            "text/html": [
              "\n",
              "  <div id=\"df-e839f341-f548-487b-81f4-996f646d9293\">\n",
              "    <div class=\"colab-df-container\">\n",
              "      <div>\n",
              "<style scoped>\n",
              "    .dataframe tbody tr th:only-of-type {\n",
              "        vertical-align: middle;\n",
              "    }\n",
              "\n",
              "    .dataframe tbody tr th {\n",
              "        vertical-align: top;\n",
              "    }\n",
              "\n",
              "    .dataframe thead th {\n",
              "        text-align: right;\n",
              "    }\n",
              "</style>\n",
              "<table border=\"1\" class=\"dataframe\">\n",
              "  <thead>\n",
              "    <tr style=\"text-align: right;\">\n",
              "      <th></th>\n",
              "      <th>Rank</th>\n",
              "      <th>NCTId</th>\n",
              "      <th>OrgFullName</th>\n",
              "      <th>OfficialTitle</th>\n",
              "      <th>OverallStatus</th>\n",
              "      <th>Phase</th>\n",
              "      <th>DetailedDescription</th>\n",
              "      <th>Condition</th>\n",
              "      <th>EligibilityCriteria</th>\n",
              "      <th>HealthyVolunteers</th>\n",
              "      <th>Gender</th>\n",
              "      <th>MinimumAge</th>\n",
              "      <th>StudyPopulation</th>\n",
              "      <th>LocationFacility</th>\n",
              "      <th>LocationCity</th>\n",
              "      <th>LocationCountry</th>\n",
              "      <th>LocationStatus</th>\n",
              "    </tr>\n",
              "  </thead>\n",
              "  <tbody>\n",
              "    <tr>\n",
              "      <th>0</th>\n",
              "      <td>1</td>\n",
              "      <td>NCT03581708</td>\n",
              "      <td>Guangdong Provincial People's Hospital</td>\n",
              "      <td>Real-world Study of the Incidence and Risk Fac...</td>\n",
              "      <td>Not yet recruiting</td>\n",
              "      <td>NaN</td>\n",
              "      <td>VTE has high incidence in lung cancer and incr...</td>\n",
              "      <td>Lung Neoplasms|Venous Thromboembolism</td>\n",
              "      <td>Inclusion Criteria:||Age ≥ 18 years at the tim...</td>\n",
              "      <td>No</td>\n",
              "      <td>All</td>\n",
              "      <td>18 Years</td>\n",
              "      <td>Patients diagnosed with advanced staged lung c...</td>\n",
              "      <td>Guangdong General Hospital</td>\n",
              "      <td>Guangzhou</td>\n",
              "      <td>China</td>\n",
              "      <td>NaN</td>\n",
              "    </tr>\n",
              "    <tr>\n",
              "      <th>1</th>\n",
              "      <td>2</td>\n",
              "      <td>NCT01130285</td>\n",
              "      <td>University of Toledo</td>\n",
              "      <td>Validation of a Multi-gene Test for Lung Cance...</td>\n",
              "      <td>Active, not recruiting</td>\n",
              "      <td>NaN</td>\n",
              "      <td>Because more than 160,000 individuals die of l...</td>\n",
              "      <td>Lung Cancer</td>\n",
              "      <td>Inclusion Criteria:||20 or more pack year smok...</td>\n",
              "      <td>Accepts Healthy Volunteers</td>\n",
              "      <td>All</td>\n",
              "      <td>50 Years</td>\n",
              "      <td>The study population will consist of subjects ...</td>\n",
              "      <td>National Jewish Health|University of Michigan|...</td>\n",
              "      <td>Denver|Ann Arbor|Detroit|Rochester|Cleveland|C...</td>\n",
              "      <td>United States|United States|United States|Unit...</td>\n",
              "      <td>NaN</td>\n",
              "    </tr>\n",
              "    <tr>\n",
              "      <th>2</th>\n",
              "      <td>3</td>\n",
              "      <td>NCT03992833</td>\n",
              "      <td>Tianjin Medical University Cancer Institute an...</td>\n",
              "      <td>Methods of Computed Tomography Screening and M...</td>\n",
              "      <td>Recruiting</td>\n",
              "      <td>Not Applicable</td>\n",
              "      <td>In this population-based study, participants w...</td>\n",
              "      <td>Lung Neoplasms|Computed Tomography|Mass Screen...</td>\n",
              "      <td>Inclusion Criteria:||Aged 40-74 years;|Residen...</td>\n",
              "      <td>Accepts Healthy Volunteers</td>\n",
              "      <td>All</td>\n",
              "      <td>40 Years</td>\n",
              "      <td>NaN</td>\n",
              "      <td>Tianjin Medical University Cancer Institute An...</td>\n",
              "      <td>Tianjin</td>\n",
              "      <td>China</td>\n",
              "      <td>Recruiting</td>\n",
              "    </tr>\n",
              "    <tr>\n",
              "      <th>3</th>\n",
              "      <td>4</td>\n",
              "      <td>NCT02725892</td>\n",
              "      <td>AstraZeneca</td>\n",
              "      <td>LuCaReAl: Lung Cancer Registry in Algeria.</td>\n",
              "      <td>Completed</td>\n",
              "      <td>NaN</td>\n",
              "      <td>The study consists of:||All patients meeting i...</td>\n",
              "      <td>Oncology &amp; Epidemiology &amp; Lung Cancer</td>\n",
              "      <td>Inclusion Criteria:||Men or women diagnosed wi...</td>\n",
              "      <td>No</td>\n",
              "      <td>All</td>\n",
              "      <td>NaN</td>\n",
              "      <td>each sanitary region defined by the Ministry o...</td>\n",
              "      <td>Research Site|Research Site|Research Site</td>\n",
              "      <td>Algiers|Constantine|Oran</td>\n",
              "      <td>Algeria|Algeria|Algeria</td>\n",
              "      <td>NaN</td>\n",
              "    </tr>\n",
              "    <tr>\n",
              "      <th>4</th>\n",
              "      <td>5</td>\n",
              "      <td>NCT00897650</td>\n",
              "      <td>Vanderbilt-Ingram Cancer Center</td>\n",
              "      <td>Molecular Fingerprints in Lung Cancer: Predict...</td>\n",
              "      <td>Completed</td>\n",
              "      <td>NaN</td>\n",
              "      <td>OBJECTIVES:||To determine protein and/or RNA e...</td>\n",
              "      <td>Lung Cancer</td>\n",
              "      <td>Inclusion criteria||Diagnosis of suspected lun...</td>\n",
              "      <td>No</td>\n",
              "      <td>All</td>\n",
              "      <td>NaN</td>\n",
              "      <td>People who have or may have lung cancer.</td>\n",
              "      <td>Vanderbilt-Ingram Cancer Center</td>\n",
              "      <td>Nashville</td>\n",
              "      <td>United States</td>\n",
              "      <td>NaN</td>\n",
              "    </tr>\n",
              "  </tbody>\n",
              "</table>\n",
              "</div>\n",
              "      <button class=\"colab-df-convert\" onclick=\"convertToInteractive('df-e839f341-f548-487b-81f4-996f646d9293')\"\n",
              "              title=\"Convert this dataframe to an interactive table.\"\n",
              "              style=\"display:none;\">\n",
              "        \n",
              "  <svg xmlns=\"http://www.w3.org/2000/svg\" height=\"24px\"viewBox=\"0 0 24 24\"\n",
              "       width=\"24px\">\n",
              "    <path d=\"M0 0h24v24H0V0z\" fill=\"none\"/>\n",
              "    <path d=\"M18.56 5.44l.94 2.06.94-2.06 2.06-.94-2.06-.94-.94-2.06-.94 2.06-2.06.94zm-11 1L8.5 8.5l.94-2.06 2.06-.94-2.06-.94L8.5 2.5l-.94 2.06-2.06.94zm10 10l.94 2.06.94-2.06 2.06-.94-2.06-.94-.94-2.06-.94 2.06-2.06.94z\"/><path d=\"M17.41 7.96l-1.37-1.37c-.4-.4-.92-.59-1.43-.59-.52 0-1.04.2-1.43.59L10.3 9.45l-7.72 7.72c-.78.78-.78 2.05 0 2.83L4 21.41c.39.39.9.59 1.41.59.51 0 1.02-.2 1.41-.59l7.78-7.78 2.81-2.81c.8-.78.8-2.07 0-2.86zM5.41 20L4 18.59l7.72-7.72 1.47 1.35L5.41 20z\"/>\n",
              "  </svg>\n",
              "      </button>\n",
              "      \n",
              "  <style>\n",
              "    .colab-df-container {\n",
              "      display:flex;\n",
              "      flex-wrap:wrap;\n",
              "      gap: 12px;\n",
              "    }\n",
              "\n",
              "    .colab-df-convert {\n",
              "      background-color: #E8F0FE;\n",
              "      border: none;\n",
              "      border-radius: 50%;\n",
              "      cursor: pointer;\n",
              "      display: none;\n",
              "      fill: #1967D2;\n",
              "      height: 32px;\n",
              "      padding: 0 0 0 0;\n",
              "      width: 32px;\n",
              "    }\n",
              "\n",
              "    .colab-df-convert:hover {\n",
              "      background-color: #E2EBFA;\n",
              "      box-shadow: 0px 1px 2px rgba(60, 64, 67, 0.3), 0px 1px 3px 1px rgba(60, 64, 67, 0.15);\n",
              "      fill: #174EA6;\n",
              "    }\n",
              "\n",
              "    [theme=dark] .colab-df-convert {\n",
              "      background-color: #3B4455;\n",
              "      fill: #D2E3FC;\n",
              "    }\n",
              "\n",
              "    [theme=dark] .colab-df-convert:hover {\n",
              "      background-color: #434B5C;\n",
              "      box-shadow: 0px 1px 3px 1px rgba(0, 0, 0, 0.15);\n",
              "      filter: drop-shadow(0px 1px 2px rgba(0, 0, 0, 0.3));\n",
              "      fill: #FFFFFF;\n",
              "    }\n",
              "  </style>\n",
              "\n",
              "      <script>\n",
              "        const buttonEl =\n",
              "          document.querySelector('#df-e839f341-f548-487b-81f4-996f646d9293 button.colab-df-convert');\n",
              "        buttonEl.style.display =\n",
              "          google.colab.kernel.accessAllowed ? 'block' : 'none';\n",
              "\n",
              "        async function convertToInteractive(key) {\n",
              "          const element = document.querySelector('#df-e839f341-f548-487b-81f4-996f646d9293');\n",
              "          const dataTable =\n",
              "            await google.colab.kernel.invokeFunction('convertToInteractive',\n",
              "                                                     [key], {});\n",
              "          if (!dataTable) return;\n",
              "\n",
              "          const docLinkHtml = 'Like what you see? Visit the ' +\n",
              "            '<a target=\"_blank\" href=https://colab.research.google.com/notebooks/data_table.ipynb>data table notebook</a>'\n",
              "            + ' to learn more about interactive tables.';\n",
              "          element.innerHTML = '';\n",
              "          dataTable['output_type'] = 'display_data';\n",
              "          await google.colab.output.renderOutput(dataTable, element);\n",
              "          const docLink = document.createElement('div');\n",
              "          docLink.innerHTML = docLinkHtml;\n",
              "          element.appendChild(docLink);\n",
              "        }\n",
              "      </script>\n",
              "    </div>\n",
              "  </div>\n",
              "  "
            ],
            "text/plain": [
              "   Rank  ... LocationStatus\n",
              "0     1  ...            NaN\n",
              "1     2  ...            NaN\n",
              "2     3  ...     Recruiting\n",
              "3     4  ...            NaN\n",
              "4     5  ...            NaN\n",
              "\n",
              "[5 rows x 17 columns]"
            ]
          },
          "metadata": {},
          "execution_count": 158
        }
      ]
    },
    {
      "cell_type": "markdown",
      "source": [
        "### Filter by [1] HealthyVolunteers"
      ],
      "metadata": {
        "id": "tzOALvFGGfSM"
      }
    },
    {
      "cell_type": "code",
      "source": [
        "df = raw\n",
        "print('Data dimensions before Filtering : ', df.shape, '\\n')\n",
        "print(df['HealthyVolunteers'].unique())\n",
        "print(df['HealthyVolunteers'].nunique())\n",
        "print(df['HealthyVolunteers'].value_counts())\n",
        "print(df.loc[df['HealthyVolunteers'] == 'nan'].shape)"
      ],
      "metadata": {
        "colab": {
          "base_uri": "https://localhost:8080/"
        },
        "id": "lk6HG9e0HkXS",
        "outputId": "451b5990-31bf-4c69-bba9-319acdb2b8ab"
      },
      "execution_count": 55,
      "outputs": [
        {
          "output_type": "stream",
          "name": "stdout",
          "text": [
            "Data dimensions before Filtering :  (1000, 17) \n",
            "\n",
            "['No' 'Accepts Healthy Volunteers' nan]\n",
            "2\n",
            "No                            855\n",
            "Accepts Healthy Volunteers    129\n",
            "Name: HealthyVolunteers, dtype: int64\n",
            "(0, 17)\n"
          ]
        }
      ]
    },
    {
      "cell_type": "code",
      "source": [
        "print(df['HealthyVolunteers'].unique())\n",
        "\n",
        "df['HealthyVolunteers'] = df['HealthyVolunteers'].replace('No', 'no')\n",
        "df['HealthyVolunteers'] = df['HealthyVolunteers'].replace('Accepts Healthy Volunteers', 'yes')\n",
        "df['HealthyVolunteers'] = df['HealthyVolunteers'].replace(np.nan, 'yes_no')\n",
        "\n",
        "print(df['HealthyVolunteers'].unique())\n",
        "print(df['HealthyVolunteers'].value_counts())"
      ],
      "metadata": {
        "colab": {
          "base_uri": "https://localhost:8080/"
        },
        "id": "sndu_iVbI3Ky",
        "outputId": "171a46b4-2be9-4cdb-e64c-f71e8c5c652c"
      },
      "execution_count": 56,
      "outputs": [
        {
          "output_type": "stream",
          "name": "stdout",
          "text": [
            "['No' 'Accepts Healthy Volunteers' nan]\n",
            "['no' 'yes' 'yes_no']\n",
            "no        855\n",
            "yes       129\n",
            "yes_no     16\n",
            "Name: HealthyVolunteers, dtype: int64\n"
          ]
        }
      ]
    },
    {
      "cell_type": "code",
      "source": [
        "df = raw\n",
        "HealthyVolunteers_Input = input(\"Are you a healthy volunteer? (Example: yes ; no))\")\n",
        "print(HealthyVolunteers_Input)\n",
        "\n",
        "df = df.loc[df['HealthyVolunteers'].isin([HealthyVolunteers_Input, 'yes_no'])] \n",
        "print(df['HealthyVolunteers'].unique())\n",
        "print(df['HealthyVolunteers'].value_counts())"
      ],
      "metadata": {
        "colab": {
          "base_uri": "https://localhost:8080/"
        },
        "id": "taZoCYMoGvUS",
        "outputId": "06db6c97-0ff2-4047-d26e-08915bb660f3"
      },
      "execution_count": 59,
      "outputs": [
        {
          "output_type": "stream",
          "name": "stdout",
          "text": [
            "Are you a healthy volunteer? (yes/no)no\n",
            "no\n",
            "['no' 'yes_no']\n",
            "no        855\n",
            "yes_no     16\n",
            "Name: HealthyVolunteers, dtype: int64\n"
          ]
        }
      ]
    },
    {
      "cell_type": "markdown",
      "source": [
        "### Filtering by [2] Age"
      ],
      "metadata": {
        "id": "_qE8CDNQOoZ3"
      }
    },
    {
      "cell_type": "code",
      "source": [
        "df = raw\n",
        "print('Data dimensions before Filtering : ', df.shape, '\\n')\n",
        "df['MinimumAge'] = df['MinimumAge'].replace(np.nan, '0 Months')\n",
        "print(df['MinimumAge'].value_counts())"
      ],
      "metadata": {
        "id": "7WH-mC5lRgsw"
      },
      "execution_count": null,
      "outputs": []
    },
    {
      "cell_type": "code",
      "source": [
        "# convert ages to month base\n",
        "def ages_to_months(ages):\n",
        "  return pd.Series([int(age[:age.find('Years')])*12 if (age.find('Years')!=-1) else int(age[:age.find('Months')]) for age in ages.tolist()])\n",
        "\n",
        "# ages = pd.Series(['18 Years', '99 Months', '7 Months', '6 Years', '0 Months'])\n",
        "# ages_to_months(ages)"
      ],
      "metadata": {
        "colab": {
          "base_uri": "https://localhost:8080/"
        },
        "id": "2vKl7fsEjoLx",
        "outputId": "cd305494-772c-45b7-83d1-f7edb8d9dc5e"
      },
      "execution_count": 144,
      "outputs": [
        {
          "output_type": "execute_result",
          "data": {
            "text/plain": [
              "0    216\n",
              "1     99\n",
              "2      7\n",
              "3     72\n",
              "4      0\n",
              "dtype: int64"
            ]
          },
          "metadata": {},
          "execution_count": 144
        }
      ]
    },
    {
      "cell_type": "code",
      "source": [
        "Age_Input = pd.Series(input(\"Can we know your age: (Example: 29 Years ; 9 Months)\"))\n",
        "print('\\n', Age_Input)\n",
        "\n",
        "df = df[ages_to_months(df['MinimumAge']) <= ages_to_months(Age_Input).tolist()[0]]\n",
        "print(df.shape)"
      ],
      "metadata": {
        "colab": {
          "base_uri": "https://localhost:8080/"
        },
        "id": "nji816v_kOk_",
        "outputId": "fd5c9327-abf4-4ed6-ff25-d43216f58ffc"
      },
      "execution_count": 145,
      "outputs": [
        {
          "output_type": "stream",
          "name": "stdout",
          "text": [
            "Can we know your age: (Example: 29 Years ; 9 Months)50 Years\n",
            "\n",
            " 0    50 Years\n",
            "dtype: object\n",
            "(944, 17)\n"
          ]
        }
      ]
    },
    {
      "cell_type": "markdown",
      "source": [
        "### Filtering by [3] Gender"
      ],
      "metadata": {
        "id": "jQbvhrqyn7GV"
      }
    },
    {
      "cell_type": "code",
      "source": [
        "df = raw\n",
        "print(df['Gender'].unique())\n",
        "print(df['Gender'].value_counts())\n",
        "df['Gender'] = df['Gender'].replace(np.nan, 'All')\n",
        "print(df['Gender'].value_counts())\n",
        "\n",
        "Gender_Input = input(\"Can we know your Gender: (Example: Male ; Female ; All)\")\n",
        "print('\\n', Gender_Input)\n",
        "\n",
        "df = df[df['Gender'].isin([Gender_Input, 'All'])]\n",
        "print(df.shape)"
      ],
      "metadata": {
        "colab": {
          "base_uri": "https://localhost:8080/"
        },
        "id": "QYVbpaKgnvOL",
        "outputId": "e53ec90b-98fb-4b3b-eb3e-c0b0e31f15bb"
      },
      "execution_count": 179,
      "outputs": [
        {
          "output_type": "stream",
          "name": "stdout",
          "text": [
            "['All' nan 'Female']\n",
            "All       990\n",
            "Female      8\n",
            "Name: Gender, dtype: int64\n",
            "All       992\n",
            "Female      8\n",
            "Name: Gender, dtype: int64\n",
            "Can we know your Gender: (Example: Male ; Female ; All)Female\n",
            "\n",
            " Female\n",
            "(1000, 18)\n"
          ]
        }
      ]
    }
  ]
}