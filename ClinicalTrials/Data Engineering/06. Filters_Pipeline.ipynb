{
  "nbformat": 4,
  "nbformat_minor": 0,
  "metadata": {
    "colab": {
      "name": "06. Filters Pipeline.ipynb",
      "provenance": [],
      "authorship_tag": "ABX9TyMd2A+B2B0KYo3fVkxGFgPG",
      "include_colab_link": true
    },
    "kernelspec": {
      "name": "python3",
      "display_name": "Python 3"
    },
    "language_info": {
      "name": "python"
    }
  },
  "cells": [
    {
      "cell_type": "markdown",
      "metadata": {
        "id": "view-in-github",
        "colab_type": "text"
      },
      "source": [
        "<a href=\"https://colab.research.google.com/github/MWFK/NLP-Semantic-Similarity/blob/main/ClinicalTrials/Data%20Engineering/06.%20Filters_Pipeline.ipynb\" target=\"_parent\"><img src=\"https://colab.research.google.com/assets/colab-badge.svg\" alt=\"Open In Colab\"/></a>"
      ]
    },
    {
      "cell_type": "markdown",
      "source": [
        "### Objectives\n",
        "\n",
        "1. Download the lung cancer data with specific features.\n",
        "2. Process HealthyVolunteer feature then use it as a filter.\n",
        "3. Process Age feature then use it as a filter.\n",
        "4. Procss Gender feature then use it as filter.\n",
        "5. Procss Gender feature then use it as filter.\n",
        "6. Process then filter by LocationStatus(LocationCountry, LocationCity, LocationFacility).\n",
        "7. Process then filter by user willingness to travel destination(Country, City).\n",
        "8. Process then filter by Condition.\n",
        "9. Main function."
      ],
      "metadata": {
        "id": "FcpYNOIlDi4c"
      }
    },
    {
      "cell_type": "markdown",
      "source": [
        "### Libs"
      ],
      "metadata": {
        "id": "1ZyLPGvZD7jx"
      }
    },
    {
      "cell_type": "code",
      "execution_count": 24,
      "metadata": {
        "id": "3EWpeM3IDbiS"
      },
      "outputs": [],
      "source": [
        "import re\n",
        "import pandas as pd\n",
        "import numpy as np\n",
        "import requests\n",
        "from itertools import compress\n",
        "from requests.adapters import HTTPAdapter\n",
        "from requests.packages.urllib3.util.retry import Retry"
      ]
    },
    {
      "cell_type": "markdown",
      "source": [
        "### Data"
      ],
      "metadata": {
        "id": "kT2KS0AOEBW9"
      }
    },
    {
      "cell_type": "markdown",
      "source": [
        ""
      ],
      "metadata": {
        "id": "XvrHNGQNbAe3"
      }
    },
    {
      "cell_type": "code",
      "source": [
        "def get_data():\n",
        "  ####### Search Expression #######\n",
        "  # Lung Cancer\n",
        "\n",
        "  ####### Study Fields #######\n",
        "  '''\n",
        "  NCTId, OrgFullName, OfficialTitle, OverallStatus, Phase, DetailedDescription, \n",
        "  Condition, EligibilityCriteria, HealthyVolunteers, Gender, MinimumAge, StudyPopulation, \n",
        "  LocationFacility, LocationCity, LocationCountry, LocationStatus\n",
        "  '''\n",
        "\n",
        "  ####### Range Min_MAX ######\n",
        "  # 1 to 1000\n",
        "\n",
        "  ####### Format #######\n",
        "  # CSV\n",
        "\n",
        "  url = 'https://clinicaltrials.gov/api/query/study_fields?expr=lung+cancer&fields=NCTId%2C+OrgFullName%2C+OfficialTitle%2C+OverallStatus%2C+Phase%2C+DetailedDescription%2C+%0D%0ACondition%2C+EligibilityCriteria%2C+HealthyVolunteers%2C+Gender%2C+MinimumAge%2C+StudyPopulation%2C+%0D%0ALocationFacility%2C+LocationCity%2C+LocationCountry%2C+LocationStatus&min_rnk=1&max_rnk=1000&fmt=csv'\n",
        "  session = requests.Session()\n",
        "  retry   = Retry(connect=3, backoff_factor=0.5)\n",
        "  adapter = HTTPAdapter(max_retries=retry)\n",
        "  session.mount('http://' , adapter)\n",
        "  session.mount('https://', adapter)\n",
        "\n",
        "  clinicaltrials = session.get(url)\n",
        "  print('Download Request Status: ', clinicaltrials.status_code)\n",
        "\n",
        "  csv_file = open('/content/'+str(1)+'-batch.csv', 'wb')\n",
        "  csv_file.write(clinicaltrials.content)\n",
        "  csv_file.close()\n",
        "\n",
        "  return pd.read_csv(r'/content/1-batch.csv', skiprows=10)"
      ],
      "metadata": {
        "id": "nl0u4hvmEA6g"
      },
      "execution_count": 25,
      "outputs": []
    },
    {
      "cell_type": "markdown",
      "source": [
        "### Filter [1] by HealthyVolunteers"
      ],
      "metadata": {
        "id": "tzOALvFGGfSM"
      }
    },
    {
      "cell_type": "code",
      "source": [
        "def F_HealthyVolunteers(df):\n",
        "  print(\"Options before filtering with HealthyVolunteers: \", df.shape)\n",
        "  df['HealthyVolunteers'] = df['HealthyVolunteers'].replace('Accepts Healthy Volunteers', 'Yes')\n",
        "  df['HealthyVolunteers'] = df['HealthyVolunteers'].replace(np.nan, 'Yes_No')\n",
        "  HealthyVolunteers_Input = input(\"Are you a healthy volunteer? (Example: Yes ; No))\")\n",
        "  df = df.loc[df['HealthyVolunteers'].isin([HealthyVolunteers_Input, 'Yes_No'])] \n",
        "  print(\"Options before filtering with HealthyVolunteers: \", df.shape)\n",
        "  return df"
      ],
      "metadata": {
        "id": "sndu_iVbI3Ky"
      },
      "execution_count": 26,
      "outputs": []
    },
    {
      "cell_type": "markdown",
      "source": [
        "### Filter [2] by Age"
      ],
      "metadata": {
        "id": "_qE8CDNQOoZ3"
      }
    },
    {
      "cell_type": "code",
      "source": [
        "# convert ages to month base\n",
        "def ages_to_months(ages):\n",
        "  return pd.Series([int(age[:age.find('Years')])*12 if (age.find('Years')!=-1) else int(age[:age.find('Months')]) for age in ages.tolist()])\n",
        "\n",
        "# Filtering by Age\n",
        "def F_Age(df):\n",
        "  print(\"Options before filtering with Age: \", df.shape)\n",
        "  Age_Input = pd.Series(input(\"Can we know your age: (Example: 29 Years ; 9 Months)\"))\n",
        "  df['MinimumAge'] = df['MinimumAge'].replace(np.nan, '404 Years')\n",
        "  df = df[ages_to_months(df['MinimumAge']) <= ages_to_months(Age_Input).tolist()[0]]\n",
        "  print(\"Options before filtering with Age: \", df.shape)\n",
        "  return df"
      ],
      "metadata": {
        "id": "nji816v_kOk_"
      },
      "execution_count": 27,
      "outputs": []
    },
    {
      "cell_type": "markdown",
      "source": [
        "### Filter [3] by Gender"
      ],
      "metadata": {
        "id": "jQbvhrqyn7GV"
      }
    },
    {
      "cell_type": "code",
      "source": [
        "def F_Gender(df):\n",
        "  print(\"Options before filtering with Gender: \", df.shape)\n",
        "  df['Gender'] = df['Gender'].replace(np.nan, 'All')\n",
        "  Gender_Input = input(\"Can we know your Gender: (Example: Male ; Female ; All)\")\n",
        "  df = df[df['Gender'].isin([Gender_Input, 'All'])]\n",
        "  print(\"Options before filtering with Gender: \", df.shape)\n",
        "  return df"
      ],
      "metadata": {
        "id": "LKBTRVQt8so0"
      },
      "execution_count": 28,
      "outputs": []
    },
    {
      "cell_type": "markdown",
      "source": [
        "### Filter [4] by Phase"
      ],
      "metadata": {
        "id": "1_TOUh6p6Rwh"
      }
    },
    {
      "cell_type": "code",
      "source": [
        "def F_Phase(df):\n",
        "\n",
        "  print(\"Options before filtering with Phase: \", df.shape)\n",
        "\n",
        "  df['Phase'] = df['Phase'].replace(np.nan, 'No Phase') \n",
        "  df['Phase'] = df['Phase'].replace('Not Applicable', 'No Phase') \n",
        "\n",
        "  Phase_Input = input(\"Which Phase are you in: (Example: Phase 1; Phase 2; Phase 3; Phase 4; No Phase): \")\n",
        "  df = df[df['Phase'] == Phase_Input]\n",
        "\n",
        "  print(\"Options after filtering with Phase: \", df.shape)\n",
        "\n",
        "  return df"
      ],
      "metadata": {
        "id": "LmaEkUn66OQF"
      },
      "execution_count": 29,
      "outputs": []
    },
    {
      "cell_type": "markdown",
      "source": [
        "### Filter [5, 6, 7, 8] by LocationStatus"
      ],
      "metadata": {
        "id": "yZXc7FjzAeka"
      }
    },
    {
      "cell_type": "code",
      "source": [
        "'''\n",
        "If  LocationFacility == 'Recruiting'\n",
        "Keep the following features: Location Facility, Location City, Location Country\n",
        "'''\n",
        "\n",
        "def F_LocationStatus(df):\n",
        "  print(\"Options before filtering with Location Status: \", df.shape)\n",
        "\n",
        "  lfacility = df['LocationFacility'].astype(str).to_list()\n",
        "  lstatus   = df['LocationStatus'].astype(str).to_list()\n",
        "  lcity     = df['LocationCity'].astype(str).to_list()\n",
        "  lcountry  = df['LocationCountry'].astype(str).to_list()\n",
        "\n",
        "  allfacility = [text.split('|') for text in lfacility]\n",
        "  allstatus   = [text.split('|') for text in lstatus]\n",
        "  allcity     = [text.split('|') for text in lcity]\n",
        "  allcountry  = [text.split('|') for text in lcountry]\n",
        "\n",
        "  # This mask is for detecting the 'Recruiting' status\n",
        "  allmasks = []\n",
        "  for onelist in allstatus:\n",
        "    masks = []\n",
        "    for status in onelist:\n",
        "      if status == 'Recruiting':\n",
        "        masks.append(True)\n",
        "      else:\n",
        "        masks.append(False)\n",
        "    allmasks.append(masks)\n",
        "\n",
        "  # Using the mask, we'll filter these features rows, it will onlykeep the 'Recruiting' \n",
        "  filtered_status = []\n",
        "  for idx,x in enumerate(allstatus):\n",
        "    filtered_status.append(list(compress(allstatus[idx], allmasks[idx])))\n",
        "\n",
        "  filtered_country = []\n",
        "  for idx,x in enumerate(allstatus):\n",
        "    filtered_country.append(list(compress(allcountry[idx], allmasks[idx])))\n",
        "\n",
        "  filtered_facility = []\n",
        "  for idx,x in enumerate(allstatus):\n",
        "    filtered_facility.append(list(compress(allfacility[idx], allmasks[idx])))\n",
        "\n",
        "  filtered_city = []\n",
        "  for idx,x in enumerate(allstatus):\n",
        "    filtered_city.append(list(compress(allcity[idx], allmasks[idx])))\n",
        "\n",
        "  df['LocationFacility'] = filtered_facility\n",
        "  df['LocationStatus']   = filtered_status\n",
        "  df['LocationCity']     = filtered_city\n",
        "  df['LocationCountry']  = filtered_country\n",
        "  df.head()\n",
        "\n",
        "  # After appyling the mask the previous features, we'll only keep the row that have 'Recruiting' status.\n",
        "  df = df[df['LocationFacility'].map(lambda location_list: len(location_list)) > 0]\n",
        "  \n",
        "  print(\"Options after filtering with Location Status: \", df.shape)\n",
        "  return df"
      ],
      "metadata": {
        "id": "X78OJmWnAq5V"
      },
      "execution_count": 30,
      "outputs": []
    },
    {
      "cell_type": "markdown",
      "source": [
        "### Filtering with [9] User Travel Distance"
      ],
      "metadata": {
        "id": "CkqxM_E1yB5J"
      }
    },
    {
      "cell_type": "code",
      "source": [
        "# Filter the dataset based on the User willingness travel destination(Country, City)\n",
        "def F_TravelDistance(df):\n",
        "  print(\"Options before filtering with user Travel distance willingness: \", df.shape)\n",
        "\n",
        "  ### Filter by Patient destination Country \n",
        "  TravelCountry_Input = input(\"To which Country are you willing to Travel(Examlpe: United Kingdom): \")\n",
        "  df = df[df['LocationCountry'].map(lambda location_list: location_list.count(TravelCountry_Input)) > 0]\n",
        "  print(df.shape)\n",
        "\n",
        "  ### Filter by Patient destination City\n",
        "  TravelCity_Input = input(\"To which City are you willing to Travel(Example: London): \")\n",
        "  df = df[df['LocationCity'].map(lambda location_list: location_list.count(TravelCity_Input)) > 0]\n",
        "\n",
        "  print(\"Options after filtering with user Travel distance willingness: \", df.shape)\n",
        "  return df"
      ],
      "metadata": {
        "id": "NjFhhaRwXdo4"
      },
      "execution_count": 31,
      "outputs": []
    },
    {
      "cell_type": "markdown",
      "source": [
        "### Filter By [10] Condition"
      ],
      "metadata": {
        "id": "xah8xvIQLJgP"
      }
    },
    {
      "cell_type": "code",
      "source": [
        "def F_Condition(df):\n",
        "  print(\"Options before filtering with Condition: \", df.shape)\n",
        "  df['Condition'] = df['Condition'].replace(np.nan, 'No Condition')\n",
        "  Condition_Input = input(\"Which Condition are looking for: (Example: Non-small Cell Lung Cancer ; Small Cell Lung Cancer): \")\n",
        "  df = df[df['Condition'] == Condition_Input]\n",
        "  print(\"Options after filtering with Condition: \", df.shape)\n",
        "  return df"
      ],
      "metadata": {
        "id": "VyD9VtZPLr_0"
      },
      "execution_count": 32,
      "outputs": []
    },
    {
      "cell_type": "markdown",
      "source": [
        "### Main"
      ],
      "metadata": {
        "id": "RI0zakuWNsnV"
      }
    },
    {
      "cell_type": "code",
      "source": [
        "# Filters 1,2,3 [expression, study_fields, number of data points]\n",
        "df = get_data() \n",
        "# Filter 4 [Age]\n",
        "df = F_Age(df)  # Update this function\n",
        "#  Filters 5,6,7,8 [Clinical Trial: LocationStatus, LocationCountry, LocationCity, LocationFacility]\n",
        "df = F_LocationStatus(df) # 4 filters\n",
        "# Filter 9,10 [User: Country, City]\n",
        "df = F_TravelDistance(df)\n",
        "# Filter 11 [Condition]\n",
        "df = F_Condition(df)\n",
        "# Filter 12 [Phase]\n",
        "df = F_Phase(df)\n",
        "# Filter 13 [Gender]\n",
        "df = F_Gender(df)\n",
        "# Filter 14 [Healthy Volunteer]\n",
        "df = F_HealthyVolunteers(df)\n",
        "# Display results\n",
        "df"
      ],
      "metadata": {
        "colab": {
          "base_uri": "https://localhost:8080/",
          "height": 1000
        },
        "id": "ycK8jmy2NT_k",
        "outputId": "15a8035b-62f6-4a86-ff72-be054ecc5adf"
      },
      "execution_count": 33,
      "outputs": [
        {
          "name": "stdout",
          "output_type": "stream",
          "text": [
            "Download Request Status:  200\n",
            "Options before filtering with Age:  (1000, 17)\n",
            "Can we know your age: (Example: 29 Years ; 9 Months)60 Years\n"
          ]
        },
        {
          "output_type": "stream",
          "name": "stderr",
          "text": [
            "/usr/local/lib/python3.7/dist-packages/ipykernel_launcher.py:47: SettingWithCopyWarning: \n",
            "A value is trying to be set on a copy of a slice from a DataFrame.\n",
            "Try using .loc[row_indexer,col_indexer] = value instead\n",
            "\n",
            "See the caveats in the documentation: https://pandas.pydata.org/pandas-docs/stable/user_guide/indexing.html#returning-a-view-versus-a-copy\n",
            "/usr/local/lib/python3.7/dist-packages/ipykernel_launcher.py:48: SettingWithCopyWarning: \n",
            "A value is trying to be set on a copy of a slice from a DataFrame.\n",
            "Try using .loc[row_indexer,col_indexer] = value instead\n",
            "\n",
            "See the caveats in the documentation: https://pandas.pydata.org/pandas-docs/stable/user_guide/indexing.html#returning-a-view-versus-a-copy\n",
            "/usr/local/lib/python3.7/dist-packages/ipykernel_launcher.py:49: SettingWithCopyWarning: \n",
            "A value is trying to be set on a copy of a slice from a DataFrame.\n",
            "Try using .loc[row_indexer,col_indexer] = value instead\n",
            "\n",
            "See the caveats in the documentation: https://pandas.pydata.org/pandas-docs/stable/user_guide/indexing.html#returning-a-view-versus-a-copy\n",
            "/usr/local/lib/python3.7/dist-packages/ipykernel_launcher.py:50: SettingWithCopyWarning: \n",
            "A value is trying to be set on a copy of a slice from a DataFrame.\n",
            "Try using .loc[row_indexer,col_indexer] = value instead\n",
            "\n",
            "See the caveats in the documentation: https://pandas.pydata.org/pandas-docs/stable/user_guide/indexing.html#returning-a-view-versus-a-copy\n"
          ]
        },
        {
          "name": "stdout",
          "output_type": "stream",
          "text": [
            "Options before filtering with Age:  (915, 17)\n",
            "Options before filtering with Location Status:  (915, 17)\n",
            "Options after filtering with Location Status:  (223, 17)\n",
            "Options before filtering with user Travel distance willingness:  (223, 17)\n",
            "To which Country are you willing to Travel(Examlpe: United Kingdom): United States\n",
            "(65, 17)\n",
            "To which City are you willing to Travel(Example: London): New York\n",
            "Options after filtering with user Travel distance willingness:  (8, 17)\n",
            "Options before filtering with Condition:  (8, 17)\n",
            "Which Condition are looking for: (Example: Non-small Cell Lung Cancer ; Small Cell Lung Cancer): Lung Cancer\n"
          ]
        },
        {
          "output_type": "stream",
          "name": "stderr",
          "text": [
            "/usr/local/lib/python3.7/dist-packages/ipykernel_launcher.py:5: SettingWithCopyWarning: \n",
            "A value is trying to be set on a copy of a slice from a DataFrame.\n",
            "Try using .loc[row_indexer,col_indexer] = value instead\n",
            "\n",
            "See the caveats in the documentation: https://pandas.pydata.org/pandas-docs/stable/user_guide/indexing.html#returning-a-view-versus-a-copy\n",
            "  \"\"\"\n",
            "/usr/local/lib/python3.7/dist-packages/ipykernel_launcher.py:6: SettingWithCopyWarning: \n",
            "A value is trying to be set on a copy of a slice from a DataFrame.\n",
            "Try using .loc[row_indexer,col_indexer] = value instead\n",
            "\n",
            "See the caveats in the documentation: https://pandas.pydata.org/pandas-docs/stable/user_guide/indexing.html#returning-a-view-versus-a-copy\n",
            "  \n"
          ]
        },
        {
          "name": "stdout",
          "output_type": "stream",
          "text": [
            "Options after filtering with Condition:  (4, 17)\n",
            "Options before filtering with Phase:  (4, 17)\n",
            "Which Phase are you in: (Example: Phase 1; Phase 2; Phase 3; Phase 4; No Phase): Phase 1\n"
          ]
        },
        {
          "output_type": "stream",
          "name": "stderr",
          "text": [
            "/usr/local/lib/python3.7/dist-packages/ipykernel_launcher.py:3: SettingWithCopyWarning: \n",
            "A value is trying to be set on a copy of a slice from a DataFrame.\n",
            "Try using .loc[row_indexer,col_indexer] = value instead\n",
            "\n",
            "See the caveats in the documentation: https://pandas.pydata.org/pandas-docs/stable/user_guide/indexing.html#returning-a-view-versus-a-copy\n",
            "  This is separate from the ipykernel package so we can avoid doing imports until\n"
          ]
        },
        {
          "output_type": "stream",
          "name": "stdout",
          "text": [
            "Options after filtering with Phase:  (1, 17)\n",
            "Options before filtering with Gender:  (1, 17)\n",
            "Can we know your Gender: (Example: Male ; Female ; All)Female\n",
            "Options before filtering with Gender:  (1, 17)\n",
            "Options before filtering with HealthyVolunteers:  (1, 17)\n",
            "Are you a healthy volunteer? (Example: Yes ; No))No\n",
            "Options before filtering with HealthyVolunteers:  (1, 17)\n"
          ]
        },
        {
          "output_type": "execute_result",
          "data": {
            "text/html": [
              "\n",
              "  <div id=\"df-dbb22335-63d5-46bf-bf63-18265446f2f9\">\n",
              "    <div class=\"colab-df-container\">\n",
              "      <div>\n",
              "<style scoped>\n",
              "    .dataframe tbody tr th:only-of-type {\n",
              "        vertical-align: middle;\n",
              "    }\n",
              "\n",
              "    .dataframe tbody tr th {\n",
              "        vertical-align: top;\n",
              "    }\n",
              "\n",
              "    .dataframe thead th {\n",
              "        text-align: right;\n",
              "    }\n",
              "</style>\n",
              "<table border=\"1\" class=\"dataframe\">\n",
              "  <thead>\n",
              "    <tr style=\"text-align: right;\">\n",
              "      <th></th>\n",
              "      <th>Rank</th>\n",
              "      <th>NCTId</th>\n",
              "      <th>OrgFullName</th>\n",
              "      <th>OfficialTitle</th>\n",
              "      <th>OverallStatus</th>\n",
              "      <th>Phase</th>\n",
              "      <th>DetailedDescription</th>\n",
              "      <th>Condition</th>\n",
              "      <th>EligibilityCriteria</th>\n",
              "      <th>HealthyVolunteers</th>\n",
              "      <th>Gender</th>\n",
              "      <th>MinimumAge</th>\n",
              "      <th>StudyPopulation</th>\n",
              "      <th>LocationFacility</th>\n",
              "      <th>LocationCity</th>\n",
              "      <th>LocationCountry</th>\n",
              "      <th>LocationStatus</th>\n",
              "    </tr>\n",
              "  </thead>\n",
              "  <tbody>\n",
              "    <tr>\n",
              "      <th>878</th>\n",
              "      <td>879</td>\n",
              "      <td>NCT03567642</td>\n",
              "      <td>Memorial Sloan Kettering Cancer Center</td>\n",
              "      <td>Phase 1 Study of Combination Osimertinib, Plat...</td>\n",
              "      <td>Recruiting</td>\n",
              "      <td>Phase 1</td>\n",
              "      <td>NaN</td>\n",
              "      <td>Lung Cancer</td>\n",
              "      <td>Inclusion Criteria:||Written informed consent|...</td>\n",
              "      <td>No</td>\n",
              "      <td>All</td>\n",
              "      <td>18 Years</td>\n",
              "      <td>NaN</td>\n",
              "      <td>[Memoral Sloan Kettering Cancer Center, Memori...</td>\n",
              "      <td>[Basking Ridge, Middletown, Montvale, Commack,...</td>\n",
              "      <td>[United States, United States, United States, ...</td>\n",
              "      <td>[Recruiting, Recruiting, Recruiting, Recruitin...</td>\n",
              "    </tr>\n",
              "  </tbody>\n",
              "</table>\n",
              "</div>\n",
              "      <button class=\"colab-df-convert\" onclick=\"convertToInteractive('df-dbb22335-63d5-46bf-bf63-18265446f2f9')\"\n",
              "              title=\"Convert this dataframe to an interactive table.\"\n",
              "              style=\"display:none;\">\n",
              "        \n",
              "  <svg xmlns=\"http://www.w3.org/2000/svg\" height=\"24px\"viewBox=\"0 0 24 24\"\n",
              "       width=\"24px\">\n",
              "    <path d=\"M0 0h24v24H0V0z\" fill=\"none\"/>\n",
              "    <path d=\"M18.56 5.44l.94 2.06.94-2.06 2.06-.94-2.06-.94-.94-2.06-.94 2.06-2.06.94zm-11 1L8.5 8.5l.94-2.06 2.06-.94-2.06-.94L8.5 2.5l-.94 2.06-2.06.94zm10 10l.94 2.06.94-2.06 2.06-.94-2.06-.94-.94-2.06-.94 2.06-2.06.94z\"/><path d=\"M17.41 7.96l-1.37-1.37c-.4-.4-.92-.59-1.43-.59-.52 0-1.04.2-1.43.59L10.3 9.45l-7.72 7.72c-.78.78-.78 2.05 0 2.83L4 21.41c.39.39.9.59 1.41.59.51 0 1.02-.2 1.41-.59l7.78-7.78 2.81-2.81c.8-.78.8-2.07 0-2.86zM5.41 20L4 18.59l7.72-7.72 1.47 1.35L5.41 20z\"/>\n",
              "  </svg>\n",
              "      </button>\n",
              "      \n",
              "  <style>\n",
              "    .colab-df-container {\n",
              "      display:flex;\n",
              "      flex-wrap:wrap;\n",
              "      gap: 12px;\n",
              "    }\n",
              "\n",
              "    .colab-df-convert {\n",
              "      background-color: #E8F0FE;\n",
              "      border: none;\n",
              "      border-radius: 50%;\n",
              "      cursor: pointer;\n",
              "      display: none;\n",
              "      fill: #1967D2;\n",
              "      height: 32px;\n",
              "      padding: 0 0 0 0;\n",
              "      width: 32px;\n",
              "    }\n",
              "\n",
              "    .colab-df-convert:hover {\n",
              "      background-color: #E2EBFA;\n",
              "      box-shadow: 0px 1px 2px rgba(60, 64, 67, 0.3), 0px 1px 3px 1px rgba(60, 64, 67, 0.15);\n",
              "      fill: #174EA6;\n",
              "    }\n",
              "\n",
              "    [theme=dark] .colab-df-convert {\n",
              "      background-color: #3B4455;\n",
              "      fill: #D2E3FC;\n",
              "    }\n",
              "\n",
              "    [theme=dark] .colab-df-convert:hover {\n",
              "      background-color: #434B5C;\n",
              "      box-shadow: 0px 1px 3px 1px rgba(0, 0, 0, 0.15);\n",
              "      filter: drop-shadow(0px 1px 2px rgba(0, 0, 0, 0.3));\n",
              "      fill: #FFFFFF;\n",
              "    }\n",
              "  </style>\n",
              "\n",
              "      <script>\n",
              "        const buttonEl =\n",
              "          document.querySelector('#df-dbb22335-63d5-46bf-bf63-18265446f2f9 button.colab-df-convert');\n",
              "        buttonEl.style.display =\n",
              "          google.colab.kernel.accessAllowed ? 'block' : 'none';\n",
              "\n",
              "        async function convertToInteractive(key) {\n",
              "          const element = document.querySelector('#df-dbb22335-63d5-46bf-bf63-18265446f2f9');\n",
              "          const dataTable =\n",
              "            await google.colab.kernel.invokeFunction('convertToInteractive',\n",
              "                                                     [key], {});\n",
              "          if (!dataTable) return;\n",
              "\n",
              "          const docLinkHtml = 'Like what you see? Visit the ' +\n",
              "            '<a target=\"_blank\" href=https://colab.research.google.com/notebooks/data_table.ipynb>data table notebook</a>'\n",
              "            + ' to learn more about interactive tables.';\n",
              "          element.innerHTML = '';\n",
              "          dataTable['output_type'] = 'display_data';\n",
              "          await google.colab.output.renderOutput(dataTable, element);\n",
              "          const docLink = document.createElement('div');\n",
              "          docLink.innerHTML = docLinkHtml;\n",
              "          element.appendChild(docLink);\n",
              "        }\n",
              "      </script>\n",
              "    </div>\n",
              "  </div>\n",
              "  "
            ],
            "text/plain": [
              "     Rank  ...                                     LocationStatus\n",
              "878   879  ...  [Recruiting, Recruiting, Recruiting, Recruitin...\n",
              "\n",
              "[1 rows x 17 columns]"
            ]
          },
          "metadata": {},
          "execution_count": 33
        }
      ]
    }
  ]
}