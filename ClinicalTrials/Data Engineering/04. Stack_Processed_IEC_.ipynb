{
  "nbformat": 4,
  "nbformat_minor": 0,
  "metadata": {
    "colab": {
      "name": "04. Stack_Processed_IEC_.ipynb",
      "provenance": [],
      "authorship_tag": "ABX9TyM4CIpcEpqpCDxLUuKWGeAW",
      "include_colab_link": true
    },
    "kernelspec": {
      "name": "python3",
      "display_name": "Python 3"
    },
    "language_info": {
      "name": "python"
    }
  },
  "cells": [
    {
      "cell_type": "markdown",
      "metadata": {
        "id": "view-in-github",
        "colab_type": "text"
      },
      "source": [
        "<a href=\"https://colab.research.google.com/github/MWFK/NLP-Semantic-Similarity/blob/main/ClinicalTrials/Data%20Engineering/04.%20Stack_Processed_IEC_.ipynb\" target=\"_parent\"><img src=\"https://colab.research.google.com/assets/colab-badge.svg\" alt=\"Open In Colab\"/></a>"
      ]
    },
    {
      "cell_type": "markdown",
      "source": [
        "### Objectives\n",
        "\n",
        "New1: do the same cleansing of the separated inclusion criteria, and convert them to rows instead columns.\n",
        "\n",
        "New2: frequency on exlcusion/inclusion criteria (2-6words) (only those that have frequence over 20).\n",
        "\n",
        "P.S.\n",
        "Lung Cancer Data\n",
        "\n",
        "\n",
        "##### Steps\n",
        "1. Get 1000 Clinical Trials from the Lung Cancer Study\n",
        "2. Normalize the Eligibility Criteria\n",
        "3. Clean&Process the Eligibility Criteria\n",
        "4. Seperate the Eligibility Criteria into Inclusion and Exlusion then convert them into a list of lists.\n",
        "5. Convert the List of Lists into Stacked DataFrame for both Inclusion and Exclusion Criteria.\n",
        "6. Export the results in Excel format.\n"
      ],
      "metadata": {
        "id": "apgmk5faHsvi"
      }
    },
    {
      "cell_type": "markdown",
      "source": [
        "### Libs"
      ],
      "metadata": {
        "id": "fSw4D2rnIGfe"
      }
    },
    {
      "cell_type": "code",
      "source": [
        "import re\n",
        "import pandas as pd\n",
        "# pd.set_option('display.max_columns', None)  \n",
        "# pd.set_option('display.max_colwidth', None)\n",
        "import requests\n",
        "from itertools import compress\n",
        "from requests.adapters import HTTPAdapter\n",
        "from requests.packages.urllib3.util.retry import Retry\n",
        "\n",
        "from string import punctuation\n",
        "\n",
        "import nltk\n",
        "nltk.download('punkt')\n",
        "nltk.download('stopwords')\n",
        "nltk.download('wordnet')\n",
        "nltk.download('averaged_perceptron_tagger')\n",
        "from nltk.util import ngrams\n",
        "from nltk.tokenize import word_tokenize\n",
        "from nltk.corpus import stopwords\n",
        "from nltk.stem import WordNetLemmatizer\n",
        "from nltk.corpus import wordnet\n",
        "\n",
        "from google.colab import files"
      ],
      "metadata": {
        "colab": {
          "base_uri": "https://localhost:8080/"
        },
        "id": "FYF3Fg1HPw9-",
        "outputId": "304cb047-6249-4944-8977-8548c099477c"
      },
      "execution_count": 1,
      "outputs": [
        {
          "output_type": "stream",
          "name": "stdout",
          "text": [
            "[nltk_data] Downloading package punkt to /root/nltk_data...\n",
            "[nltk_data]   Package punkt is already up-to-date!\n",
            "[nltk_data] Downloading package stopwords to /root/nltk_data...\n",
            "[nltk_data]   Package stopwords is already up-to-date!\n",
            "[nltk_data] Downloading package wordnet to /root/nltk_data...\n",
            "[nltk_data]   Package wordnet is already up-to-date!\n",
            "[nltk_data] Downloading package averaged_perceptron_tagger to\n",
            "[nltk_data]     /root/nltk_data...\n",
            "[nltk_data]   Package averaged_perceptron_tagger is already up-to-\n",
            "[nltk_data]       date!\n"
          ]
        }
      ]
    },
    {
      "cell_type": "markdown",
      "source": [
        "### Data"
      ],
      "metadata": {
        "id": "toPIpOLeIIxz"
      }
    },
    {
      "cell_type": "code",
      "execution_count": 2,
      "metadata": {
        "colab": {
          "base_uri": "https://localhost:8080/",
          "height": 373
        },
        "id": "DrJFMwpFHbcA",
        "outputId": "1c305f03-ed54-4803-ecaa-911de4f4b048"
      },
      "outputs": [
        {
          "output_type": "stream",
          "name": "stdout",
          "text": [
            "Download Request Status:  200\n",
            "(1000, 6)\n"
          ]
        },
        {
          "output_type": "execute_result",
          "data": {
            "text/html": [
              "\n",
              "  <div id=\"df-eb14e026-9560-4912-aff6-6d242b95fccd\">\n",
              "    <div class=\"colab-df-container\">\n",
              "      <div>\n",
              "<style scoped>\n",
              "    .dataframe tbody tr th:only-of-type {\n",
              "        vertical-align: middle;\n",
              "    }\n",
              "\n",
              "    .dataframe tbody tr th {\n",
              "        vertical-align: top;\n",
              "    }\n",
              "\n",
              "    .dataframe thead th {\n",
              "        text-align: right;\n",
              "    }\n",
              "</style>\n",
              "<table border=\"1\" class=\"dataframe\">\n",
              "  <thead>\n",
              "    <tr style=\"text-align: right;\">\n",
              "      <th></th>\n",
              "      <th>Rank</th>\n",
              "      <th>NCTId</th>\n",
              "      <th>BriefTitle</th>\n",
              "      <th>Condition</th>\n",
              "      <th>Keyword</th>\n",
              "      <th>EligibilityCriteria</th>\n",
              "    </tr>\n",
              "  </thead>\n",
              "  <tbody>\n",
              "    <tr>\n",
              "      <th>0</th>\n",
              "      <td>1</td>\n",
              "      <td>NCT03581708</td>\n",
              "      <td>Venous Thromboembolism in Advanced Lung Cancer</td>\n",
              "      <td>Lung Neoplasms|Venous Thromboembolism</td>\n",
              "      <td>lung cancer|Venous Thromboembolism</td>\n",
              "      <td>Inclusion Criteria:||Age ≥ 18 years at the tim...</td>\n",
              "    </tr>\n",
              "    <tr>\n",
              "      <th>1</th>\n",
              "      <td>2</td>\n",
              "      <td>NCT01130285</td>\n",
              "      <td>Validation of a Multi-gene Test for Lung Cance...</td>\n",
              "      <td>Lung Cancer</td>\n",
              "      <td>Lung Cancer</td>\n",
              "      <td>Inclusion Criteria:||20 or more pack year smok...</td>\n",
              "    </tr>\n",
              "    <tr>\n",
              "      <th>2</th>\n",
              "      <td>3</td>\n",
              "      <td>NCT03992833</td>\n",
              "      <td>Methods of Computed Tomography Screening and M...</td>\n",
              "      <td>Lung Neoplasms|Computed Tomography|Mass Screen...</td>\n",
              "      <td>NaN</td>\n",
              "      <td>Inclusion Criteria:||Aged 40-74 years;|Residen...</td>\n",
              "    </tr>\n",
              "    <tr>\n",
              "      <th>3</th>\n",
              "      <td>4</td>\n",
              "      <td>NCT02725892</td>\n",
              "      <td>National Lung Cancer Registry in Men and Women...</td>\n",
              "      <td>Oncology &amp; Epidemiology &amp; Lung Cancer</td>\n",
              "      <td>lung cancer epidemiology algeria registry</td>\n",
              "      <td>Inclusion Criteria:||Men or women diagnosed wi...</td>\n",
              "    </tr>\n",
              "    <tr>\n",
              "      <th>4</th>\n",
              "      <td>5</td>\n",
              "      <td>NCT00897650</td>\n",
              "      <td>Protein and RNA Expression Patterns in Predict...</td>\n",
              "      <td>Lung Cancer</td>\n",
              "      <td>lung cancer</td>\n",
              "      <td>Inclusion criteria||Diagnosis of suspected lun...</td>\n",
              "    </tr>\n",
              "  </tbody>\n",
              "</table>\n",
              "</div>\n",
              "      <button class=\"colab-df-convert\" onclick=\"convertToInteractive('df-eb14e026-9560-4912-aff6-6d242b95fccd')\"\n",
              "              title=\"Convert this dataframe to an interactive table.\"\n",
              "              style=\"display:none;\">\n",
              "        \n",
              "  <svg xmlns=\"http://www.w3.org/2000/svg\" height=\"24px\"viewBox=\"0 0 24 24\"\n",
              "       width=\"24px\">\n",
              "    <path d=\"M0 0h24v24H0V0z\" fill=\"none\"/>\n",
              "    <path d=\"M18.56 5.44l.94 2.06.94-2.06 2.06-.94-2.06-.94-.94-2.06-.94 2.06-2.06.94zm-11 1L8.5 8.5l.94-2.06 2.06-.94-2.06-.94L8.5 2.5l-.94 2.06-2.06.94zm10 10l.94 2.06.94-2.06 2.06-.94-2.06-.94-.94-2.06-.94 2.06-2.06.94z\"/><path d=\"M17.41 7.96l-1.37-1.37c-.4-.4-.92-.59-1.43-.59-.52 0-1.04.2-1.43.59L10.3 9.45l-7.72 7.72c-.78.78-.78 2.05 0 2.83L4 21.41c.39.39.9.59 1.41.59.51 0 1.02-.2 1.41-.59l7.78-7.78 2.81-2.81c.8-.78.8-2.07 0-2.86zM5.41 20L4 18.59l7.72-7.72 1.47 1.35L5.41 20z\"/>\n",
              "  </svg>\n",
              "      </button>\n",
              "      \n",
              "  <style>\n",
              "    .colab-df-container {\n",
              "      display:flex;\n",
              "      flex-wrap:wrap;\n",
              "      gap: 12px;\n",
              "    }\n",
              "\n",
              "    .colab-df-convert {\n",
              "      background-color: #E8F0FE;\n",
              "      border: none;\n",
              "      border-radius: 50%;\n",
              "      cursor: pointer;\n",
              "      display: none;\n",
              "      fill: #1967D2;\n",
              "      height: 32px;\n",
              "      padding: 0 0 0 0;\n",
              "      width: 32px;\n",
              "    }\n",
              "\n",
              "    .colab-df-convert:hover {\n",
              "      background-color: #E2EBFA;\n",
              "      box-shadow: 0px 1px 2px rgba(60, 64, 67, 0.3), 0px 1px 3px 1px rgba(60, 64, 67, 0.15);\n",
              "      fill: #174EA6;\n",
              "    }\n",
              "\n",
              "    [theme=dark] .colab-df-convert {\n",
              "      background-color: #3B4455;\n",
              "      fill: #D2E3FC;\n",
              "    }\n",
              "\n",
              "    [theme=dark] .colab-df-convert:hover {\n",
              "      background-color: #434B5C;\n",
              "      box-shadow: 0px 1px 3px 1px rgba(0, 0, 0, 0.15);\n",
              "      filter: drop-shadow(0px 1px 2px rgba(0, 0, 0, 0.3));\n",
              "      fill: #FFFFFF;\n",
              "    }\n",
              "  </style>\n",
              "\n",
              "      <script>\n",
              "        const buttonEl =\n",
              "          document.querySelector('#df-eb14e026-9560-4912-aff6-6d242b95fccd button.colab-df-convert');\n",
              "        buttonEl.style.display =\n",
              "          google.colab.kernel.accessAllowed ? 'block' : 'none';\n",
              "\n",
              "        async function convertToInteractive(key) {\n",
              "          const element = document.querySelector('#df-eb14e026-9560-4912-aff6-6d242b95fccd');\n",
              "          const dataTable =\n",
              "            await google.colab.kernel.invokeFunction('convertToInteractive',\n",
              "                                                     [key], {});\n",
              "          if (!dataTable) return;\n",
              "\n",
              "          const docLinkHtml = 'Like what you see? Visit the ' +\n",
              "            '<a target=\"_blank\" href=https://colab.research.google.com/notebooks/data_table.ipynb>data table notebook</a>'\n",
              "            + ' to learn more about interactive tables.';\n",
              "          element.innerHTML = '';\n",
              "          dataTable['output_type'] = 'display_data';\n",
              "          await google.colab.output.renderOutput(dataTable, element);\n",
              "          const docLink = document.createElement('div');\n",
              "          docLink.innerHTML = docLinkHtml;\n",
              "          element.appendChild(docLink);\n",
              "        }\n",
              "      </script>\n",
              "    </div>\n",
              "  </div>\n",
              "  "
            ],
            "text/plain": [
              "   Rank  ...                                EligibilityCriteria\n",
              "0     1  ...  Inclusion Criteria:||Age ≥ 18 years at the tim...\n",
              "1     2  ...  Inclusion Criteria:||20 or more pack year smok...\n",
              "2     3  ...  Inclusion Criteria:||Aged 40-74 years;|Residen...\n",
              "3     4  ...  Inclusion Criteria:||Men or women diagnosed wi...\n",
              "4     5  ...  Inclusion criteria||Diagnosis of suspected lun...\n",
              "\n",
              "[5 rows x 6 columns]"
            ]
          },
          "metadata": {},
          "execution_count": 2
        }
      ],
      "source": [
        "####### Search Expression #######\n",
        "# None\n",
        "\n",
        "####### Study Fields #######\n",
        "# NCTId,BriefTitle,Condition,Keyword,EligibilityCriteria \t\n",
        "\n",
        "####### New Fields to add #######\n",
        "# LocationStatus, Phase\n",
        "\n",
        "####### Range Min_MAX ######\n",
        "# 1 to 1000\n",
        "\n",
        "####### Format #######\n",
        "# CSV\n",
        "\n",
        "url = 'https://clinicaltrials.gov/api/query/study_fields?expr=lung+cancer&fields=NCTId%2CBriefTitle%2CCondition%2CKeyword%2CEligibilityCriteria+%09&min_rnk=1&max_rnk=1000&fmt=csv'\n",
        "session = requests.Session()\n",
        "retry   = Retry(connect=3, backoff_factor=0.5)\n",
        "adapter = HTTPAdapter(max_retries=retry)\n",
        "session.mount('http://' , adapter)\n",
        "session.mount('https://', adapter)\n",
        "\n",
        "clinicaltrials = session.get(url)\n",
        "print('Download Request Status: ', clinicaltrials.status_code)\n",
        "\n",
        "csv_file = open('/content/'+str(1)+'-batch.csv', 'wb')\n",
        "csv_file.write(clinicaltrials.content)\n",
        "csv_file.close()\n",
        "\n",
        "df = pd.read_csv(r'/content/1-batch.csv', skiprows=10)\n",
        "print(df.shape)\n",
        "df.head()"
      ]
    },
    {
      "cell_type": "markdown",
      "source": [
        "### Normalizing Eligibility Criteria"
      ],
      "metadata": {
        "id": "ZzLeZge0TAAf"
      }
    },
    {
      "cell_type": "code",
      "source": [
        "# The dictionnary does not have all the variation of the possible synonyms\n",
        "\n",
        "texts     = [### Stage\n",
        "             'Has Limited Stage SCLC (Stage I-III, by AJCC 8th Edition Cancer Staging).',\n",
        "             'Anti-cancer Agents in Patients With Advanced Solid Malignancies (PETRA)',\n",
        "             ### Previous Treatment\n",
        "             'Olaparib in Newly Diagnosed Treatment naïve Limited-Stage',\n",
        "             'RR SCLC who progressed or recurred following platinum-based regimen',\n",
        "             ### Performance Status\n",
        "             'Has Eastern Cooperative Oncology Group (ECOG) Performance score 0 or 1',\n",
        "             'ECOG PS - 0/1-2',\n",
        "              ### Diagnosis\n",
        "             'Has pathologically (histologically or cytologically) confirmed Small Cell Lung Cancer (SCLC).',\n",
        "             'Subject with histological or cytological confirmation of extensive stage Small Cell Lung Cancer \\\n",
        "             (ES SCLC) or Stage IIIb or IV squamous Non-Small Cell Lung Cancer (sqNSCLC)',\n",
        "             ]\n",
        "\n",
        "displayed = [### Stage\n",
        "             'Localised', \n",
        "             'Locally Advanced', \n",
        "             'Metastatic',\n",
        "             ### Previous Treatment\n",
        "             'Newly Diagnosed',\n",
        "             'Prior Therapy',\n",
        "             ### Performance Status\n",
        "             'ECOG 0 or KPS 100',\n",
        "             'ECOG 1 or KPS 80-90',\n",
        "             'ECOG 2 or KPS 60-70',\n",
        "             'ECOG 3 or KPS 40-50',\n",
        "             'ECOG 4 or KPS 10-30',\n",
        "             ### Diagnosis\n",
        "             'Histologically',\n",
        "             ]\n",
        "\n",
        "synonyms  = [### Stage\n",
        "             [r'limited\\sstage', r'ls\\s', r'stage\\si-iii', r'no\\smetastatic\\sdisease', r'stage\\si', r'stage\\sii', r'stage\\siii'], \n",
        "             [r'stage\\sii'],\n",
        "             [r'advanced', r'secondary', r'stage\\siv', r'extensive-stage', r'extensive\\sstage', \n",
        "              r'\\ses\\s', r'no\\sevidence\\sof\\smetastatic\\sdisease', r'extensive\\sdisease'],\n",
        "             ### Previous Treatment\n",
        "             [r'de\\snovo', r'treatment\\snaïve', r'no\\sprior\\streatment', r'not\\spreviously\\streated', \n",
        "              r'previously\\suntreated', r'Not\\sreceived\\sprior\\streatment', \tr'first-line',\tr'first\\sline'],\n",
        "             [r'relapse',\tr'recurrent',\tr'progressed',\tr'recurred', r'rr\\s', r'refractory',\tr'previoustly\\streated',\tr'after\\sprior',\tr'treated\\swith\\sprior',\t\n",
        "              r'prior\\stherapy', r'prior\\ssystemic\\stherapy', r'received\\stherapy',\tr'progressive',\tr'progression',\tr'previously\\sreceived',\tr'treated\\swith', \t\n",
        "              r'received\\streatment',\tr'prior\\streatment', \tr'prior\\sline',\tr'have\\sreceived',\tr'progression',\tr'has\\sreceived'],\n",
        "             ### Performance Status\n",
        "             [r'eastern\\scooperative\\soncology\\sgroup', r'ecog\\s0', r'kps\\s100',   r'0\\sor\\s1', r'0\\sto\\s1', r'0-2', r'0/1-2', r'≤\\s1'],\n",
        "             [r'eastern\\scooperative\\soncology\\sgroup', r'ecog\\s1', r'kps\\s80-90', r'0\\sor\\s1', r'0\\sto\\s1', r'0-2', r'0/1-2', r'≤\\s1'],\n",
        "             [r'eastern\\scooperative\\soncology\\sgroup', r'ecog\\s2', r'kps\\s60-70',                           r'0-2', r'0/1-2'],\n",
        "             [r'eastern\\scooperative\\soncology\\sgroup', r'ecog\\s3', r'kps\\s40-50'],\n",
        "             [r'eastern\\scooperative\\soncology\\sgroup', r'ecog\\s4', r'kps\\s10-30'],\n",
        "             ### Diagnosis\n",
        "             [r'pathologically',\tr'cytologically', \tr'histologic',\tr'histological',\tr'cytological'],\n",
        "             ]"
      ],
      "metadata": {
        "id": "Pg_jqv2kU0WE"
      },
      "execution_count": 3,
      "outputs": []
    },
    {
      "cell_type": "code",
      "source": [
        "# Before normalizing texts, we need to normalize conditionned terms\n",
        "def normalizer_exceptions(texts, displayed, synonym):\n",
        "  normalized_texts = []\n",
        "  for text in texts:\n",
        "    if text.find('brain metastases')<0:\n",
        "      normalized_texts.append(text.replace(synonym, displayed))\n",
        "    else: \n",
        "      normalized_texts.append(text)\n",
        "  return normalized_texts "
      ],
      "metadata": {
        "id": "R0tOX_0BRX76"
      },
      "execution_count": 4,
      "outputs": []
    },
    {
      "cell_type": "code",
      "source": [
        "# normalize a list of texts with one displayed term that has several synonyms\n",
        "def normalizer(texts, displayed, synonyms):\n",
        "  normalized_texts = []\n",
        "  for text in texts:\n",
        "    for regex in synonyms:\n",
        "      text = re.sub(regex, displayed, text)\n",
        "    normalized_texts.append(text)\n",
        "  return normalized_texts"
      ],
      "metadata": {
        "id": "W_-PCC0hTnOZ"
      },
      "execution_count": 5,
      "outputs": []
    },
    {
      "cell_type": "code",
      "source": [
        "# normalize a list of texts with several displayed terms that each have several synonyms\n",
        "def normalization(texts, displayed, synonyms):\n",
        "  normalized_texts = texts\n",
        "  for idx, dis_syn in enumerate(list(zip(displayed, synonyms))):\n",
        "    normalized_texts = normalizer(normalized_texts, dis_syn[0], dis_syn[1])\n",
        "  return normalized_texts"
      ],
      "metadata": {
        "id": "bHHeULTtUwM9"
      },
      "execution_count": 6,
      "outputs": []
    },
    {
      "cell_type": "code",
      "source": [
        "# Test\n",
        "texts = [text.lower() for text in texts]\n",
        "normalized_texts = normalization(texts, displayed, synonyms)\n",
        "normalized_texts"
      ],
      "metadata": {
        "colab": {
          "base_uri": "https://localhost:8080/"
        },
        "id": "1PavS5JSU9ln",
        "outputId": "07ca8582-926d-4698-f482-8431fcb94b9c"
      },
      "execution_count": 7,
      "outputs": [
        {
          "output_type": "execute_result",
          "data": {
            "text/plain": [
              "['has Localised sclc (Localised, by ajcc 8th edition cancer staging).',\n",
              " 'anti-cancer agents in patients with Metastatic solid malignancies (petra)',\n",
              " 'olaparib in newly diagnosed Newly Diagnosed limited-stage',\n",
              " 'Prior Therapysclc who Prior Therapy or Prior Therapy following platinum-based regimen',\n",
              " 'has ECOG 0 or KPS 100 (ecog) performance score ECOG 0 or KPS 100',\n",
              " 'ecog ps - ECOG 0 or KPS 100',\n",
              " 'has Histologically (Histologicallyally or Histologically) confirmed small cell lung cancer (sclc).',\n",
              " 'subject with Histologicallyal or Histologically confirmation of Metastatic small cell lung cancer              (es sclc) or Localisediib or iv squamous non-small cell lung cancer (sqnsclc)']"
            ]
          },
          "metadata": {},
          "execution_count": 7
        }
      ]
    },
    {
      "cell_type": "markdown",
      "source": [
        "### Normalize the Eligibility Criteria"
      ],
      "metadata": {
        "id": "QZhFj4CwWZZo"
      }
    },
    {
      "cell_type": "code",
      "source": [
        "### Apply Normalization of Eligibility Criteria\n",
        "\n",
        "# Convert the EligibilityCriteria to string then lowercase\n",
        "EligibilityCriteria = df['EligibilityCriteria'].astype(str).str.lower().tolist()\n",
        "NormalizeEligibilityCriteria = normalization(EligibilityCriteria, displayed, synonyms)\n",
        "NormalizeEligibilityCriteria[:5]"
      ],
      "metadata": {
        "colab": {
          "base_uri": "https://localhost:8080/"
        },
        "id": "cbDH5TXJVHM_",
        "outputId": "63abcc19-3db7-473c-8670-eba07325c088"
      },
      "execution_count": 8,
      "outputs": [
        {
          "output_type": "execute_result",
          "data": {
            "text/plain": [
              "['inclusion criteria:||age ≥ 18 years at the time of screening.|ECOG 0 or KPS 100 performance status of ≤ 2.|written informed consent obtained from the patient.|Histologicallyally and Histologically documented stage 3b-4 lung cancer (according to version 8 of the international association for the study of lung cancer staging system).|patients with stage 1 to 3, who undergo radical therapy with disease free survival (dfs) >12 months.|willingness and ability to comply with scheduled visits and other study procedures.||exclusion criteria:||history of another primary malignancy except for malignancy Prior Therapy curative intent with known active disease ≥ 5 years before date of the informed consent.|without signed informed consent.|unwillingness or inability to comply with scheduled visits or other study procedures.|previously diagnosed with vte before signing informed consent.',\n",
              " 'inclusion criteria:||20 or more pack year smoking history|clinical need for diagnostic bronchoscopy or consent to study driven bronchoscopy||exclusion criteria:||lung cancer within 3 months after the date of enrollment',\n",
              " 'inclusion criteria:||aged 40-74 years;|resident in the hexi district of tianjin city for at least 3 years;|having no self-reported history of any malignant tumor.||exclusion criteria:||pregnant woman will be excluded.',\n",
              " 'inclusion criteria:||men or women diagnosed with lung cancer all types and stages confirmed over 12 months of recruitment period by a pathologist||aged at least18 years at diagnosis|patients who provide their informed consent form||exclusion criteria:||patients who did not provide the informed consent form|patients with a mental or psychological disorder according to their treating clinicians',\n",
              " 'inclusion criteria||diagnosis of suspected lung cancer or lung cancer||exclusion criteria||inability to undergo therapy']"
            ]
          },
          "metadata": {},
          "execution_count": 8
        }
      ]
    },
    {
      "cell_type": "markdown",
      "source": [
        "### Clean & Process the Eligibility Criteria"
      ],
      "metadata": {
        "id": "DZF2Wr5TWqnm"
      }
    },
    {
      "cell_type": "code",
      "source": [
        "# \" Don't consider the '|' and the '-' when removing the punctuation\"\n",
        "my_punctuation = punctuation.replace(\"|\", \"\").replace(\"-\", \"\")\n",
        "\n",
        "# Initiaalise the lemmatizer outside of the function\n",
        "lemmatizer = WordNetLemmatizer()\n",
        "\n",
        "def remove_punctuation(text):\n",
        "    return \"\".join([i for i in text if i not in my_punctuation])\n",
        "\n",
        "def remove_stopwords(text):\n",
        "    return ' '.join([word for word in word_tokenize(text) if not word in stopwords.words('english')])\n",
        "\n",
        "# Custom tagger, so the tags can be interpreted by the WordNetLemmatizer()\n",
        "# Because NLTK nltk.pos_tag() and WordNetLemmatizer() do not use the same naming covention\n",
        "def nltk_pos_tagger(nltk_tag):\n",
        "  \n",
        "    if nltk_tag.startswith('J'):\n",
        "        return wordnet.ADJ\n",
        "    elif nltk_tag.startswith('V'):\n",
        "        return wordnet.VERB\n",
        "    elif nltk_tag.startswith('N'):\n",
        "        return wordnet.NOUN\n",
        "    elif nltk_tag.startswith('R'):\n",
        "        return wordnet.ADV\n",
        "    else:          \n",
        "        return None\n",
        "\n",
        "def tag_lemmatize_sentence(sentence):\n",
        "\n",
        "    # Tag the Tokenized text\n",
        "    nltk_tagged = nltk.pos_tag(nltk.word_tokenize(sentence))  \n",
        "\n",
        "    # Aply the custom tagger, so the tags can be interpreted by the WordNetLemmatizer()\n",
        "    wordnet_tagged = map(lambda x: (x[0], nltk_pos_tagger(x[1])), nltk_tagged)\n",
        "    \n",
        "    lemmatized_sentence = []\n",
        "    for word, tag in wordnet_tagged:\n",
        "        if tag is None:\n",
        "            lemmatized_sentence.append(word)\n",
        "        else:        \n",
        "            lemmatized_sentence.append(lemmatizer.lemmatize(word, tag))\n",
        "    return \" \".join(lemmatized_sentence)\n"
      ],
      "metadata": {
        "id": "rcPuJHSyW3he"
      },
      "execution_count": 9,
      "outputs": []
    },
    {
      "cell_type": "code",
      "source": [
        "%%time\n",
        "# Clean & Process the Eligibility Criteria\n",
        "ProcessedEligibilityCriteria = list(map(lambda text: tag_lemmatize_sentence(remove_stopwords(remove_punctuation(text))), NormalizeEligibilityCriteria))"
      ],
      "metadata": {
        "colab": {
          "base_uri": "https://localhost:8080/"
        },
        "id": "IQ_KMlJuXTLO",
        "outputId": "f6f5a7da-33a1-4c5d-b43d-522ae6d9bfeb"
      },
      "execution_count": 10,
      "outputs": [
        {
          "output_type": "stream",
          "name": "stdout",
          "text": [
            "CPU times: user 45.4 s, sys: 3.05 s, total: 48.4 s\n",
            "Wall time: 54.9 s\n"
          ]
        }
      ]
    },
    {
      "cell_type": "code",
      "source": [
        "ProcessedEligibilityCriteria[:10]"
      ],
      "metadata": {
        "colab": {
          "base_uri": "https://localhost:8080/"
        },
        "id": "6uJoP35byDXe",
        "outputId": "f6a1b0b8-1d45-4f92-f756-b9322024d536"
      },
      "execution_count": 11,
      "outputs": [
        {
          "output_type": "execute_result",
          "data": {
            "text/plain": [
              "['inclusion criteria||age ≥ 18 year time screening|ECOG 0 KPS 100 performance status ≤ 2|written inform consent obtain patient|Histologicallyally Histologically document stage 3b-4 lung cancer accord version 8 international association study lung cancer stag system|patients stage 1 3 undergo radical therapy disease free survival dfs 12 months|willingness ability comply schedule visit study procedures||exclusion criteria||history another primary malignancy except malignancy Prior Therapy curative intent know active disease ≥ 5 year date inform consent|without sign informed consent|unwillingness inability comply schedule visit study procedures|previously diagnose vte signing inform consent',\n",
              " 'inclusion criteria||20 pack year smoke history|clinical need diagnostic bronchoscopy consent study drive bronchoscopy||exclusion criteria||lung cancer within 3 month date enrollment',\n",
              " 'inclusion criteria||aged 40-74 years|resident hexi district tianjin city least 3 years|having self-reported history malignant tumor||exclusion criteria||pregnant woman exclude',\n",
              " 'inclusion criteria||men woman diagnose lung cancer type stage confirm 12 month recruitment period pathologist||aged least18 year diagnosis|patients provide inform consent form||exclusion criteria||patients provide inform consent form|patients mental psychological disorder accord treat clinician',\n",
              " 'inclusion criteria||diagnosis suspect lung cancer lung cancer||exclusion criteria||inability undergo therapy',\n",
              " 'inclusion criteria||cancer samclinically diagnose non-small cell lung sample mainly lung adenocarcinoma lung squamous cell carcinoma adenosquamous carcinoma large cell carcinoma etc small number cancer type enrol interference samples|collect sample relevant medical information use target drug part sample relevant previous molecular diagnosis results|able provide sample time accord requirement plan sample dnarna extraction 10 piece 10 µm thickness sample 10 piece paraffin roll sample fish experiment 5 slice 3-4µm thickness|the pathological examination conforms type tissue sample list table stain result show tumor content less 50 paraffin slice damage avoided|the sample correspond basic clinical information include patient visit numbermedical record numberspecimen number age gender pathological diagnosis result molecular diagnosis result any||exclusion criteria||those meet condition exclude reason include non-small cell lung adenocarcinoma sample normal sample statistical significance conclusion obtain scientific valid selection subject study exclude research-related influencing factor adverse effect health subject',\n",
              " 'inclusion criteria||all individuaLocalisedwith Histologicallyally confirm diagnosis lung cancer family lung cancer eligible enroll family study five major Histologically type lung cancer ie adenocardinoma squamous cell small cell large cell unspecified nonsmall cell carcinoma include addition lung cancer patient lsu also contact patient newly diagnose bronchus tracheal cancer target hospital area request enrollment study addition several site include lsu mayo clinic karmanos cancer institute also collect dna sample unaffected geographically ethnically match controls||for purpose study eligible family must meet minimum criterion familial lung cancer least 2 first-degree relative family lung cancer priority give highly loaded pedigree family affect person onset disease early age less 50 year lung cancer case may live deceased relative lung cancer define first- second-degree relative cousin index case eligible participate study familial relationship might provide useful linkage information||adult participant must physically able tolerate removal 25 40 ml blood buccal brush sample cheek child 5 year old must able physically tolerate amount blood draw equal 4mlkg weight adult must willing complete self-administered environmental exposure questionnaire participant must able consent study procedure appropriate assentparental consent biological specimen include blood sample archive tumor block medical record obtain patient treat various hospitaLocalisedand collection sit individuaLocalisedwith strong family history lung cancer either affect unaffected either self-referred physician refer study||exclusion criteria||excluded study family individuaLocalisedwithin family meet minimum criterion describe individuaLocalisedwho sign consent form exclude family necessary member sign consent form may exclude mayo also exclude patient 1 speak english 2 non-us citizen resident 3 diagnosed uncommon tumor type among specified type eg mixed cell unspecified non-small cell lung cancer carcinoid sarcomas lymphomas lung bronchus do mayo family study piggy-backed onto case-control study fetuses prisoner institutionalize individuaLocalisedwill enrol study target pregnant woman contact many family mail able exclude pregnant woman additionally participant physician health care clinic draw blood sample long-distance participant therefore determine risk woman fetus umhs also exclude child research participant site',\n",
              " 'inclusion criteria||receives care university utah primary care clinics|does already lung cancer|meets uspstf criterion ldct screen currently age 55 year 80 year old time visit 30 pack-year smoke history current smoker quit past 15 year may meet criterion complete smoke history taken||exclusion criteria||none',\n",
              " 'inclusion criteria||subjects must meet follow criteria||be enrol copdgene® phase 1 without enrollment phase 2 newly diagnose within time enrollment non-small cell lung cancer nsclc small-cell lung cancer sclc|documented gold stage 1-4 copd history smoking copd|signed hipaa research authorization release protect health information form collect review medical record regard lung cancer diagnosis treatment outcome',\n",
              " 'inclusion criteria||suspicious find lung cancer ct-scan||exclusion criteria||history significant former malignant disease']"
            ]
          },
          "metadata": {},
          "execution_count": 11
        }
      ]
    },
    {
      "cell_type": "markdown",
      "source": [
        "### Seperate the Eligibility Criteria"
      ],
      "metadata": {
        "id": "ilQ3Ef3KZzYJ"
      }
    },
    {
      "cell_type": "code",
      "source": [
        "# Seperate the InclusionCriteria from the ExclusionCriteria\n",
        "InclusionCriteria = [txt[18:txt.find('exclusion criteria')] for txt in ProcessedEligibilityCriteria]\n",
        "InclusionCriteria[:5]"
      ],
      "metadata": {
        "colab": {
          "base_uri": "https://localhost:8080/"
        },
        "id": "kOKPwUG-Yhsg",
        "outputId": "8fc06f0c-edae-46f9-9113-6999ff2dbd30"
      },
      "execution_count": 12,
      "outputs": [
        {
          "output_type": "execute_result",
          "data": {
            "text/plain": [
              "['||age ≥ 18 year time screening|ECOG 0 KPS 100 performance status ≤ 2|written inform consent obtain patient|Histologicallyally Histologically document stage 3b-4 lung cancer accord version 8 international association study lung cancer stag system|patients stage 1 3 undergo radical therapy disease free survival dfs 12 months|willingness ability comply schedule visit study procedures||',\n",
              " '||20 pack year smoke history|clinical need diagnostic bronchoscopy consent study drive bronchoscopy||',\n",
              " '||aged 40-74 years|resident hexi district tianjin city least 3 years|having self-reported history malignant tumor||',\n",
              " '||men woman diagnose lung cancer type stage confirm 12 month recruitment period pathologist||aged least18 year diagnosis|patients provide inform consent form||',\n",
              " '||diagnosis suspect lung cancer lung cancer||']"
            ]
          },
          "metadata": {},
          "execution_count": 12
        }
      ]
    },
    {
      "cell_type": "code",
      "source": [
        "# Seperate the ExclusionCriteria from the InclusionCriteria\n",
        "ExclusionCriteria = [txt[txt.find('exclusion criteria')+18:] for txt in ProcessedEligibilityCriteria]\n",
        "ExclusionCriteria[:5]"
      ],
      "metadata": {
        "colab": {
          "base_uri": "https://localhost:8080/"
        },
        "id": "0FjejI4CaAnJ",
        "outputId": "c2355f32-e017-4ab2-865a-30c681174112"
      },
      "execution_count": 13,
      "outputs": [
        {
          "output_type": "execute_result",
          "data": {
            "text/plain": [
              "['||history another primary malignancy except malignancy Prior Therapy curative intent know active disease ≥ 5 year date inform consent|without sign informed consent|unwillingness inability comply schedule visit study procedures|previously diagnose vte signing inform consent',\n",
              " '||lung cancer within 3 month date enrollment',\n",
              " '||pregnant woman exclude',\n",
              " '||patients provide inform consent form|patients mental psychological disorder accord treat clinician',\n",
              " '||inability undergo therapy']"
            ]
          },
          "metadata": {},
          "execution_count": 13
        }
      ]
    },
    {
      "cell_type": "code",
      "source": [
        "# Split each Trial InclusionCriteria into list of lists of the InclusionCriteria\n",
        "InclusionCriteriaList = list(map(lambda txt : txt.split(\"|\"), InclusionCriteria))\n",
        "InclusionCriteriaList = [list(filter(lambda txt: txt!= '', ltexts)) for ltexts in InclusionCriteriaList] # Delete the empty string generated by successive || (sometimes they seperate with | or ||)\n",
        "InclusionCriteriaList[:2]"
      ],
      "metadata": {
        "colab": {
          "base_uri": "https://localhost:8080/"
        },
        "id": "OKtESNDhaF3G",
        "outputId": "3b66f7c6-7d1c-41e4-887f-ffb7e3be05eb"
      },
      "execution_count": 14,
      "outputs": [
        {
          "output_type": "execute_result",
          "data": {
            "text/plain": [
              "[['age ≥ 18 year time screening',\n",
              "  'ECOG 0 KPS 100 performance status ≤ 2',\n",
              "  'written inform consent obtain patient',\n",
              "  'Histologicallyally Histologically document stage 3b-4 lung cancer accord version 8 international association study lung cancer stag system',\n",
              "  'patients stage 1 3 undergo radical therapy disease free survival dfs 12 months',\n",
              "  'willingness ability comply schedule visit study procedures'],\n",
              " ['20 pack year smoke history',\n",
              "  'clinical need diagnostic bronchoscopy consent study drive bronchoscopy']]"
            ]
          },
          "metadata": {},
          "execution_count": 14
        }
      ]
    },
    {
      "cell_type": "code",
      "source": [
        "# Split each Trial ExclusionCriteria into list of lists of the ExclusionCriteria\n",
        "ExclusionCriteriaList = list(map(lambda txt : txt.split(\"|\"), ExclusionCriteria))\n",
        "ExclusionCriteriaList = [list(filter(lambda txt: txt!= '', ltexts)) for ltexts in ExclusionCriteriaList] # Delete the empty string generated by successive || (sometimes they seperate with | or ||)\n",
        "ExclusionCriteriaList[:2]"
      ],
      "metadata": {
        "colab": {
          "base_uri": "https://localhost:8080/"
        },
        "id": "Ssq_BXZaaLxo",
        "outputId": "49a13e7f-3876-4e55-82de-3fc05dc039ca"
      },
      "execution_count": 15,
      "outputs": [
        {
          "output_type": "execute_result",
          "data": {
            "text/plain": [
              "[['history another primary malignancy except malignancy Prior Therapy curative intent know active disease ≥ 5 year date inform consent',\n",
              "  'without sign informed consent',\n",
              "  'unwillingness inability comply schedule visit study procedures',\n",
              "  'previously diagnose vte signing inform consent'],\n",
              " ['lung cancer within 3 month date enrollment']]"
            ]
          },
          "metadata": {},
          "execution_count": 15
        }
      ]
    },
    {
      "cell_type": "markdown",
      "source": [
        "### Convert the List of Lists of IC into Stacked DataFrame of Processed and Raw IC"
      ],
      "metadata": {
        "id": "WhGr62iqpskT"
      }
    },
    {
      "cell_type": "code",
      "source": [
        "# We'll ad the Raw IC to the same dataframe as the Processed IC\n",
        "\n",
        "# Seperate the Inclusion Criteria from the Exclusion Criteria\n",
        "InclusionCriteriaRaw = [txt[18:txt.find('exclusion criteria')] for txt in df['EligibilityCriteria'].astype(str).str.lower().tolist()]\n",
        "# Split each Trial InclusionCriteria into list of lists of the InclusionCriteria\n",
        "InclusionCriteriaRawList = list(map(lambda txt : txt.split(\"|\"), InclusionCriteriaRaw)) \n",
        "InclusionCriteriaRawList = [list(filter(lambda txt: txt!= '' and txt!= ':', ltexts)) for ltexts in InclusionCriteriaRawList] # Delete the empty string generated by successive || (sometimes they seperate with | or ||)\n",
        "InclusionCriteriaRawList[:2]"
      ],
      "metadata": {
        "colab": {
          "base_uri": "https://localhost:8080/"
        },
        "id": "FkDNZKcO5yoZ",
        "outputId": "962814a2-0b06-4668-d5a6-32efde9e6c3b"
      },
      "execution_count": 16,
      "outputs": [
        {
          "output_type": "execute_result",
          "data": {
            "text/plain": [
              "[['age ≥ 18 years at the time of screening.',\n",
              "  'eastern cooperative oncology group performance status of ≤ 2.',\n",
              "  'written informed consent obtained from the patient.',\n",
              "  'histologically and cytologically documented stage 3b-4 lung cancer (according to version 8 of the international association for the study of lung cancer staging system).',\n",
              "  'patients with stage 1 to 3, who undergo radical therapy with disease free survival (dfs) >12 months.',\n",
              "  'willingness and ability to comply with scheduled visits and other study procedures.'],\n",
              " ['20 or more pack year smoking history',\n",
              "  'clinical need for diagnostic bronchoscopy or consent to study driven bronchoscopy']]"
            ]
          },
          "metadata": {},
          "execution_count": 16
        }
      ]
    },
    {
      "cell_type": "code",
      "source": [
        "# Create the DataFrame that has the stacked processed IC\n",
        "\n",
        "NCTId = df['NCTId'].tolist()\n",
        "ICStacked = pd.DataFrame()\n",
        "for idx, row in enumerate(InclusionCriteriaList):\n",
        "  # We concatenate the ID of the Clinical Trial with the lits of IC and the number of each IC\n",
        "  tmp = pd.concat([pd.Series([NCTId[idx] for _ in range(len(row))]), pd.Series(list(range(1, len(row)+1))), pd.Series(row)], axis=1, ignore_index=True)\n",
        "  ICStacked = ICStacked.append(tmp, ignore_index=True)\n",
        "\n",
        "ICStacked.columns = ['NCTId', '#IC', 'IC']\n",
        "ICStacked['#IC']  = ICStacked['#IC'].astype(int)\n",
        "ICStacked.head()"
      ],
      "metadata": {
        "colab": {
          "base_uri": "https://localhost:8080/",
          "height": 262
        },
        "id": "56lq4SksiXMd",
        "outputId": "06b74486-7095-41cd-9a7b-0ce4353b7c9b"
      },
      "execution_count": 18,
      "outputs": [
        {
          "output_type": "stream",
          "name": "stderr",
          "text": [
            "/usr/local/lib/python3.7/dist-packages/ipykernel_launcher.py:7: DeprecationWarning: The default dtype for empty Series will be 'object' instead of 'float64' in a future version. Specify a dtype explicitly to silence this warning.\n",
            "  import sys\n"
          ]
        },
        {
          "output_type": "execute_result",
          "data": {
            "text/html": [
              "\n",
              "  <div id=\"df-0a90d5d6-94e3-4d78-92f4-47be1e32ffc5\">\n",
              "    <div class=\"colab-df-container\">\n",
              "      <div>\n",
              "<style scoped>\n",
              "    .dataframe tbody tr th:only-of-type {\n",
              "        vertical-align: middle;\n",
              "    }\n",
              "\n",
              "    .dataframe tbody tr th {\n",
              "        vertical-align: top;\n",
              "    }\n",
              "\n",
              "    .dataframe thead th {\n",
              "        text-align: right;\n",
              "    }\n",
              "</style>\n",
              "<table border=\"1\" class=\"dataframe\">\n",
              "  <thead>\n",
              "    <tr style=\"text-align: right;\">\n",
              "      <th></th>\n",
              "      <th>NCTId</th>\n",
              "      <th>#IC</th>\n",
              "      <th>IC</th>\n",
              "    </tr>\n",
              "  </thead>\n",
              "  <tbody>\n",
              "    <tr>\n",
              "      <th>0</th>\n",
              "      <td>NCT03581708</td>\n",
              "      <td>1</td>\n",
              "      <td>age ≥ 18 year time screening</td>\n",
              "    </tr>\n",
              "    <tr>\n",
              "      <th>1</th>\n",
              "      <td>NCT03581708</td>\n",
              "      <td>2</td>\n",
              "      <td>ECOG 0 KPS 100 performance status ≤ 2</td>\n",
              "    </tr>\n",
              "    <tr>\n",
              "      <th>2</th>\n",
              "      <td>NCT03581708</td>\n",
              "      <td>3</td>\n",
              "      <td>written inform consent obtain patient</td>\n",
              "    </tr>\n",
              "    <tr>\n",
              "      <th>3</th>\n",
              "      <td>NCT03581708</td>\n",
              "      <td>4</td>\n",
              "      <td>Histologicallyally Histologically document sta...</td>\n",
              "    </tr>\n",
              "    <tr>\n",
              "      <th>4</th>\n",
              "      <td>NCT03581708</td>\n",
              "      <td>5</td>\n",
              "      <td>patients stage 1 3 undergo radical therapy dis...</td>\n",
              "    </tr>\n",
              "  </tbody>\n",
              "</table>\n",
              "</div>\n",
              "      <button class=\"colab-df-convert\" onclick=\"convertToInteractive('df-0a90d5d6-94e3-4d78-92f4-47be1e32ffc5')\"\n",
              "              title=\"Convert this dataframe to an interactive table.\"\n",
              "              style=\"display:none;\">\n",
              "        \n",
              "  <svg xmlns=\"http://www.w3.org/2000/svg\" height=\"24px\"viewBox=\"0 0 24 24\"\n",
              "       width=\"24px\">\n",
              "    <path d=\"M0 0h24v24H0V0z\" fill=\"none\"/>\n",
              "    <path d=\"M18.56 5.44l.94 2.06.94-2.06 2.06-.94-2.06-.94-.94-2.06-.94 2.06-2.06.94zm-11 1L8.5 8.5l.94-2.06 2.06-.94-2.06-.94L8.5 2.5l-.94 2.06-2.06.94zm10 10l.94 2.06.94-2.06 2.06-.94-2.06-.94-.94-2.06-.94 2.06-2.06.94z\"/><path d=\"M17.41 7.96l-1.37-1.37c-.4-.4-.92-.59-1.43-.59-.52 0-1.04.2-1.43.59L10.3 9.45l-7.72 7.72c-.78.78-.78 2.05 0 2.83L4 21.41c.39.39.9.59 1.41.59.51 0 1.02-.2 1.41-.59l7.78-7.78 2.81-2.81c.8-.78.8-2.07 0-2.86zM5.41 20L4 18.59l7.72-7.72 1.47 1.35L5.41 20z\"/>\n",
              "  </svg>\n",
              "      </button>\n",
              "      \n",
              "  <style>\n",
              "    .colab-df-container {\n",
              "      display:flex;\n",
              "      flex-wrap:wrap;\n",
              "      gap: 12px;\n",
              "    }\n",
              "\n",
              "    .colab-df-convert {\n",
              "      background-color: #E8F0FE;\n",
              "      border: none;\n",
              "      border-radius: 50%;\n",
              "      cursor: pointer;\n",
              "      display: none;\n",
              "      fill: #1967D2;\n",
              "      height: 32px;\n",
              "      padding: 0 0 0 0;\n",
              "      width: 32px;\n",
              "    }\n",
              "\n",
              "    .colab-df-convert:hover {\n",
              "      background-color: #E2EBFA;\n",
              "      box-shadow: 0px 1px 2px rgba(60, 64, 67, 0.3), 0px 1px 3px 1px rgba(60, 64, 67, 0.15);\n",
              "      fill: #174EA6;\n",
              "    }\n",
              "\n",
              "    [theme=dark] .colab-df-convert {\n",
              "      background-color: #3B4455;\n",
              "      fill: #D2E3FC;\n",
              "    }\n",
              "\n",
              "    [theme=dark] .colab-df-convert:hover {\n",
              "      background-color: #434B5C;\n",
              "      box-shadow: 0px 1px 3px 1px rgba(0, 0, 0, 0.15);\n",
              "      filter: drop-shadow(0px 1px 2px rgba(0, 0, 0, 0.3));\n",
              "      fill: #FFFFFF;\n",
              "    }\n",
              "  </style>\n",
              "\n",
              "      <script>\n",
              "        const buttonEl =\n",
              "          document.querySelector('#df-0a90d5d6-94e3-4d78-92f4-47be1e32ffc5 button.colab-df-convert');\n",
              "        buttonEl.style.display =\n",
              "          google.colab.kernel.accessAllowed ? 'block' : 'none';\n",
              "\n",
              "        async function convertToInteractive(key) {\n",
              "          const element = document.querySelector('#df-0a90d5d6-94e3-4d78-92f4-47be1e32ffc5');\n",
              "          const dataTable =\n",
              "            await google.colab.kernel.invokeFunction('convertToInteractive',\n",
              "                                                     [key], {});\n",
              "          if (!dataTable) return;\n",
              "\n",
              "          const docLinkHtml = 'Like what you see? Visit the ' +\n",
              "            '<a target=\"_blank\" href=https://colab.research.google.com/notebooks/data_table.ipynb>data table notebook</a>'\n",
              "            + ' to learn more about interactive tables.';\n",
              "          element.innerHTML = '';\n",
              "          dataTable['output_type'] = 'display_data';\n",
              "          await google.colab.output.renderOutput(dataTable, element);\n",
              "          const docLink = document.createElement('div');\n",
              "          docLink.innerHTML = docLinkHtml;\n",
              "          element.appendChild(docLink);\n",
              "        }\n",
              "      </script>\n",
              "    </div>\n",
              "  </div>\n",
              "  "
            ],
            "text/plain": [
              "         NCTId  #IC                                                 IC\n",
              "0  NCT03581708    1                       age ≥ 18 year time screening\n",
              "1  NCT03581708    2              ECOG 0 KPS 100 performance status ≤ 2\n",
              "2  NCT03581708    3              written inform consent obtain patient\n",
              "3  NCT03581708    4  Histologicallyally Histologically document sta...\n",
              "4  NCT03581708    5  patients stage 1 3 undergo radical therapy dis..."
            ]
          },
          "metadata": {},
          "execution_count": 18
        }
      ]
    },
    {
      "cell_type": "code",
      "source": [
        "# Create the DataFrame that has the stacked raw IC\n",
        "\n",
        "NCTId = df['NCTId'].tolist()\n",
        "ICStackedRaw = pd.DataFrame()\n",
        "for idx, row in enumerate(InclusionCriteriaRawList):\n",
        "  # We concatenate the ID of the Clinical Trial with the lits of IC and the number of each IC\n",
        "  tmp = pd.concat([pd.Series([NCTId[idx] for _ in range(len(row))]), pd.Series(list(range(1, len(row)+1))), pd.Series(row)], axis=1, ignore_index=True)\n",
        "  ICStackedRaw = ICStackedRaw.append(tmp, ignore_index=True)\n",
        "\n",
        "ICStackedRaw.columns = ['NCTId', '#IC', 'ICRaw']\n",
        "ICStackedRaw['#IC']  = ICStackedRaw['#IC'].astype(int)\n",
        "ICStackedRaw.head()"
      ],
      "metadata": {
        "colab": {
          "base_uri": "https://localhost:8080/",
          "height": 262
        },
        "id": "M8TfEIwb8Ntd",
        "outputId": "66064871-148f-446d-9871-112722981ccf"
      },
      "execution_count": 19,
      "outputs": [
        {
          "output_type": "stream",
          "name": "stderr",
          "text": [
            "/usr/local/lib/python3.7/dist-packages/ipykernel_launcher.py:7: DeprecationWarning: The default dtype for empty Series will be 'object' instead of 'float64' in a future version. Specify a dtype explicitly to silence this warning.\n",
            "  import sys\n"
          ]
        },
        {
          "output_type": "execute_result",
          "data": {
            "text/html": [
              "\n",
              "  <div id=\"df-87a8d944-9ad4-441b-9d02-1252f75c1d65\">\n",
              "    <div class=\"colab-df-container\">\n",
              "      <div>\n",
              "<style scoped>\n",
              "    .dataframe tbody tr th:only-of-type {\n",
              "        vertical-align: middle;\n",
              "    }\n",
              "\n",
              "    .dataframe tbody tr th {\n",
              "        vertical-align: top;\n",
              "    }\n",
              "\n",
              "    .dataframe thead th {\n",
              "        text-align: right;\n",
              "    }\n",
              "</style>\n",
              "<table border=\"1\" class=\"dataframe\">\n",
              "  <thead>\n",
              "    <tr style=\"text-align: right;\">\n",
              "      <th></th>\n",
              "      <th>NCTId</th>\n",
              "      <th>#IC</th>\n",
              "      <th>ICRaw</th>\n",
              "    </tr>\n",
              "  </thead>\n",
              "  <tbody>\n",
              "    <tr>\n",
              "      <th>0</th>\n",
              "      <td>NCT03581708</td>\n",
              "      <td>1</td>\n",
              "      <td>age ≥ 18 years at the time of screening.</td>\n",
              "    </tr>\n",
              "    <tr>\n",
              "      <th>1</th>\n",
              "      <td>NCT03581708</td>\n",
              "      <td>2</td>\n",
              "      <td>eastern cooperative oncology group performance...</td>\n",
              "    </tr>\n",
              "    <tr>\n",
              "      <th>2</th>\n",
              "      <td>NCT03581708</td>\n",
              "      <td>3</td>\n",
              "      <td>written informed consent obtained from the pat...</td>\n",
              "    </tr>\n",
              "    <tr>\n",
              "      <th>3</th>\n",
              "      <td>NCT03581708</td>\n",
              "      <td>4</td>\n",
              "      <td>histologically and cytologically documented st...</td>\n",
              "    </tr>\n",
              "    <tr>\n",
              "      <th>4</th>\n",
              "      <td>NCT03581708</td>\n",
              "      <td>5</td>\n",
              "      <td>patients with stage 1 to 3, who undergo radica...</td>\n",
              "    </tr>\n",
              "  </tbody>\n",
              "</table>\n",
              "</div>\n",
              "      <button class=\"colab-df-convert\" onclick=\"convertToInteractive('df-87a8d944-9ad4-441b-9d02-1252f75c1d65')\"\n",
              "              title=\"Convert this dataframe to an interactive table.\"\n",
              "              style=\"display:none;\">\n",
              "        \n",
              "  <svg xmlns=\"http://www.w3.org/2000/svg\" height=\"24px\"viewBox=\"0 0 24 24\"\n",
              "       width=\"24px\">\n",
              "    <path d=\"M0 0h24v24H0V0z\" fill=\"none\"/>\n",
              "    <path d=\"M18.56 5.44l.94 2.06.94-2.06 2.06-.94-2.06-.94-.94-2.06-.94 2.06-2.06.94zm-11 1L8.5 8.5l.94-2.06 2.06-.94-2.06-.94L8.5 2.5l-.94 2.06-2.06.94zm10 10l.94 2.06.94-2.06 2.06-.94-2.06-.94-.94-2.06-.94 2.06-2.06.94z\"/><path d=\"M17.41 7.96l-1.37-1.37c-.4-.4-.92-.59-1.43-.59-.52 0-1.04.2-1.43.59L10.3 9.45l-7.72 7.72c-.78.78-.78 2.05 0 2.83L4 21.41c.39.39.9.59 1.41.59.51 0 1.02-.2 1.41-.59l7.78-7.78 2.81-2.81c.8-.78.8-2.07 0-2.86zM5.41 20L4 18.59l7.72-7.72 1.47 1.35L5.41 20z\"/>\n",
              "  </svg>\n",
              "      </button>\n",
              "      \n",
              "  <style>\n",
              "    .colab-df-container {\n",
              "      display:flex;\n",
              "      flex-wrap:wrap;\n",
              "      gap: 12px;\n",
              "    }\n",
              "\n",
              "    .colab-df-convert {\n",
              "      background-color: #E8F0FE;\n",
              "      border: none;\n",
              "      border-radius: 50%;\n",
              "      cursor: pointer;\n",
              "      display: none;\n",
              "      fill: #1967D2;\n",
              "      height: 32px;\n",
              "      padding: 0 0 0 0;\n",
              "      width: 32px;\n",
              "    }\n",
              "\n",
              "    .colab-df-convert:hover {\n",
              "      background-color: #E2EBFA;\n",
              "      box-shadow: 0px 1px 2px rgba(60, 64, 67, 0.3), 0px 1px 3px 1px rgba(60, 64, 67, 0.15);\n",
              "      fill: #174EA6;\n",
              "    }\n",
              "\n",
              "    [theme=dark] .colab-df-convert {\n",
              "      background-color: #3B4455;\n",
              "      fill: #D2E3FC;\n",
              "    }\n",
              "\n",
              "    [theme=dark] .colab-df-convert:hover {\n",
              "      background-color: #434B5C;\n",
              "      box-shadow: 0px 1px 3px 1px rgba(0, 0, 0, 0.15);\n",
              "      filter: drop-shadow(0px 1px 2px rgba(0, 0, 0, 0.3));\n",
              "      fill: #FFFFFF;\n",
              "    }\n",
              "  </style>\n",
              "\n",
              "      <script>\n",
              "        const buttonEl =\n",
              "          document.querySelector('#df-87a8d944-9ad4-441b-9d02-1252f75c1d65 button.colab-df-convert');\n",
              "        buttonEl.style.display =\n",
              "          google.colab.kernel.accessAllowed ? 'block' : 'none';\n",
              "\n",
              "        async function convertToInteractive(key) {\n",
              "          const element = document.querySelector('#df-87a8d944-9ad4-441b-9d02-1252f75c1d65');\n",
              "          const dataTable =\n",
              "            await google.colab.kernel.invokeFunction('convertToInteractive',\n",
              "                                                     [key], {});\n",
              "          if (!dataTable) return;\n",
              "\n",
              "          const docLinkHtml = 'Like what you see? Visit the ' +\n",
              "            '<a target=\"_blank\" href=https://colab.research.google.com/notebooks/data_table.ipynb>data table notebook</a>'\n",
              "            + ' to learn more about interactive tables.';\n",
              "          element.innerHTML = '';\n",
              "          dataTable['output_type'] = 'display_data';\n",
              "          await google.colab.output.renderOutput(dataTable, element);\n",
              "          const docLink = document.createElement('div');\n",
              "          docLink.innerHTML = docLinkHtml;\n",
              "          element.appendChild(docLink);\n",
              "        }\n",
              "      </script>\n",
              "    </div>\n",
              "  </div>\n",
              "  "
            ],
            "text/plain": [
              "         NCTId  #IC                                              ICRaw\n",
              "0  NCT03581708    1           age ≥ 18 years at the time of screening.\n",
              "1  NCT03581708    2  eastern cooperative oncology group performance...\n",
              "2  NCT03581708    3  written informed consent obtained from the pat...\n",
              "3  NCT03581708    4  histologically and cytologically documented st...\n",
              "4  NCT03581708    5  patients with stage 1 to 3, who undergo radica..."
            ]
          },
          "metadata": {},
          "execution_count": 19
        }
      ]
    },
    {
      "cell_type": "code",
      "source": [
        "ICStacked['ICRaw'] = ICStackedRaw['ICRaw']\n",
        "ICStacked.head()"
      ],
      "metadata": {
        "colab": {
          "base_uri": "https://localhost:8080/",
          "height": 206
        },
        "id": "Sm26-RGF_rRO",
        "outputId": "ed2a4d66-4a88-414c-d466-b14bdc3fdf87"
      },
      "execution_count": 20,
      "outputs": [
        {
          "output_type": "execute_result",
          "data": {
            "text/html": [
              "\n",
              "  <div id=\"df-20793788-b60b-4fbb-a2d6-b4c6eda0fe69\">\n",
              "    <div class=\"colab-df-container\">\n",
              "      <div>\n",
              "<style scoped>\n",
              "    .dataframe tbody tr th:only-of-type {\n",
              "        vertical-align: middle;\n",
              "    }\n",
              "\n",
              "    .dataframe tbody tr th {\n",
              "        vertical-align: top;\n",
              "    }\n",
              "\n",
              "    .dataframe thead th {\n",
              "        text-align: right;\n",
              "    }\n",
              "</style>\n",
              "<table border=\"1\" class=\"dataframe\">\n",
              "  <thead>\n",
              "    <tr style=\"text-align: right;\">\n",
              "      <th></th>\n",
              "      <th>NCTId</th>\n",
              "      <th>#IC</th>\n",
              "      <th>IC</th>\n",
              "      <th>ICRaw</th>\n",
              "    </tr>\n",
              "  </thead>\n",
              "  <tbody>\n",
              "    <tr>\n",
              "      <th>0</th>\n",
              "      <td>NCT03581708</td>\n",
              "      <td>1</td>\n",
              "      <td>age ≥ 18 year time screening</td>\n",
              "      <td>age ≥ 18 years at the time of screening.</td>\n",
              "    </tr>\n",
              "    <tr>\n",
              "      <th>1</th>\n",
              "      <td>NCT03581708</td>\n",
              "      <td>2</td>\n",
              "      <td>ECOG 0 KPS 100 performance status ≤ 2</td>\n",
              "      <td>eastern cooperative oncology group performance...</td>\n",
              "    </tr>\n",
              "    <tr>\n",
              "      <th>2</th>\n",
              "      <td>NCT03581708</td>\n",
              "      <td>3</td>\n",
              "      <td>written inform consent obtain patient</td>\n",
              "      <td>written informed consent obtained from the pat...</td>\n",
              "    </tr>\n",
              "    <tr>\n",
              "      <th>3</th>\n",
              "      <td>NCT03581708</td>\n",
              "      <td>4</td>\n",
              "      <td>Histologicallyally Histologically document sta...</td>\n",
              "      <td>histologically and cytologically documented st...</td>\n",
              "    </tr>\n",
              "    <tr>\n",
              "      <th>4</th>\n",
              "      <td>NCT03581708</td>\n",
              "      <td>5</td>\n",
              "      <td>patients stage 1 3 undergo radical therapy dis...</td>\n",
              "      <td>patients with stage 1 to 3, who undergo radica...</td>\n",
              "    </tr>\n",
              "  </tbody>\n",
              "</table>\n",
              "</div>\n",
              "      <button class=\"colab-df-convert\" onclick=\"convertToInteractive('df-20793788-b60b-4fbb-a2d6-b4c6eda0fe69')\"\n",
              "              title=\"Convert this dataframe to an interactive table.\"\n",
              "              style=\"display:none;\">\n",
              "        \n",
              "  <svg xmlns=\"http://www.w3.org/2000/svg\" height=\"24px\"viewBox=\"0 0 24 24\"\n",
              "       width=\"24px\">\n",
              "    <path d=\"M0 0h24v24H0V0z\" fill=\"none\"/>\n",
              "    <path d=\"M18.56 5.44l.94 2.06.94-2.06 2.06-.94-2.06-.94-.94-2.06-.94 2.06-2.06.94zm-11 1L8.5 8.5l.94-2.06 2.06-.94-2.06-.94L8.5 2.5l-.94 2.06-2.06.94zm10 10l.94 2.06.94-2.06 2.06-.94-2.06-.94-.94-2.06-.94 2.06-2.06.94z\"/><path d=\"M17.41 7.96l-1.37-1.37c-.4-.4-.92-.59-1.43-.59-.52 0-1.04.2-1.43.59L10.3 9.45l-7.72 7.72c-.78.78-.78 2.05 0 2.83L4 21.41c.39.39.9.59 1.41.59.51 0 1.02-.2 1.41-.59l7.78-7.78 2.81-2.81c.8-.78.8-2.07 0-2.86zM5.41 20L4 18.59l7.72-7.72 1.47 1.35L5.41 20z\"/>\n",
              "  </svg>\n",
              "      </button>\n",
              "      \n",
              "  <style>\n",
              "    .colab-df-container {\n",
              "      display:flex;\n",
              "      flex-wrap:wrap;\n",
              "      gap: 12px;\n",
              "    }\n",
              "\n",
              "    .colab-df-convert {\n",
              "      background-color: #E8F0FE;\n",
              "      border: none;\n",
              "      border-radius: 50%;\n",
              "      cursor: pointer;\n",
              "      display: none;\n",
              "      fill: #1967D2;\n",
              "      height: 32px;\n",
              "      padding: 0 0 0 0;\n",
              "      width: 32px;\n",
              "    }\n",
              "\n",
              "    .colab-df-convert:hover {\n",
              "      background-color: #E2EBFA;\n",
              "      box-shadow: 0px 1px 2px rgba(60, 64, 67, 0.3), 0px 1px 3px 1px rgba(60, 64, 67, 0.15);\n",
              "      fill: #174EA6;\n",
              "    }\n",
              "\n",
              "    [theme=dark] .colab-df-convert {\n",
              "      background-color: #3B4455;\n",
              "      fill: #D2E3FC;\n",
              "    }\n",
              "\n",
              "    [theme=dark] .colab-df-convert:hover {\n",
              "      background-color: #434B5C;\n",
              "      box-shadow: 0px 1px 3px 1px rgba(0, 0, 0, 0.15);\n",
              "      filter: drop-shadow(0px 1px 2px rgba(0, 0, 0, 0.3));\n",
              "      fill: #FFFFFF;\n",
              "    }\n",
              "  </style>\n",
              "\n",
              "      <script>\n",
              "        const buttonEl =\n",
              "          document.querySelector('#df-20793788-b60b-4fbb-a2d6-b4c6eda0fe69 button.colab-df-convert');\n",
              "        buttonEl.style.display =\n",
              "          google.colab.kernel.accessAllowed ? 'block' : 'none';\n",
              "\n",
              "        async function convertToInteractive(key) {\n",
              "          const element = document.querySelector('#df-20793788-b60b-4fbb-a2d6-b4c6eda0fe69');\n",
              "          const dataTable =\n",
              "            await google.colab.kernel.invokeFunction('convertToInteractive',\n",
              "                                                     [key], {});\n",
              "          if (!dataTable) return;\n",
              "\n",
              "          const docLinkHtml = 'Like what you see? Visit the ' +\n",
              "            '<a target=\"_blank\" href=https://colab.research.google.com/notebooks/data_table.ipynb>data table notebook</a>'\n",
              "            + ' to learn more about interactive tables.';\n",
              "          element.innerHTML = '';\n",
              "          dataTable['output_type'] = 'display_data';\n",
              "          await google.colab.output.renderOutput(dataTable, element);\n",
              "          const docLink = document.createElement('div');\n",
              "          docLink.innerHTML = docLinkHtml;\n",
              "          element.appendChild(docLink);\n",
              "        }\n",
              "      </script>\n",
              "    </div>\n",
              "  </div>\n",
              "  "
            ],
            "text/plain": [
              "         NCTId  ...                                              ICRaw\n",
              "0  NCT03581708  ...           age ≥ 18 years at the time of screening.\n",
              "1  NCT03581708  ...  eastern cooperative oncology group performance...\n",
              "2  NCT03581708  ...  written informed consent obtained from the pat...\n",
              "3  NCT03581708  ...  histologically and cytologically documented st...\n",
              "4  NCT03581708  ...  patients with stage 1 to 3, who undergo radica...\n",
              "\n",
              "[5 rows x 4 columns]"
            ]
          },
          "metadata": {},
          "execution_count": 20
        }
      ]
    },
    {
      "cell_type": "markdown",
      "source": [
        "### Convert the List of Lists of EC into Stacked DataFrame of Processed and Raw EC"
      ],
      "metadata": {
        "id": "0wdnlsQNA75O"
      }
    },
    {
      "cell_type": "code",
      "source": [
        "# We'll ad the Raw IC to the same dataframe as the Processed IC\n",
        "\n",
        "# Seperate the Inclusion Criteria from the Exclusion Criteria\n",
        "ExclusionCriteria = [txt[txt.find('exclusion criteria')+18:] for txt in df['EligibilityCriteria'].astype(str).str.lower().tolist()]\n",
        "# Split each Trial InclusionCriteria into list of lists of the InclusionCriteria\n",
        "ExclusionCriteriaRawList = list(map(lambda txt : txt.split(\"|\"), ExclusionCriteria)) \n",
        "ExclusionCriteriaRawList = [list(filter(lambda txt: txt!= '' and txt!= ':', ltexts)) for ltexts in ExclusionCriteriaRawList] # Delete the empty string generated by successive || (sometimes they seperate with | or ||)\n",
        "ExclusionCriteriaRawList[:2]"
      ],
      "metadata": {
        "colab": {
          "base_uri": "https://localhost:8080/"
        },
        "id": "rM6unThbAfov",
        "outputId": "38c25355-604d-4778-daf5-a5dba5cbbb4c"
      },
      "execution_count": 22,
      "outputs": [
        {
          "output_type": "execute_result",
          "data": {
            "text/plain": [
              "[['history of another primary malignancy except for malignancy treated with curative intent with known active disease ≥ 5 years before date of the informed consent.',\n",
              "  'without signed informed consent.',\n",
              "  'unwillingness or inability to comply with scheduled visits or other study procedures.',\n",
              "  'previously diagnosed with vte before signing informed consent.'],\n",
              " ['lung cancer within 3 months after the date of enrollment']]"
            ]
          },
          "metadata": {},
          "execution_count": 22
        }
      ]
    },
    {
      "cell_type": "code",
      "source": [
        "# Create the DataFrame that has the stacked processed EC\n",
        "\n",
        "NCTId = df['NCTId'].tolist()\n",
        "ECStacked = pd.DataFrame()\n",
        "for idx, row in enumerate(ExclusionCriteriaList):\n",
        "  # We concatenate the ID of the Clinical Trial with the lits of IC and the number of each IC\n",
        "  tmp = pd.concat([pd.Series([NCTId[idx] for _ in range(len(row))]), pd.Series(list(range(1, len(row)+1))), pd.Series(row)], axis=1, ignore_index=True)\n",
        "  ECStacked = ECStacked.append(tmp, ignore_index=True)\n",
        "\n",
        "ECStacked.columns = ['NCTId', '#EC', 'EC']\n",
        "ECStacked['#EC']  = ECStacked['#EC'].astype(int)\n",
        "ECStacked.head()"
      ],
      "metadata": {
        "colab": {
          "base_uri": "https://localhost:8080/",
          "height": 262
        },
        "id": "CLMh-apyBlRo",
        "outputId": "489846b1-7faa-4ac7-ccb6-3e7d77cb4870"
      },
      "execution_count": 23,
      "outputs": [
        {
          "output_type": "stream",
          "name": "stderr",
          "text": [
            "/usr/local/lib/python3.7/dist-packages/ipykernel_launcher.py:7: DeprecationWarning: The default dtype for empty Series will be 'object' instead of 'float64' in a future version. Specify a dtype explicitly to silence this warning.\n",
            "  import sys\n"
          ]
        },
        {
          "output_type": "execute_result",
          "data": {
            "text/html": [
              "\n",
              "  <div id=\"df-6513e8af-774b-4ef6-a617-ac6c436c9654\">\n",
              "    <div class=\"colab-df-container\">\n",
              "      <div>\n",
              "<style scoped>\n",
              "    .dataframe tbody tr th:only-of-type {\n",
              "        vertical-align: middle;\n",
              "    }\n",
              "\n",
              "    .dataframe tbody tr th {\n",
              "        vertical-align: top;\n",
              "    }\n",
              "\n",
              "    .dataframe thead th {\n",
              "        text-align: right;\n",
              "    }\n",
              "</style>\n",
              "<table border=\"1\" class=\"dataframe\">\n",
              "  <thead>\n",
              "    <tr style=\"text-align: right;\">\n",
              "      <th></th>\n",
              "      <th>NCTId</th>\n",
              "      <th>#EC</th>\n",
              "      <th>EC</th>\n",
              "    </tr>\n",
              "  </thead>\n",
              "  <tbody>\n",
              "    <tr>\n",
              "      <th>0</th>\n",
              "      <td>NCT03581708</td>\n",
              "      <td>1</td>\n",
              "      <td>history another primary malignancy except mali...</td>\n",
              "    </tr>\n",
              "    <tr>\n",
              "      <th>1</th>\n",
              "      <td>NCT03581708</td>\n",
              "      <td>2</td>\n",
              "      <td>without sign informed consent</td>\n",
              "    </tr>\n",
              "    <tr>\n",
              "      <th>2</th>\n",
              "      <td>NCT03581708</td>\n",
              "      <td>3</td>\n",
              "      <td>unwillingness inability comply schedule visit ...</td>\n",
              "    </tr>\n",
              "    <tr>\n",
              "      <th>3</th>\n",
              "      <td>NCT03581708</td>\n",
              "      <td>4</td>\n",
              "      <td>previously diagnose vte signing inform consent</td>\n",
              "    </tr>\n",
              "    <tr>\n",
              "      <th>4</th>\n",
              "      <td>NCT01130285</td>\n",
              "      <td>1</td>\n",
              "      <td>lung cancer within 3 month date enrollment</td>\n",
              "    </tr>\n",
              "  </tbody>\n",
              "</table>\n",
              "</div>\n",
              "      <button class=\"colab-df-convert\" onclick=\"convertToInteractive('df-6513e8af-774b-4ef6-a617-ac6c436c9654')\"\n",
              "              title=\"Convert this dataframe to an interactive table.\"\n",
              "              style=\"display:none;\">\n",
              "        \n",
              "  <svg xmlns=\"http://www.w3.org/2000/svg\" height=\"24px\"viewBox=\"0 0 24 24\"\n",
              "       width=\"24px\">\n",
              "    <path d=\"M0 0h24v24H0V0z\" fill=\"none\"/>\n",
              "    <path d=\"M18.56 5.44l.94 2.06.94-2.06 2.06-.94-2.06-.94-.94-2.06-.94 2.06-2.06.94zm-11 1L8.5 8.5l.94-2.06 2.06-.94-2.06-.94L8.5 2.5l-.94 2.06-2.06.94zm10 10l.94 2.06.94-2.06 2.06-.94-2.06-.94-.94-2.06-.94 2.06-2.06.94z\"/><path d=\"M17.41 7.96l-1.37-1.37c-.4-.4-.92-.59-1.43-.59-.52 0-1.04.2-1.43.59L10.3 9.45l-7.72 7.72c-.78.78-.78 2.05 0 2.83L4 21.41c.39.39.9.59 1.41.59.51 0 1.02-.2 1.41-.59l7.78-7.78 2.81-2.81c.8-.78.8-2.07 0-2.86zM5.41 20L4 18.59l7.72-7.72 1.47 1.35L5.41 20z\"/>\n",
              "  </svg>\n",
              "      </button>\n",
              "      \n",
              "  <style>\n",
              "    .colab-df-container {\n",
              "      display:flex;\n",
              "      flex-wrap:wrap;\n",
              "      gap: 12px;\n",
              "    }\n",
              "\n",
              "    .colab-df-convert {\n",
              "      background-color: #E8F0FE;\n",
              "      border: none;\n",
              "      border-radius: 50%;\n",
              "      cursor: pointer;\n",
              "      display: none;\n",
              "      fill: #1967D2;\n",
              "      height: 32px;\n",
              "      padding: 0 0 0 0;\n",
              "      width: 32px;\n",
              "    }\n",
              "\n",
              "    .colab-df-convert:hover {\n",
              "      background-color: #E2EBFA;\n",
              "      box-shadow: 0px 1px 2px rgba(60, 64, 67, 0.3), 0px 1px 3px 1px rgba(60, 64, 67, 0.15);\n",
              "      fill: #174EA6;\n",
              "    }\n",
              "\n",
              "    [theme=dark] .colab-df-convert {\n",
              "      background-color: #3B4455;\n",
              "      fill: #D2E3FC;\n",
              "    }\n",
              "\n",
              "    [theme=dark] .colab-df-convert:hover {\n",
              "      background-color: #434B5C;\n",
              "      box-shadow: 0px 1px 3px 1px rgba(0, 0, 0, 0.15);\n",
              "      filter: drop-shadow(0px 1px 2px rgba(0, 0, 0, 0.3));\n",
              "      fill: #FFFFFF;\n",
              "    }\n",
              "  </style>\n",
              "\n",
              "      <script>\n",
              "        const buttonEl =\n",
              "          document.querySelector('#df-6513e8af-774b-4ef6-a617-ac6c436c9654 button.colab-df-convert');\n",
              "        buttonEl.style.display =\n",
              "          google.colab.kernel.accessAllowed ? 'block' : 'none';\n",
              "\n",
              "        async function convertToInteractive(key) {\n",
              "          const element = document.querySelector('#df-6513e8af-774b-4ef6-a617-ac6c436c9654');\n",
              "          const dataTable =\n",
              "            await google.colab.kernel.invokeFunction('convertToInteractive',\n",
              "                                                     [key], {});\n",
              "          if (!dataTable) return;\n",
              "\n",
              "          const docLinkHtml = 'Like what you see? Visit the ' +\n",
              "            '<a target=\"_blank\" href=https://colab.research.google.com/notebooks/data_table.ipynb>data table notebook</a>'\n",
              "            + ' to learn more about interactive tables.';\n",
              "          element.innerHTML = '';\n",
              "          dataTable['output_type'] = 'display_data';\n",
              "          await google.colab.output.renderOutput(dataTable, element);\n",
              "          const docLink = document.createElement('div');\n",
              "          docLink.innerHTML = docLinkHtml;\n",
              "          element.appendChild(docLink);\n",
              "        }\n",
              "      </script>\n",
              "    </div>\n",
              "  </div>\n",
              "  "
            ],
            "text/plain": [
              "         NCTId  #EC                                                 EC\n",
              "0  NCT03581708    1  history another primary malignancy except mali...\n",
              "1  NCT03581708    2                      without sign informed consent\n",
              "2  NCT03581708    3  unwillingness inability comply schedule visit ...\n",
              "3  NCT03581708    4     previously diagnose vte signing inform consent\n",
              "4  NCT01130285    1         lung cancer within 3 month date enrollment"
            ]
          },
          "metadata": {},
          "execution_count": 23
        }
      ]
    },
    {
      "cell_type": "code",
      "source": [
        "# Create the DataFrame that has the stacked raw EC\n",
        "\n",
        "NCTId = df['NCTId'].tolist()\n",
        "ECStackedRaw = pd.DataFrame()\n",
        "for idx, row in enumerate(ExclusionCriteriaRawList):\n",
        "  # We concatenate the ID of the Clinical Trial with the lits of IC and the number of each IC\n",
        "  tmp = pd.concat([pd.Series([NCTId[idx] for _ in range(len(row))]), pd.Series(list(range(1, len(row)+1))), pd.Series(row)], axis=1, ignore_index=True)\n",
        "  ECStackedRaw = ECStackedRaw.append(tmp, ignore_index=True)\n",
        "\n",
        "ECStackedRaw.columns = ['NCTId', '#EC', 'ECRaw']\n",
        "ECStackedRaw['#EC']  = ECStackedRaw['#EC'].astype(int)\n",
        "ECStackedRaw.head()"
      ],
      "metadata": {
        "colab": {
          "base_uri": "https://localhost:8080/",
          "height": 262
        },
        "id": "iH9R3-nxCMCR",
        "outputId": "cf1472c9-fe26-49f3-dad8-eb5e4e2c3399"
      },
      "execution_count": 24,
      "outputs": [
        {
          "output_type": "stream",
          "name": "stderr",
          "text": [
            "/usr/local/lib/python3.7/dist-packages/ipykernel_launcher.py:7: DeprecationWarning: The default dtype for empty Series will be 'object' instead of 'float64' in a future version. Specify a dtype explicitly to silence this warning.\n",
            "  import sys\n"
          ]
        },
        {
          "output_type": "execute_result",
          "data": {
            "text/html": [
              "\n",
              "  <div id=\"df-34fc3184-ebe6-4c30-9911-0dcfe7a9396e\">\n",
              "    <div class=\"colab-df-container\">\n",
              "      <div>\n",
              "<style scoped>\n",
              "    .dataframe tbody tr th:only-of-type {\n",
              "        vertical-align: middle;\n",
              "    }\n",
              "\n",
              "    .dataframe tbody tr th {\n",
              "        vertical-align: top;\n",
              "    }\n",
              "\n",
              "    .dataframe thead th {\n",
              "        text-align: right;\n",
              "    }\n",
              "</style>\n",
              "<table border=\"1\" class=\"dataframe\">\n",
              "  <thead>\n",
              "    <tr style=\"text-align: right;\">\n",
              "      <th></th>\n",
              "      <th>NCTId</th>\n",
              "      <th>#EC</th>\n",
              "      <th>ECRaw</th>\n",
              "    </tr>\n",
              "  </thead>\n",
              "  <tbody>\n",
              "    <tr>\n",
              "      <th>0</th>\n",
              "      <td>NCT03581708</td>\n",
              "      <td>1</td>\n",
              "      <td>history of another primary malignancy except f...</td>\n",
              "    </tr>\n",
              "    <tr>\n",
              "      <th>1</th>\n",
              "      <td>NCT03581708</td>\n",
              "      <td>2</td>\n",
              "      <td>without signed informed consent.</td>\n",
              "    </tr>\n",
              "    <tr>\n",
              "      <th>2</th>\n",
              "      <td>NCT03581708</td>\n",
              "      <td>3</td>\n",
              "      <td>unwillingness or inability to comply with sche...</td>\n",
              "    </tr>\n",
              "    <tr>\n",
              "      <th>3</th>\n",
              "      <td>NCT03581708</td>\n",
              "      <td>4</td>\n",
              "      <td>previously diagnosed with vte before signing i...</td>\n",
              "    </tr>\n",
              "    <tr>\n",
              "      <th>4</th>\n",
              "      <td>NCT01130285</td>\n",
              "      <td>1</td>\n",
              "      <td>lung cancer within 3 months after the date of ...</td>\n",
              "    </tr>\n",
              "  </tbody>\n",
              "</table>\n",
              "</div>\n",
              "      <button class=\"colab-df-convert\" onclick=\"convertToInteractive('df-34fc3184-ebe6-4c30-9911-0dcfe7a9396e')\"\n",
              "              title=\"Convert this dataframe to an interactive table.\"\n",
              "              style=\"display:none;\">\n",
              "        \n",
              "  <svg xmlns=\"http://www.w3.org/2000/svg\" height=\"24px\"viewBox=\"0 0 24 24\"\n",
              "       width=\"24px\">\n",
              "    <path d=\"M0 0h24v24H0V0z\" fill=\"none\"/>\n",
              "    <path d=\"M18.56 5.44l.94 2.06.94-2.06 2.06-.94-2.06-.94-.94-2.06-.94 2.06-2.06.94zm-11 1L8.5 8.5l.94-2.06 2.06-.94-2.06-.94L8.5 2.5l-.94 2.06-2.06.94zm10 10l.94 2.06.94-2.06 2.06-.94-2.06-.94-.94-2.06-.94 2.06-2.06.94z\"/><path d=\"M17.41 7.96l-1.37-1.37c-.4-.4-.92-.59-1.43-.59-.52 0-1.04.2-1.43.59L10.3 9.45l-7.72 7.72c-.78.78-.78 2.05 0 2.83L4 21.41c.39.39.9.59 1.41.59.51 0 1.02-.2 1.41-.59l7.78-7.78 2.81-2.81c.8-.78.8-2.07 0-2.86zM5.41 20L4 18.59l7.72-7.72 1.47 1.35L5.41 20z\"/>\n",
              "  </svg>\n",
              "      </button>\n",
              "      \n",
              "  <style>\n",
              "    .colab-df-container {\n",
              "      display:flex;\n",
              "      flex-wrap:wrap;\n",
              "      gap: 12px;\n",
              "    }\n",
              "\n",
              "    .colab-df-convert {\n",
              "      background-color: #E8F0FE;\n",
              "      border: none;\n",
              "      border-radius: 50%;\n",
              "      cursor: pointer;\n",
              "      display: none;\n",
              "      fill: #1967D2;\n",
              "      height: 32px;\n",
              "      padding: 0 0 0 0;\n",
              "      width: 32px;\n",
              "    }\n",
              "\n",
              "    .colab-df-convert:hover {\n",
              "      background-color: #E2EBFA;\n",
              "      box-shadow: 0px 1px 2px rgba(60, 64, 67, 0.3), 0px 1px 3px 1px rgba(60, 64, 67, 0.15);\n",
              "      fill: #174EA6;\n",
              "    }\n",
              "\n",
              "    [theme=dark] .colab-df-convert {\n",
              "      background-color: #3B4455;\n",
              "      fill: #D2E3FC;\n",
              "    }\n",
              "\n",
              "    [theme=dark] .colab-df-convert:hover {\n",
              "      background-color: #434B5C;\n",
              "      box-shadow: 0px 1px 3px 1px rgba(0, 0, 0, 0.15);\n",
              "      filter: drop-shadow(0px 1px 2px rgba(0, 0, 0, 0.3));\n",
              "      fill: #FFFFFF;\n",
              "    }\n",
              "  </style>\n",
              "\n",
              "      <script>\n",
              "        const buttonEl =\n",
              "          document.querySelector('#df-34fc3184-ebe6-4c30-9911-0dcfe7a9396e button.colab-df-convert');\n",
              "        buttonEl.style.display =\n",
              "          google.colab.kernel.accessAllowed ? 'block' : 'none';\n",
              "\n",
              "        async function convertToInteractive(key) {\n",
              "          const element = document.querySelector('#df-34fc3184-ebe6-4c30-9911-0dcfe7a9396e');\n",
              "          const dataTable =\n",
              "            await google.colab.kernel.invokeFunction('convertToInteractive',\n",
              "                                                     [key], {});\n",
              "          if (!dataTable) return;\n",
              "\n",
              "          const docLinkHtml = 'Like what you see? Visit the ' +\n",
              "            '<a target=\"_blank\" href=https://colab.research.google.com/notebooks/data_table.ipynb>data table notebook</a>'\n",
              "            + ' to learn more about interactive tables.';\n",
              "          element.innerHTML = '';\n",
              "          dataTable['output_type'] = 'display_data';\n",
              "          await google.colab.output.renderOutput(dataTable, element);\n",
              "          const docLink = document.createElement('div');\n",
              "          docLink.innerHTML = docLinkHtml;\n",
              "          element.appendChild(docLink);\n",
              "        }\n",
              "      </script>\n",
              "    </div>\n",
              "  </div>\n",
              "  "
            ],
            "text/plain": [
              "         NCTId  #EC                                              ECRaw\n",
              "0  NCT03581708    1  history of another primary malignancy except f...\n",
              "1  NCT03581708    2                   without signed informed consent.\n",
              "2  NCT03581708    3  unwillingness or inability to comply with sche...\n",
              "3  NCT03581708    4  previously diagnosed with vte before signing i...\n",
              "4  NCT01130285    1  lung cancer within 3 months after the date of ..."
            ]
          },
          "metadata": {},
          "execution_count": 24
        }
      ]
    },
    {
      "cell_type": "code",
      "source": [
        "ECStacked['ECRaw'] = ECStackedRaw['ECRaw']\n",
        "ECStacked.head()"
      ],
      "metadata": {
        "colab": {
          "base_uri": "https://localhost:8080/",
          "height": 206
        },
        "id": "t_B5VxXcCtoC",
        "outputId": "dfc8e9e6-72ee-468f-82ef-45f4557444e2"
      },
      "execution_count": 25,
      "outputs": [
        {
          "output_type": "execute_result",
          "data": {
            "text/html": [
              "\n",
              "  <div id=\"df-ce28a29a-3035-40dd-8c21-8e5459015c7f\">\n",
              "    <div class=\"colab-df-container\">\n",
              "      <div>\n",
              "<style scoped>\n",
              "    .dataframe tbody tr th:only-of-type {\n",
              "        vertical-align: middle;\n",
              "    }\n",
              "\n",
              "    .dataframe tbody tr th {\n",
              "        vertical-align: top;\n",
              "    }\n",
              "\n",
              "    .dataframe thead th {\n",
              "        text-align: right;\n",
              "    }\n",
              "</style>\n",
              "<table border=\"1\" class=\"dataframe\">\n",
              "  <thead>\n",
              "    <tr style=\"text-align: right;\">\n",
              "      <th></th>\n",
              "      <th>NCTId</th>\n",
              "      <th>#EC</th>\n",
              "      <th>EC</th>\n",
              "      <th>ECRaw</th>\n",
              "    </tr>\n",
              "  </thead>\n",
              "  <tbody>\n",
              "    <tr>\n",
              "      <th>0</th>\n",
              "      <td>NCT03581708</td>\n",
              "      <td>1</td>\n",
              "      <td>history another primary malignancy except mali...</td>\n",
              "      <td>history of another primary malignancy except f...</td>\n",
              "    </tr>\n",
              "    <tr>\n",
              "      <th>1</th>\n",
              "      <td>NCT03581708</td>\n",
              "      <td>2</td>\n",
              "      <td>without sign informed consent</td>\n",
              "      <td>without signed informed consent.</td>\n",
              "    </tr>\n",
              "    <tr>\n",
              "      <th>2</th>\n",
              "      <td>NCT03581708</td>\n",
              "      <td>3</td>\n",
              "      <td>unwillingness inability comply schedule visit ...</td>\n",
              "      <td>unwillingness or inability to comply with sche...</td>\n",
              "    </tr>\n",
              "    <tr>\n",
              "      <th>3</th>\n",
              "      <td>NCT03581708</td>\n",
              "      <td>4</td>\n",
              "      <td>previously diagnose vte signing inform consent</td>\n",
              "      <td>previously diagnosed with vte before signing i...</td>\n",
              "    </tr>\n",
              "    <tr>\n",
              "      <th>4</th>\n",
              "      <td>NCT01130285</td>\n",
              "      <td>1</td>\n",
              "      <td>lung cancer within 3 month date enrollment</td>\n",
              "      <td>lung cancer within 3 months after the date of ...</td>\n",
              "    </tr>\n",
              "  </tbody>\n",
              "</table>\n",
              "</div>\n",
              "      <button class=\"colab-df-convert\" onclick=\"convertToInteractive('df-ce28a29a-3035-40dd-8c21-8e5459015c7f')\"\n",
              "              title=\"Convert this dataframe to an interactive table.\"\n",
              "              style=\"display:none;\">\n",
              "        \n",
              "  <svg xmlns=\"http://www.w3.org/2000/svg\" height=\"24px\"viewBox=\"0 0 24 24\"\n",
              "       width=\"24px\">\n",
              "    <path d=\"M0 0h24v24H0V0z\" fill=\"none\"/>\n",
              "    <path d=\"M18.56 5.44l.94 2.06.94-2.06 2.06-.94-2.06-.94-.94-2.06-.94 2.06-2.06.94zm-11 1L8.5 8.5l.94-2.06 2.06-.94-2.06-.94L8.5 2.5l-.94 2.06-2.06.94zm10 10l.94 2.06.94-2.06 2.06-.94-2.06-.94-.94-2.06-.94 2.06-2.06.94z\"/><path d=\"M17.41 7.96l-1.37-1.37c-.4-.4-.92-.59-1.43-.59-.52 0-1.04.2-1.43.59L10.3 9.45l-7.72 7.72c-.78.78-.78 2.05 0 2.83L4 21.41c.39.39.9.59 1.41.59.51 0 1.02-.2 1.41-.59l7.78-7.78 2.81-2.81c.8-.78.8-2.07 0-2.86zM5.41 20L4 18.59l7.72-7.72 1.47 1.35L5.41 20z\"/>\n",
              "  </svg>\n",
              "      </button>\n",
              "      \n",
              "  <style>\n",
              "    .colab-df-container {\n",
              "      display:flex;\n",
              "      flex-wrap:wrap;\n",
              "      gap: 12px;\n",
              "    }\n",
              "\n",
              "    .colab-df-convert {\n",
              "      background-color: #E8F0FE;\n",
              "      border: none;\n",
              "      border-radius: 50%;\n",
              "      cursor: pointer;\n",
              "      display: none;\n",
              "      fill: #1967D2;\n",
              "      height: 32px;\n",
              "      padding: 0 0 0 0;\n",
              "      width: 32px;\n",
              "    }\n",
              "\n",
              "    .colab-df-convert:hover {\n",
              "      background-color: #E2EBFA;\n",
              "      box-shadow: 0px 1px 2px rgba(60, 64, 67, 0.3), 0px 1px 3px 1px rgba(60, 64, 67, 0.15);\n",
              "      fill: #174EA6;\n",
              "    }\n",
              "\n",
              "    [theme=dark] .colab-df-convert {\n",
              "      background-color: #3B4455;\n",
              "      fill: #D2E3FC;\n",
              "    }\n",
              "\n",
              "    [theme=dark] .colab-df-convert:hover {\n",
              "      background-color: #434B5C;\n",
              "      box-shadow: 0px 1px 3px 1px rgba(0, 0, 0, 0.15);\n",
              "      filter: drop-shadow(0px 1px 2px rgba(0, 0, 0, 0.3));\n",
              "      fill: #FFFFFF;\n",
              "    }\n",
              "  </style>\n",
              "\n",
              "      <script>\n",
              "        const buttonEl =\n",
              "          document.querySelector('#df-ce28a29a-3035-40dd-8c21-8e5459015c7f button.colab-df-convert');\n",
              "        buttonEl.style.display =\n",
              "          google.colab.kernel.accessAllowed ? 'block' : 'none';\n",
              "\n",
              "        async function convertToInteractive(key) {\n",
              "          const element = document.querySelector('#df-ce28a29a-3035-40dd-8c21-8e5459015c7f');\n",
              "          const dataTable =\n",
              "            await google.colab.kernel.invokeFunction('convertToInteractive',\n",
              "                                                     [key], {});\n",
              "          if (!dataTable) return;\n",
              "\n",
              "          const docLinkHtml = 'Like what you see? Visit the ' +\n",
              "            '<a target=\"_blank\" href=https://colab.research.google.com/notebooks/data_table.ipynb>data table notebook</a>'\n",
              "            + ' to learn more about interactive tables.';\n",
              "          element.innerHTML = '';\n",
              "          dataTable['output_type'] = 'display_data';\n",
              "          await google.colab.output.renderOutput(dataTable, element);\n",
              "          const docLink = document.createElement('div');\n",
              "          docLink.innerHTML = docLinkHtml;\n",
              "          element.appendChild(docLink);\n",
              "        }\n",
              "      </script>\n",
              "    </div>\n",
              "  </div>\n",
              "  "
            ],
            "text/plain": [
              "         NCTId  ...                                              ECRaw\n",
              "0  NCT03581708  ...  history of another primary malignancy except f...\n",
              "1  NCT03581708  ...                   without signed informed consent.\n",
              "2  NCT03581708  ...  unwillingness or inability to comply with sche...\n",
              "3  NCT03581708  ...  previously diagnosed with vte before signing i...\n",
              "4  NCT01130285  ...  lung cancer within 3 months after the date of ...\n",
              "\n",
              "[5 rows x 4 columns]"
            ]
          },
          "metadata": {},
          "execution_count": 25
        }
      ]
    },
    {
      "cell_type": "markdown",
      "source": [
        "### Export Results"
      ],
      "metadata": {
        "id": "ISyvprvGDJwr"
      }
    },
    {
      "cell_type": "code",
      "source": [
        "ICStacked.to_excel('ICStacked.xlsx', index=False)\n",
        "ECStacked.to_excel('ECStacked.xlsx', index=False)\n",
        "files.download('ICStacked.xlsx')\n",
        "files.download('ECStacked.xlsx')"
      ],
      "metadata": {
        "colab": {
          "base_uri": "https://localhost:8080/",
          "height": 17
        },
        "id": "CgrZ2WFaC6bh",
        "outputId": "913e4fd3-020e-452f-c8a3-b8df3987132e"
      },
      "execution_count": 27,
      "outputs": [
        {
          "output_type": "display_data",
          "data": {
            "application/javascript": [
              "\n",
              "    async function download(id, filename, size) {\n",
              "      if (!google.colab.kernel.accessAllowed) {\n",
              "        return;\n",
              "      }\n",
              "      const div = document.createElement('div');\n",
              "      const label = document.createElement('label');\n",
              "      label.textContent = `Downloading \"${filename}\": `;\n",
              "      div.appendChild(label);\n",
              "      const progress = document.createElement('progress');\n",
              "      progress.max = size;\n",
              "      div.appendChild(progress);\n",
              "      document.body.appendChild(div);\n",
              "\n",
              "      const buffers = [];\n",
              "      let downloaded = 0;\n",
              "\n",
              "      const channel = await google.colab.kernel.comms.open(id);\n",
              "      // Send a message to notify the kernel that we're ready.\n",
              "      channel.send({})\n",
              "\n",
              "      for await (const message of channel.messages) {\n",
              "        // Send a message to notify the kernel that we're ready.\n",
              "        channel.send({})\n",
              "        if (message.buffers) {\n",
              "          for (const buffer of message.buffers) {\n",
              "            buffers.push(buffer);\n",
              "            downloaded += buffer.byteLength;\n",
              "            progress.value = downloaded;\n",
              "          }\n",
              "        }\n",
              "      }\n",
              "      const blob = new Blob(buffers, {type: 'application/binary'});\n",
              "      const a = document.createElement('a');\n",
              "      a.href = window.URL.createObjectURL(blob);\n",
              "      a.download = filename;\n",
              "      div.appendChild(a);\n",
              "      a.click();\n",
              "      div.remove();\n",
              "    }\n",
              "  "
            ],
            "text/plain": [
              "<IPython.core.display.Javascript object>"
            ]
          },
          "metadata": {}
        },
        {
          "output_type": "display_data",
          "data": {
            "application/javascript": [
              "download(\"download_ea3c683c-8690-4060-b5d0-1aae8b3133c3\", \"ICStacked.xlsx\", 840737)"
            ],
            "text/plain": [
              "<IPython.core.display.Javascript object>"
            ]
          },
          "metadata": {}
        },
        {
          "output_type": "display_data",
          "data": {
            "application/javascript": [
              "\n",
              "    async function download(id, filename, size) {\n",
              "      if (!google.colab.kernel.accessAllowed) {\n",
              "        return;\n",
              "      }\n",
              "      const div = document.createElement('div');\n",
              "      const label = document.createElement('label');\n",
              "      label.textContent = `Downloading \"${filename}\": `;\n",
              "      div.appendChild(label);\n",
              "      const progress = document.createElement('progress');\n",
              "      progress.max = size;\n",
              "      div.appendChild(progress);\n",
              "      document.body.appendChild(div);\n",
              "\n",
              "      const buffers = [];\n",
              "      let downloaded = 0;\n",
              "\n",
              "      const channel = await google.colab.kernel.comms.open(id);\n",
              "      // Send a message to notify the kernel that we're ready.\n",
              "      channel.send({})\n",
              "\n",
              "      for await (const message of channel.messages) {\n",
              "        // Send a message to notify the kernel that we're ready.\n",
              "        channel.send({})\n",
              "        if (message.buffers) {\n",
              "          for (const buffer of message.buffers) {\n",
              "            buffers.push(buffer);\n",
              "            downloaded += buffer.byteLength;\n",
              "            progress.value = downloaded;\n",
              "          }\n",
              "        }\n",
              "      }\n",
              "      const blob = new Blob(buffers, {type: 'application/binary'});\n",
              "      const a = document.createElement('a');\n",
              "      a.href = window.URL.createObjectURL(blob);\n",
              "      a.download = filename;\n",
              "      div.appendChild(a);\n",
              "      a.click();\n",
              "      div.remove();\n",
              "    }\n",
              "  "
            ],
            "text/plain": [
              "<IPython.core.display.Javascript object>"
            ]
          },
          "metadata": {}
        },
        {
          "output_type": "display_data",
          "data": {
            "application/javascript": [
              "download(\"download_c4a25680-ec54-4178-ac19-23b6fac77791\", \"ECStacked.xlsx\", 773354)"
            ],
            "text/plain": [
              "<IPython.core.display.Javascript object>"
            ]
          },
          "metadata": {}
        }
      ]
    }
  ]
}