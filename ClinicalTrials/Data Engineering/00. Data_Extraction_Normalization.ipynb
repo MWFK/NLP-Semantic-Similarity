{
  "nbformat": 4,
  "nbformat_minor": 0,
  "metadata": {
    "colab": {
      "name": "00. Data Extraction & Transformation.ipynb",
      "provenance": [],
      "authorship_tag": "ABX9TyOmFTJ31fG0xo7EiCMiJcuI",
      "include_colab_link": true
    },
    "kernelspec": {
      "name": "python3",
      "display_name": "Python 3"
    },
    "language_info": {
      "name": "python"
    }
  },
  "cells": [
    {
      "cell_type": "markdown",
      "metadata": {
        "id": "view-in-github",
        "colab_type": "text"
      },
      "source": [
        "<a href=\"https://colab.research.google.com/github/MWFK/NLP-Semantic-Similarity/blob/main/ClinicalTrials/Data%20Engineering/00.%20Data_Extraction_Normalization.ipynb\" target=\"_parent\"><img src=\"https://colab.research.google.com/assets/colab-badge.svg\" alt=\"Open In Colab\"/></a>"
      ]
    },
    {
      "cell_type": "markdown",
      "source": [
        "### Objectives\n",
        "\n",
        "Get the data from https://clinicaltrials.gov using their API.\n",
        "\n",
        "Transform the data into usable dataset."
      ],
      "metadata": {
        "id": "bu-NVWrQbrDc"
      }
    },
    {
      "cell_type": "markdown",
      "source": [
        "### Libs"
      ],
      "metadata": {
        "id": "rlXXSTOAcCuP"
      }
    },
    {
      "cell_type": "code",
      "execution_count": null,
      "metadata": {
        "id": "EaqHXoGGbiGe"
      },
      "outputs": [],
      "source": [
        "import re\n",
        "import pandas as pd\n",
        "# pd.set_option('display.max_columns', None)  \n",
        "# pd.set_option('display.max_colwidth', None)\n",
        "import requests\n",
        "from itertools import compress\n",
        "from requests.adapters import HTTPAdapter\n",
        "from requests.packages.urllib3.util.retry import Retry"
      ]
    },
    {
      "cell_type": "markdown",
      "source": [
        "### Data"
      ],
      "metadata": {
        "id": "InHFvFTncHrv"
      }
    },
    {
      "cell_type": "code",
      "source": [
        "####### Study #######\n",
        "# lung cancer \n",
        "# NStudiesFound: 10152\n",
        "\n",
        "####### Study Fields #######\n",
        "# NCTId, OrgFullName, OfficialTitle, OverallStatus, Phase, Keyword, DetailedDescription, \n",
        "# Condition, EligibilityCriteria, HealthyVolunteers, Gender, MinimumAge, StudyPopulation, \n",
        "# LocationFacility, LocationCity, LocationCountry\n",
        "\n",
        "####### New Fields to add #######\n",
        "# LocationStatus, Phase\n",
        "\n",
        "####### Deleted Fields #######\n",
        "# LocationState, LocationZip\n",
        "\n",
        "####### Range Min_MAX ######\n",
        "# 1 to 10152\n",
        "\n",
        "####### Format #######\n",
        "# CSV\n",
        "\n",
        "step    = 1000\n",
        "min_rnk = 1\n",
        "max_rnk = step\n",
        "\n",
        "for req in range(11): \n",
        "    \n",
        "    print(\"Downloading Lung Cancer clinical trials with ranks from \", min_rnk, \" to \", max_rnk)\n",
        "    url = 'https://clinicaltrials.gov/api/query/study_fields?expr=lung+cancer&fields=NCTId%2C+OrgFullName%2C+OfficialTitle%2C+OverallStatus%2C+Phase%2C+Keyword%2C+DetailedDescription%2C+%0D%0ACondition%2C+EligibilityCriteria%2C+HealthyVolunteers%2C+Gender%2C+MinimumAge%2C+StudyPopulation%2C+%0D%0ALocationFacility%2C+LocationStatus%2C+LocationCity%2C+LocationCountry&min_rnk='+str(min_rnk)+'&max_rnk='+str(max_rnk)+'&fmt=csv'\n",
        "    session = requests.Session()\n",
        "    retry   = Retry(connect=3, backoff_factor=0.5)\n",
        "    adapter = HTTPAdapter(max_retries=retry)\n",
        "    session.mount('http://' , adapter)\n",
        "    session.mount('https://', adapter)\n",
        "\n",
        "    clinicaltrials = session.get(url)\n",
        "    print('Download Request Status: ', clinicaltrials.status_code)\n",
        "    \n",
        "    csv_file = open('/content/'+str(req)+'-batch.csv', 'wb')\n",
        "    csv_file.write(clinicaltrials.content)\n",
        "    csv_file.close()\n",
        "    \n",
        "    min_rnk = max_rnk + 1\n",
        "    max_rnk += step"
      ],
      "metadata": {
        "colab": {
          "base_uri": "https://localhost:8080/"
        },
        "id": "qF1w3XpdcG9c",
        "outputId": "1a3807f6-efa3-4cce-faba-ed8f8342e86c"
      },
      "execution_count": null,
      "outputs": [
        {
          "output_type": "stream",
          "name": "stdout",
          "text": [
            "Downloading Lung Cancer clinical trials with ranks from  1  to  1000\n",
            "Download Request Status:  200\n",
            "Downloading Lung Cancer clinical trials with ranks from  1001  to  2000\n",
            "Download Request Status:  200\n",
            "Downloading Lung Cancer clinical trials with ranks from  2001  to  3000\n",
            "Download Request Status:  200\n",
            "Downloading Lung Cancer clinical trials with ranks from  3001  to  4000\n",
            "Download Request Status:  200\n",
            "Downloading Lung Cancer clinical trials with ranks from  4001  to  5000\n",
            "Download Request Status:  200\n",
            "Downloading Lung Cancer clinical trials with ranks from  5001  to  6000\n",
            "Download Request Status:  200\n",
            "Downloading Lung Cancer clinical trials with ranks from  6001  to  7000\n",
            "Download Request Status:  200\n",
            "Downloading Lung Cancer clinical trials with ranks from  7001  to  8000\n",
            "Download Request Status:  200\n",
            "Downloading Lung Cancer clinical trials with ranks from  8001  to  9000\n",
            "Download Request Status:  200\n",
            "Downloading Lung Cancer clinical trials with ranks from  9001  to  10000\n",
            "Download Request Status:  200\n",
            "Downloading Lung Cancer clinical trials with ranks from  10001  to  11000\n",
            "Download Request Status:  200\n"
          ]
        }
      ]
    },
    {
      "cell_type": "code",
      "source": [
        "df = pd.read_csv(r'/content/0-batch.csv', skiprows=10)\n",
        "for req in range(1, 11): \n",
        "    tmp = pd.read_csv('/content/' +str(req)+ '-batch.csv', skiprows=10)\n",
        "    print('Batch ', req, ': ', tmp.shape)\n",
        "    df = df.append(tmp, ignore_index=True)\n",
        "\n",
        "df.to_csv(r'/content/batchs.csv')\n",
        "print('All Batchs: ',df.shape)"
      ],
      "metadata": {
        "colab": {
          "base_uri": "https://localhost:8080/"
        },
        "id": "eOUbERE-c5S9",
        "outputId": "04c5707a-6ece-43ec-e438-ffc2defe9d8a"
      },
      "execution_count": null,
      "outputs": [
        {
          "output_type": "stream",
          "name": "stdout",
          "text": [
            "Batch  1 :  (1000, 18)\n",
            "Batch  2 :  (1000, 18)\n",
            "Batch  3 :  (1000, 18)\n",
            "Batch  4 :  (1000, 18)\n",
            "Batch  5 :  (1000, 18)\n",
            "Batch  6 :  (1000, 18)\n",
            "Batch  7 :  (1000, 18)\n",
            "Batch  8 :  (1000, 18)\n",
            "Batch  9 :  (1000, 18)\n",
            "Batch  10 :  (253, 18)\n",
            "All Batchs:  (10253, 18)\n"
          ]
        }
      ]
    },
    {
      "cell_type": "markdown",
      "source": [
        "### Seperate the Eligibility Criterias"
      ],
      "metadata": {
        "id": "qNJGXBsZmOlW"
      }
    },
    {
      "cell_type": "code",
      "source": [
        "eligibility_criteria = df['EligibilityCriteria'].astype(str).to_list()\n",
        "#eligibility_criteria = [s.replace('|', '') for s in eligibility_criteria]\n",
        "eligibility_criteria[:2]"
      ],
      "metadata": {
        "colab": {
          "base_uri": "https://localhost:8080/"
        },
        "id": "wGzo-nwkmPlT",
        "outputId": "6f45de8f-a337-4c46-ae25-8dba7e30d3bb"
      },
      "execution_count": null,
      "outputs": [
        {
          "output_type": "execute_result",
          "data": {
            "text/plain": [
              "['Inclusion Criteria:||Age ≥ 18 years at the time of screening.|Eastern Cooperative Oncology Group performance status of ≤ 2.|Written informed consent obtained from the patient.|Histologically and cytologically documented Stage 3B-4 lung cancer (according to Version 8 of the International Association for the Study of Lung Cancer Staging system).|Patients with stage 1 to 3, who undergo radical therapy with disease free survival (DFS) >12 months.|Willingness and ability to comply with scheduled visits and other study procedures.||Exclusion Criteria:||History of another primary malignancy except for malignancy treated with curative intent with known active disease ≥ 5 years before date of the informed consent.|Without signed informed consent.|Unwillingness or inability to comply with scheduled visits or other study procedures.|Previously diagnosed with VTE before signing informed consent.',\n",
              " 'Inclusion Criteria:||20 or more pack year smoking history|clinical need for diagnostic bronchoscopy or consent to study driven bronchoscopy||Exclusion Criteria:||Lung Cancer within 3 months after the date of enrollment']"
            ]
          },
          "metadata": {},
          "execution_count": 76
        }
      ]
    },
    {
      "cell_type": "code",
      "source": [
        "exclusion_criteria = [txt[txt.find('Exclusion Criteria')+21:] for txt in eligibility_criteria]\n",
        "exclusion_criteria[:2]"
      ],
      "metadata": {
        "colab": {
          "base_uri": "https://localhost:8080/"
        },
        "id": "etost5MomW1C",
        "outputId": "0d366263-6303-4456-c1fe-19837b058085"
      },
      "execution_count": null,
      "outputs": [
        {
          "output_type": "execute_result",
          "data": {
            "text/plain": [
              "['History of another primary malignancy except for malignancy treated with curative intent with known active disease ≥ 5 years before date of the informed consent.|Without signed informed consent.|Unwillingness or inability to comply with scheduled visits or other study procedures.|Previously diagnosed with VTE before signing informed consent.',\n",
              " 'Lung Cancer within 3 months after the date of enrollment']"
            ]
          },
          "metadata": {},
          "execution_count": 77
        }
      ]
    },
    {
      "cell_type": "code",
      "source": [
        "inclusion_criteria = [txt[21:txt.find('Exclusion Criteria')] for txt in eligibility_criteria]\n",
        "inclusion_criteria[:2]"
      ],
      "metadata": {
        "colab": {
          "base_uri": "https://localhost:8080/"
        },
        "id": "b9lv4aApma2W",
        "outputId": "137426f2-a1fc-47a5-ab2e-235a8c268d69"
      },
      "execution_count": null,
      "outputs": [
        {
          "output_type": "execute_result",
          "data": {
            "text/plain": [
              "['Age ≥ 18 years at the time of screening.|Eastern Cooperative Oncology Group performance status of ≤ 2.|Written informed consent obtained from the patient.|Histologically and cytologically documented Stage 3B-4 lung cancer (according to Version 8 of the International Association for the Study of Lung Cancer Staging system).|Patients with stage 1 to 3, who undergo radical therapy with disease free survival (DFS) >12 months.|Willingness and ability to comply with scheduled visits and other study procedures.||',\n",
              " '20 or more pack year smoking history|clinical need for diagnostic bronchoscopy or consent to study driven bronchoscopy||']"
            ]
          },
          "metadata": {},
          "execution_count": 78
        }
      ]
    },
    {
      "cell_type": "code",
      "source": [
        "df['InclusionCriteria'] = inclusion_criteria\n",
        "df['ExclusionCriteria'] = exclusion_criteria\n",
        "\n",
        "df['InclusionCriteriaNOPipe'] = [s.replace('|', '') for s in inclusion_criteria]\n",
        "df['ExclusionCriteriaNOPipe'] = [s.replace('|', '') for s in exclusion_criteria]\n",
        "\n",
        "cols = ['Rank', 'NCTId', 'OrgFullName', 'OfficialTitle', 'OverallStatus', 'Phase','Keyword', 'DetailedDescription', 'Condition', \n",
        "        'EligibilityCriteria','InclusionCriteria', 'ExclusionCriteria', 'InclusionCriteriaNOPipe', 'ExclusionCriteriaNOPipe', \n",
        "        'HealthyVolunteers', 'Gender', 'MinimumAge', 'StudyPopulation',\n",
        "        'LocationFacility', 'LocationStatus', 'LocationCity', 'LocationCountry']\n",
        "        \n",
        "df = df[cols] \n",
        "df.head(1)"
      ],
      "metadata": {
        "colab": {
          "base_uri": "https://localhost:8080/",
          "height": 197
        },
        "id": "9g6JWcS7oV9y",
        "outputId": "0104c7b4-06dd-4223-8aac-4323c41a423d"
      },
      "execution_count": null,
      "outputs": [
        {
          "output_type": "execute_result",
          "data": {
            "text/html": [
              "\n",
              "  <div id=\"df-e44d78a3-67b3-4828-9bfa-71c119fccf7e\">\n",
              "    <div class=\"colab-df-container\">\n",
              "      <div>\n",
              "<style scoped>\n",
              "    .dataframe tbody tr th:only-of-type {\n",
              "        vertical-align: middle;\n",
              "    }\n",
              "\n",
              "    .dataframe tbody tr th {\n",
              "        vertical-align: top;\n",
              "    }\n",
              "\n",
              "    .dataframe thead th {\n",
              "        text-align: right;\n",
              "    }\n",
              "</style>\n",
              "<table border=\"1\" class=\"dataframe\">\n",
              "  <thead>\n",
              "    <tr style=\"text-align: right;\">\n",
              "      <th></th>\n",
              "      <th>Rank</th>\n",
              "      <th>NCTId</th>\n",
              "      <th>OrgFullName</th>\n",
              "      <th>OfficialTitle</th>\n",
              "      <th>OverallStatus</th>\n",
              "      <th>Phase</th>\n",
              "      <th>Keyword</th>\n",
              "      <th>DetailedDescription</th>\n",
              "      <th>Condition</th>\n",
              "      <th>EligibilityCriteria</th>\n",
              "      <th>InclusionCriteria</th>\n",
              "      <th>ExclusionCriteria</th>\n",
              "      <th>InclusionCriteriaNOPipe</th>\n",
              "      <th>ExclusionCriteriaNOPipe</th>\n",
              "      <th>HealthyVolunteers</th>\n",
              "      <th>Gender</th>\n",
              "      <th>MinimumAge</th>\n",
              "      <th>StudyPopulation</th>\n",
              "      <th>LocationFacility</th>\n",
              "      <th>LocationStatus</th>\n",
              "      <th>LocationCity</th>\n",
              "      <th>LocationCountry</th>\n",
              "    </tr>\n",
              "  </thead>\n",
              "  <tbody>\n",
              "    <tr>\n",
              "      <th>0</th>\n",
              "      <td>1</td>\n",
              "      <td>NCT03581708</td>\n",
              "      <td>Guangdong Provincial People's Hospital</td>\n",
              "      <td>Real-world Study of the Incidence and Risk Fac...</td>\n",
              "      <td>Not yet recruiting</td>\n",
              "      <td>NaN</td>\n",
              "      <td>lung cancer|Venous Thromboembolism</td>\n",
              "      <td>VTE has high incidence in lung cancer and incr...</td>\n",
              "      <td>Lung Neoplasms|Venous Thromboembolism</td>\n",
              "      <td>Inclusion Criteria:||Age ≥ 18 years at the tim...</td>\n",
              "      <td>Age ≥ 18 years at the time of screening.|Easte...</td>\n",
              "      <td>History of another primary malignancy except f...</td>\n",
              "      <td>Age ≥ 18 years at the time of screening.Easter...</td>\n",
              "      <td>History of another primary malignancy except f...</td>\n",
              "      <td>No</td>\n",
              "      <td>All</td>\n",
              "      <td>18 Years</td>\n",
              "      <td>Patients diagnosed with advanced staged lung c...</td>\n",
              "      <td>Guangdong General Hospital</td>\n",
              "      <td>NaN</td>\n",
              "      <td>Guangzhou</td>\n",
              "      <td>China</td>\n",
              "    </tr>\n",
              "  </tbody>\n",
              "</table>\n",
              "</div>\n",
              "      <button class=\"colab-df-convert\" onclick=\"convertToInteractive('df-e44d78a3-67b3-4828-9bfa-71c119fccf7e')\"\n",
              "              title=\"Convert this dataframe to an interactive table.\"\n",
              "              style=\"display:none;\">\n",
              "        \n",
              "  <svg xmlns=\"http://www.w3.org/2000/svg\" height=\"24px\"viewBox=\"0 0 24 24\"\n",
              "       width=\"24px\">\n",
              "    <path d=\"M0 0h24v24H0V0z\" fill=\"none\"/>\n",
              "    <path d=\"M18.56 5.44l.94 2.06.94-2.06 2.06-.94-2.06-.94-.94-2.06-.94 2.06-2.06.94zm-11 1L8.5 8.5l.94-2.06 2.06-.94-2.06-.94L8.5 2.5l-.94 2.06-2.06.94zm10 10l.94 2.06.94-2.06 2.06-.94-2.06-.94-.94-2.06-.94 2.06-2.06.94z\"/><path d=\"M17.41 7.96l-1.37-1.37c-.4-.4-.92-.59-1.43-.59-.52 0-1.04.2-1.43.59L10.3 9.45l-7.72 7.72c-.78.78-.78 2.05 0 2.83L4 21.41c.39.39.9.59 1.41.59.51 0 1.02-.2 1.41-.59l7.78-7.78 2.81-2.81c.8-.78.8-2.07 0-2.86zM5.41 20L4 18.59l7.72-7.72 1.47 1.35L5.41 20z\"/>\n",
              "  </svg>\n",
              "      </button>\n",
              "      \n",
              "  <style>\n",
              "    .colab-df-container {\n",
              "      display:flex;\n",
              "      flex-wrap:wrap;\n",
              "      gap: 12px;\n",
              "    }\n",
              "\n",
              "    .colab-df-convert {\n",
              "      background-color: #E8F0FE;\n",
              "      border: none;\n",
              "      border-radius: 50%;\n",
              "      cursor: pointer;\n",
              "      display: none;\n",
              "      fill: #1967D2;\n",
              "      height: 32px;\n",
              "      padding: 0 0 0 0;\n",
              "      width: 32px;\n",
              "    }\n",
              "\n",
              "    .colab-df-convert:hover {\n",
              "      background-color: #E2EBFA;\n",
              "      box-shadow: 0px 1px 2px rgba(60, 64, 67, 0.3), 0px 1px 3px 1px rgba(60, 64, 67, 0.15);\n",
              "      fill: #174EA6;\n",
              "    }\n",
              "\n",
              "    [theme=dark] .colab-df-convert {\n",
              "      background-color: #3B4455;\n",
              "      fill: #D2E3FC;\n",
              "    }\n",
              "\n",
              "    [theme=dark] .colab-df-convert:hover {\n",
              "      background-color: #434B5C;\n",
              "      box-shadow: 0px 1px 3px 1px rgba(0, 0, 0, 0.15);\n",
              "      filter: drop-shadow(0px 1px 2px rgba(0, 0, 0, 0.3));\n",
              "      fill: #FFFFFF;\n",
              "    }\n",
              "  </style>\n",
              "\n",
              "      <script>\n",
              "        const buttonEl =\n",
              "          document.querySelector('#df-e44d78a3-67b3-4828-9bfa-71c119fccf7e button.colab-df-convert');\n",
              "        buttonEl.style.display =\n",
              "          google.colab.kernel.accessAllowed ? 'block' : 'none';\n",
              "\n",
              "        async function convertToInteractive(key) {\n",
              "          const element = document.querySelector('#df-e44d78a3-67b3-4828-9bfa-71c119fccf7e');\n",
              "          const dataTable =\n",
              "            await google.colab.kernel.invokeFunction('convertToInteractive',\n",
              "                                                     [key], {});\n",
              "          if (!dataTable) return;\n",
              "\n",
              "          const docLinkHtml = 'Like what you see? Visit the ' +\n",
              "            '<a target=\"_blank\" href=https://colab.research.google.com/notebooks/data_table.ipynb>data table notebook</a>'\n",
              "            + ' to learn more about interactive tables.';\n",
              "          element.innerHTML = '';\n",
              "          dataTable['output_type'] = 'display_data';\n",
              "          await google.colab.output.renderOutput(dataTable, element);\n",
              "          const docLink = document.createElement('div');\n",
              "          docLink.innerHTML = docLinkHtml;\n",
              "          element.appendChild(docLink);\n",
              "        }\n",
              "      </script>\n",
              "    </div>\n",
              "  </div>\n",
              "  "
            ],
            "text/plain": [
              "   Rank        NCTId  ... LocationCity LocationCountry\n",
              "0     1  NCT03581708  ...    Guangzhou           China\n",
              "\n",
              "[1 rows x 22 columns]"
            ]
          },
          "metadata": {},
          "execution_count": 81
        }
      ]
    },
    {
      "cell_type": "markdown",
      "source": [
        "### Convert Eligibility Criterias into a list"
      ],
      "metadata": {
        "id": "6mWBxy9mCeYo"
      }
    },
    {
      "cell_type": "code",
      "source": [
        "inclusion_criteria_list = df['InclusionCriteria'].astype(str).to_list()\n",
        "inclusion_criteria_list = list(map(lambda txt : txt.split(\"|\"), inclusion_criteria_list))\n",
        "inclusion_criteria_list = [list(filter(lambda txt: txt!= '', ltexts)) for ltexts in inclusion_criteria_list]\n",
        "inclusion_criteria_list[:2]"
      ],
      "metadata": {
        "id": "7f_3cHbyx4cG",
        "outputId": "c392bf76-714b-43f9-dd7f-f01f39c48eb6",
        "colab": {
          "base_uri": "https://localhost:8080/"
        }
      },
      "execution_count": null,
      "outputs": [
        {
          "output_type": "execute_result",
          "data": {
            "text/plain": [
              "[['Age ≥ 18 years at the time of screening.',\n",
              "  'Eastern Cooperative Oncology Group performance status of ≤ 2.',\n",
              "  'Written informed consent obtained from the patient.',\n",
              "  'Histologically and cytologically documented Stage 3B-4 lung cancer (according to Version 8 of the International Association for the Study of Lung Cancer Staging system).',\n",
              "  'Patients with stage 1 to 3, who undergo radical therapy with disease free survival (DFS) >12 months.',\n",
              "  'Willingness and ability to comply with scheduled visits and other study procedures.'],\n",
              " ['20 or more pack year smoking history',\n",
              "  'clinical need for diagnostic bronchoscopy or consent to study driven bronchoscopy']]"
            ]
          },
          "metadata": {},
          "execution_count": 82
        }
      ]
    },
    {
      "cell_type": "code",
      "source": [
        "exclusion_criteria_list = df['ExclusionCriteria'].astype(str).to_list()\n",
        "exclusion_criteria_list = list(map(lambda txt : txt.split(\"|\"), exclusion_criteria_list))\n",
        "exclusion_criteria_list = [list(filter(lambda txt: txt!= '', ltexts)) for ltexts in exclusion_criteria_list]\n",
        "exclusion_criteria_list[:2]"
      ],
      "metadata": {
        "id": "ZWQVriQfCPaK",
        "outputId": "0d924daa-e389-47ea-c739-7f63451ae490",
        "colab": {
          "base_uri": "https://localhost:8080/"
        }
      },
      "execution_count": null,
      "outputs": [
        {
          "output_type": "execute_result",
          "data": {
            "text/plain": [
              "[['History of another primary malignancy except for malignancy treated with curative intent with known active disease ≥ 5 years before date of the informed consent.',\n",
              "  'Without signed informed consent.',\n",
              "  'Unwillingness or inability to comply with scheduled visits or other study procedures.',\n",
              "  'Previously diagnosed with VTE before signing informed consent.'],\n",
              " ['Lung Cancer within 3 months after the date of enrollment']]"
            ]
          },
          "metadata": {},
          "execution_count": 83
        }
      ]
    },
    {
      "cell_type": "code",
      "source": [
        "df['InclusionCriteriaList'] = inclusion_criteria_list\n",
        "df['ExclusionCriteriaList'] = exclusion_criteria_list\n",
        "\n",
        "cols = ['Rank', 'NCTId', 'OrgFullName', 'OfficialTitle', 'OverallStatus','Keyword', 'DetailedDescription', 'Condition', \n",
        "        'EligibilityCriteria','InclusionCriteria', 'ExclusionCriteria', 'InclusionCriteriaNOPipe', 'ExclusionCriteriaNOPipe', 'InclusionCriteriaList', 'ExclusionCriteriaList', \t\n",
        "        'HealthyVolunteers', 'Gender', 'MinimumAge', 'StudyPopulation',\n",
        "        'LocationFacility', 'LocationStatus', 'LocationCity', 'LocationCountry']\n",
        "\n",
        "df = df[cols] \n",
        "df.head(1)"
      ],
      "metadata": {
        "id": "97U9Qu20C8Dl",
        "outputId": "5fbb1ccc-9fdf-43eb-a5d5-287c7bae3267",
        "colab": {
          "base_uri": "https://localhost:8080/",
          "height": 197
        }
      },
      "execution_count": null,
      "outputs": [
        {
          "output_type": "execute_result",
          "data": {
            "text/html": [
              "\n",
              "  <div id=\"df-4cae7653-be64-406e-bfb7-f5aaf61632ec\">\n",
              "    <div class=\"colab-df-container\">\n",
              "      <div>\n",
              "<style scoped>\n",
              "    .dataframe tbody tr th:only-of-type {\n",
              "        vertical-align: middle;\n",
              "    }\n",
              "\n",
              "    .dataframe tbody tr th {\n",
              "        vertical-align: top;\n",
              "    }\n",
              "\n",
              "    .dataframe thead th {\n",
              "        text-align: right;\n",
              "    }\n",
              "</style>\n",
              "<table border=\"1\" class=\"dataframe\">\n",
              "  <thead>\n",
              "    <tr style=\"text-align: right;\">\n",
              "      <th></th>\n",
              "      <th>Rank</th>\n",
              "      <th>NCTId</th>\n",
              "      <th>OrgFullName</th>\n",
              "      <th>OfficialTitle</th>\n",
              "      <th>OverallStatus</th>\n",
              "      <th>Keyword</th>\n",
              "      <th>DetailedDescription</th>\n",
              "      <th>Condition</th>\n",
              "      <th>EligibilityCriteria</th>\n",
              "      <th>InclusionCriteria</th>\n",
              "      <th>ExclusionCriteria</th>\n",
              "      <th>InclusionCriteriaNOPipe</th>\n",
              "      <th>ExclusionCriteriaNOPipe</th>\n",
              "      <th>InclusionCriteriaList</th>\n",
              "      <th>ExclusionCriteriaList</th>\n",
              "      <th>HealthyVolunteers</th>\n",
              "      <th>Gender</th>\n",
              "      <th>MinimumAge</th>\n",
              "      <th>StudyPopulation</th>\n",
              "      <th>LocationFacility</th>\n",
              "      <th>LocationStatus</th>\n",
              "      <th>LocationCity</th>\n",
              "      <th>LocationCountry</th>\n",
              "    </tr>\n",
              "  </thead>\n",
              "  <tbody>\n",
              "    <tr>\n",
              "      <th>0</th>\n",
              "      <td>1</td>\n",
              "      <td>NCT03581708</td>\n",
              "      <td>Guangdong Provincial People's Hospital</td>\n",
              "      <td>Real-world Study of the Incidence and Risk Fac...</td>\n",
              "      <td>Not yet recruiting</td>\n",
              "      <td>lung cancer|Venous Thromboembolism</td>\n",
              "      <td>VTE has high incidence in lung cancer and incr...</td>\n",
              "      <td>Lung Neoplasms|Venous Thromboembolism</td>\n",
              "      <td>Inclusion Criteria:||Age ≥ 18 years at the tim...</td>\n",
              "      <td>Age ≥ 18 years at the time of screening.|Easte...</td>\n",
              "      <td>History of another primary malignancy except f...</td>\n",
              "      <td>Age ≥ 18 years at the time of screening.Easter...</td>\n",
              "      <td>History of another primary malignancy except f...</td>\n",
              "      <td>[Age ≥ 18 years at the time of screening., Eas...</td>\n",
              "      <td>[History of another primary malignancy except ...</td>\n",
              "      <td>No</td>\n",
              "      <td>All</td>\n",
              "      <td>18 Years</td>\n",
              "      <td>Patients diagnosed with advanced staged lung c...</td>\n",
              "      <td>Guangdong General Hospital</td>\n",
              "      <td>NaN</td>\n",
              "      <td>Guangzhou</td>\n",
              "      <td>China</td>\n",
              "    </tr>\n",
              "  </tbody>\n",
              "</table>\n",
              "</div>\n",
              "      <button class=\"colab-df-convert\" onclick=\"convertToInteractive('df-4cae7653-be64-406e-bfb7-f5aaf61632ec')\"\n",
              "              title=\"Convert this dataframe to an interactive table.\"\n",
              "              style=\"display:none;\">\n",
              "        \n",
              "  <svg xmlns=\"http://www.w3.org/2000/svg\" height=\"24px\"viewBox=\"0 0 24 24\"\n",
              "       width=\"24px\">\n",
              "    <path d=\"M0 0h24v24H0V0z\" fill=\"none\"/>\n",
              "    <path d=\"M18.56 5.44l.94 2.06.94-2.06 2.06-.94-2.06-.94-.94-2.06-.94 2.06-2.06.94zm-11 1L8.5 8.5l.94-2.06 2.06-.94-2.06-.94L8.5 2.5l-.94 2.06-2.06.94zm10 10l.94 2.06.94-2.06 2.06-.94-2.06-.94-.94-2.06-.94 2.06-2.06.94z\"/><path d=\"M17.41 7.96l-1.37-1.37c-.4-.4-.92-.59-1.43-.59-.52 0-1.04.2-1.43.59L10.3 9.45l-7.72 7.72c-.78.78-.78 2.05 0 2.83L4 21.41c.39.39.9.59 1.41.59.51 0 1.02-.2 1.41-.59l7.78-7.78 2.81-2.81c.8-.78.8-2.07 0-2.86zM5.41 20L4 18.59l7.72-7.72 1.47 1.35L5.41 20z\"/>\n",
              "  </svg>\n",
              "      </button>\n",
              "      \n",
              "  <style>\n",
              "    .colab-df-container {\n",
              "      display:flex;\n",
              "      flex-wrap:wrap;\n",
              "      gap: 12px;\n",
              "    }\n",
              "\n",
              "    .colab-df-convert {\n",
              "      background-color: #E8F0FE;\n",
              "      border: none;\n",
              "      border-radius: 50%;\n",
              "      cursor: pointer;\n",
              "      display: none;\n",
              "      fill: #1967D2;\n",
              "      height: 32px;\n",
              "      padding: 0 0 0 0;\n",
              "      width: 32px;\n",
              "    }\n",
              "\n",
              "    .colab-df-convert:hover {\n",
              "      background-color: #E2EBFA;\n",
              "      box-shadow: 0px 1px 2px rgba(60, 64, 67, 0.3), 0px 1px 3px 1px rgba(60, 64, 67, 0.15);\n",
              "      fill: #174EA6;\n",
              "    }\n",
              "\n",
              "    [theme=dark] .colab-df-convert {\n",
              "      background-color: #3B4455;\n",
              "      fill: #D2E3FC;\n",
              "    }\n",
              "\n",
              "    [theme=dark] .colab-df-convert:hover {\n",
              "      background-color: #434B5C;\n",
              "      box-shadow: 0px 1px 3px 1px rgba(0, 0, 0, 0.15);\n",
              "      filter: drop-shadow(0px 1px 2px rgba(0, 0, 0, 0.3));\n",
              "      fill: #FFFFFF;\n",
              "    }\n",
              "  </style>\n",
              "\n",
              "      <script>\n",
              "        const buttonEl =\n",
              "          document.querySelector('#df-4cae7653-be64-406e-bfb7-f5aaf61632ec button.colab-df-convert');\n",
              "        buttonEl.style.display =\n",
              "          google.colab.kernel.accessAllowed ? 'block' : 'none';\n",
              "\n",
              "        async function convertToInteractive(key) {\n",
              "          const element = document.querySelector('#df-4cae7653-be64-406e-bfb7-f5aaf61632ec');\n",
              "          const dataTable =\n",
              "            await google.colab.kernel.invokeFunction('convertToInteractive',\n",
              "                                                     [key], {});\n",
              "          if (!dataTable) return;\n",
              "\n",
              "          const docLinkHtml = 'Like what you see? Visit the ' +\n",
              "            '<a target=\"_blank\" href=https://colab.research.google.com/notebooks/data_table.ipynb>data table notebook</a>'\n",
              "            + ' to learn more about interactive tables.';\n",
              "          element.innerHTML = '';\n",
              "          dataTable['output_type'] = 'display_data';\n",
              "          await google.colab.output.renderOutput(dataTable, element);\n",
              "          const docLink = document.createElement('div');\n",
              "          docLink.innerHTML = docLinkHtml;\n",
              "          element.appendChild(docLink);\n",
              "        }\n",
              "      </script>\n",
              "    </div>\n",
              "  </div>\n",
              "  "
            ],
            "text/plain": [
              "   Rank        NCTId  ... LocationCity LocationCountry\n",
              "0     1  NCT03581708  ...    Guangzhou           China\n",
              "\n",
              "[1 rows x 23 columns]"
            ]
          },
          "metadata": {},
          "execution_count": 85
        }
      ]
    },
    {
      "cell_type": "markdown",
      "source": [
        "### Normalizing Eligibility Criterias"
      ],
      "metadata": {
        "id": "cCTBRGIzEeS0"
      }
    },
    {
      "cell_type": "code",
      "source": [
        "# Before normalizing texts, we need to normalize conditionned terms\n",
        "\n",
        "texts = ['Untreated (includes new lesions or progression in previously treated lesions) \\\n",
        "          or symptomatic brain metastases and leptomeningeal disease',\n",
        "         'previously untreated (Cohort 5 LOT1 NSCLC)',]\n",
        "texts = [text.lower() for text in texts]\n",
        "\n",
        "displayed = 'Newly Diagnosed'\n",
        "synonym   = 'untreated'\n",
        "\n",
        "def normalizer_exceptions(texts, displayed, synonym):\n",
        "  normalized_texts = []\n",
        "  for text in texts:\n",
        "    if text.find('brain metastases')<0:\n",
        "      normalized_texts.append(text.replace(synonym, displayed))\n",
        "    else: \n",
        "      normalized_texts.append(text)\n",
        "  return normalized_texts \n",
        "\n",
        "print(normalizer_exceptions(texts, displayed, synonym))"
      ],
      "metadata": {
        "id": "xT_KECmmhPlx",
        "outputId": "bc507e8b-af76-44ae-8ea4-21987571a86d",
        "colab": {
          "base_uri": "https://localhost:8080/"
        }
      },
      "execution_count": null,
      "outputs": [
        {
          "output_type": "stream",
          "name": "stdout",
          "text": [
            "['untreated (includes new lesions or progression in previously treated lesions)           or symptomatic brain metastases and leptomeningeal disease', 'previously Newly Diagnosed (cohort 5 lot1 nsclc)']\n"
          ]
        }
      ]
    },
    {
      "cell_type": "code",
      "source": [
        "# normalize a list of texts with one displayed term that has several synonyms\n",
        "def normalizer(texts, displayed, synonyms):\n",
        "  normalized_texts = []\n",
        "  for text in texts:\n",
        "    for regex in synonyms:\n",
        "      text = re.sub(regex, displayed, text)\n",
        "    normalized_texts.append(text)\n",
        "  return normalized_texts"
      ],
      "metadata": {
        "id": "PpcK49PRVbns"
      },
      "execution_count": null,
      "outputs": []
    },
    {
      "cell_type": "code",
      "source": [
        "# The dictionnary does not have all the variation of the possible synonyms\n",
        "\n",
        "texts     = [### Stage\n",
        "             'Has Limited Stage SCLC (Stage I-III, by AJCC 8th Edition Cancer Staging).',\n",
        "             'Anti-cancer Agents in Patients With Advanced Solid Malignancies (PETRA)',\n",
        "             ### Previous Treatment\n",
        "             'Olaparib in Newly Diagnosed Treatment naïve Limited-Stage',\n",
        "             'RR SCLC who progressed or recurred following platinum-based regimen',\n",
        "             ### Performance Status\n",
        "             'Has Eastern Cooperative Oncology Group (ECOG) Performance score 0 or 1',\n",
        "             'ECOG PS - 0/1-2',\n",
        "              ### Diagnosis\n",
        "             'Has pathologically (histologically or cytologically) confirmed Small Cell Lung Cancer (SCLC).',\n",
        "             'Subject with histological or cytological confirmation of extensive stage Small Cell Lung Cancer \\\n",
        "             (ES SCLC) or Stage IIIb or IV squamous Non-Small Cell Lung Cancer (sqNSCLC)',\n",
        "             ]\n",
        "\n",
        "displayed = [### Stage\n",
        "             'Localised', \n",
        "             'Locally Advanced', \n",
        "             'Metastatic',\n",
        "             ### Previous Treatment\n",
        "             'Newly Diagnosed',\n",
        "             'Prior Therapy',\n",
        "             ### Performance Status\n",
        "             'ECOG 0 or KPS 100',\n",
        "             'ECOG 1 or KPS 80-90',\n",
        "             'ECOG 2 or KPS 60-70',\n",
        "             'ECOG 3 or KPS 40-50',\n",
        "             'ECOG 4 or KPS 10-30',\n",
        "             ### Diagnosis\n",
        "             'Histologically',\n",
        "             ]\n",
        "\n",
        "synonyms  = [### Stage\n",
        "             [r'limited\\sstage', r'ls\\s', r'stage\\si-iii', r'no\\smetastatic\\sdisease', r'stage\\si', r'stage\\sii', r'stage\\siii'], \n",
        "             [r'stage\\sii'],\n",
        "             [r'advanced', r'secondary', r'stage\\siv', r'extensive-stage', r'extensive\\sstage', \n",
        "              r'\\ses\\s', r'no\\sevidence\\sof\\smetastatic\\sdisease', r'extensive\\sdisease'],\n",
        "             ### Previous Treatment\n",
        "             [r'de\\snovo', r'treatment\\snaïve', r'no\\sprior\\streatment', r'not\\spreviously\\streated', \n",
        "              r'previously\\suntreated', r'Not\\sreceived\\sprior\\streatment', \tr'first-line',\tr'first\\sline'],\n",
        "             [r'relapse',\tr'recurrent',\tr'progressed',\tr'recurred', r'rr\\s', r'refractory',\tr'previoustly\\streated',\tr'after\\sprior',\tr'treated\\swith\\sprior',\t\n",
        "              r'prior\\stherapy', r'prior\\ssystemic\\stherapy', r'received\\stherapy',\tr'progressive',\tr'progression',\tr'previously\\sreceived',\tr'treated\\swith', \t\n",
        "              r'received\\streatment',\tr'prior\\streatment', \tr'prior\\sline',\tr'have\\sreceived',\tr'progression',\tr'has\\sreceived'],\n",
        "             ### Performance Status\n",
        "             [r'eastern\\scooperative\\soncology\\sgroup', r'ecog\\s0', r'kps\\s100',   r'0\\sor\\s1', r'0\\sto\\s1', r'0-2', r'0/1-2', r'≤\\s1'],\n",
        "             [r'eastern\\scooperative\\soncology\\sgroup', r'ecog\\s1', r'kps\\s80-90', r'0\\sor\\s1', r'0\\sto\\s1', r'0-2', r'0/1-2', r'≤\\s1'],\n",
        "             [r'eastern\\scooperative\\soncology\\sgroup', r'ecog\\s2', r'kps\\s60-70',                           r'0-2', r'0/1-2'],\n",
        "             [r'eastern\\scooperative\\soncology\\sgroup', r'ecog\\s3', r'kps\\s40-50'],\n",
        "             [r'eastern\\scooperative\\soncology\\sgroup', r'ecog\\s4', r'kps\\s10-30'],\n",
        "             ### Diagnosis\n",
        "             [r'pathologically',\tr'cytologically', \tr'histologic',\tr'histological',\tr'cytological'],\n",
        "             ]\n"
      ],
      "metadata": {
        "id": "8Q9o6RGgYtiB"
      },
      "execution_count": null,
      "outputs": []
    },
    {
      "cell_type": "code",
      "source": [
        "# normalize a list of texts with several displayed terms that each have several synonyms\n",
        "\n",
        "def normalization(texts, displayed, synonyms):\n",
        "  normalized_texts = texts\n",
        "  for idx, dis_syn in enumerate(list(zip(displayed, synonyms))):\n",
        "    normalized_texts = normalizer(normalized_texts, dis_syn[0], dis_syn[1])\n",
        "  return normalized_texts\n",
        "\n",
        "texts = [text.lower() for text in texts]\n",
        "normalized_texts = normalization(texts, displayed, synonyms)\n",
        "normalized_texts"
      ],
      "metadata": {
        "id": "SMyd1FUrLpxV",
        "outputId": "315371d7-afe3-4b87-df6c-602cb384316e",
        "colab": {
          "base_uri": "https://localhost:8080/"
        }
      },
      "execution_count": null,
      "outputs": [
        {
          "output_type": "execute_result",
          "data": {
            "text/plain": [
              "['has Localised sclc (Localised, by ajcc 8th edition cancer staging).',\n",
              " 'anti-cancer agents in patients with Metastatic solid malignancies (petra)',\n",
              " 'olaparib in newly diagnosed Newly Diagnosed limited-stage',\n",
              " 'Prior Therapysclc who Prior Therapy or Prior Therapy following platinum-based regimen',\n",
              " 'has ECOG 0 or KPS 100 (ecog) performance score ECOG 0 or KPS 100',\n",
              " 'ecog ps - ECOG 0 or KPS 100',\n",
              " 'has Histologically (Histologicallyally or Histologically) confirmed small cell lung cancer (sclc).',\n",
              " 'subject with Histologicallyal or Histologically confirmation of Metastatic small cell lung cancer              (es sclc) or Localisediib or iv squamous non-small cell lung cancer (sqnsclc)']"
            ]
          },
          "metadata": {},
          "execution_count": 91
        }
      ]
    },
    {
      "cell_type": "markdown",
      "source": [
        "### Data Overview"
      ],
      "metadata": {
        "id": "yPOtSQdapjNb"
      }
    },
    {
      "cell_type": "code",
      "source": [
        "print('Number of unique values:',         df['Gender'].nunique())\n",
        "print('\\nGender list of unique values\\n', df['Gender'].unique())"
      ],
      "metadata": {
        "colab": {
          "base_uri": "https://localhost:8080/"
        },
        "id": "dnzc60oPon6M",
        "outputId": "497db8e3-e9fc-481c-efbf-1d23a6e12b4a"
      },
      "execution_count": null,
      "outputs": [
        {
          "output_type": "stream",
          "name": "stdout",
          "text": [
            "Number of unique values: 3\n",
            "\n",
            "Gender list of unique values\n",
            " ['All' nan 'Female' 'Male']\n"
          ]
        }
      ]
    },
    {
      "cell_type": "code",
      "source": [
        "print('Number of unique values:',      df['MinimumAge'].nunique())\n",
        "print('\\nAge list of unique values\\n', df['MinimumAge'].unique())"
      ],
      "metadata": {
        "colab": {
          "base_uri": "https://localhost:8080/"
        },
        "id": "hPubOrs5plzO",
        "outputId": "5b6a52bb-5cae-4ece-a554-af9ae8bc27e0"
      },
      "execution_count": null,
      "outputs": [
        {
          "output_type": "stream",
          "name": "stdout",
          "text": [
            "Number of unique values: 50\n",
            "\n",
            "Age list of unique values\n",
            " ['18 Years' '50 Years' '40 Years' nan '55 Years' '5 Years' '45 Years'\n",
            " '65 Years' '21 Years' '25 Years' '19 Years' '20 Years' '56 Years'\n",
            " '49 Years' '35 Years' '15 Years' '16 Years' '30 Years' '60 Years'\n",
            " '46 Years' '70 Years' '2 Years' '26 Years' '75 Years' '22 Years'\n",
            " '17 Years' '76 Years' '47 Years' '18 Months' '71 Years' '23 Years'\n",
            " '80 Years' '10 Years' '38 Years' '8 Months' '3 Years' '28 Years'\n",
            " '13 Years' '3 Months' '27 Years' '12 Years' '1 Year' '6 Years' '14 Years'\n",
            " '41 Years' '6 Months' '51 Years' '1 Month' '4 Years' '12 Months'\n",
            " '39 Years']\n"
          ]
        }
      ]
    },
    {
      "cell_type": "code",
      "source": [
        "print('Number of unique values:',                df['OverallStatus'].nunique())\n",
        "print('\\nOverallStatus list of unique values\\n', df['OverallStatus'].unique())"
      ],
      "metadata": {
        "colab": {
          "base_uri": "https://localhost:8080/"
        },
        "id": "v77HRGzHpn5R",
        "outputId": "95ff7869-c659-4060-d401-e10bcd942d84"
      },
      "execution_count": null,
      "outputs": [
        {
          "output_type": "stream",
          "name": "stdout",
          "text": [
            "Number of unique values: 13\n",
            "\n",
            "OverallStatus list of unique values\n",
            " ['Not yet recruiting' 'Active, not recruiting' 'Recruiting' 'Completed'\n",
            " 'Unknown status' 'Terminated' 'Withdrawn' 'Enrolling by invitation'\n",
            " 'Suspended' 'Available' 'Approved for marketing' 'No longer available'\n",
            " 'Temporarily not available']\n"
          ]
        }
      ]
    },
    {
      "cell_type": "code",
      "source": [
        "print('Number of unique values:',                df['LocationStatus'].nunique())\n",
        "print('\\nOverallStatus list of unique values\\n', df['LocationStatus'].unique())"
      ],
      "metadata": {
        "id": "HlX7U6Rbpw-9"
      },
      "execution_count": null,
      "outputs": []
    },
    {
      "cell_type": "code",
      "source": [
        "print('Number of unique values:',            df['Condition'].nunique())\n",
        "print('\\nCondition list of unique values\\n', df['Condition'].unique())"
      ],
      "metadata": {
        "colab": {
          "base_uri": "https://localhost:8080/"
        },
        "id": "fgsLIyZXp_SA",
        "outputId": "09342299-c7e3-4d2c-99a8-34ea21ab04a2"
      },
      "execution_count": null,
      "outputs": [
        {
          "output_type": "stream",
          "name": "stdout",
          "text": [
            "Number of unique values: 4641\n",
            "\n",
            "Condition list of unique values\n",
            " ['Lung Neoplasms|Venous Thromboembolism' 'Lung Cancer'\n",
            " 'Lung Neoplasms|Computed Tomography|Mass Screening|Lung Nodules' ...\n",
            " 'Esophageal Squamous Cell Carcinoma|Neoadjuvant Therapy|Surgery'\n",
            " 'B-cell Leukemia' 'Hematologic Neoplasms']\n"
          ]
        }
      ]
    },
    {
      "cell_type": "code",
      "source": [
        "print('Number of unique values:',                    df['HealthyVolunteers'].nunique())\n",
        "print('\\nHealthyVolunteers list of unique values\\n', df['HealthyVolunteers'].unique())"
      ],
      "metadata": {
        "colab": {
          "base_uri": "https://localhost:8080/"
        },
        "id": "lNOhexAhqKqO",
        "outputId": "a1e7ce2a-4a44-4b9d-cb12-c3f06ae6f080"
      },
      "execution_count": null,
      "outputs": [
        {
          "output_type": "stream",
          "name": "stdout",
          "text": [
            "Number of unique values: 2\n",
            "\n",
            "HealthyVolunteers list of unique values\n",
            " ['No' 'Accepts Healthy Volunteers' nan]\n"
          ]
        }
      ]
    },
    {
      "cell_type": "code",
      "source": [
        "print('Number of unique values:',                  df['StudyPopulation'].nunique())\n",
        "print('\\nStudyPopulation list of unique values\\n', df['StudyPopulation'].unique())"
      ],
      "metadata": {
        "colab": {
          "base_uri": "https://localhost:8080/"
        },
        "id": "S4DrhM1UqQdK",
        "outputId": "6040b245-877e-41b2-e366-0bfea255f9ad"
      },
      "execution_count": null,
      "outputs": [
        {
          "output_type": "stream",
          "name": "stdout",
          "text": [
            "Number of unique values: 1901\n",
            "\n",
            "StudyPopulation list of unique values\n",
            " ['Patients diagnosed with advanced staged lung cancer with written informed consent.'\n",
            " 'The study population will consist of subjects aged 50 to 90 and with 20 or more pack year smoking history, who are determined not to have lung cancer at the time of enrollment or within three months after the date of enrollment, and either a) volunteer for the study driven bronchoscopy, or b) have standard of care clinical need for diagnostic bronchoscopy (e.g. they may present with respiratory symptoms or abnormal test results consistent with the need for bronchoscopy).'\n",
            " nan ...\n",
            " 'From February 2008 to December 2009 all patients admitted to The Department of Surgical Gastroenterology with upper GI cancer or pancreatic cancer will be included.||Depending on the disease nature and progression, the patients will be followed as palliation or surgery cohorts.'\n",
            " 'Patients with esophageal squamous cell carcinoma who accept esophagectomy alone or neoadjuvant chemoradiotherapy treatment followed by surgery are acceptable.'\n",
            " 'All patients from Hospices Civils de Lyon, Lyon, France with blood cancer undergoing a hematopoietic stem cell transplantation between January 2013 and July 2016']\n"
          ]
        }
      ]
    },
    {
      "cell_type": "code",
      "source": [
        "print('Number of unique values in InclusionCriteria:',                  df['InclusionCriteria'].nunique())\n",
        "print('Number of unique values: in ExclusionCriteria',                  df['ExclusionCriteria'].nunique())"
      ],
      "metadata": {
        "colab": {
          "base_uri": "https://localhost:8080/"
        },
        "id": "HkCDwaBxqa8g",
        "outputId": "090dd36b-f9d2-4297-c52d-511f9340998d"
      },
      "execution_count": null,
      "outputs": [
        {
          "output_type": "stream",
          "name": "stdout",
          "text": [
            "Number of unique values in InclusionCriteria: 10177\n",
            "Number of unique values: in ExclusionCriteria 9973\n"
          ]
        }
      ]
    }
  ]
}