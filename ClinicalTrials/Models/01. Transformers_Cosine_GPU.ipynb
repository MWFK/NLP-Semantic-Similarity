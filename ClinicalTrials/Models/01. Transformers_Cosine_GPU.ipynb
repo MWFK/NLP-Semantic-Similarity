{
  "nbformat": 4,
  "nbformat_minor": 0,
  "metadata": {
    "colab": {
      "name": "01. Transformers Cosine.ipynb",
      "provenance": [],
      "authorship_tag": "ABX9TyPP41nfixYkB6vAjUDyPsDz",
      "include_colab_link": true
    },
    "kernelspec": {
      "name": "python3",
      "display_name": "Python 3"
    },
    "language_info": {
      "name": "python"
    },
    "accelerator": "GPU"
  },
  "cells": [
    {
      "cell_type": "markdown",
      "metadata": {
        "id": "view-in-github",
        "colab_type": "text"
      },
      "source": [
        "<a href=\"https://colab.research.google.com/github/MWFK/NLP-Semantic-Similarity/blob/main/ClinicalTrials/Models/01.%20Transformers_Cosine_GPU.ipynb\" target=\"_parent\"><img src=\"https://colab.research.google.com/assets/colab-badge.svg\" alt=\"Open In Colab\"/></a>"
      ]
    },
    {
      "cell_type": "markdown",
      "source": [
        "### Objectives\n",
        "\n",
        "model = SentenceTransformer('stsb-roberta-large')\n",
        "\n",
        "For other models\n",
        "\n",
        "https://docs.google.com/spreadsheets/d/14QplCdTCDwEmTqrn1LH4yrbKvdogK4oQvYO1K1aPR5M/edit#gid=0\n",
        "\n",
        "We can choose other metrics too\n",
        "\n",
        "util.pytorch_cos_sim(embedding1, embedding2)\n",
        "\n",
        "\n",
        "The main library that we are going to use to compute semantic similarity is SentenceTransformers (Github source link), a simple library that provides an easy method to calculate dense vector representations (e.g. embeddings) for texts. It contains many state-of-the-art pretrained models that are fine-tuned for various applications. One of the primary tasks that it supports is Semantic Textual Similarity, which is the one we will focus on in this post.\n",
        "\n",
        "To install SentenceTransformers, you will have to install the dependencies Pytorch and Transformers first.\n",
        "\n",
        "After defining our model, we can now compute the similarity score of two sentences. As discussed in the introduction, the approach is to use the model to encode the two sentences, and then calculating the cosine similarity of the resulting two embeddings. The final result will be the semantic similarity score.\n",
        "\n",
        "In general, we can use different formulas to calculate the final similarity score (e.g. dot product, Jaccard, etc.), but in this case, we are using cosine similarity due to its properties. The more important factor is the embeddings, which is produced by the model, so it is important to use a decent encoding model."
      ],
      "metadata": {
        "id": "k4EK6LUQMLkc"
      }
    },
    {
      "cell_type": "markdown",
      "source": [
        "### Libs"
      ],
      "metadata": {
        "id": "jVHhSVA3PAZR"
      }
    },
    {
      "cell_type": "code",
      "source": [
        "!pip install sentence-transformers"
      ],
      "metadata": {
        "id": "KK3n_YldJwsN",
        "colab": {
          "base_uri": "https://localhost:8080/"
        },
        "outputId": "5c5fb358-b409-4b04-eb65-5bc4c8e80fd8"
      },
      "execution_count": 1,
      "outputs": [
        {
          "output_type": "stream",
          "name": "stdout",
          "text": [
            "Requirement already satisfied: sentence-transformers in /usr/local/lib/python3.7/dist-packages (2.1.0)\n",
            "Requirement already satisfied: tokenizers>=0.10.3 in /usr/local/lib/python3.7/dist-packages (from sentence-transformers) (0.10.3)\n",
            "Requirement already satisfied: nltk in /usr/local/lib/python3.7/dist-packages (from sentence-transformers) (3.2.5)\n",
            "Requirement already satisfied: transformers<5.0.0,>=4.6.0 in /usr/local/lib/python3.7/dist-packages (from sentence-transformers) (4.15.0)\n",
            "Requirement already satisfied: numpy in /usr/local/lib/python3.7/dist-packages (from sentence-transformers) (1.19.5)\n",
            "Requirement already satisfied: scipy in /usr/local/lib/python3.7/dist-packages (from sentence-transformers) (1.4.1)\n",
            "Requirement already satisfied: huggingface-hub in /usr/local/lib/python3.7/dist-packages (from sentence-transformers) (0.2.1)\n",
            "Requirement already satisfied: scikit-learn in /usr/local/lib/python3.7/dist-packages (from sentence-transformers) (1.0.1)\n",
            "Requirement already satisfied: tqdm in /usr/local/lib/python3.7/dist-packages (from sentence-transformers) (4.62.3)\n",
            "Requirement already satisfied: sentencepiece in /usr/local/lib/python3.7/dist-packages (from sentence-transformers) (0.1.96)\n",
            "Requirement already satisfied: torch>=1.6.0 in /usr/local/lib/python3.7/dist-packages (from sentence-transformers) (1.10.0+cu111)\n",
            "Requirement already satisfied: torchvision in /usr/local/lib/python3.7/dist-packages (from sentence-transformers) (0.11.1+cu111)\n",
            "Requirement already satisfied: typing-extensions in /usr/local/lib/python3.7/dist-packages (from torch>=1.6.0->sentence-transformers) (3.10.0.2)\n",
            "Requirement already satisfied: importlib-metadata in /usr/local/lib/python3.7/dist-packages (from transformers<5.0.0,>=4.6.0->sentence-transformers) (4.8.2)\n",
            "Requirement already satisfied: filelock in /usr/local/lib/python3.7/dist-packages (from transformers<5.0.0,>=4.6.0->sentence-transformers) (3.4.0)\n",
            "Requirement already satisfied: regex!=2019.12.17 in /usr/local/lib/python3.7/dist-packages (from transformers<5.0.0,>=4.6.0->sentence-transformers) (2019.12.20)\n",
            "Requirement already satisfied: packaging>=20.0 in /usr/local/lib/python3.7/dist-packages (from transformers<5.0.0,>=4.6.0->sentence-transformers) (21.3)\n",
            "Requirement already satisfied: sacremoses in /usr/local/lib/python3.7/dist-packages (from transformers<5.0.0,>=4.6.0->sentence-transformers) (0.0.46)\n",
            "Requirement already satisfied: pyyaml>=5.1 in /usr/local/lib/python3.7/dist-packages (from transformers<5.0.0,>=4.6.0->sentence-transformers) (6.0)\n",
            "Requirement already satisfied: requests in /usr/local/lib/python3.7/dist-packages (from transformers<5.0.0,>=4.6.0->sentence-transformers) (2.23.0)\n",
            "Requirement already satisfied: pyparsing!=3.0.5,>=2.0.2 in /usr/local/lib/python3.7/dist-packages (from packaging>=20.0->transformers<5.0.0,>=4.6.0->sentence-transformers) (3.0.6)\n",
            "Requirement already satisfied: zipp>=0.5 in /usr/local/lib/python3.7/dist-packages (from importlib-metadata->transformers<5.0.0,>=4.6.0->sentence-transformers) (3.6.0)\n",
            "Requirement already satisfied: six in /usr/local/lib/python3.7/dist-packages (from nltk->sentence-transformers) (1.15.0)\n",
            "Requirement already satisfied: chardet<4,>=3.0.2 in /usr/local/lib/python3.7/dist-packages (from requests->transformers<5.0.0,>=4.6.0->sentence-transformers) (3.0.4)\n",
            "Requirement already satisfied: idna<3,>=2.5 in /usr/local/lib/python3.7/dist-packages (from requests->transformers<5.0.0,>=4.6.0->sentence-transformers) (2.10)\n",
            "Requirement already satisfied: urllib3!=1.25.0,!=1.25.1,<1.26,>=1.21.1 in /usr/local/lib/python3.7/dist-packages (from requests->transformers<5.0.0,>=4.6.0->sentence-transformers) (1.24.3)\n",
            "Requirement already satisfied: certifi>=2017.4.17 in /usr/local/lib/python3.7/dist-packages (from requests->transformers<5.0.0,>=4.6.0->sentence-transformers) (2021.10.8)\n",
            "Requirement already satisfied: joblib in /usr/local/lib/python3.7/dist-packages (from sacremoses->transformers<5.0.0,>=4.6.0->sentence-transformers) (1.1.0)\n",
            "Requirement already satisfied: click in /usr/local/lib/python3.7/dist-packages (from sacremoses->transformers<5.0.0,>=4.6.0->sentence-transformers) (7.1.2)\n",
            "Requirement already satisfied: threadpoolctl>=2.0.0 in /usr/local/lib/python3.7/dist-packages (from scikit-learn->sentence-transformers) (3.0.0)\n",
            "Requirement already satisfied: pillow!=8.3.0,>=5.3.0 in /usr/local/lib/python3.7/dist-packages (from torchvision->sentence-transformers) (7.1.2)\n"
          ]
        }
      ]
    },
    {
      "cell_type": "code",
      "source": [
        "!pip install transformers"
      ],
      "metadata": {
        "id": "m2ywbXz5J80z",
        "colab": {
          "base_uri": "https://localhost:8080/"
        },
        "outputId": "f1c830fd-a8de-4497-cf7c-d0030315d5c1"
      },
      "execution_count": 2,
      "outputs": [
        {
          "output_type": "stream",
          "name": "stdout",
          "text": [
            "Requirement already satisfied: transformers in /usr/local/lib/python3.7/dist-packages (4.15.0)\n",
            "Requirement already satisfied: huggingface-hub<1.0,>=0.1.0 in /usr/local/lib/python3.7/dist-packages (from transformers) (0.2.1)\n",
            "Requirement already satisfied: pyyaml>=5.1 in /usr/local/lib/python3.7/dist-packages (from transformers) (6.0)\n",
            "Requirement already satisfied: packaging>=20.0 in /usr/local/lib/python3.7/dist-packages (from transformers) (21.3)\n",
            "Requirement already satisfied: numpy>=1.17 in /usr/local/lib/python3.7/dist-packages (from transformers) (1.19.5)\n",
            "Requirement already satisfied: regex!=2019.12.17 in /usr/local/lib/python3.7/dist-packages (from transformers) (2019.12.20)\n",
            "Requirement already satisfied: importlib-metadata in /usr/local/lib/python3.7/dist-packages (from transformers) (4.8.2)\n",
            "Requirement already satisfied: tokenizers<0.11,>=0.10.1 in /usr/local/lib/python3.7/dist-packages (from transformers) (0.10.3)\n",
            "Requirement already satisfied: tqdm>=4.27 in /usr/local/lib/python3.7/dist-packages (from transformers) (4.62.3)\n",
            "Requirement already satisfied: sacremoses in /usr/local/lib/python3.7/dist-packages (from transformers) (0.0.46)\n",
            "Requirement already satisfied: requests in /usr/local/lib/python3.7/dist-packages (from transformers) (2.23.0)\n",
            "Requirement already satisfied: filelock in /usr/local/lib/python3.7/dist-packages (from transformers) (3.4.0)\n",
            "Requirement already satisfied: typing-extensions>=3.7.4.3 in /usr/local/lib/python3.7/dist-packages (from huggingface-hub<1.0,>=0.1.0->transformers) (3.10.0.2)\n",
            "Requirement already satisfied: pyparsing!=3.0.5,>=2.0.2 in /usr/local/lib/python3.7/dist-packages (from packaging>=20.0->transformers) (3.0.6)\n",
            "Requirement already satisfied: zipp>=0.5 in /usr/local/lib/python3.7/dist-packages (from importlib-metadata->transformers) (3.6.0)\n",
            "Requirement already satisfied: chardet<4,>=3.0.2 in /usr/local/lib/python3.7/dist-packages (from requests->transformers) (3.0.4)\n",
            "Requirement already satisfied: urllib3!=1.25.0,!=1.25.1,<1.26,>=1.21.1 in /usr/local/lib/python3.7/dist-packages (from requests->transformers) (1.24.3)\n",
            "Requirement already satisfied: idna<3,>=2.5 in /usr/local/lib/python3.7/dist-packages (from requests->transformers) (2.10)\n",
            "Requirement already satisfied: certifi>=2017.4.17 in /usr/local/lib/python3.7/dist-packages (from requests->transformers) (2021.10.8)\n",
            "Requirement already satisfied: click in /usr/local/lib/python3.7/dist-packages (from sacremoses->transformers) (7.1.2)\n",
            "Requirement already satisfied: six in /usr/local/lib/python3.7/dist-packages (from sacremoses->transformers) (1.15.0)\n",
            "Requirement already satisfied: joblib in /usr/local/lib/python3.7/dist-packages (from sacremoses->transformers) (1.1.0)\n"
          ]
        }
      ]
    },
    {
      "cell_type": "code",
      "source": [
        "!pip install torch"
      ],
      "metadata": {
        "id": "m9SPIV--KL99",
        "outputId": "ae095e65-725d-4858-b42f-0324155ef47d",
        "colab": {
          "base_uri": "https://localhost:8080/"
        }
      },
      "execution_count": 3,
      "outputs": [
        {
          "output_type": "stream",
          "name": "stdout",
          "text": [
            "Requirement already satisfied: torch in /usr/local/lib/python3.7/dist-packages (1.10.0+cu111)\n",
            "Requirement already satisfied: typing-extensions in /usr/local/lib/python3.7/dist-packages (from torch) (3.10.0.2)\n"
          ]
        }
      ]
    },
    {
      "cell_type": "code",
      "source": [
        "import numpy as np\n",
        "import pandas as pd\n",
        "import torch\n",
        "from sentence_transformers import SentenceTransformer, util \n",
        "\n",
        "import nltk\n",
        "nltk.download('punkt')\n",
        "nltk.download('wordnet')\n",
        "nltk.download('stopwords')"
      ],
      "metadata": {
        "id": "XytdoHN6J4jf",
        "colab": {
          "base_uri": "https://localhost:8080/"
        },
        "outputId": "30e13903-8390-44f5-f6cd-554bba7c456c"
      },
      "execution_count": 4,
      "outputs": [
        {
          "output_type": "stream",
          "name": "stdout",
          "text": [
            "[nltk_data] Downloading package punkt to /root/nltk_data...\n",
            "[nltk_data]   Package punkt is already up-to-date!\n",
            "[nltk_data] Downloading package wordnet to /root/nltk_data...\n",
            "[nltk_data]   Package wordnet is already up-to-date!\n",
            "[nltk_data] Downloading package stopwords to /root/nltk_data...\n",
            "[nltk_data]   Package stopwords is already up-to-date!\n"
          ]
        },
        {
          "output_type": "execute_result",
          "data": {
            "text/plain": [
              "True"
            ]
          },
          "metadata": {},
          "execution_count": 4
        }
      ]
    },
    {
      "cell_type": "markdown",
      "source": [
        "### Download Transformer"
      ],
      "metadata": {
        "id": "T4O6FcF5PCoR"
      }
    },
    {
      "cell_type": "code",
      "source": [
        "model = SentenceTransformer('stsb-roberta-large')"
      ],
      "metadata": {
        "id": "93C0qgyQKPT3"
      },
      "execution_count": 5,
      "outputs": []
    },
    {
      "cell_type": "markdown",
      "source": [
        "# Clinical Trials Use case"
      ],
      "metadata": {
        "id": "uAC92UXju4-r"
      }
    },
    {
      "cell_type": "markdown",
      "source": [
        "### Data"
      ],
      "metadata": {
        "id": "Zz2J6086vSvQ"
      }
    },
    {
      "cell_type": "code",
      "source": [
        "def get_data():\n",
        "\n",
        "  # Download Clinical Trials data\n",
        "  print('Downloading Clinical Trials Data')\n",
        "  ct_dt = pd.read_csv(r'https://raw.githubusercontent.com/MWFK/NLP-Semantic-Similarity/main/ClinicalTrials/Data/Batches_0.csv', sep=',', engine='python', encoding=\"utf-8\")\n",
        "  for btch in range(1, 4):\n",
        "      url = 'https://raw.githubusercontent.com/MWFK/NLP-Semantic-Similarity/main/ClinicalTrials/Data/Batches_' +str(btch)+ '.csv'\n",
        "      tmp = pd.read_csv(url, sep=',', engine='python', encoding=\"ISO-8859-1\")\n",
        "      ct_dt = ct_dt.append(tmp, ignore_index=True)\n",
        "  ct_dt['AllLocation'] = ct_dt['LocationCity'].str.lower().map(str) + ' | ' + ct_dt['LocationState'].str.lower().map(str) + ' | ' + ct_dt['LocationCountry'].str.lower().map(str)\n",
        "  print('Clinical Trials Data: ',ct_dt.shape, '\\n')\n",
        "\n",
        "  # Download User input data\n",
        "  print('Downloading Test data')\n",
        "  test = pd.read_csv('https://raw.githubusercontent.com/MWFK/NLP-Semantic-Similarity/main/ClinicalTrials/Data/TestData.csv', sep=';', engine='python', encoding = \"utf-8\", skiprows=[0], names=['PatientID','ConditionOrDisease','Age','Gender','LocationCountry','TravelDistance','InclusionCriteria'])\n",
        "  print('Test Data: ', test.shape)\n",
        "\n",
        "  return ct_dt, test\n",
        "\n",
        "ctdt, test = get_data()"
      ],
      "metadata": {
        "id": "DP7xA1FWd40A",
        "outputId": "5e0edf1c-86ec-4415-850c-6b29c38471ac",
        "colab": {
          "base_uri": "https://localhost:8080/"
        }
      },
      "execution_count": 6,
      "outputs": [
        {
          "output_type": "stream",
          "name": "stdout",
          "text": [
            "Downloading Clinical Trials Data\n",
            "Clinical Trials Data:  (10152, 21) \n",
            "\n",
            "Downloading Test data\n",
            "Test Data:  (7, 7)\n"
          ]
        }
      ]
    },
    {
      "cell_type": "markdown",
      "source": [
        "### Data Processing"
      ],
      "metadata": {
        "id": "8j--bcjZwP15"
      }
    },
    {
      "cell_type": "code",
      "source": [
        "# Strip Leading and Trailing Space\n",
        "def cleansing(data):\n",
        "  cols = data.select_dtypes(['object']).columns\n",
        "  data[cols] = data[cols].apply(lambda x: x.str.strip().fillna(''))\n",
        "  return data"
      ],
      "metadata": {
        "id": "gHkpvg30160B"
      },
      "execution_count": 7,
      "outputs": []
    },
    {
      "cell_type": "code",
      "source": [
        "ctdt, test = get_data()\n",
        "ctdt = cleansing(ctdt)\n",
        "test = cleansing(test)\n",
        "\n",
        "test['InclusionCriteria'] = test['InclusionCriteria'].fillna('').astype(str)\n",
        "ctdt['InclusionCriteria'] = ctdt['InclusionCriteria'].fillna('').astype(str)"
      ],
      "metadata": {
        "colab": {
          "base_uri": "https://localhost:8080/"
        },
        "id": "CeI7g8K5vuDM",
        "outputId": "38113652-8eb1-4ca4-d810-352740d1bec2"
      },
      "execution_count": 8,
      "outputs": [
        {
          "output_type": "stream",
          "name": "stdout",
          "text": [
            "Downloading Clinical Trials Data\n",
            "Clinical Trials Data:  (10152, 21) \n",
            "\n",
            "Downloading Test data\n",
            "Test Data:  (7, 7)\n"
          ]
        }
      ]
    },
    {
      "cell_type": "code",
      "source": [
        "def embedding(ctdt, test):\n",
        "    \n",
        "    print('Embedding the test set...')\n",
        "    embedding1 = model.encode(test['InclusionCriteria'].astype(str).tolist(), convert_to_tensor=True)\n",
        "    test['InclusionCriteriaEmbedded'] = embedding1.tolist()\n",
        "\n",
        "    print('Embedding the ctdt set...')\n",
        "    embedding2 = model.encode(ctdt['InclusionCriteria'].fillna('').astype(str).tolist(), convert_to_tensor=True)\n",
        "    ctdt['InclusionCriteriaEmbedded'] = embedding2.tolist()\n",
        "    \n",
        "    return ctdt, test"
      ],
      "metadata": {
        "id": "q1Bp2dSF5qVE"
      },
      "execution_count": 9,
      "outputs": []
    },
    {
      "cell_type": "code",
      "source": [
        "%%time\n",
        "ctdtemb, testemb = embedding(ctdt, test)"
      ],
      "metadata": {
        "id": "W1NF1VrD7-fs",
        "outputId": "92c47bdb-1e42-4cc1-cf23-e34523db034e",
        "colab": {
          "base_uri": "https://localhost:8080/"
        }
      },
      "execution_count": 10,
      "outputs": [
        {
          "output_type": "stream",
          "name": "stdout",
          "text": [
            "Embedding the test set...\n",
            "Embedding the ctdt set...\n",
            "CPU times: user 7min 12s, sys: 1.48 s, total: 7min 14s\n",
            "Wall time: 7min 10s\n"
          ]
        }
      ]
    },
    {
      "cell_type": "code",
      "source": [
        "def data_filtering(ct_dt, test):\n",
        "\n",
        "  print('Data dimensions before Filtering : ', ct_dt.shape, '\\n')\n",
        "\n",
        "  ### Filtering by Age ###\n",
        "  print('Filtering by Age...')\n",
        "  tmp = ct_dt[ct_dt.iloc[:,13] <= test.iloc[0,2]]               # compare numerics\n",
        "  tmp = tmp[tmp.iloc[:,13].str.find(test.iloc[0,2][-5:]) != -1] # Detect the Year/Month\n",
        "  print('Data dimensions: ', tmp.shape, '\\n')\n",
        "\n",
        "  ### Filtering by Gender ###\n",
        "  print('Filtering by Gender...')\n",
        "  tmp = tmp[(tmp.iloc[:,12] == test.iloc[0,3]) | (tmp.iloc[:,12] == 'All')] \n",
        "  print('Data dimensions: ', tmp.shape, '\\n')\n",
        "\n",
        "  ### Filtering by Travel Distance ###\n",
        "  print('Filtering by Travel Distance...')\n",
        "  tmp = tmp[tmp.iloc[:,20].str.find(str(test.iloc[0,5]).lower()) != -1] \n",
        "  print('Data dimensions: ', tmp.shape, '\\n')\n",
        "\n",
        "  return tmp\n",
        "\n",
        "# filtered = data_filtering(ctdtemb, testemb)"
      ],
      "metadata": {
        "id": "Rx1LGhqzwgcg"
      },
      "execution_count": 11,
      "outputs": []
    },
    {
      "cell_type": "markdown",
      "source": [
        "### Execution"
      ],
      "metadata": {
        "id": "CzGI_QF4xSNC"
      }
    },
    {
      "cell_type": "code",
      "source": [
        "%%time\n",
        "\n",
        "for index, row in testemb.iterrows():\n",
        "\n",
        "    #print(index, row['InclusionCriteria'])\n",
        "    print('\\n################################')\n",
        "    print('Processing the user input: [', index,']')\n",
        "    print('################################\\n')\n",
        "\n",
        "    # Filter the Clinical Trials Data based on the test data\n",
        "    filtered = data_filtering(ctdtemb, testemb.iloc[index:index+1,])\n",
        "\n",
        "    # encode list of sentences to get their embeddings\n",
        "    embedding1        = torch.Tensor(testemb.iloc[index:index+1,7].tolist())   # access the embed\n",
        "    corpus_embeddings = torch.Tensor(filtered['InclusionCriteriaEmbedded'].tolist())         # access the embed\n",
        "    \n",
        "    # top_k results to return\n",
        "    top_k=2\n",
        "\n",
        "    # compute similarity scores of the sentence with the corpus\n",
        "    cos_scores = util.pytorch_cos_sim(embedding1, corpus_embeddings)[0]\n",
        "\n",
        "    # Sort the results in decreasing order and get the first top_k\n",
        "    top_results = np.argpartition(-cos_scores, range(top_k))[0:top_k]\n",
        "    print(\"Sentence: \", *testemb.iloc[index:index+1,6], \"\\n\")\n",
        "\n",
        "    print(\"Top\", top_k, \"most similar sentences in corpus:\")\n",
        "    for idx in top_results[0:top_k]:\n",
        "        print(*filtered.iloc[int(idx):int(idx+1), 9], \"(Score: %.4f)\" % (cos_scores[int(idx)])) "
      ],
      "metadata": {
        "id": "TLT86Y4SvUDS",
        "colab": {
          "base_uri": "https://localhost:8080/"
        },
        "outputId": "dbeeb2af-8fd5-4424-9b24-9759cdeb31b1"
      },
      "execution_count": 12,
      "outputs": [
        {
          "output_type": "stream",
          "name": "stdout",
          "text": [
            "\n",
            "################################\n",
            "Processing the user input: [ 0 ]\n",
            "################################\n",
            "\n",
            "Data dimensions before Filtering :  (10152, 22) \n",
            "\n",
            "Filtering by Age...\n",
            "Data dimensions:  (9517, 22) \n",
            "\n",
            "Filtering by Gender...\n",
            "Data dimensions:  (9403, 22) \n",
            "\n",
            "Filtering by Travel Distance...\n",
            "Data dimensions:  (645, 22) \n",
            "\n",
            "Sentence:  Histologically diagnosed with metastatic non-small cell lung cancer in 2018 | Initially treated with pertuzumab but relapsed | His performance status is ECOG 1 or KPS 90 | His blood and liver function analysis show normal | No other indications like HIV, HCV, HBV | No allergies | Life expectancy over 6 months | No mental disabilities. \n",
            "\n",
            "Top 2 most similar sentences in corpus:\n",
            "Histologically or cytologically confirmed extensive-stage small cell lung cancer (ES-SCLC)|No prior systemic treatment for ES-SCLC|Eastern Cooperative Oncology Group (ECOG) Performance Status of 0 or 1|Measurable disease, as defined by Response Evaluation Criteria in Solid Tumors version 1.1 (RECIST v1.1)|Adequate hematologic and end-organ function|Treatment-free for at least 6 months since last chemo/radiotherapy, among those treated (with curative intent) with prior chemo/radiotherapy for limited-stage SCLC|| (Score: 0.7486)\n",
            "Histologically or cytologically confirmed ES-SCLC (per the Veterans Administration Lung Study Group [VALG] staging system)|No prior systemic treatment for ES-SCLC|Eastern Cooperative Oncology Group performance status of 0 or 1|Measurable disease, as defined by RECIST v1.1|Adequate hematologic and end organ function|Treatment-free for at least 6 months since last chemo/radiotherapy, among those treated (with curative intent) with prior chemo/radiotherapy for limited-stage SCLC|| (Score: 0.7402)\n",
            "\n",
            "################################\n",
            "Processing the user input: [ 1 ]\n",
            "################################\n",
            "\n",
            "Data dimensions before Filtering :  (10152, 22) \n",
            "\n",
            "Filtering by Age...\n",
            "Data dimensions:  (9173, 22) \n",
            "\n",
            "Filtering by Gender...\n",
            "Data dimensions:  (9138, 22) \n",
            "\n",
            "Filtering by Travel Distance...\n",
            "Data dimensions:  (372, 22) \n",
            "\n",
            "Sentence:  Clinically diagnosed with primary adenocarcinoma of the lung | Surgery performed followed by maintenance therapy | Tumour is HER2 positive | Relapsed after 3 years | Performance status ECOG 0 | Currently breast feeding | Is happy to sign consent and enter in a clinical trial | No other indications like HIV, HCV, HBV | Life expectancy over 6 months | No mental disabilities \n",
            "\n",
            "Top 2 most similar sentences in corpus:\n",
            "Signed written informed consent|Cytologically or histologically proven NSCLC (adenocarcinoma, squamous cell carcinoma, large-cell carcinoma)|Stage IV or non-treatable by radiotherapy or surgery stage III (7th classification)|No previous systemic chemotherapy for lung cancer, except in case of relapse after adjuvant treatment for localized disease with 6 months or more between end of previous chemotherapy and relapse|Patients less than 70 years old and PS 2 or 70 years older PS 0 to 2|Judged fit enough to receive a carboplatin based doublet according to ESMO guidelines|Presence of at least one measurable target lesion (RECIST 1.1 rules) in a non-irradiated region and analysable by CT|Life expectancy superior at 12 weeks|Prior radiation therapy is authorized if it involved less than 25% of the total bone marrow volume and finished 14 days before D1 of planned treatment|Screening laboratory values must meet the following criteria and should be obtained within 14 days prior to randomization/registration WBC superior or equal at at 2000/Î¼L Neutrophils superior or equal at at 1500/Î¼L Platelets superior or equal at at 100 x103/Î¼L Hemoglobin superior at 10.0 g/dL Serum creatinine inferior or equal at 1.5 x ULN or creatinine clearance (CrCl) superior or equal at at 45 mL/min (if using the Cockcroft-Gault formula ) AST/ALT inferior or equal at 3 x ULN Total Bilirubin inferior or equal at 1.5 x ULN (except Patients with Gilbert Syndrome, who can have total bilirubin inferior at 3.0 mg/dL)|Availability of adequate FFPE tumor-derived material (tumor blocks or slides) from a biopsy, surgery or fine needle aspirate for analysis of PD-L1 testing by IHC||Age and Reproductive Status||â¢ Women of childbearing potential (WOCBP) must use appropriate method(s) of contraception during treatment.||WOCBP should use an adequate method to avoid pregnancy :||For 23 weeks (30 days plus the time required for nivolumab to undergo five half-lives) after the last dose of nivolumab + ipilimumab,|For 4 weeks after the last dose of carboplatine + pemetrexed,||For 5 weeks after the last dose of carboplatine + paclitaxel.||Women of childbearing potential must have a negative serum or urine pregnancy test (minimum sensitivity 25 IU/L or equivalent units of HCG) within 24 hours prior to the start of treatment|Women must not be breastfeeding|Men who are sexually active with WOCBP must use any contraceptive method with a failure rate of less than 1% per year during treatment Men will be instructed to adhere to contraception for a period of 31 weeks after the last dose of nivolumab + ipilimumab and with carboplatine +pemetrexed or carboplatine + paclitaxel up to 6 months thereafter.|| (Score: 0.7181)\n",
            "|Patients over 18 years|Histological diagnosis of non-small cell lung tumor established.|Stage 1A tumors (lesions <= 3 cm, N0) report prepared by PET and CT|Surgical treatment of the lesion contrindiquÃ© or refused by the patient,|ARF considered technically feasible after discussing the case in a multidisciplinary meeting (RCP)|Expectancy greater than 6 months life|PET before inclusion (8 weeks maximum before radiofrequency) showing uptake (SUV> = 2.5) at the lesion to be treated,|Signed informed consent,|Patient affiliated to a social security scheme.||Exclusion criteria :||Location of the lesion does not allow achieving ablathermy under satisfactory conditions: lesion contiguous to the major anatomical structures of the mediastinum, hilar location (less than 1 cm from the hilum)|Disorder of uncontrolled bleeding (TP <50% TCA> 1.5 x control).|Abnormal blood count platelets <90000/mm3|Cons-indication to general anesthesia|Patient with a cardiac pacemaker if a review indicates treatment against ARF|pregnancy|Patient included in another clinical study|Unable to undergo medical monitoring test for geographical, social or psychological reasons,|Private patient freedom and major subject of a measure of legal protection or unable to consent (Score: 0.7048)\n",
            "\n",
            "################################\n",
            "Processing the user input: [ 2 ]\n",
            "################################\n",
            "\n",
            "Data dimensions before Filtering :  (10152, 22) \n",
            "\n",
            "Filtering by Age...\n",
            "Data dimensions:  (9650, 22) \n",
            "\n",
            "Filtering by Gender...\n",
            "Data dimensions:  (9535, 22) \n",
            "\n",
            "Filtering by Travel Distance...\n",
            "Data dimensions:  (68, 22) \n",
            "\n",
            "Sentence:  Smoker | Diagnosed with squamous cell carcinoma of the lung | Performance status of 3 | Tumour market PD1 in > 50% of the cells | Life expectancy between 4 and 9 months | Previously received radiotherapy and chemotherapy but relapsed | Platelet count < 50000 units | Suffer from dementia \n",
            "\n",
            "Top 2 most similar sentences in corpus:\n",
            "Histologic and/or cytologic diagnosis of Limited Stage of small cell lung cancer|Measurable disease|Good performance status|Adequate bone marrow reserve, hepatic, pulmonary and renal functions|| (Score: 0.5691)\n",
            "histologically or cytologically proven diagnosis of non-small cell lung cancer|positive for the ALK fusion gene (test provided by a central laboratory)|must have had disease progression after only one prior chemotherapy and that regimen but must have included one platinum drug|tumors must be measurable|| (Score: 0.5671)\n",
            "\n",
            "################################\n",
            "Processing the user input: [ 3 ]\n",
            "################################\n",
            "\n",
            "Data dimensions before Filtering :  (10152, 22) \n",
            "\n",
            "Filtering by Age...\n",
            "Data dimensions:  (105, 22) \n",
            "\n",
            "Filtering by Gender...\n",
            "Data dimensions:  (104, 22) \n",
            "\n",
            "Filtering by Travel Distance...\n",
            "Data dimensions:  (23, 22) \n",
            "\n",
            "Sentence:  Never smoke | Diagnosed with small cell lung cancer | Performance status KPS 100 | Showed resistance to carboplatin | No pregnant, not breastfeeding, happy to use contraceptive measures | No liver or blood abnormalities | Lives in Manchester and is happy to travel anywhere in the UK for treatment | HIV positive, but negative for HCV and HBV | No mental illness \n",
            "\n",
            "Top 2 most similar sentences in corpus:\n",
            "CS:||Diagnosis of solid tumor, including but not limited to, the following:||Stage II-IV germ cell malignancy|Small cell lung cancer|Recurrent breast cancer OR|Diagnosis of lymphoma|About to start a program of antineoplastic chemotherapy for malignant disease that will regularly induce myelosuppression with a risk of temporary severe neutropenia (i.e., neutrophil count less than 500/mm3), but does not routinely require filgrastim (G-CSF) or stem cell support|Not previously randomized into the Significant trial for a different multicourse chemotherapy program||Hormone receptor status:||Not specified||PATIENT CHARACTERISTICS:||Age:||16 and over||Sex:||Not specified||Menopausal status:||Not specified||Performance status:||Not specified||Life expectancy:||Not specified||Hematopoietic:||See Disease Characteristics||Hepatic:||Not specified||Renal:||Creatinine normal OR|Creatinine clearance greater than 40 mL/min||Other:||Not pregnant or nursing|Fertile patients must use effective contraception in addition to oral contraceptive pills|HIV negative|No epilepsy|No history of adverse events resulting from fluoroquinolone therapy (e.g., allergy or tendinitis)|No concurrent use of a sunbed or exposure to strong sunlight||PRIOR CONCURRENT THERAPY:||Biologic therapy:||See Disease Characteristics||Chemotherapy:||See Disease Characteristics||Endocrine therapy:||Not specified||Radiotherapy:||Not specified||Surgery:||Not specified||Other:||No other concurrent antibacterial therapy|No other concurrent prophylactic antibacterial agents including cotrimoxazole prophylaxis against Pneumocystis carinii|No iron supplements, sucralfate, or mineral antacids 2 hours before or after study medication|Concurrent entry into other clinical trials allowe (Score: 0.6410)\n",
            "Histologically or cytologically confirmed stage II - IIIb NSCLC (see appendix II)|Inoperable disease (as assessed by a lung cancer MDT with thoracic surgical input) or operable but the patient refuses surgery|Disease which can be encompassed within a radical radiotherapy treatment plan in keeping with standard practice at the participating centre|WHO Performance Status 0 or 1 (Appendix III)|Adequate respiratory function: FEV1 ≥ 1.0 litre, DLco (transfer factor) ≥ 40% of predicted and Kco (DLco/VA) > 40% predicted on baseline lung function tests|Blood Haemoglobin ≥ 10g/dL|No prior thoracic radiotherapy|Age ≥ 16 years|Considered fit to receive trial treatment|Estimated life expectancy of more than 3 months|Written informed consent obtained|Patient consents for electronic CT scan and planning data to be used for future research|Patient is available for follow up|| (Score: 0.6251)\n",
            "\n",
            "################################\n",
            "Processing the user input: [ 4 ]\n",
            "################################\n",
            "\n",
            "Data dimensions before Filtering :  (10152, 22) \n",
            "\n",
            "Filtering by Age...\n",
            "Data dimensions:  (9565, 22) \n",
            "\n",
            "Filtering by Gender...\n",
            "Data dimensions:  (9520, 22) \n",
            "\n",
            "Filtering by Travel Distance...\n",
            "Data dimensions:  (9520, 22) \n",
            "\n",
            "Sentence:  Former smoker | Histologically diagnosed with small cell lung cancer  | PD1 level < 50% of the cells | Didn’t receive any treatment yet | Performance status ECOG 2 | His blood and liver function analysis show normal | No other indications like HIV, HCV, HBV | No allergies | Life expectancy over 6 months | No mental disabilities | Vaccinated for COVID-19 | No allergies | Previously suffered from pneumonitis and interstitial lung disease \n",
            "\n",
            "Top 2 most similar sentences in corpus:\n",
            "Histologically confirmed bronchial dysplasia in â¥ 1 site AND meets one of the following criteria:||Current or former smoker with â¥ a 30 pack-year smoking history and no history of lung cancer||Stage 0 or I non-small cell lung cancer (NSCLC) curatively treated by surgery (local ablation or resection), adjuvant chemotherapy, or radiotherapy with a â¥ 30 pack-year smoking history||At least 6 months since prior surgery, adjuvant chemotherapy, or radiotherapy||No current evidence of lung cancer by CT scan||No non-calcified lung nodules â¥ 10 mm diameter on spiral CT scan unless cancer is ruled out by PET/CT scan or by biopsy|ECOG performance status 0-1|Hemoglobin normal|Leukocyte count â¥ 3,000/mmÂ³|Absolute neutrophil count â¥ 1,500/mmÂ³|Platelet count â¥ 100,000/mmÂ³|Total bilirubin â¤ 1.5 times upper limit of normal (ULN)|Alkaline phosphatase â¤ 1.5 times ULN|ALT and AST â¤ 1.5 times ULN|BUN â¤ 1.5 times ULN|Chloride â¤ 1.5 times ULN|Total CO_2 â¤ 1.5 times ULN|Sodium â¤ 1.5 times ULN|Calcium â¤ 1.5 times ULN|Potassium â¤ 1.5 times ULN|Phosphorus â¤ 1.5 times ULN|Creatinine â¤ 1.5 times ULN OR creatinine clearance â¥ 30mL/min|Fasting blood glucose normal|Not pregnant or nursing|Negative pregnancy test|Fertile patients must use effective contraception|No cancer within the past 3 years except stage 0 or I NSCLC, nonmelanomatous skin cancer, localized prostate cancer, carcinoma in situ of the cervix, or superficial bladder cancer that was treated > 6 months ago||No concurrent uncontrolled illness including, but not limited to, any of the following:||Ongoing or active infection|Symptomatic congestive heart failure|Unstable angina pectoris|Cardiac arrhythmia|Severe chronic obstructive pulmonary disease requiring supplemental oxygen|Uncontrolled hypertension|Psychiatric illness or social situation that would limit compliance with study requirements|No schizophrenia or bipolar disorder|No diabetes|No requirement for supplemental oxygen (continuous or intermittent)|SaO_2 â¥ 90% on room air|No history of allergic reactions attributed to inositol|No history of allergies to any ingredient in the study agent or placebo|No other concurrent investigational agents|At least 7 days since prior anticoagulant use (e.g., coumadin or heparin)|More than 6 months since prior participation in another chemoprevention clinical trial|No prior pneumonectomy|No prior solid organ transplantation|No concurrent lithium, carbamazepine, or valproate|No concurrent use of other natural health products containing inosito (Score: 0.7827)\n",
            "CS: Stage I (T1-2 N0) nonsmall cell lung cancer curatively resected and in regular follow-up for at least 6 weeks Material available for histologic review At least 1 mediastinal node station sampled or at least 2 years since surgery Any of the following histologies eligible: Squamous cell carcinoma Large cell carcinoma Adenocarcinoma (including bronchoalveolar) No small cell anaplastic component No recurrent disease or second primary No synchronous lung cancer of a different histology Concurrent registration on intergroup protocol I91-0001 allowed||PATIENT CHARACTERISTICS: Age: 18 and over Performance status: Not specified Cardiovascular: No history of severe hypertension, i.e.: Systolic 200 mm Hg or more Diastolic 120 mm Hg or more No MI within 6 weeks Pulmonary: Available for annual sputum induction and clinical evaluation Clinically able to undergo pulmonary function tests (PFTs) and bronchoscopy Refusal of PFTs or bronchoscopy will not effect eligibility PFTs waived if FEV1/FVC < 65% on prior testing No acute respiratory infection Other: No prior uncontrolled malignancy except nonmelanomatous skin cancer Exceptions for malignancy controlled more than 5 years discretionary||PRIOR CONCURRENT THERAPY: Complete surgical resection required as primary therapy At least 6 weeks since resection, any adjuvant chemotherapy or radiotherapy, or thoracoabdominal surger (Score: 0.7771)\n",
            "\n",
            "################################\n",
            "Processing the user input: [ 5 ]\n",
            "################################\n",
            "\n",
            "Data dimensions before Filtering :  (10152, 22) \n",
            "\n",
            "Filtering by Age...\n",
            "Data dimensions:  (9565, 22) \n",
            "\n",
            "Filtering by Gender...\n",
            "Data dimensions:  (9451, 22) \n",
            "\n",
            "Filtering by Travel Distance...\n",
            "Data dimensions:  (471, 22) \n",
            "\n",
            "Sentence:  Never smoked | Clinically diagnosed with squamous cell carcinoma of the lung | Treated with chemotherapy but relapsed and is currently metastatic (stage IV) | Performance status KPS = 60 | Is happy to sign consent and enter in a clinical trial | His blood and liver function analysis show normal | No other indications like HIV, HCV, HBV | Vaccinated for COVID-19 | No allergies \n",
            "\n",
            "Top 2 most similar sentences in corpus:\n",
            "Clinical diagnosis of non small cell lung cancer|Eligible for surgical resection|Willingness to adhere to randomized treatment|Availability for follow-up schedule of visits|| (Score: 0.6994)\n",
            "Histologically or cytologically confirmed Non-small Cell Lung Cancer (NSCLC)|Newly Diagnosed, Stage IIIA and Stage IIIB excluding patients with pleural effusion|Patients must have received primary treatment for their disease and had no progression|| (Score: 0.6802)\n",
            "\n",
            "################################\n",
            "Processing the user input: [ 6 ]\n",
            "################################\n",
            "\n",
            "Data dimensions before Filtering :  (10152, 22) \n",
            "\n",
            "Filtering by Age...\n",
            "Data dimensions:  (9212, 22) \n",
            "\n",
            "Filtering by Gender...\n",
            "Data dimensions:  (9175, 22) \n",
            "\n",
            "Filtering by Travel Distance...\n",
            "Data dimensions:  (9175, 22) \n",
            "\n",
            "Sentence:  Smoker | Diagnosed with secondary small cell lung cancer | Performance status ECOG 0 | Underwent surgery to remove the primary tumour | Tumour is HER2 positive and PD1>50% cells | Never received any systematic treatment yet | Her blood and liver function analysis show normal | No other indications like HIV, HCV, HBV | Vaccinated for COVID-19 | Pregnant (5 months) \n",
            "\n",
            "Top 2 most similar sentences in corpus:\n",
            "CS: Histologically or cytologically proven small cell lung cancer Complete response (CR) or partial response (PR) following first line chemotherapy required Chest x-ray showing CR or PR required. No documented prior brain metastases||PATIENT CHARACTERISTICS: Age: 16 and over Performance status: ECOG 0-2 Life expectancy: At least 12 weeks Hematopoietic: Not specified Hepatic: Not specified Renal: Not specified Other: Not pregnant or nursing Effective contraception use by men or women of reproductive potential No prior malignancies within 5 years except: Adequately treated nonmelanomatous skin cancer Adequately treated carcinoma in situ of the cervix No other concurrent malignancies No prior diagnosis of breast cancer, melanoma, or hypernephroma No major medical illness that would preclude prolonged administration of marimastat or required follow up No active peptic ulceration or symptoms suggestive of this diagnosis No grade 3 or 4 musculoskeletal disorders||PRIOR CONCURRENT THERAPY: Biologic therapy: Not specified Chemotherapy: One prior induction combination chemotherapy regimen required Must be completed prior to randomization Hematologically recovered before randomization Minimum of 4 cycles required No change in regimen due to progression No chemotherapy within 28 days prior to randomization if thoracic radiation is given prior to or concurrent with chemotherapy No prior marimastat Endocrine therapy: Not specified Radiotherapy: Prior radiotherapy allowed Must be completed prior to randomization Last dose of radiation treatment must be within 7-14 days prior to randomization if thoracic radiation and/or prophylactic cranial irradiation is given after completion of chemotherapy If severe esophagitis precludes administration of oral medication, randomization may be within 21 days after radiation therapy Surgery: No surgery within 2 weeks prior to randomization Prior complete resection of tumor allowed Other: No other investigational agents within 4 weeks prior to study, and none planned No concurrent coumarin anticoagulants and no coumarin anticoagulants within 4 weeks prior to randomization No concurrent antitumor treatmen (Score: 0.7597)\n",
            "CS:||Histologically confirmed non-small cell lung cancer (NSCLC)|Any non-small cell histology allowed|T1-3, N0* disease|No metastatic disease|Refused or ineligible for surgery|Measurable disease, defined as lesion diameter ≤ 5 cm NOTE: *No evidence of N1 or N2 disease by positron emission tomography (PET) scan or any histological means (mediastinoscopy, thoracotomy, transbronchial, tracheal aspirations, or transesophageal aspiration by endoscopic ultrasound guidance||PATIENT CHARACTERISTICS:||Performance status||Any performance status||Life expectancy||At least 1 year||Hematopoietic||No restrictions||Hepatic||No restrictions||Renal||Creatinine ≤ CTC grade 2||Pulmonary||No clinically active interstitial lung disease|Chronic, stable, asymptomatic radiographic changes allowed||Other||Not pregnant or nursing|Negative pregnancy test|Fertile patients must use effective nonhormonal contraception|No known severe hypersensitivity to gefitinib or any of the excipients of this product|No other malignancy within the past 5 years except basal cell cancer or carcinoma in situ of the cervix|No active or uncontrolled infection|No uncontrolled systemic disease|No psychiatric illness or other severe medical condition that would preclude study participation||PRIOR CONCURRENT THERAPY:||Chemotherapy||No prior chemotherapy||Radiotherapy||No prior radiotherapy to the chest or mediastinum|No concurrent elective nodal irradiation||Surgery||Recovered from prior surgery|No concurrent ophthalmic surgery||Other||Recovered from all other prior anticancer therapy (alopecia allowed)|More than 30 days since prior nonapproved or investigational agents|No concurrent CYP3A4 inducers, including any of the following:|Phenytoin|Carbamazepine|Barbiturates|Rifampin|Phenobarbital|Hypericum perforatum (St. John's wort)|No concurrent systemic retinoid (Score: 0.7579)\n",
            "CPU times: user 762 ms, sys: 51.4 ms, total: 814 ms\n",
            "Wall time: 773 ms\n"
          ]
        }
      ]
    },
    {
      "cell_type": "markdown",
      "source": [
        "### Export"
      ],
      "metadata": {
        "id": "3RuCW8f07Yq8"
      }
    },
    {
      "cell_type": "code",
      "source": [
        "# from joblib import dump, load\n",
        "# dump(ctdtemb, '/content/ctdtemb.joblib') \n",
        "# ctdtemb = load('/content/ctdtemb.joblib')\n",
        "\n",
        "# from google.colab import files\n",
        "# files.download('/content/ctdtemb.joblib')"
      ],
      "metadata": {
        "id": "Sc8IaP9V7aMk"
      },
      "execution_count": 13,
      "outputs": []
    }
  ]
}